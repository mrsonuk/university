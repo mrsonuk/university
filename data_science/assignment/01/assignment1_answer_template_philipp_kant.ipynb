{
 "cells": [
  {
   "cell_type": "markdown",
   "metadata": {},
   "source": [
    "# IDS Assignment 1\n",
    "Document your results as well as the way you obtained them in this jupyter notebook. A seperate report (pdf, word etc.) is _not_ required. However, it is necessary that you provide the python code leading to your results as well as textual answers to the assignment questions in this notebook. \n",
    "\n",
    "Do not change the general structure of this notebook, but you can add further markdown or code cells to explain your solutions if necessary. In the end, submit this file in moodle."
   ]
  },
  {
   "cell_type": "markdown",
   "metadata": {},
   "source": [
    "## Get to know the data"
   ]
  },
  {
   "cell_type": "markdown",
   "metadata": {},
   "source": [
    "### Question 1 (Indicating type): \n",
    "1. Identify precise type of each attribute. Note that the right answers are like: “numerical-continuous-ratio”, just Numerical or Categorical is not enough."
   ]
  },
  {
   "cell_type": "code",
   "execution_count": 36,
   "metadata": {},
   "outputs": [],
   "source": [
    "import numpy as np\n",
    "import pandas as pd\n",
    "import matplotlib.pyplot as plt\n",
    "import matplotlib as mpl\n",
    "import seaborn as sns\n",
    "\n",
    "sns.set_palette(\"deep\")\n",
    "mpl.rcParams['axes.axisbelow'] = True\n",
    "mpl.rcParams['grid.color'] = '0.7'\n",
    "mpl.rcParams['figure.figsize'] = '14, 7'"
   ]
  },
  {
   "cell_type": "code",
   "execution_count": 37,
   "metadata": {
    "scrolled": false
   },
   "outputs": [
    {
     "data": {
      "text/html": [
       "<div>\n",
       "<style scoped>\n",
       "    .dataframe tbody tr th:only-of-type {\n",
       "        vertical-align: middle;\n",
       "    }\n",
       "\n",
       "    .dataframe tbody tr th {\n",
       "        vertical-align: top;\n",
       "    }\n",
       "\n",
       "    .dataframe thead th {\n",
       "        text-align: right;\n",
       "    }\n",
       "</style>\n",
       "<table border=\"1\" class=\"dataframe\">\n",
       "  <thead>\n",
       "    <tr style=\"text-align: right;\">\n",
       "      <th></th>\n",
       "      <th>age</th>\n",
       "      <th>workclass</th>\n",
       "      <th>education</th>\n",
       "      <th>education-num</th>\n",
       "      <th>marital-status</th>\n",
       "      <th>occupation</th>\n",
       "      <th>relationship</th>\n",
       "      <th>race</th>\n",
       "      <th>sex</th>\n",
       "      <th>hours-per-week</th>\n",
       "      <th>native-country</th>\n",
       "      <th>label</th>\n",
       "    </tr>\n",
       "  </thead>\n",
       "  <tbody>\n",
       "    <tr>\n",
       "      <th>0</th>\n",
       "      <td>50</td>\n",
       "      <td>Self-emp-not-inc</td>\n",
       "      <td>Bachelors</td>\n",
       "      <td>13</td>\n",
       "      <td>Married-civ-spouse</td>\n",
       "      <td>Exec-managerial</td>\n",
       "      <td>Husband</td>\n",
       "      <td>White</td>\n",
       "      <td>Male</td>\n",
       "      <td>13</td>\n",
       "      <td>United-States</td>\n",
       "      <td>&lt;=50K</td>\n",
       "    </tr>\n",
       "    <tr>\n",
       "      <th>1</th>\n",
       "      <td>53</td>\n",
       "      <td>Private</td>\n",
       "      <td>11th</td>\n",
       "      <td>7</td>\n",
       "      <td>Married-civ-spouse</td>\n",
       "      <td>Handlers-cleaners</td>\n",
       "      <td>Husband</td>\n",
       "      <td>Black</td>\n",
       "      <td>Male</td>\n",
       "      <td>40</td>\n",
       "      <td>United-States</td>\n",
       "      <td>&lt;=50K</td>\n",
       "    </tr>\n",
       "    <tr>\n",
       "      <th>2</th>\n",
       "      <td>49</td>\n",
       "      <td>Private</td>\n",
       "      <td>9th</td>\n",
       "      <td>5</td>\n",
       "      <td>Married-spouse-absent</td>\n",
       "      <td>Other-service</td>\n",
       "      <td>Not-in-family</td>\n",
       "      <td>Black</td>\n",
       "      <td>Female</td>\n",
       "      <td>16</td>\n",
       "      <td>Jamaica</td>\n",
       "      <td>&lt;=50K</td>\n",
       "    </tr>\n",
       "    <tr>\n",
       "      <th>3</th>\n",
       "      <td>52</td>\n",
       "      <td>Self-emp-not-inc</td>\n",
       "      <td>HS-grad</td>\n",
       "      <td>9</td>\n",
       "      <td>Married-civ-spouse</td>\n",
       "      <td>Exec-managerial</td>\n",
       "      <td>Husband</td>\n",
       "      <td>White</td>\n",
       "      <td>Male</td>\n",
       "      <td>45</td>\n",
       "      <td>United-States</td>\n",
       "      <td>&gt;50K</td>\n",
       "    </tr>\n",
       "    <tr>\n",
       "      <th>4</th>\n",
       "      <td>31</td>\n",
       "      <td>Private</td>\n",
       "      <td>Masters</td>\n",
       "      <td>14</td>\n",
       "      <td>Never-married</td>\n",
       "      <td>Prof-specialty</td>\n",
       "      <td>Not-in-family</td>\n",
       "      <td>White</td>\n",
       "      <td>Female</td>\n",
       "      <td>50</td>\n",
       "      <td>United-States</td>\n",
       "      <td>&gt;50K</td>\n",
       "    </tr>\n",
       "  </tbody>\n",
       "</table>\n",
       "</div>"
      ],
      "text/plain": [
       "   age         workclass  education  education-num         marital-status  \\\n",
       "0   50  Self-emp-not-inc  Bachelors             13     Married-civ-spouse   \n",
       "1   53           Private       11th              7     Married-civ-spouse   \n",
       "2   49           Private        9th              5  Married-spouse-absent   \n",
       "3   52  Self-emp-not-inc    HS-grad              9     Married-civ-spouse   \n",
       "4   31           Private    Masters             14          Never-married   \n",
       "\n",
       "          occupation   relationship   race     sex  hours-per-week  \\\n",
       "0    Exec-managerial        Husband  White    Male              13   \n",
       "1  Handlers-cleaners        Husband  Black    Male              40   \n",
       "2      Other-service  Not-in-family  Black  Female              16   \n",
       "3    Exec-managerial        Husband  White    Male              45   \n",
       "4     Prof-specialty  Not-in-family  White  Female              50   \n",
       "\n",
       "  native-country  label  \n",
       "0  United-States  <=50K  \n",
       "1  United-States  <=50K  \n",
       "2        Jamaica  <=50K  \n",
       "3  United-States   >50K  \n",
       "4  United-States   >50K  "
      ]
     },
     "execution_count": 37,
     "metadata": {},
     "output_type": "execute_result"
    }
   ],
   "source": [
    "data = pd.read_csv('adult.data-3.csv')\n",
    "data.head()"
   ]
  },
  {
   "cell_type": "code",
   "execution_count": 38,
   "metadata": {
    "scrolled": true
   },
   "outputs": [
    {
     "data": {
      "text/plain": [
       "age                int64\n",
       "workclass         object\n",
       "education         object\n",
       "education-num      int64\n",
       "marital-status    object\n",
       "occupation        object\n",
       "relationship      object\n",
       "race              object\n",
       "sex               object\n",
       "hours-per-week     int64\n",
       "native-country    object\n",
       "label             object\n",
       "dtype: object"
      ]
     },
     "execution_count": 38,
     "metadata": {},
     "output_type": "execute_result"
    }
   ],
   "source": [
    "data.dtypes"
   ]
  },
  {
   "cell_type": "markdown",
   "metadata": {},
   "source": [
    "Explanation:\n",
    "\n",
    "|attribute|type|\n",
    "|---|----|\n",
    "|age|numerical-discrete|\n",
    "|workclass|categorical-nominal|\n",
    "|education|categorical-ordinal|\n",
    "|education-num|numerical-discrete|\n",
    "|marital-status|categorical-nominal|\n",
    "|occupation|categorical-nominal|\n",
    "|relationship|categorical-nominal|\n",
    "|race|categorical-nominal|\n",
    "|sex|categorical-nominal|\n",
    "|hours-per-week|numerical-discrete|\n",
    "|native-country|categorical-nominal|"
   ]
  },
  {
   "cell_type": "markdown",
   "metadata": {},
   "source": [
    "### Question 2 (Removing outliers):\n",
    "2. (a) Explore into \"age\" and \"hours-per-week\" and identify outliers (Boxplot returns whiskers). After identifying outliers, remove them (do it just once on the data set). Now you should have two data sets (cleaned and original)."
   ]
  },
  {
   "cell_type": "code",
   "execution_count": 39,
   "metadata": {
    "scrolled": false
   },
   "outputs": [
    {
     "name": "stdout",
     "output_type": "stream",
     "text": [
      "age:\n",
      "--------------------\n",
      "count    17841.000000\n",
      "mean        40.102965\n",
      "std         13.156900\n",
      "min         17.000000\n",
      "25%         30.000000\n",
      "50%         39.000000\n",
      "75%         49.000000\n",
      "max         90.000000\n",
      "Name: age, dtype: float64\n",
      "Number of missing values:  0\n",
      "Number of unique values:  70\n",
      "\n",
      "hours-per-week:\n",
      "--------------------\n",
      "count    17841.000000\n",
      "mean        41.748332\n",
      "std         12.207203\n",
      "min          1.000000\n",
      "25%         40.000000\n",
      "50%         40.000000\n",
      "75%         48.000000\n",
      "max         99.000000\n",
      "Name: hours-per-week, dtype: float64\n",
      "Number of missing values:  0\n",
      "Number of unique values:  92\n"
     ]
    }
   ],
   "source": [
    "# your code\n",
    "print('age:\\n--------------------')\n",
    "print(data['age'].describe())\n",
    "print('Number of missing values: ', data['age'].isna().sum())\n",
    "print('Number of unique values: ', data['age'].nunique())\n",
    "\n",
    "print('\\nhours-per-week:\\n--------------------')\n",
    "print(data['hours-per-week'].describe())\n",
    "print('Number of missing values: ', data['hours-per-week'].isna().sum())\n",
    "print('Number of unique values: ', data['hours-per-week'].nunique())"
   ]
  },
  {
   "cell_type": "markdown",
   "metadata": {},
   "source": [
    "#### Distribution of age"
   ]
  },
  {
   "cell_type": "code",
   "execution_count": 40,
   "metadata": {
    "scrolled": false
   },
   "outputs": [
    {
     "data": {
      "image/png": "[encoded data removed]",
      "text/plain": [
       "<Figure size 1008x504 with 1 Axes>"
      ]
     },
     "metadata": {},
     "output_type": "display_data"
    }
   ],
   "source": [
    "fig, ax = plt.subplots()\n",
    "number_of_bins = data['age'].max() - data['age'].min() + 1\n",
    "ax.hist(data['age'], number_of_bins, edgecolor='black', linewidth=0.2)\n",
    "ax.set_title('Distribution of age')\n",
    "ax.set_xlabel('age')\n",
    "ax.set_ylabel('frequency')\n",
    "ax.grid(axis='y')\n",
    "plt.show()"
   ]
  },
  {
   "cell_type": "markdown",
   "metadata": {},
   "source": [
    "#### Distribution of hours-per-week"
   ]
  },
  {
   "cell_type": "code",
   "execution_count": 41,
   "metadata": {
    "scrolled": false
   },
   "outputs": [
    {
     "data": {
      "image/png": "[encoded data removed]",
      "text/plain": [
       "<Figure size 1008x504 with 1 Axes>"
      ]
     },
     "metadata": {},
     "output_type": "display_data"
    }
   ],
   "source": [
    "fig, ax = plt.subplots()\n",
    "number_of_bins = 11\n",
    "ax.hist(data['hours-per-week'], number_of_bins, edgecolor='black', linewidth=0.2)\n",
    "ax.set_title('Distribution of hours-per-week')\n",
    "ax.set_xlabel('hours-per-week')\n",
    "ax.set_ylabel('frequency')\n",
    "ax.grid(axis='y')\n",
    "plt.show()"
   ]
  },
  {
   "cell_type": "code",
   "execution_count": 42,
   "metadata": {},
   "outputs": [],
   "source": [
    "IQR_age = data['age'].quantile(0.75) - data['age'].quantile(0.25)\n",
    "upper_fence_age = data['age'].quantile(0.75) + 1.5 * IQR_age\n",
    "lower_fence_age = data['age'].quantile(0.25) - 1.5 * IQR_age\n",
    "\n",
    "IQR_hours_per_week = data['hours-per-week'].quantile(0.75) - data['hours-per-week'].quantile(0.25)\n",
    "upper_fence_hours_per_week = data['hours-per-week'].quantile(0.75) + 1.5 * IQR_hours_per_week\n",
    "lower_fence_hours_per_week = data['hours-per-week'].quantile(0.25) - 1.5 * IQR_hours_per_week"
   ]
  },
  {
   "cell_type": "code",
   "execution_count": 43,
   "metadata": {
    "scrolled": false
   },
   "outputs": [
    {
     "data": {
      "image/png": "[encoded data removed]",
      "text/plain": [
       "<Figure size 1008x504 with 1 Axes>"
      ]
     },
     "metadata": {},
     "output_type": "display_data"
    }
   ],
   "source": [
    "medianprops = dict(linestyle='-', linewidth=1.5, color='firebrick') # properties for median line in boxplot\n",
    "\n",
    "fig, ax = plt.subplots()\n",
    "ax.boxplot(data['age'], medianprops=medianprops, labels=['data[\\'age\\']'])\n",
    "ax.axhline(y=upper_fence_age, alpha=0.5, label='upper fence', linestyle='--', color='salmon')\n",
    "ax.axhline(y=lower_fence_age, alpha=0.5, label='lower fence', linestyle='--', color='mediumslateblue')\n",
    "ax.legend()\n",
    "plt.show()"
   ]
  },
  {
   "cell_type": "code",
   "execution_count": 44,
   "metadata": {
    "scrolled": false
   },
   "outputs": [
    {
     "data": {
      "image/png": "[encoded data removed]",
      "text/plain": [
       "<Figure size 1008x504 with 1 Axes>"
      ]
     },
     "metadata": {},
     "output_type": "display_data"
    }
   ],
   "source": [
    "fig, ax = plt.subplots()\n",
    "ax.boxplot(data['hours-per-week'], medianprops=medianprops, labels=['data[\\'hours-per-week\\']'])\n",
    "ax.axhline(y=upper_fence_hours_per_week, alpha=0.5, label='upper fence', linestyle='--', color='salmon')\n",
    "ax.axhline(y=lower_fence_hours_per_week, alpha=0.5, label='lower fence', linestyle='--', color='mediumslateblue')\n",
    "ax.legend()\n",
    "plt.show()"
   ]
  },
  {
   "cell_type": "code",
   "execution_count": 45,
   "metadata": {
    "scrolled": true
   },
   "outputs": [],
   "source": [
    "data_clean = data[(data['age'] <= upper_fence_age) &\n",
    "                  (data['age'] >= lower_fence_age) &\n",
    "                  (data['hours-per-week'] <= upper_fence_hours_per_week) &\n",
    "                  (data['hours-per-week'] >= lower_fence_hours_per_week)]"
   ]
  },
  {
   "cell_type": "markdown",
   "metadata": {},
   "source": [
    "2. (b) Draw Boxplot of the cleaned data set for \"hours-per-week\". Is there still any outlier? If so, explain why?"
   ]
  },
  {
   "cell_type": "code",
   "execution_count": 46,
   "metadata": {
    "scrolled": false
   },
   "outputs": [
    {
     "data": {
      "image/png": "[encoded data removed]",
      "text/plain": [
       "<Figure size 1008x504 with 1 Axes>"
      ]
     },
     "metadata": {},
     "output_type": "display_data"
    }
   ],
   "source": [
    "# your code\n",
    "fig, ax = plt.subplots()\n",
    "ax.boxplot([data['hours-per-week'], data_clean['hours-per-week']], labels=['data', 'data_clean'], medianprops=medianprops)\n",
    "ax.grid(axis='y')\n",
    "ax.set_xlabel('hours-per-week')\n",
    "plt.show()"
   ]
  },
  {
   "cell_type": "code",
   "execution_count": 47,
   "metadata": {},
   "outputs": [
    {
     "data": {
      "text/plain": [
       "count    17841.000000\n",
       "mean        41.748332\n",
       "std         12.207203\n",
       "min          1.000000\n",
       "25%         40.000000\n",
       "50%         40.000000\n",
       "75%         48.000000\n",
       "max         99.000000\n",
       "Name: hours-per-week, dtype: float64"
      ]
     },
     "execution_count": 47,
     "metadata": {},
     "output_type": "execute_result"
    }
   ],
   "source": [
    "data['hours-per-week'].describe()"
   ]
  },
  {
   "cell_type": "code",
   "execution_count": 48,
   "metadata": {},
   "outputs": [
    {
     "data": {
      "text/plain": [
       "count    15311.000000\n",
       "mean        43.060153\n",
       "std          6.872676\n",
       "min         28.000000\n",
       "25%         40.000000\n",
       "50%         40.000000\n",
       "75%         48.000000\n",
       "max         60.000000\n",
       "Name: hours-per-week, dtype: float64"
      ]
     },
     "execution_count": 48,
     "metadata": {},
     "output_type": "execute_result"
    }
   ],
   "source": [
    "data_clean['hours-per-week'].describe()"
   ]
  },
  {
   "cell_type": "markdown",
   "metadata": {},
   "source": [
    "Explanation: Sometimes after removing outliers with the boxplot method there are still outliers if you visualize the data again as a box plot. Because after removing the outliers it could be very well the case that the new data set has different quartiles and therefore different upper and lower fences.\n",
    "\n",
    "**Here** it is not the case: after removing the outliers of the original data set there aren't any outliers for \"hours-per-week\" in the cleaned data set."
   ]
  },
  {
   "cell_type": "markdown",
   "metadata": {},
   "source": [
    "### Question 3 (Basic visualization):\n",
    "3. (a) Visualize mean and median of \"age\", and \"hours-per-week\" per \"sex\" by separate plots for the cleaned and the original data sets (there should be 8 plots, 4 plots for the original data set and 4 plots for the cleaned data set). "
   ]
  },
  {
   "cell_type": "code",
   "execution_count": 49,
   "metadata": {
    "scrolled": false
   },
   "outputs": [
    {
     "data": {
      "image/png": "[encoded data removed]",
      "text/plain": [
       "<Figure size 1008x504 with 1 Axes>"
      ]
     },
     "metadata": {},
     "output_type": "display_data"
    },
    {
     "data": {
      "image/png": "[encoded data removed]",
      "text/plain": [
       "<Figure size 1008x504 with 1 Axes>"
      ]
     },
     "metadata": {},
     "output_type": "display_data"
    },
    {
     "data": {
      "image/png": "[encoded data removed]",
      "text/plain": [
       "<Figure size 1008x504 with 1 Axes>"
      ]
     },
     "metadata": {},
     "output_type": "display_data"
    },
    {
     "data": {
      "image/png": "[encoded data removed]",
      "text/plain": [
       "<Figure size 1008x504 with 1 Axes>"
      ]
     },
     "metadata": {},
     "output_type": "display_data"
    },
    {
     "data": {
      "image/png": "[encoded data removed]",
      "text/plain": [
       "<Figure size 1008x504 with 1 Axes>"
      ]
     },
     "metadata": {},
     "output_type": "display_data"
    },
    {
     "data": {
      "image/png": "[encoded data removed]",
      "text/plain": [
       "<Figure size 1008x504 with 1 Axes>"
      ]
     },
     "metadata": {},
     "output_type": "display_data"
    },
    {
     "data": {
      "image/png": "[encoded data removed]",
      "text/plain": [
       "<Figure size 1008x504 with 1 Axes>"
      ]
     },
     "metadata": {},
     "output_type": "display_data"
    },
    {
     "data": {
      "image/png": "[encoded data removed]",
      "text/plain": [
       "<Figure size 1008x504 with 1 Axes>"
      ]
     },
     "metadata": {},
     "output_type": "display_data"
    }
   ],
   "source": [
    "functions = ['mean', 'median']\n",
    "#data.name = 'Original data set'\n",
    "#data_clean.name = 'Clean data set'\n",
    "\n",
    "for df in [data, data_clean]:\n",
    "    for attribute in ['age', 'hours-per-week']:\n",
    "        for sex in ['Male', 'Female']:\n",
    "            mean_median = df.loc[df['sex'] == sex, attribute].agg(functions).values\n",
    "            fig, ax = plt.subplots()\n",
    "            ax.bar(x=functions, height=mean_median)\n",
    "            #ax.set_title('df')\n",
    "            ax.set_xlabel(sex)\n",
    "            ax.set_ylabel(attribute)\n",
    "            ax.grid(axis='y')\n",
    "            plt.show()   "
   ]
  },
  {
   "cell_type": "code",
   "execution_count": 50,
   "metadata": {
    "scrolled": true
   },
   "outputs": [
    {
     "data": {
      "text/plain": [
       "mean      41.121176\n",
       "median    40.000000\n",
       "Name: age, dtype: float64"
      ]
     },
     "execution_count": 50,
     "metadata": {},
     "output_type": "execute_result"
    }
   ],
   "source": [
    "data.loc[data['sex'] == 'Male', 'age'].agg(functions)"
   ]
  },
  {
   "cell_type": "code",
   "execution_count": 51,
   "metadata": {
    "scrolled": true
   },
   "outputs": [
    {
     "data": {
      "text/plain": [
       "mean      37.575917\n",
       "median    36.000000\n",
       "Name: age, dtype: float64"
      ]
     },
     "execution_count": 51,
     "metadata": {},
     "output_type": "execute_result"
    }
   ],
   "source": [
    "data.loc[data['sex'] == 'Female', 'age'].agg(functions)"
   ]
  },
  {
   "cell_type": "code",
   "execution_count": 52,
   "metadata": {},
   "outputs": [
    {
     "data": {
      "text/plain": [
       "mean      40.998311\n",
       "median    40.000000\n",
       "Name: age, dtype: float64"
      ]
     },
     "execution_count": 52,
     "metadata": {},
     "output_type": "execute_result"
    }
   ],
   "source": [
    "data_clean.loc[data_clean['sex'] == 'Male', 'age'].agg(functions)"
   ]
  },
  {
   "cell_type": "code",
   "execution_count": 53,
   "metadata": {},
   "outputs": [
    {
     "data": {
      "text/plain": [
       "mean      37.772694\n",
       "median    37.000000\n",
       "Name: age, dtype: float64"
      ]
     },
     "execution_count": 53,
     "metadata": {},
     "output_type": "execute_result"
    }
   ],
   "source": [
    "data_clean.loc[data_clean['sex'] == 'Female', 'age'].agg(functions)"
   ]
  },
  {
   "cell_type": "markdown",
   "metadata": {},
   "source": [
    "3. (b) Explain how mean and median of \"age\" per \"sex\" change when you remove the outliers."
   ]
  },
  {
   "cell_type": "markdown",
   "metadata": {},
   "source": [
    "Explanation: Looking at the plots we can see that by removing the outliers the median of the age for males doesn't change at all, while the median of the age for females goes up by 1 (from 36 to 37). The mean of the age for both males and females changes only marginally."
   ]
  },
  {
   "cell_type": "markdown",
   "metadata": {},
   "source": [
    "### Question 4 (Distribution):\n",
    "4. (a) Explore into distribution of \"age\" in the original data set. Does it have any well-known distribution (normal, uniform, skewed, ...)? If so, what are the main statistical features (mean, median, and mode) of this specific type of distribution."
   ]
  },
  {
   "cell_type": "code",
   "execution_count": 54,
   "metadata": {
    "scrolled": false
   },
   "outputs": [
    {
     "data": {
      "image/png": "[encoded data removed]",
      "text/plain": [
       "<Figure size 1008x504 with 1 Axes>"
      ]
     },
     "metadata": {},
     "output_type": "display_data"
    }
   ],
   "source": [
    "# your code\n",
    "fig, ax = plt.subplots()\n",
    "number_of_bins = data['age'].max() - data['age'].min() + 1\n",
    "ax.hist(data['age'], number_of_bins, edgecolor='black', linewidth=0.2)\n",
    "ax.set_title('Distribution of age')\n",
    "ax.set_xlabel('age')\n",
    "ax.set_ylabel('frequency')\n",
    "ax.grid(axis='y')\n",
    "plt.show()"
   ]
  },
  {
   "cell_type": "code",
   "execution_count": 55,
   "metadata": {},
   "outputs": [
    {
     "name": "stdout",
     "output_type": "stream",
     "text": [
      "40.10296508043271\n",
      "39.0\n",
      "[37]\n"
     ]
    }
   ],
   "source": [
    "print(data['age'].mean())\n",
    "print(data['age'].median())\n",
    "print(data['age'].mode().values)"
   ]
  },
  {
   "cell_type": "markdown",
   "metadata": {},
   "source": [
    "Explanation: The distribution of the attribute \"age\" is unimodal (skewed right). The mean is 40.1, the median is 39 and the most frequent value (mode) is 37."
   ]
  },
  {
   "cell_type": "markdown",
   "metadata": {},
   "source": [
    "4. (b) Explore into distribution of \"age\" and \"hours-per-week\" together. Explain how the data is distributed with respect to these two attributes in the original data sets (using Jointplot)?\n"
   ]
  },
  {
   "cell_type": "code",
   "execution_count": 56,
   "metadata": {
    "scrolled": false
   },
   "outputs": [
    {
     "name": "stderr",
     "output_type": "stream",
     "text": [
      "/home/philipp/anaconda3/lib/python3.6/site-packages/matplotlib/axes/_axes.py:6571: UserWarning: The 'normed' kwarg is deprecated, and has been replaced by the 'density' kwarg.\n",
      "  warnings.warn(\"The 'normed' kwarg is deprecated, and has been \"\n",
      "/home/philipp/anaconda3/lib/python3.6/site-packages/matplotlib/axes/_axes.py:6571: UserWarning: The 'normed' kwarg is deprecated, and has been replaced by the 'density' kwarg.\n",
      "  warnings.warn(\"The 'normed' kwarg is deprecated, and has been \"\n"
     ]
    },
    {
     "data": {
      "image/png": "[encoded data removed]",
      "text/plain": [
       "<Figure size 432x432 with 3 Axes>"
      ]
     },
     "metadata": {},
     "output_type": "display_data"
    }
   ],
   "source": [
    "# your code\n",
    "#sns.jointplot(x='age', y='hours-per-week', data=data, kind=\"kde\")  #kind = scatter, hex, reg,kde \n",
    "#plt.show()\n",
    "\n",
    "sns.jointplot(x='age', y='hours-per-week', data=data, kind=\"hex\")  #kind = scatter, hex, reg,kde \n",
    "plt.show()"
   ]
  },
  {
   "cell_type": "markdown",
   "metadata": {},
   "source": [
    "Explanation: Because most people have a 40-hour-job the data is distributed around the 40 hours. You can also see the 20 hours mark (half-time jobs).\n",
    "\n",
    "But you can see no correlation between these two attributes. The Pearson correlation coefficient is also around 0. Maybe you can see that rather younger people have half-time jobs (20 hours), but other than that you can not say much about the relationship between age and hours per week."
   ]
  },
  {
   "cell_type": "markdown",
   "metadata": {},
   "source": [
    "## Building models to perform predictions"
   ]
  },
  {
   "cell_type": "markdown",
   "metadata": {},
   "source": [
    "### Question 5 (Decision Tree):\n",
    "5. (a) Consider all the categorical attributes except label as descriptive features and label (income) as target feature. Make two decision trees (one based on Entropy and another based on Gini)."
   ]
  },
  {
   "cell_type": "code",
   "execution_count": 57,
   "metadata": {
    "scrolled": true
   },
   "outputs": [
    {
     "name": "stderr",
     "output_type": "stream",
     "text": [
      "/home/philipp/anaconda3/lib/python3.6/site-packages/ipykernel_launcher.py:15: SettingWithCopyWarning: \n",
      "A value is trying to be set on a copy of a slice from a DataFrame.\n",
      "Try using .loc[row_indexer,col_indexer] = value instead\n",
      "\n",
      "See the caveats in the documentation: http://pandas.pydata.org/pandas-docs/stable/indexing.html#indexing-view-versus-copy\n",
      "  from ipykernel import kernelapp as app\n"
     ]
    }
   ],
   "source": [
    "# your code\n",
    "from DecisionTree import DecisionTree\n",
    "\n",
    "attributes = ['workclass', 'education', 'marital-status', 'occupation',\n",
    "                        'relationship', 'race', 'sex', 'native-country', 'label']\n",
    "\n",
    "df = data[attributes]\n",
    "columns = df.columns\n",
    "\n",
    "descriptive_features = columns[:-1]\n",
    "label = columns[-1]\n",
    "\n",
    "#Converting all the columns to string \n",
    "for column in columns:\n",
    "    df[column] = df[column].astype(str)\n",
    "    \n",
    "data_descriptive = data[descriptive_features].values\n",
    "data_label = df[label].values"
   ]
  },
  {
   "cell_type": "markdown",
   "metadata": {},
   "source": [
    "#### Entropy Decision Tree"
   ]
  },
  {
   "cell_type": "code",
   "execution_count": 58,
   "metadata": {
    "scrolled": true
   },
   "outputs": [
    {
     "name": "stdout",
     "output_type": "stream",
     "text": [
      "System entropy:  0.9894104774720454\n"
     ]
    }
   ],
   "source": [
    "decisionTree_entropy = DecisionTree(data_descriptive.tolist(), descriptive_features.tolist(), data_label.tolist(), \"entropy\")\n",
    "decisionTree_entropy.id3(0,0)\n",
    "decisionTree_entropy.print_visualTree()\n",
    "print(\"System entropy: \", format(decisionTree_entropy.entropy))"
   ]
  },
  {
   "cell_type": "markdown",
   "metadata": {},
   "source": [
    "#### Gini Decision Tree"
   ]
  },
  {
   "cell_type": "code",
   "execution_count": 59,
   "metadata": {},
   "outputs": [
    {
     "name": "stdout",
     "output_type": "stream",
     "text": [
      "System gini:  0.49267787898095206\n"
     ]
    }
   ],
   "source": [
    "decisionTree_gini = DecisionTree(data_descriptive.tolist(), descriptive_features.tolist(), data_label.tolist(), \"gini\")\n",
    "decisionTree_gini.id3(0,0)\n",
    "decisionTree_gini.print_visualTree()\n",
    "print(\"System gini: \", format(decisionTree_gini.gini))"
   ]
  },
  {
   "cell_type": "markdown",
   "metadata": {},
   "source": [
    "5. (b) What are the best attributes (based on Gini and Entropy) for splitting the trees in the third round of ID3?   "
   ]
  },
  {
   "cell_type": "markdown",
   "metadata": {},
   "source": [
    "Explanation: The best attribute for splitting the trees in the third round for both the Gini and the Entropy model is \"occupation\". First split is on \"relationship\", second split is on \"education\" and then \"occupation\"."
   ]
  },
  {
   "cell_type": "markdown",
   "metadata": {},
   "source": [
    "5. (c) Prune the tree which is made based on Entropy by 7000 as minimum number of samples. Identify which value of the first node/attribute is chosen to be split in the second round of ID3 and explain why?"
   ]
  },
  {
   "cell_type": "code",
   "execution_count": 60,
   "metadata": {},
   "outputs": [
    {
     "name": "stdout",
     "output_type": "stream",
     "text": [
      "System entropy:  0.9894104774720454\n"
     ]
    }
   ],
   "source": [
    "# your code\n",
    "decisionTree_entropy = DecisionTree(data_descriptive.tolist(), descriptive_features.tolist(), data_label.tolist(), \"entropy\")\n",
    "decisionTree_entropy.id3(0,7000)\n",
    "decisionTree_entropy.print_visualTree()\n",
    "print(\"System entropy: \", format(decisionTree_entropy.entropy))"
   ]
  },
  {
   "cell_type": "markdown",
   "metadata": {},
   "source": [
    "Explanation: The value \"Husband\" is chosen because for all the other values (\"Unmarried\", \"Wife\" etc.) there is no need for a split, because these values have already a label (we know in what class they belong). But for \"Husband\" we need more \"information\"."
   ]
  },
  {
   "cell_type": "markdown",
   "metadata": {},
   "source": [
    "### Question 6 (Regression):\n",
    "\n",
    "6. (a) Create two sets of independent variables (1) and (2)"
   ]
  },
  {
   "cell_type": "code",
   "execution_count": 61,
   "metadata": {},
   "outputs": [],
   "source": [
    "df1 = data[['age', 'workclass', 'sex']]\n",
    "df2 = data[['education', 'marital-status', 'hours-per-week']]\n",
    "df3 = data[['age','workclass','education','education-num','marital-status',\n",
    "            'occupation','relationship','race','sex','hours-per-week','native-country']]"
   ]
  },
  {
   "cell_type": "markdown",
   "metadata": {},
   "source": [
    "6. (b) Which attributes are suitable as an input for the logistic regression and which need to be modified first? Why? "
   ]
  },
  {
   "cell_type": "markdown",
   "metadata": {},
   "source": [
    "Explanation:\n",
    "\n",
    "Suitable are \"age\", \"education-num\" and \"hours-per-week\", because these attributes are numerical and do not need to be modified.\n",
    "\n",
    "All the other attributes need to be modified because they are categorical, so they need to get a numerical value to be processed. We will modify them by doing the one-hot-encoding."
   ]
  },
  {
   "cell_type": "code",
   "execution_count": 62,
   "metadata": {},
   "outputs": [],
   "source": [
    "# your modification\n",
    "df1_encoded = pd.get_dummies(df1)\n",
    "df2_encoded = pd.get_dummies(df2)\n",
    "df3_encoded = pd.get_dummies(df3)"
   ]
  },
  {
   "cell_type": "markdown",
   "metadata": {},
   "source": [
    "6. (c) Train three logistic regression classifiers based on the two created data sets as well as the initial data set:"
   ]
  },
  {
   "cell_type": "code",
   "execution_count": 63,
   "metadata": {},
   "outputs": [
    {
     "name": "stdout",
     "output_type": "stream",
     "text": [
      "######################## 1 #########################\n",
      "\n",
      "First 50 Predictions:\n",
      " ['>50K' '>50K' '<=50K' '>50K' '<=50K' '>50K' '<=50K' '<=50K' '<=50K'\n",
      " '<=50K' '<=50K' '<=50K' '>50K' '<=50K' '<=50K' '>50K' '>50K' '>50K'\n",
      " '<=50K' '<=50K' '<=50K' '>50K' '<=50K' '>50K' '<=50K' '<=50K' '>50K'\n",
      " '>50K' '<=50K' '>50K' '<=50K' '<=50K' '>50K' '<=50K' '<=50K' '>50K'\n",
      " '<=50K' '<=50K' '<=50K' '<=50K' '<=50K' '<=50K' '>50K' '>50K' '<=50K'\n",
      " '>50K' '<=50K' '<=50K' '>50K']\n",
      "\n",
      "Coefficients: \n",
      " [[ 0.04379066  0.4280905   0.21051971 -1.34711796 -0.14885849 -0.18095347\n",
      "   0.80458931 -0.21425915  0.05403406 -1.06223474 -1.33672141 -0.11946883]]\n",
      "\n",
      "Intercept: \n",
      " [-1.45619024]\n",
      "\n",
      "Mean squared Error: \n",
      " 0.323412364778\n",
      "\n",
      "Mean absolute Error: \n",
      " 41.3967826916\n",
      "######################## 2 #########################\n",
      "\n",
      "First 50 Predictions:\n",
      " ['>50K' '<=50K' '<=50K' '>50K' '<=50K' '>50K' '>50K' '>50K' '>50K' '>50K'\n",
      " '>50K' '<=50K' '>50K' '>50K' '<=50K' '<=50K' '>50K' '<=50K' '<=50K'\n",
      " '<=50K' '>50K' '>50K' '>50K' '>50K' '<=50K' '>50K' '<=50K' '>50K' '>50K'\n",
      " '>50K' '<=50K' '>50K' '>50K' '<=50K' '<=50K' '>50K' '<=50K' '<=50K' '>50K'\n",
      " '<=50K' '<=50K' '<=50K' '>50K' '>50K' '<=50K' '<=50K' '<=50K' '>50K'\n",
      " '>50K']\n",
      "\n",
      "Coefficients: \n",
      " [[ 0.03320063 -1.1890154  -1.10742679 -0.65377022 -1.9937137  -1.66039876\n",
      "  -1.70900042 -1.54631309  0.42178706  0.42153053  1.19638236  2.50374969\n",
      "  -0.34880173  1.86581451 -1.38886497  2.6826883   0.1418494  -0.71234175\n",
      "   0.87004587  1.35442853 -0.75929361 -1.610554   -1.04422283 -0.46156545]]\n",
      "\n",
      "Intercept: \n",
      " [-2.36350323]\n",
      "\n",
      "Mean squared Error: \n",
      " 0.218765764251\n",
      "\n",
      "Mean absolute Error: \n",
      " 28.0020178241\n",
      "######################## 3 #########################\n",
      "\n",
      "First 50 Predictions:\n",
      " ['>50K' '<=50K' '<=50K' '>50K' '<=50K' '>50K' '>50K' '>50K' '>50K' '<=50K'\n",
      " '>50K' '<=50K' '>50K' '<=50K' '>50K' '<=50K' '<=50K' '<=50K' '<=50K'\n",
      " '<=50K' '<=50K' '>50K' '>50K' '>50K' '<=50K' '>50K' '>50K' '>50K' '<=50K'\n",
      " '>50K' '<=50K' '>50K' '>50K' '<=50K' '>50K' '>50K' '<=50K' '<=50K' '>50K'\n",
      " '<=50K' '<=50K' '<=50K' '>50K' '>50K' '<=50K' '>50K' '<=50K' '>50K' '>50K']\n",
      "\n",
      "Coefficients: \n",
      " [[  3.06503141e-02   1.98900071e-01   3.23967830e-02   1.98855591e-01\n",
      "   -4.07471913e-01  -4.75904377e-01  -1.63149797e-02  -2.55262999e-01\n",
      "   -5.31622158e-02  -5.64632851e-01  -6.23091650e-01  -8.00158183e-01\n",
      "   -5.45628284e-01  -4.18437653e-01  -2.98087584e-01  -4.57947547e-01\n",
      "   -1.82271135e-01  -7.25996797e-01  -6.34146387e-01  -3.81075453e-01\n",
      "   -7.06315072e-02   3.38746164e-02   5.35404022e-01  -3.38330689e-01\n",
      "    3.04099449e-01  -5.66055208e-01   9.07930523e-01  -1.59843943e-01\n",
      "   -9.63558195e-01   8.99549464e-01   1.28499576e+00  -8.41681233e-01\n",
      "   -1.39901549e+00  -1.09982668e+00  -8.77607194e-01  -1.13490852e-01\n",
      "   -8.78332867e-02   2.43321034e-02   6.90075134e-01  -1.05842972e+00\n",
      "   -7.06033303e-01  -3.64999846e-01  -4.92219356e-01  -9.99904582e-01\n",
      "   -1.45110095e+00   4.57533758e-01   5.38363177e-01   2.63795284e-01\n",
      "    4.94460176e-01  -1.91691309e-01  -8.40176434e-01  -1.23493782e-01\n",
      "   -9.61399521e-01  -1.29098360e+00  -3.49149149e-01   5.68058906e-01\n",
      "   -9.73846306e-01  -3.21152589e-01  -5.67888426e-01  -7.07773586e-01\n",
      "   -4.26482671e-01  -1.91906583e+00  -1.07807774e+00   6.92937568e-01\n",
      "    1.26482830e-01  -4.00278333e-01  -1.30641036e+00   2.09151893e-01\n",
      "   -1.13560698e+00   2.27667409e-01  -5.95775222e-01   3.65645900e-01\n",
      "    6.87291793e-01   4.28929763e-01  -2.89155925e-01  -1.41760521e-01\n",
      "   -5.05453742e-02  -2.76524177e-01   8.38002293e-02  -1.70118412e-02\n",
      "   -1.98204434e-01   7.77564238e-01   3.09167726e-01   4.36529446e-01\n",
      "    1.69842034e-01   1.82791145e-01  -6.30466165e-01  -4.03685299e-01\n",
      "   -1.10247682e-01  -1.64996190e-04  -7.56042435e-01  -5.91390182e-01\n",
      "    4.61231058e-01  -2.26509643e-02  -1.92602224e-01  -1.99621439e-01\n",
      "   -1.31959045e-01  -9.32797280e-01   8.55940364e-02  -4.18522387e-01\n",
      "   -1.04578571e-02   3.02632041e-01  -6.45699558e-01   9.13177999e-01]]\n",
      "\n",
      "Intercept: \n",
      " [-2.99714358]\n",
      "\n",
      "Mean squared Error: \n",
      " 0.191917493414\n",
      "\n",
      "Mean absolute Error: \n",
      " 24.565439157\n"
     ]
    }
   ],
   "source": [
    "from sklearn.linear_model import LogisticRegression\n",
    "from sklearn.metrics import mean_squared_error, mean_absolute_error\n",
    "\n",
    "y = data['label']\n",
    "encoded_y = pd.get_dummies(y)\n",
    "\n",
    "# df1\n",
    "classifier1 = LogisticRegression(solver='liblinear', multi_class='ovr')\n",
    "classifier1.fit(df1_encoded, y.ravel())\n",
    "\n",
    "y_pred1 = classifier1.predict(df1_encoded)\n",
    "encoded_y_pred1 = pd.get_dummies(y_pred1)\n",
    "\n",
    "# df2\n",
    "classifier2 = LogisticRegression(solver='liblinear', multi_class='ovr')\n",
    "classifier2.fit(df2_encoded, y.ravel())\n",
    "\n",
    "y_pred2 = classifier2.predict(df2_encoded)\n",
    "encoded_y_pred2 = pd.get_dummies(y_pred2)\n",
    "\n",
    "# df3\n",
    "classifier3 = LogisticRegression(solver = 'liblinear', multi_class='ovr')\n",
    "classifier3.fit(df3_encoded, y.ravel())\n",
    "\n",
    "y_pred3 = classifier3.predict(df3_encoded)\n",
    "encoded_y_pred3 = pd.get_dummies(y_pred3)\n",
    "\n",
    "print('######################## 1 #########################\\n')\n",
    "print('First 50 Predictions:\\n', y_pred1[0:49])\n",
    "print('\\nCoefficients: \\n', classifier1.coef_)\n",
    "print('\\nIntercept: \\n', classifier1.intercept_)\n",
    "print('\\nMean squared Error: \\n', mean_squared_error(encoded_y, encoded_y_pred1))\n",
    "print('\\nMean absolute Error: \\n', mean_absolute_error(encoded_y, encoded_y_pred1))\n",
    "\n",
    "print('######################## 2 #########################\\n')\n",
    "print('First 50 Predictions:\\n', y_pred2[0:49])\n",
    "print('\\nCoefficients: \\n', classifier2.coef_)\n",
    "print('\\nIntercept: \\n', classifier2.intercept_)\n",
    "print('\\nMean squared Error: \\n', mean_squared_error(encoded_y, encoded_y_pred2))\n",
    "print('\\nMean absolute Error: \\n', mean_absolute_error(encoded_y, encoded_y_pred2))\n",
    "\n",
    "print('######################## 3 #########################\\n')\n",
    "print('First 50 Predictions:\\n', y_pred3[0:49])\n",
    "print('\\nCoefficients: \\n', classifier3.coef_)\n",
    "print('\\nIntercept: \\n', classifier3.intercept_)\n",
    "print('\\nMean squared Error: \\n', mean_squared_error(encoded_y, encoded_y_pred3))\n",
    "print('\\nMean absolute Error: \\n', mean_absolute_error(encoded_y, encoded_y_pred3))"
   ]
  },
  {
   "cell_type": "markdown",
   "metadata": {},
   "source": [
    "6. (d) Interpret the three resulting models and compare them. Which model do you recommend and why?"
   ]
  },
  {
   "cell_type": "markdown",
   "metadata": {},
   "source": [
    "Explanation:\n",
    "\n",
    "The first 2 models only have 3 attributes each, so they have fewer coefficients than the third model, which considers all attributes.\n",
    "\n",
    "The best model is the last one (smallest mean squared/absolute error), but it is only slightly better than the second model although it has much more attributes. Also there is the possibility of overfitting when considering all the attributes.\n",
    "\n",
    "So I would recommend the second model, because it uses only 3 independent variables and gets comparable results as the third model and better results than the first model."
   ]
  },
  {
   "cell_type": "markdown",
   "metadata": {},
   "source": [
    "### Question 7 (Neural Networks)"
   ]
  },
  {
   "cell_type": "markdown",
   "metadata": {},
   "source": [
    "7. (a) What are the inputs of your network?"
   ]
  },
  {
   "cell_type": "markdown",
   "metadata": {},
   "source": [
    "Explanation:\n",
    "\n",
    "The inputs are all attributes (in form of one-hot encoding if categorical) of the original data set."
   ]
  },
  {
   "cell_type": "markdown",
   "metadata": {},
   "source": [
    "7. (b) What are the possible number of input pattern for your network (just including categorical attributes)?"
   ]
  },
  {
   "cell_type": "markdown",
   "metadata": {},
   "source": [
    "Explanation:\n",
    "\n",
    "2^n where n is the number of inputs\n",
    "\n",
    "Because we one-hote-encode categorical values, we see each unique value of a categorical attribute as a different input, so:\n",
    "\n",
    "- workclass: 9 unique values\n",
    "- education: 16 unique values\n",
    "- marital-status: 7 unique values\n",
    "- occupation: 15 unique values\n",
    "- relationship: 6 unique values\n",
    "- race: 5 unique values\n",
    "- sex: 2 unique values\n",
    "- native-country: 41 unique values\n",
    "\n",
    "Summing the unique values up we get 9+16+7+15+6+5+2+41 = 101 unique values. So there are **2^101** possible number of input pattern for the network."
   ]
  },
  {
   "cell_type": "markdown",
   "metadata": {},
   "source": [
    "7. (c.i) First, with default parameters and return the parameters."
   ]
  },
  {
   "cell_type": "code",
   "execution_count": 64,
   "metadata": {
    "scrolled": false
   },
   "outputs": [
    {
     "name": "stdout",
     "output_type": "stream",
     "text": [
      "Parameters:\n",
      " MLPClassifier(activation='relu', alpha=0.0001, batch_size='auto', beta_1=0.9,\n",
      "       beta_2=0.999, early_stopping=False, epsilon=1e-08,\n",
      "       hidden_layer_sizes=(100,), learning_rate='constant',\n",
      "       learning_rate_init=0.001, max_iter=200, momentum=0.9,\n",
      "       nesterovs_momentum=True, power_t=0.5, random_state=None,\n",
      "       shuffle=True, solver='adam', tol=0.0001, validation_fraction=0.1,\n",
      "       verbose=False, warm_start=False)\n",
      "\n",
      "Prediction:\n",
      " [[0 1]\n",
      " [1 0]\n",
      " [1 0]\n",
      " ..., \n",
      " [1 0]\n",
      " [1 0]\n",
      " [0 1]]\n",
      "\n",
      "Size of synapsis weights:\n",
      " [(104, 100), (100, 2)]\n",
      "\n",
      "Synapsis weights:\n",
      " [array([[  1.81887113e-02,   1.50929514e-02,   5.76567237e-02, ...,\n",
      "         -1.48144083e-02,  -3.52906293e-02,  -8.76218510e-02],\n",
      "       [  3.85179073e-02,  -1.45053818e-01,  -3.10699653e-02, ...,\n",
      "         -4.23088220e-02,  -6.05619929e-02,  -5.28929731e-02],\n",
      "       [  9.28823249e-02,  -1.63507279e-01,   1.12500967e-01, ...,\n",
      "         -1.01598555e-02,   1.18220379e-01,   1.18100085e-01],\n",
      "       ..., \n",
      "       [ -4.13002027e-02,   6.46822678e-02,   5.00460248e-02, ...,\n",
      "          9.19730980e-03,   2.39214403e-02,   3.13850589e-03],\n",
      "       [  1.66449982e-01,  -1.20053081e-02,   1.53557561e-02, ...,\n",
      "         -2.29514311e-08,  -4.13642509e-02,  -2.14779115e-02],\n",
      "       [  7.58448157e-02,   5.00844320e-22,   1.47781513e-01, ...,\n",
      "         -7.58450512e-27,  -5.70189836e-02,   2.38093335e-01]]), array([[ -7.43110345e-02,  -1.45868621e-01],\n",
      "       [  1.73786280e-01,   1.07289536e-01],\n",
      "       [ -2.17343549e-01,   1.98180979e-01],\n",
      "       [  7.12553212e-02,  -2.55009196e-01],\n",
      "       [  2.44677291e-01,  -2.35471465e-01],\n",
      "       [  6.41675572e-02,  -4.10862583e-02],\n",
      "       [ -1.55458226e-01,  -2.21240811e-02],\n",
      "       [ -1.80011804e-01,  -1.40132598e-01],\n",
      "       [  1.22296742e-01,   1.40007333e-01],\n",
      "       [ -2.78571509e-01,  -5.38346210e-02],\n",
      "       [  2.24466699e-01,  -1.61068580e-01],\n",
      "       [  8.15513677e-02,  -2.42089254e-01],\n",
      "       [  4.50044672e-02,  -3.46285978e-02],\n",
      "       [  1.49358767e-01,  -2.07582570e-01],\n",
      "       [ -1.87092774e-01,  -2.41504315e-01],\n",
      "       [ -1.83536815e-01,   1.28771711e-02],\n",
      "       [  3.43936133e-01,  -2.03753466e-01],\n",
      "       [ -1.30083353e-06,   2.51398222e-18],\n",
      "       [  6.71926003e-06,  -3.10069750e-06],\n",
      "       [ -1.96169446e-01,   2.50262211e-01],\n",
      "       [  2.34613531e-01,   1.94341459e-02],\n",
      "       [ -4.05925507e-02,  -2.55819499e-01],\n",
      "       [  6.90164458e-06,   7.07416812e-06],\n",
      "       [  1.13803553e-09,   5.68574383e-09],\n",
      "       [ -3.62542194e-03,   1.44935299e-01],\n",
      "       [ -8.27324740e-02,   1.26127219e-01],\n",
      "       [ -1.35583496e-01,  -3.50760403e-02],\n",
      "       [  2.38737886e-06,   2.11207193e-05],\n",
      "       [ -2.75030492e-01,   3.10033708e-01],\n",
      "       [  1.10286808e-01,  -1.05897296e-01],\n",
      "       [  4.80636354e-02,  -1.31459903e-01],\n",
      "       [  3.37043199e-02,   1.90104621e-01],\n",
      "       [  2.61976787e-01,  -1.11162234e-01],\n",
      "       [  1.46136935e-01,   4.16224759e-02],\n",
      "       [  2.21844921e-01,  -1.82432334e-01],\n",
      "       [ -2.44587283e-01,  -6.50007316e-02],\n",
      "       [  1.81627508e-01,  -3.57195321e-01],\n",
      "       [ -1.03148545e-01,  -1.63686639e-01],\n",
      "       [  1.02728783e-01,  -1.37630518e-02],\n",
      "       [  1.14619482e-01,  -1.61077947e-01],\n",
      "       [  9.61414298e-02,  -2.31286230e-01],\n",
      "       [ -2.03713303e-01,  -7.84348769e-02],\n",
      "       [ -9.24264679e-02,  -1.95774472e-02],\n",
      "       [  1.18835789e-01,  -7.85643948e-03],\n",
      "       [  3.12039928e-02,   5.04947935e-02],\n",
      "       [ -2.68617131e-03,   1.53384638e-02],\n",
      "       [ -2.23626607e-01,  -1.15794811e-01],\n",
      "       [  2.33229402e-02,  -1.39141745e-01],\n",
      "       [  1.60157966e-01,   2.27960756e-01],\n",
      "       [ -1.83530413e-01,   2.29879639e-01],\n",
      "       [  1.80146216e-07,  -1.26240551e-13],\n",
      "       [  6.35625062e-02,   1.01139234e-01],\n",
      "       [  7.98683509e-05,  -1.20587981e-04],\n",
      "       [ -1.15508025e-01,  -1.97362711e-01],\n",
      "       [  1.26322002e-01,  -3.23375936e-02],\n",
      "       [  6.36306350e-02,   9.53647372e-02],\n",
      "       [  3.09071062e-01,  -9.95056539e-02],\n",
      "       [ -7.19164584e-02,   2.06334529e-01],\n",
      "       [  2.26535561e-01,  -2.46884263e-01],\n",
      "       [ -4.74531684e-02,  -5.51042758e-04],\n",
      "       [  1.61061565e-01,  -1.50154413e-01],\n",
      "       [ -1.54179302e-01,   1.34243556e-01],\n",
      "       [  8.09548127e-02,   2.24641454e-01],\n",
      "       [  6.88796528e-02,   8.21861451e-02],\n",
      "       [  1.98775819e-01,  -5.30480975e-02],\n",
      "       [  7.09545596e-02,  -1.38402133e-01],\n",
      "       [  1.73688547e-02,  -5.36173859e-02],\n",
      "       [ -2.05063702e-01,   2.10854753e-01],\n",
      "       [  1.34987939e-01,   1.86332339e-01],\n",
      "       [  1.74748662e-02,   3.53641476e-02],\n",
      "       [  2.23214115e-01,   1.14563639e-01],\n",
      "       [  1.43976516e-01,  -1.49193811e-01],\n",
      "       [  3.05735368e-02,   1.71999531e-01],\n",
      "       [ -1.74815659e-01,   2.33195036e-01],\n",
      "       [ -1.82432997e-01,   2.30427602e-01],\n",
      "       [  1.23816064e-01,   3.05419116e-02],\n",
      "       [ -1.46076249e-01,   1.78320873e-01],\n",
      "       [  4.45091767e-05,   7.85338530e-03],\n",
      "       [  2.74016682e-01,  -1.54089460e-01],\n",
      "       [ -1.29637218e-01,   4.24677934e-03],\n",
      "       [  5.44014576e-02,   6.67871148e-02],\n",
      "       [ -1.01713723e-01,   1.98274226e-01],\n",
      "       [ -2.24134705e-01,   1.86339281e-01],\n",
      "       [  6.13552647e-02,  -1.45564561e-01],\n",
      "       [ -9.39357088e-10,   4.71363742e-08],\n",
      "       [ -1.63369753e-01,  -1.20366846e-01],\n",
      "       [  2.31486220e-01,  -1.46445845e-01],\n",
      "       [ -1.32734494e-01,   1.00282212e-01],\n",
      "       [ -3.98096601e-06,   1.31414748e-08],\n",
      "       [ -5.34863176e-07,  -3.84679996e-09],\n",
      "       [  3.01714585e-02,   1.98052547e-01],\n",
      "       [ -1.62514041e-01,  -2.05562796e-01],\n",
      "       [ -3.40509016e-02,   8.27033443e-02],\n",
      "       [ -1.09531297e-01,  -2.14920389e-01],\n",
      "       [ -1.69954384e-01,   5.85162202e-02],\n",
      "       [ -1.61662088e-01,   1.37716335e-01],\n",
      "       [  1.17678280e-02,   2.47021351e-02],\n",
      "       [  7.67944520e-03,   5.05561171e-03],\n",
      "       [  1.17886688e-01,  -2.36522884e-01],\n",
      "       [ -1.54599563e-01,   2.40330743e-01]])]\n",
      "\n",
      "Accuracy= 0.810688862732\n"
     ]
    }
   ],
   "source": [
    "# your code\n",
    "from sklearn.neural_network import MLPClassifier\n",
    "import sklearn.metrics as metric\n",
    "\n",
    "X_training = pd.get_dummies(data[[\"age\",\"workclass\",\"education\",\"education-num\",\"marital-status\",\n",
    "              \"occupation\",\"relationship\",\"race\",\"sex\",\"hours-per-week\",\"native-country\"]])\n",
    "Y_training = pd.get_dummies(data[\"label\"])\n",
    "\n",
    "y_true = Y_training\n",
    "mlp = MLPClassifier()\n",
    "mlp.fit(X_training, Y_training)\n",
    "y_pred=mlp.predict(X_training)\n",
    "\n",
    "print('Parameters:\\n', mlp)\n",
    "print('\\nPrediction:\\n', y_pred)\n",
    "print('\\nSize of synapsis weights:\\n',\n",
    "      [coef.shape for coef in mlp.coefs_])  # size of synapsis weights\n",
    "print('\\nSynapsis weights:\\n', mlp.coefs_)  # synapsis weights\n",
    "\n",
    "accuracy=metric.accuracy_score(np.array(y_true).flatten(), np.array(y_pred).flatten(), normalize=True)\n",
    "print('\\nAccuracy=',accuracy)                         # show accracy score"
   ]
  },
  {
   "cell_type": "markdown",
   "metadata": {},
   "source": [
    "7. (c.ii) Second, try to find the optimized number of hidden layers and nodes. (Start with default number and then at least go with one number above and one number below the default) \n"
   ]
  },
  {
   "cell_type": "code",
   "execution_count": 65,
   "metadata": {
    "scrolled": false
   },
   "outputs": [
    {
     "name": "stdout",
     "output_type": "stream",
     "text": [
      "-------- Lower number of hidden layers ---------\n",
      "\n",
      "Parameters:\n",
      " MLPClassifier(activation='relu', alpha=0.0001, batch_size='auto', beta_1=0.9,\n",
      "       beta_2=0.999, early_stopping=False, epsilon=1e-08,\n",
      "       hidden_layer_sizes=(70, 70), learning_rate='constant',\n",
      "       learning_rate_init=0.001, max_iter=200, momentum=0.9,\n",
      "       nesterovs_momentum=True, power_t=0.5, random_state=None,\n",
      "       shuffle=True, solver='adam', tol=0.0001, validation_fraction=0.1,\n",
      "       verbose=False, warm_start=False)\n",
      "\n",
      "Prediction:\n",
      " [[0 1]\n",
      " [1 0]\n",
      " [1 0]\n",
      " ..., \n",
      " [1 0]\n",
      " [1 0]\n",
      " [0 1]]\n",
      "\n",
      "Size of synapsis weights:\n",
      " [(104, 70), (70, 70), (70, 2)]\n",
      "\n",
      "Synapsis weights:\n",
      " [array([[  1.35508639e-01,   8.77437192e-02,  -1.30794620e-02, ...,\n",
      "         -4.24695377e-08,   4.44741353e-02,  -6.55141905e-02],\n",
      "       [  5.81485694e-02,   1.13734757e-01,  -1.71908782e-01, ...,\n",
      "         -4.14421103e-06,  -1.02408531e-01,   1.52819083e-01],\n",
      "       [ -6.46329445e-02,  -5.41362493e-02,   9.84570062e-02, ...,\n",
      "         -4.18933923e-08,   7.08626005e-02,   7.80576788e-02],\n",
      "       ..., \n",
      "       [ -1.34738350e-01,   1.00517654e-01,   1.57136370e-01, ...,\n",
      "         -1.51550863e-05,  -7.04407409e-03,   2.22116022e-02],\n",
      "       [  7.60571063e-03,   9.83963370e-02,  -1.75685997e-01, ...,\n",
      "          1.38035659e-20,  -2.02051370e-01,  -1.71966388e-01],\n",
      "       [ -2.46813698e-02,   7.26009849e-02,  -1.18684790e-01, ...,\n",
      "         -1.41870286e-14,   2.02690452e-01,  -6.12704668e-02]]), array([[ -2.82698018e-02,   4.01480903e-02,   2.67392254e-02, ...,\n",
      "          1.84324159e-02,   8.86748176e-03,  -6.39696972e-02],\n",
      "       [ -1.26508333e-01,   9.49097173e-03,   8.13667293e-02, ...,\n",
      "         -2.43769136e-02,   4.82014197e-02,  -9.11349865e-02],\n",
      "       [  1.79399398e-01,  -6.61471700e-14,   8.15002892e-03, ...,\n",
      "         -1.00706179e-02,  -1.94408990e-01,   4.36486529e-02],\n",
      "       ..., \n",
      "       [ -1.97694748e-08,  -7.45138061e-09,  -7.39461297e-12, ...,\n",
      "          2.42983453e-10,   4.13761003e-05,   9.67883571e-21],\n",
      "       [  1.89550861e-01,  -3.78841006e-02,  -9.00686508e-02, ...,\n",
      "         -8.97267346e-03,   6.41827237e-02,  -1.81903661e-01],\n",
      "       [  8.34178135e-02,   2.00270310e-21,   1.40998654e-01, ...,\n",
      "         -1.56057082e-02,   1.44838235e-01,   7.65400035e-02]]), array([[ -3.25915640e-02,   3.40835740e-02],\n",
      "       [ -5.53264710e-04,   1.35125844e-04],\n",
      "       [  1.27528973e-01,  -2.26078120e-01],\n",
      "       [  2.15470635e-01,   2.23673946e-01],\n",
      "       [ -6.73369509e-02,  -1.40281053e-01],\n",
      "       [ -4.17110290e-02,   4.75484591e-02],\n",
      "       [  1.39246556e-01,   1.06430082e-01],\n",
      "       [  4.43305954e-02,   1.15418389e-01],\n",
      "       [ -2.28239689e-01,  -1.65156883e-01],\n",
      "       [  2.06749526e-01,  -4.91849505e-01],\n",
      "       [ -7.10474940e-02,   6.52048236e-02],\n",
      "       [ -8.52619679e-02,   1.28030469e-01],\n",
      "       [  1.36236711e-01,  -4.42192434e-03],\n",
      "       [ -1.34921204e-01,   1.43556529e-01],\n",
      "       [ -2.25042157e-01,  -2.56975394e-01],\n",
      "       [ -2.72855827e-01,  -2.68638778e-01],\n",
      "       [  1.75271233e-01,  -3.11751004e-01],\n",
      "       [  2.42285374e-01,   2.42132702e-01],\n",
      "       [ -3.77627963e-15,  -1.39511274e-11],\n",
      "       [  1.51451848e-01,  -5.66522831e-02],\n",
      "       [  7.35967504e-02,  -2.16511835e-01],\n",
      "       [ -9.62681804e-02,   2.03494770e-01],\n",
      "       [  1.08354946e-01,   1.85834376e-01],\n",
      "       [ -5.06162178e-02,   2.15435330e-01],\n",
      "       [ -7.34067803e-04,  -5.25252075e-05],\n",
      "       [  6.37134242e-02,   7.54773191e-02],\n",
      "       [  9.27447895e-04,  -6.05346586e-12],\n",
      "       [  1.57068450e-02,   1.13832505e-02],\n",
      "       [ -1.05917872e-01,   2.29957687e-01],\n",
      "       [  5.36076597e-02,  -5.99815602e-02],\n",
      "       [  1.04310328e-01,  -2.25844040e-01],\n",
      "       [ -1.43061792e-01,  -2.78333563e-01],\n",
      "       [  2.13514565e-01,  -1.61137962e-01],\n",
      "       [  1.36072312e-01,  -2.45008627e-01],\n",
      "       [  5.14127928e-02,   8.32631903e-02],\n",
      "       [ -1.31512937e-01,  -5.83530441e-02],\n",
      "       [  1.73469423e-01,   2.52186190e-01],\n",
      "       [  1.78346262e-01,   2.49370817e-01],\n",
      "       [  3.33362615e-02,  -1.53011812e-02],\n",
      "       [  1.02977547e-01,  -7.45372214e-02],\n",
      "       [  6.99371603e-02,  -2.74988790e-01],\n",
      "       [ -1.22574829e-01,  -1.15391580e-01],\n",
      "       [ -7.52115571e-06,  -2.12108463e-05],\n",
      "       [  5.12083133e-14,  -3.10166599e-04],\n",
      "       [  2.21596287e-01,   7.90705972e-02],\n",
      "       [ -6.44495822e-06,   1.00266284e-19],\n",
      "       [  1.71400444e-05,  -2.29867581e-04],\n",
      "       [  1.39438763e-01,   9.51676120e-02],\n",
      "       [ -1.48062550e-02,  -2.59365557e-02],\n",
      "       [ -5.66112668e-02,  -1.55306888e-01],\n",
      "       [ -4.39151776e-02,  -1.83418162e-01],\n",
      "       [ -2.62149966e-01,   2.26684185e-01],\n",
      "       [  1.04348053e-01,  -1.59218308e-01],\n",
      "       [ -2.10300267e-01,  -2.24685606e-01],\n",
      "       [ -2.59899756e-01,   9.61851833e-02],\n",
      "       [  1.50250390e-01,  -4.13613835e-02],\n",
      "       [  6.14948230e-03,  -2.62969054e-01],\n",
      "       [ -2.86726255e-01,  -1.70387072e-02],\n",
      "       [  1.90350751e-15,  -1.34284559e-19],\n",
      "       [ -2.11669335e-02,   2.28732247e-02],\n",
      "       [  1.76425857e-01,  -3.02532801e-01],\n",
      "       [ -1.01425573e-01,   2.33952214e-01],\n",
      "       [ -1.50964926e-07,  -5.32156722e-04],\n",
      "       [  3.18671301e-01,  -8.51352187e-03],\n",
      "       [  3.59281964e-01,  -3.51585294e-02],\n",
      "       [ -3.39586236e-02,  -2.42906387e-01],\n",
      "       [ -2.30250889e-01,   1.97933834e-01],\n",
      "       [  9.07232706e-02,  -7.98327484e-02],\n",
      "       [ -2.66899280e-01,  -1.68294948e-02],\n",
      "       [ -1.25615003e-01,   1.52420400e-01]])]\n",
      "\n",
      "-------- Higher number of hidden layers ---------\n",
      "\n",
      "Parameters:\n",
      " MLPClassifier(activation='relu', alpha=0.0001, batch_size='auto', beta_1=0.9,\n",
      "       beta_2=0.999, early_stopping=False, epsilon=1e-08,\n",
      "       hidden_layer_sizes=(150, 150), learning_rate='constant',\n",
      "       learning_rate_init=0.001, max_iter=200, momentum=0.9,\n",
      "       nesterovs_momentum=True, power_t=0.5, random_state=None,\n",
      "       shuffle=True, solver='adam', tol=0.0001, validation_fraction=0.1,\n",
      "       verbose=False, warm_start=False)\n",
      "\n",
      "Prediction:\n",
      " [[0 1]\n",
      " [1 0]\n",
      " [1 0]\n",
      " ..., \n",
      " [1 0]\n",
      " [1 0]\n",
      " [0 1]]\n",
      "\n",
      "Size of synapsis weights:\n",
      " [(104, 150), (150, 150), (150, 2)]\n",
      "\n",
      "Synapsis weights:\n",
      " [array([[  1.39165328e-01,   9.67206317e-02,  -5.04905879e-02, ...,\n",
      "          5.17245996e-02,   2.31081535e-02,   1.11137839e-01],\n",
      "       [  3.95970021e-02,   1.08183047e-01,  -1.33605552e-01, ...,\n",
      "          8.94181061e-02,   1.55488185e-01,   1.32234597e-01],\n",
      "       [ -1.44324162e-01,  -2.90762433e-02,   9.00800980e-02, ...,\n",
      "         -1.50721191e-01,  -1.04137853e-01,   1.03014583e-01],\n",
      "       ..., \n",
      "       [  1.23559216e-01,   1.41479208e-01,   9.93251241e-02, ...,\n",
      "         -9.73212730e-02,  -6.33071765e-02,   2.12311618e-02],\n",
      "       [ -4.03061530e-02,   2.22285678e-01,   1.47651983e-01, ...,\n",
      "         -1.24692815e-01,  -1.47056899e-01,  -1.35057038e-02],\n",
      "       [ -4.57661236e-02,  -1.51717706e-01,  -2.23295250e-01, ...,\n",
      "         -1.16806300e-01,   1.54745333e-05,  -6.20299113e-02]]), array([[  6.17689388e-02,  -1.12995408e-01,   1.19031551e-01, ...,\n",
      "          1.40406029e-01,  -1.94340479e-03,  -9.17723834e-02],\n",
      "       [ -1.41551314e-02,  -1.33924267e-01,   1.68447353e-02, ...,\n",
      "          1.13144879e-01,  -3.71032220e-02,   8.82615051e-02],\n",
      "       [ -9.11579894e-02,  -1.14795227e-15,  -5.36604108e-02, ...,\n",
      "          3.67030077e-02,   5.62536506e-02,   1.30924405e-01],\n",
      "       ..., \n",
      "       [  6.76200318e-02,   8.74834483e-02,  -3.71428783e-03, ...,\n",
      "          8.49852041e-02,  -2.75283361e-03,  -5.08505086e-02],\n",
      "       [  3.70355713e-02,   1.05824181e-01,  -3.42296555e-02, ...,\n",
      "          2.36844513e-02,  -2.34145143e-01,  -6.70605081e-02],\n",
      "       [  1.26775501e-01,  -2.67790594e-02,   1.00909315e-01, ...,\n",
      "          2.68327053e-02,   1.22933839e-01,  -1.58082794e-02]]), array([[ -5.29651568e-02,   1.20233519e-01],\n",
      "       [ -5.18890344e-02,  -1.51278026e-01],\n",
      "       [  8.64061908e-04,  -1.83319138e-02],\n",
      "       [  1.39968242e-01,   1.51599348e-01],\n",
      "       [  4.75230751e-02,   1.46114701e-01],\n",
      "       [ -2.58263511e-02,   4.89580917e-02],\n",
      "       [ -6.89356982e-02,   6.07328930e-02],\n",
      "       [  1.41702551e-01,   5.76922775e-02],\n",
      "       [ -1.64193919e-04,  -1.07686585e-05],\n",
      "       [  6.44409044e-02,  -1.23879320e-01],\n",
      "       [ -9.76368060e-02,   1.37636714e-01],\n",
      "       [  1.42239793e-01,   1.63910521e-01],\n",
      "       [  1.26233997e-01,  -1.59200733e-01],\n",
      "       [  1.71569902e-02,   3.82287193e-02],\n",
      "       [  1.72103282e-01,  -4.21999780e-02],\n",
      "       [ -4.78062160e-15,   3.13761988e-14],\n",
      "       [ -1.66110310e-01,  -8.25496783e-02],\n",
      "       [ -1.14972741e-02,   1.08591338e-02],\n",
      "       [ -1.02405154e-01,  -5.76000481e-02],\n",
      "       [  8.79526898e-02,  -1.97424804e-01],\n",
      "       [ -6.73394860e-02,   4.71541296e-02],\n",
      "       [ -4.70805916e-06,   7.44991277e-05],\n",
      "       [  1.25397840e-01,  -6.95014629e-02],\n",
      "       [ -1.79945465e-01,   1.02150924e-01],\n",
      "       [  5.88722179e-02,   2.42871598e-02],\n",
      "       [  7.89342585e-02,   1.44153417e-01],\n",
      "       [  2.80698973e-02,   2.77525964e-02],\n",
      "       [ -1.33745110e-02,  -1.22915816e-02],\n",
      "       [ -1.34773236e-01,   3.22248880e-02],\n",
      "       [ -7.46809914e-02,  -1.31338280e-02],\n",
      "       [ -2.07665110e-02,   1.57015916e-02],\n",
      "       [ -6.81497423e-02,   1.72883155e-01],\n",
      "       [ -9.90121406e-02,   3.31864468e-02],\n",
      "       [  1.30746650e-01,  -1.30566843e-01],\n",
      "       [ -6.37707588e-05,   3.17579967e-03],\n",
      "       [ -4.31085069e-02,  -2.45499780e-02],\n",
      "       [ -4.76375981e-02,   1.75204844e-01],\n",
      "       [ -1.43456398e-01,   5.43262952e-02],\n",
      "       [  1.84030554e-01,   1.69554730e-01],\n",
      "       [ -1.91502931e-02,   1.04682090e-02],\n",
      "       [ -1.84198608e-01,   1.13911862e-02],\n",
      "       [  1.86987091e-01,  -5.27252331e-02],\n",
      "       [ -7.40806452e-02,   3.48936008e-02],\n",
      "       [  4.42338492e-02,   1.60087495e-01],\n",
      "       [ -8.77351660e-02,   3.74097860e-02],\n",
      "       [  2.27757424e-01,   4.96193604e-03],\n",
      "       [ -1.23030211e-02,  -4.31914987e-02],\n",
      "       [ -7.86510566e-02,  -1.08535936e-01],\n",
      "       [  1.95676964e-02,  -1.51587636e-01],\n",
      "       [ -6.26071609e-05,  -3.40622709e-04],\n",
      "       [ -1.21373007e-01,  -7.02268149e-02],\n",
      "       [ -1.02238540e-01,  -1.29167514e-01],\n",
      "       [  3.20684768e-06,  -1.64250888e-15],\n",
      "       [  5.73141496e-02,   1.29099906e-01],\n",
      "       [  1.08821495e-01,  -2.05324010e-01],\n",
      "       [  6.17543477e-02,  -5.71817662e-02],\n",
      "       [  9.74770941e-02,  -1.38815979e-01],\n",
      "       [  2.22135357e-16,  -1.08596296e-06],\n",
      "       [  2.03247417e-02,   6.59567342e-02],\n",
      "       [  1.85651584e-01,   2.29460235e-02],\n",
      "       [ -1.68910238e-01,   1.17269542e-02],\n",
      "       [ -3.31284293e-03,   1.46222003e-01],\n",
      "       [ -7.06990130e-02,  -7.90368645e-02],\n",
      "       [  8.74126651e-02,  -2.11781718e-02],\n",
      "       [  1.61681981e-01,   1.58079686e-02],\n",
      "       [ -1.16323407e-01,  -1.87789155e-01],\n",
      "       [ -2.18413158e-02,  -1.68369264e-01],\n",
      "       [  1.14059335e-01,  -1.46110042e-01],\n",
      "       [  3.02443648e-02,   6.80419375e-03],\n",
      "       [  5.15164051e-10,   6.12746446e-05],\n",
      "       [  2.35279324e-04,   7.05629047e-04],\n",
      "       [ -1.22762982e-01,  -7.22651479e-02],\n",
      "       [  2.09720451e-14,  -4.20387593e-04],\n",
      "       [ -5.34004641e-04,   7.73356092e-05],\n",
      "       [ -7.21954855e-02,  -9.19112424e-02],\n",
      "       [  2.31383762e-01,  -2.56061235e-01],\n",
      "       [ -9.48346848e-04,   2.45842866e-03],\n",
      "       [ -8.77380990e-02,  -6.08795328e-03],\n",
      "       [  6.26804116e-02,   3.37253131e-02],\n",
      "       [ -8.97848002e-02,  -5.81293838e-02],\n",
      "       [ -4.71834191e-03,  -1.56158566e-02],\n",
      "       [ -1.41178090e-01,   1.43580857e-02],\n",
      "       [  2.14458225e-07,  -3.27990642e-08],\n",
      "       [ -1.45249395e-05,   2.21901983e-05],\n",
      "       [  7.88349041e-02,  -1.60996302e-01],\n",
      "       [ -7.93763276e-02,  -5.13832255e-02],\n",
      "       [  2.19546761e-02,  -1.75698654e-01],\n",
      "       [ -4.36379772e-02,   8.15679235e-02],\n",
      "       [ -1.07209573e-01,   1.31425853e-01],\n",
      "       [  1.08450450e-01,  -3.74216326e-02],\n",
      "       [ -1.80612714e-01,  -1.32944595e-01],\n",
      "       [  9.95621325e-05,   1.37832647e-04],\n",
      "       [ -1.46607306e-01,  -7.49896801e-02],\n",
      "       [  7.75357653e-10,   4.11206543e-06],\n",
      "       [  3.44973635e-03,   1.13190282e-02],\n",
      "       [  1.24280516e-01,   1.14816008e-01],\n",
      "       [ -7.46128711e-02,   3.32057049e-02],\n",
      "       [ -4.05631752e-02,   1.34464812e-01],\n",
      "       [ -9.21210027e-03,   9.83708676e-03],\n",
      "       [ -8.16664180e-02,   2.01256362e-02],\n",
      "       [ -5.47619890e-02,   1.70900544e-01],\n",
      "       [ -1.17412502e-01,   2.94125114e-02],\n",
      "       [  2.14866223e-01,  -1.42766124e-01],\n",
      "       [  1.48700254e-01,   1.96746158e-01],\n",
      "       [  1.67569794e-01,  -2.03358434e-02],\n",
      "       [  2.03635017e-04,  -6.74429137e-08],\n",
      "       [  4.35711228e-02,   1.26570917e-01],\n",
      "       [ -2.71950912e-04,   2.93210565e-04],\n",
      "       [  7.26483617e-02,   3.04567227e-02],\n",
      "       [ -2.60440909e-02,   1.31547617e-01],\n",
      "       [ -1.91967567e-05,  -3.60851296e-09],\n",
      "       [ -5.92776914e-02,  -8.61624396e-02],\n",
      "       [ -7.38738510e-02,   1.30529413e-01],\n",
      "       [ -6.14760877e-03,   1.39803194e-01],\n",
      "       [ -1.64861879e-01,   1.69459543e-01],\n",
      "       [ -5.58444313e-04,  -3.47343242e-06],\n",
      "       [  1.48059617e-01,   1.40151760e-01],\n",
      "       [ -1.51914559e-02,   1.09396422e-02],\n",
      "       [ -1.37947770e-01,   1.94521084e-01],\n",
      "       [ -3.09608521e-06,  -1.45178335e-04],\n",
      "       [  8.66095064e-02,   6.48029836e-02],\n",
      "       [ -1.69669433e-01,   1.03177753e-01],\n",
      "       [ -3.47285475e-02,  -8.55933197e-02],\n",
      "       [  2.47171128e-02,   1.37643285e-01],\n",
      "       [  7.24515243e-02,   6.54169575e-02],\n",
      "       [  2.91616756e-02,  -1.75436940e-01],\n",
      "       [ -1.49153565e-01,   1.88336132e-02],\n",
      "       [ -5.42078053e-02,  -6.50542078e-02],\n",
      "       [  5.72809951e-02,  -7.96293684e-02],\n",
      "       [ -1.90340448e-01,  -6.35106723e-02],\n",
      "       [ -3.51775096e-02,   1.02882393e-01],\n",
      "       [  7.30798353e-02,  -2.28246170e-01],\n",
      "       [  9.49676776e-02,  -1.85850753e-01],\n",
      "       [ -1.33242971e-01,  -1.97810691e-01],\n",
      "       [  4.11717574e-03,   1.90085513e-02],\n",
      "       [ -3.75617283e-03,   5.94655351e-03],\n",
      "       [ -2.04499552e-02,   2.01700082e-02],\n",
      "       [  2.62577203e-01,   4.55657149e-02],\n",
      "       [ -1.08612811e-01,  -1.20776218e-02],\n",
      "       [ -2.85512147e-04,  -7.79148923e-04],\n",
      "       [ -9.23644606e-02,   1.61617234e-02],\n",
      "       [ -1.61075727e-01,   1.04264194e-01],\n",
      "       [  8.30961418e-02,  -2.55835174e-02],\n",
      "       [  3.33495646e-02,   3.38201862e-03],\n",
      "       [ -1.59142703e-01,   1.50383081e-01],\n",
      "       [  1.14353509e-04,  -2.75826151e-09],\n",
      "       [  1.39200730e-12,   1.62389725e-05],\n",
      "       [  1.80800687e-01,  -4.95704596e-02],\n",
      "       [  2.04810168e-02,  -6.62368341e-02],\n",
      "       [  7.41438194e-02,  -8.66605756e-02]])]\n",
      "\n",
      "-------- Testing with metrics---------\n",
      "\n",
      "\n",
      "Lower number of hidden layers:\n",
      "\n",
      "Accuracy= 0.807578050558\n",
      "Precision Score= [ 0.81627145  0.79502607]\n",
      "Recall Score= [ 0.8468      0.75832164]\n",
      "F1-Score= [ 0.83125552  0.77624021]\n",
      "\n",
      "Higher number of hidden layers:\n",
      "\n",
      "Accuracy= 0.811725800123\n",
      "Precision Score= [ 0.85032652  0.75733855]\n",
      "Recall Score= [ 0.8073      0.83905114]\n",
      "F1-Score= [ 0.82825485  0.79610358]\n"
     ]
    }
   ],
   "source": [
    "from sklearn.neural_network import MLPClassifier\n",
    "from sklearn.metrics import precision_score, recall_score, accuracy_score, f1_score\n",
    "\n",
    "X_training = pd.get_dummies(data[[\"age\",\"workclass\",\"education\",\"education-num\",\"marital-status\",\n",
    "              \"occupation\",\"relationship\",\"race\",\"sex\",\"hours-per-week\",\"native-country\"]])\n",
    "Y_training = pd.get_dummies(data[\"label\"])\n",
    "\n",
    "y_true = Y_training\n",
    "\n",
    "\n",
    "print('-------- Lower number of hidden layers ---------\\n')\n",
    "\n",
    "mlp = MLPClassifier(hidden_layer_sizes=(70,70))\n",
    "mlp.fit(X_training, Y_training)\n",
    "y_pred=mlp.predict(X_training)\n",
    "\n",
    "print('Parameters:\\n',mlp)\n",
    "print('\\nPrediction:\\n',y_pred)\n",
    "print('\\nSize of synapsis weights:\\n',\n",
    "      [coef.shape for coef in mlp.coefs_])          # size of synapsis weights\n",
    "print('\\nSynapsis weights:\\n', mlp.coefs_)          # synapsis weights\n",
    "\n",
    "\n",
    "print('\\n-------- Higher number of hidden layers ---------\\n')\n",
    "\n",
    "mlp2 = MLPClassifier(hidden_layer_sizes=(150,150))\n",
    "mlp2.fit(X_training, Y_training)\n",
    "y_pred2 = mlp2.predict(X_training)\n",
    "\n",
    "print('Parameters:\\n',mlp2)\n",
    "print('\\nPrediction:\\n',y_pred)\n",
    "print('\\nSize of synapsis weights:\\n',\n",
    "      [coef.shape for coef in mlp2.coefs_])         # size of synapsis weights\n",
    "print('\\nSynapsis weights:\\n', mlp2.coefs_)         # synapsis weights\n",
    "\n",
    "\n",
    "print('\\n-------- Testing with metrics---------\\n')\n",
    "\n",
    "print('\\nLower number of hidden layers:\\n')\n",
    "\n",
    "print('Accuracy=',accuracy_score(np.array(y_true).flatten(), np.array(y_pred).flatten(), normalize=True))\n",
    "print('Precision Score=',precision_score(y_true, y_pred,average=None))\n",
    "print('Recall Score=',recall_score(y_true, y_pred,average=None))\n",
    "print('F1-Score=',f1_score(y_true, y_pred,average=None))\n",
    "\n",
    "print('\\nHigher number of hidden layers:\\n')\n",
    "\n",
    "print('Accuracy=',accuracy_score(np.array(y_true).flatten(), np.array(y_pred2).flatten(), normalize=True))\n",
    "print('Precision Score=',precision_score(y_true, y_pred2,average=None))\n",
    "print('Recall Score=',recall_score(y_true, y_pred2,average=None))\n",
    "print('F1-Score=',f1_score(y_true, y_pred2,average=None))\n"
   ]
  },
  {
   "cell_type": "markdown",
   "metadata": {},
   "source": [
    "7. (c.iii) Third, try to train your model with one linear activation function and one non linear activation function, name the functions and explain if there is any difference in your networks and why? (you can use evaluation metrics to show which activation function works better for this data set)\n"
   ]
  },
  {
   "cell_type": "code",
   "execution_count": 66,
   "metadata": {},
   "outputs": [
    {
     "name": "stdout",
     "output_type": "stream",
     "text": [
      "\n",
      "--------  Comparing networks with metrics ---------\n",
      "\n",
      "\n",
      "Linear activation function:\n",
      "\n",
      "Accuracy= 0.79690039796\n",
      "Precision Score= [ 0.8174286   0.81640564]\n",
      "Recall Score= [ 0.8386      0.67147048]\n",
      "F1-Score= [ 0.82787897  0.73687894]\n",
      "\n",
      "Non linear activation function:\n",
      "\n",
      "Accuracy= 0.811613698784\n",
      "Precision Score= [ 0.85400448  0.76565465]\n",
      "Recall Score= [ 0.8008      0.82336437]\n",
      "F1-Score= [ 0.82654694  0.79346156]\n"
     ]
    }
   ],
   "source": [
    "from sklearn.neural_network import MLPClassifier\n",
    "from sklearn.metrics import precision_score, recall_score, accuracy_score, f1_score, confusion_matrix\n",
    "\n",
    "X_training = pd.get_dummies(data[[\"age\",\"workclass\",\"education\",\"education-num\",\"marital-status\",\n",
    "              \"occupation\",\"relationship\",\"race\",\"sex\",\"hours-per-week\",\"native-country\"]])\n",
    "Y_training = pd.get_dummies(data[\"label\"])\n",
    "\n",
    "y_true = Y_training\n",
    "\n",
    "# linear activation function\n",
    "\n",
    "mlp = MLPClassifier(activation='identity')\n",
    "mlp.fit(X_training, Y_training)\n",
    "y_pred=mlp.predict(X_training)\n",
    "\n",
    "# non linear activation function\n",
    "\n",
    "mlp2 = MLPClassifier(activation='logistic')\n",
    "mlp2.fit(X_training, Y_training)\n",
    "y_pred2 = mlp2.predict(X_training)\n",
    "\n",
    "# yor code for comparing two networks\n",
    "\n",
    "print('\\n--------  Comparing networks with metrics ---------\\n')\n",
    "\n",
    "print('\\nLinear activation function:\\n')\n",
    "\n",
    "print('Accuracy=',accuracy_score(np.array(y_true).flatten(), np.array(y_pred).flatten(), normalize=True))\n",
    "print('Precision Score=',precision_score(y_true, y_pred,average=None))\n",
    "print('Recall Score=',recall_score(y_true, y_pred,average=None))\n",
    "print('F1-Score=',f1_score(y_true, y_pred,average=None))\n",
    "\n",
    "print('\\nNon linear activation function:\\n')\n",
    "\n",
    "print('Accuracy=',accuracy_score(np.array(y_true).flatten(), np.array(y_pred2).flatten(), normalize=True))\n",
    "print('Precision Score=',precision_score(y_true, y_pred2,average=None))\n",
    "print('Recall Score=',recall_score(y_true, y_pred2,average=None))\n",
    "print('F1-Score=',f1_score(y_true, y_pred2,average=None))\n",
    "\n"
   ]
  },
  {
   "cell_type": "markdown",
   "metadata": {},
   "source": [
    "Parameters:\n",
    "\n",
    "- 'identity' for linear activation function\n",
    "- 'logistic' for non linear activation function"
   ]
  },
  {
   "cell_type": "markdown",
   "metadata": {},
   "source": [
    "Explanation:\n",
    "\n",
    "The non-linear function is better, because it has overall better metrics scores. This can be seen the best on the accuracy score and the F1-Score.\n",
    "\n",
    "If the non-linear function lies between -1 and 1, then it has a higher weight the closer it gets to the boundaries -1 and 1. In the middle the function is smoothed out. This is not the case for the linear function."
   ]
  },
  {
   "cell_type": "markdown",
   "metadata": {},
   "source": [
    "7. (c.iv) Which model do you recommend to be used as your classifier and why? (with respect to the number of hidden layer and activation function (linear or nonlinear))"
   ]
  },
  {
   "cell_type": "markdown",
   "metadata": {},
   "source": [
    "Explanation:\n",
    "\n",
    "I would recommend a higher number of hidden layers and a non-linear activation function, because the overall performance is better which can be seen by the metrics used in the above tests."
   ]
  },
  {
   "cell_type": "markdown",
   "metadata": {},
   "source": [
    "## Analysing the quality of the prediction models"
   ]
  },
  {
   "cell_type": "markdown",
   "metadata": {},
   "source": [
    "### Question 8 (Evaluation metrics)"
   ]
  },
  {
   "cell_type": "markdown",
   "metadata": {},
   "source": [
    "8. (a) Calculate the following metrics for the model 7. (c, i) and the logistic regression with all the initial attributes in question 6 (c):"
   ]
  },
  {
   "cell_type": "markdown",
   "metadata": {},
   "source": [
    "- Confusion matrices on the training data"
   ]
  },
  {
   "cell_type": "code",
   "execution_count": 67,
   "metadata": {},
   "outputs": [
    {
     "name": "stdout",
     "output_type": "stream",
     "text": [
      "Neural Network:\n",
      "\n",
      "Confusion Matrix:\n",
      " [[8503 1497]\n",
      " [1940 5901]]\n",
      "\n",
      "Regression:\n",
      "\n",
      "Confusion Matrix:\n",
      " [[8132 1868]\n",
      " [1556 6285]]\n"
     ]
    }
   ],
   "source": [
    "import pandas as pd\n",
    "from sklearn.neural_network import MLPClassifier\n",
    "from sklearn.metrics import precision_score, recall_score, accuracy_score, f1_score, confusion_matrix\n",
    "\n",
    "test_data = pd.read_csv(\"adult.data-3.csv\")\n",
    "\n",
    "X_training = pd.get_dummies(test_data[[\"age\",\"workclass\",\"education\",\"education-num\",\"marital-status\",\n",
    "              \"occupation\",\"relationship\",\"race\",\"sex\",\"hours-per-week\",\"native-country\"]])\n",
    "Y_training = pd.get_dummies(test_data[\"label\"])\n",
    "\n",
    "y_true_training = Y_training\n",
    "\n",
    "# neural network\n",
    "\n",
    "mlpTraining = MLPClassifier()\n",
    "mlpTraining.fit(X_training, Y_training)\n",
    "y_pred_training_network = mlpTraining.predict(X_training)\n",
    "\n",
    "print('Neural Network:\\n')\n",
    "print('Confusion Matrix:\\n',confusion_matrix(y_true_training.values.argmax(axis=1), y_pred_training_network.argmax(axis=1)))\n",
    "\n",
    "# regression\n",
    "\n",
    "from sklearn.linear_model import LogisticRegression\n",
    "\n",
    "y = test_data[\"label\"]\n",
    "\n",
    "classifierRegression = LogisticRegression( solver = 'liblinear', multi_class = 'ovr')\n",
    "classifierRegression.fit(X_training, y.ravel())\n",
    "\n",
    "y_pred_training_regression = classifierRegression.predict(X_training)\n",
    "encoded_y_pred_training_regression = pd.get_dummies(y_pred_training_regression)\n",
    "\n",
    "print('\\nRegression:\\n')\n",
    "print('Confusion Matrix:\\n',confusion_matrix(y_true_training.values.argmax(axis=1), encoded_y_pred_training_regression.values.argmax(axis=1)))\n"
   ]
  },
  {
   "cell_type": "markdown",
   "metadata": {},
   "source": [
    "- Confusion matrices on the test data"
   ]
  },
  {
   "cell_type": "code",
   "execution_count": 68,
   "metadata": {},
   "outputs": [
    {
     "name": "stdout",
     "output_type": "stream",
     "text": [
      "Neural Network:\n",
      "\n",
      "Confusion Matrix:\n",
      " [[10568  1867]\n",
      " [ 1005  2841]]\n",
      "\n",
      "Regression:\n",
      "\n",
      "Confusion Matrix:\n",
      " [[10080  2355]\n",
      " [  794  3052]]\n"
     ]
    }
   ],
   "source": [
    "import pandas as pd\n",
    "from sklearn.neural_network import MLPClassifier\n",
    "from sklearn.metrics import precision_score, recall_score, accuracy_score, f1_score, confusion_matrix\n",
    "\n",
    "test_data = pd.read_csv(\"adult.test-3.csv\")\n",
    "\n",
    "X_test = pd.get_dummies(test_data[[\"age\",\"workclass\",\"education\",\"education-num\",\"marital-status\",\n",
    "              \"occupation\",\"relationship\",\"race\",\"sex\",\"hours-per-week\",\"native-country\"]])\n",
    "Y_test = pd.get_dummies(test_data[\"label\"])\n",
    "\n",
    "y_true_test = Y_test\n",
    "\n",
    "# neural network\n",
    "\n",
    "y_pred_test_network = mlpTraining.predict(X_test)\n",
    "\n",
    "print('Neural Network:\\n')\n",
    "print('Confusion Matrix:\\n',confusion_matrix(y_true_test.values.argmax(axis=1), y_pred_test_network.argmax(axis=1)))\n",
    "\n",
    "# regression\n",
    "\n",
    "y_pred_test_regression = classifierRegression.predict(X_test)\n",
    "encoded_y_pred_test_regression = pd.get_dummies(y_pred_test_regression)\n",
    "\n",
    "print('\\nRegression:\\n')\n",
    "print('Confusion Matrix:\\n',confusion_matrix(y_true_test.values.argmax(axis=1), encoded_y_pred_test_regression.values.argmax(axis=1)))\n"
   ]
  },
  {
   "cell_type": "markdown",
   "metadata": {},
   "source": [
    "- Precision, recall and F1-scores on the test data"
   ]
  },
  {
   "cell_type": "code",
   "execution_count": 69,
   "metadata": {},
   "outputs": [
    {
     "name": "stdout",
     "output_type": "stream",
     "text": [
      "Neural Network on test data:\n",
      "\n",
      "Precision Score= [ 0.91494913  0.59867192]\n",
      "Recall Score= [ 0.84607961  0.75013001]\n",
      "F1-Score= [ 0.87916771  0.66589729]\n",
      "\n",
      "Regression on test data:\n",
      "\n",
      "Precision Score= [ 0.92698179  0.56445349]\n",
      "Recall Score= [ 0.8106152   0.79355174]\n",
      "F1-Score= [ 0.86490197  0.65967794]\n"
     ]
    }
   ],
   "source": [
    "print('Neural Network on test data:\\n')\n",
    "\n",
    "print('Precision Score=',precision_score(y_true_test, y_pred_test_network,average=None))\n",
    "print('Recall Score=',recall_score(y_true_test, y_pred_test_network,average=None))\n",
    "print('F1-Score=',f1_score(y_true_test, y_pred_test_network,average=None))\n",
    "\n",
    "print('\\nRegression on test data:\\n')\n",
    "\n",
    "print('Precision Score=',precision_score(y_true_test, encoded_y_pred_test_regression,average=None))\n",
    "print('Recall Score=',recall_score(y_true_test, encoded_y_pred_test_regression,average=None))\n",
    "print('F1-Score=',f1_score(y_true_test, encoded_y_pred_test_regression,average=None))\n"
   ]
  },
  {
   "cell_type": "markdown",
   "metadata": {},
   "source": [
    "- Accuracy scores on training and test data"
   ]
  },
  {
   "cell_type": "code",
   "execution_count": 70,
   "metadata": {},
   "outputs": [
    {
     "name": "stdout",
     "output_type": "stream",
     "text": [
      "Neural Network Accuracy:\n",
      "\n",
      "Training= 0.808923266633\n",
      "Test= 0.822277501382\n",
      "\n",
      "Regression Accuracy:\n",
      "\n",
      "Training= 0.808082506586\n",
      "Test= 0.80658436214\n"
     ]
    }
   ],
   "source": [
    "print('Neural Network Accuracy:\\n')\n",
    "\n",
    "print('Training=',accuracy_score(np.array(y_true_training).flatten(), np.array(y_pred_training_network).flatten(), normalize=True))\n",
    "print('Test=',accuracy_score(np.array(y_true_test).flatten(), np.array(y_pred_test_network).flatten(), normalize=True))\n",
    "\n",
    "print('\\nRegression Accuracy:\\n')\n",
    "\n",
    "print('Training=',accuracy_score(np.array(y_true_training).flatten(), np.array(encoded_y_pred_training_regression).flatten(), normalize=True))\n",
    "print('Test=',accuracy_score(np.array(y_true_test).flatten(), np.array(encoded_y_pred_test_regression).flatten(), normalize=True))\n"
   ]
  },
  {
   "cell_type": "markdown",
   "metadata": {},
   "source": [
    "In order to turn numbers into insights, please comment on your findings. Motivate the answers to the following questions using the metrics and the findings in the questions 1 through 7."
   ]
  },
  {
   "cell_type": "markdown",
   "metadata": {},
   "source": [
    "8. (b) What is, in your opinion, the best model? Motivate your answer with the correct performance metrics."
   ]
  },
  {
   "cell_type": "markdown",
   "metadata": {},
   "source": [
    "Explanation:\n",
    "\n",
    "In my opinion the regression model is better, it has a higher accuracy compared to the neural network. The neural network loses about 3% of accuracy when switching to the test data, whereas the regression model has a 1% lower accuracy but almost loses no accuracy when switching to the test data. Also the F1-Score for the regression model is about 2% higher than the F1-Score of the neural network. Additionally, the confusion matrix of the regression model shows that it misclassifies less items."
   ]
  },
  {
   "cell_type": "markdown",
   "metadata": {},
   "source": [
    "8. (c) Does any model suffer from underfitting or overfitting? Motivate your answer with the correct performance metrics."
   ]
  },
  {
   "cell_type": "markdown",
   "metadata": {},
   "source": [
    "Explanation:\n",
    "\n",
    "I think both model suffer from overfitting. This can be seen by the confusion-matrix and the F1-Score which is a weighted average of Precision Score and Recall Score."
   ]
  },
  {
   "cell_type": "markdown",
   "metadata": {},
   "source": [
    "8. (d) In the hypothesis that a separate validation set is not available, how would you proceed in evaluating a model? Refer to the evaluation techniques seen in the lectures."
   ]
  },
  {
   "cell_type": "markdown",
   "metadata": {},
   "source": [
    "Explanation:\n",
    "\n",
    "Some of the evaluation techniques are k-fold cross validation, leave-one-out cross validation, bootstrapping or out-of-time-sampling.\n",
    "\n",
    "K-fold cross validation seperates the data in k sections and uses only one of the k sections for testing. In the next fold (round) another section is used for testing. This continues until all sections were tested.\n",
    "\n",
    "Leave-one-out cross validation is used when the data is really small. It is like k-fold cross validation, but with increasing the k to a maximum, which leads to test data being single instances instead of sections.\n",
    "\n",
    "Boostrapping randomly selects a number of m instances for a test set. This selection is repeated k times. It is also best used on small data sets.\n",
    "\n",
    "Out-of-time sampling works best when there is a concept drift and the data becomes dependant of each other. Then its best to take the oldest data for training and the newest data for testing."
   ]
  }
 ],
 "metadata": {
  "kernelspec": {
   "display_name": "Python 3",
   "language": "python",
   "name": "python3"
  },
  "language_info": {
   "codemirror_mode": {
    "name": "ipython",
    "version": 3
   },
   "file_extension": ".py",
   "mimetype": "text/x-python",
   "name": "python",
   "nbconvert_exporter": "python",
   "pygments_lexer": "ipython3",
   "version": "3.6.5"
  }
 },
 "nbformat": 4,
 "nbformat_minor": 2
}
