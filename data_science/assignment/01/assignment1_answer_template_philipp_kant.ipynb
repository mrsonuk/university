{
 "cells": [
  {
   "cell_type": "markdown",
   "metadata": {},
   "source": [
    "# IDS Assignment 1\n",
    "Document your results as well as the way you obtained them in this jupyter notebook. A seperate report (pdf, word etc.) is _not_ required. However, it is necessary that you provide the python code leading to your results as well as textual answers to the assignment questions in this notebook. \n",
    "\n",
    "Do not change the general structure of this notebook, but you can add further markdown or code cells to explain your solutions if necessary. In the end, submit this file in moodle."
   ]
  },
  {
   "cell_type": "markdown",
   "metadata": {},
   "source": [
    "## Get to know the data"
   ]
  },
  {
   "cell_type": "markdown",
   "metadata": {},
   "source": [
    "### Question 1 (Indicating type): \n",
    "1. Identify precise type of each attribute. Note that the right answers are like: “numerical-continuous-ratio”, just Numerical or Categorical is not enough."
   ]
  },
  {
   "cell_type": "code",
   "execution_count": 1,
   "metadata": {},
   "outputs": [],
   "source": [
    "import numpy as np\n",
    "import pandas as pd\n",
    "import matplotlib.pyplot as plt\n",
    "import matplotlib as mpl\n",
    "import seaborn as sns\n",
    "\n",
    "sns.set_palette(\"deep\")\n",
    "mpl.rcParams['axes.axisbelow'] = True\n",
    "mpl.rcParams['grid.color'] = '0.7'\n",
    "mpl.rcParams['figure.figsize'] = '14, 7'"
   ]
  },
  {
   "cell_type": "code",
   "execution_count": 2,
   "metadata": {
    "scrolled": false
   },
   "outputs": [
    {
     "data": {
      "text/html": [
       "<div>\n",
       "<style scoped>\n",
       "    .dataframe tbody tr th:only-of-type {\n",
       "        vertical-align: middle;\n",
       "    }\n",
       "\n",
       "    .dataframe tbody tr th {\n",
       "        vertical-align: top;\n",
       "    }\n",
       "\n",
       "    .dataframe thead th {\n",
       "        text-align: right;\n",
       "    }\n",
       "</style>\n",
       "<table border=\"1\" class=\"dataframe\">\n",
       "  <thead>\n",
       "    <tr style=\"text-align: right;\">\n",
       "      <th></th>\n",
       "      <th>age</th>\n",
       "      <th>workclass</th>\n",
       "      <th>education</th>\n",
       "      <th>education-num</th>\n",
       "      <th>marital-status</th>\n",
       "      <th>occupation</th>\n",
       "      <th>relationship</th>\n",
       "      <th>race</th>\n",
       "      <th>sex</th>\n",
       "      <th>hours-per-week</th>\n",
       "      <th>native-country</th>\n",
       "      <th>label</th>\n",
       "    </tr>\n",
       "  </thead>\n",
       "  <tbody>\n",
       "    <tr>\n",
       "      <th>0</th>\n",
       "      <td>50</td>\n",
       "      <td>Self-emp-not-inc</td>\n",
       "      <td>Bachelors</td>\n",
       "      <td>13</td>\n",
       "      <td>Married-civ-spouse</td>\n",
       "      <td>Exec-managerial</td>\n",
       "      <td>Husband</td>\n",
       "      <td>White</td>\n",
       "      <td>Male</td>\n",
       "      <td>13</td>\n",
       "      <td>United-States</td>\n",
       "      <td>&lt;=50K</td>\n",
       "    </tr>\n",
       "    <tr>\n",
       "      <th>1</th>\n",
       "      <td>53</td>\n",
       "      <td>Private</td>\n",
       "      <td>11th</td>\n",
       "      <td>7</td>\n",
       "      <td>Married-civ-spouse</td>\n",
       "      <td>Handlers-cleaners</td>\n",
       "      <td>Husband</td>\n",
       "      <td>Black</td>\n",
       "      <td>Male</td>\n",
       "      <td>40</td>\n",
       "      <td>United-States</td>\n",
       "      <td>&lt;=50K</td>\n",
       "    </tr>\n",
       "    <tr>\n",
       "      <th>2</th>\n",
       "      <td>49</td>\n",
       "      <td>Private</td>\n",
       "      <td>9th</td>\n",
       "      <td>5</td>\n",
       "      <td>Married-spouse-absent</td>\n",
       "      <td>Other-service</td>\n",
       "      <td>Not-in-family</td>\n",
       "      <td>Black</td>\n",
       "      <td>Female</td>\n",
       "      <td>16</td>\n",
       "      <td>Jamaica</td>\n",
       "      <td>&lt;=50K</td>\n",
       "    </tr>\n",
       "    <tr>\n",
       "      <th>3</th>\n",
       "      <td>52</td>\n",
       "      <td>Self-emp-not-inc</td>\n",
       "      <td>HS-grad</td>\n",
       "      <td>9</td>\n",
       "      <td>Married-civ-spouse</td>\n",
       "      <td>Exec-managerial</td>\n",
       "      <td>Husband</td>\n",
       "      <td>White</td>\n",
       "      <td>Male</td>\n",
       "      <td>45</td>\n",
       "      <td>United-States</td>\n",
       "      <td>&gt;50K</td>\n",
       "    </tr>\n",
       "    <tr>\n",
       "      <th>4</th>\n",
       "      <td>31</td>\n",
       "      <td>Private</td>\n",
       "      <td>Masters</td>\n",
       "      <td>14</td>\n",
       "      <td>Never-married</td>\n",
       "      <td>Prof-specialty</td>\n",
       "      <td>Not-in-family</td>\n",
       "      <td>White</td>\n",
       "      <td>Female</td>\n",
       "      <td>50</td>\n",
       "      <td>United-States</td>\n",
       "      <td>&gt;50K</td>\n",
       "    </tr>\n",
       "  </tbody>\n",
       "</table>\n",
       "</div>"
      ],
      "text/plain": [
       "   age         workclass  education  education-num         marital-status  \\\n",
       "0   50  Self-emp-not-inc  Bachelors             13     Married-civ-spouse   \n",
       "1   53           Private       11th              7     Married-civ-spouse   \n",
       "2   49           Private        9th              5  Married-spouse-absent   \n",
       "3   52  Self-emp-not-inc    HS-grad              9     Married-civ-spouse   \n",
       "4   31           Private    Masters             14          Never-married   \n",
       "\n",
       "          occupation   relationship   race     sex  hours-per-week  \\\n",
       "0    Exec-managerial        Husband  White    Male              13   \n",
       "1  Handlers-cleaners        Husband  Black    Male              40   \n",
       "2      Other-service  Not-in-family  Black  Female              16   \n",
       "3    Exec-managerial        Husband  White    Male              45   \n",
       "4     Prof-specialty  Not-in-family  White  Female              50   \n",
       "\n",
       "  native-country  label  \n",
       "0  United-States  <=50K  \n",
       "1  United-States  <=50K  \n",
       "2        Jamaica  <=50K  \n",
       "3  United-States   >50K  \n",
       "4  United-States   >50K  "
      ]
     },
     "execution_count": 2,
     "metadata": {},
     "output_type": "execute_result"
    }
   ],
   "source": [
    "data = pd.read_csv('adult.data-3.csv')\n",
    "data.head()"
   ]
  },
  {
   "cell_type": "code",
   "execution_count": 3,
   "metadata": {
    "scrolled": true
   },
   "outputs": [
    {
     "data": {
      "text/plain": [
       "age                int64\n",
       "workclass         object\n",
       "education         object\n",
       "education-num      int64\n",
       "marital-status    object\n",
       "occupation        object\n",
       "relationship      object\n",
       "race              object\n",
       "sex               object\n",
       "hours-per-week     int64\n",
       "native-country    object\n",
       "label             object\n",
       "dtype: object"
      ]
     },
     "execution_count": 3,
     "metadata": {},
     "output_type": "execute_result"
    }
   ],
   "source": [
    "data.dtypes"
   ]
  },
  {
   "cell_type": "markdown",
   "metadata": {},
   "source": [
    "Explanation:\n",
    "\n",
    "|attribute|type|\n",
    "|---|----|\n",
    "|age|numerical-discrete|\n",
    "|workclass|categorical-nominal|\n",
    "|education|categorical-ordinal|\n",
    "|education-num|numerical-discrete|\n",
    "|marital-status|categorical-nominal|\n",
    "|occupation|categorical-nominal|\n",
    "|relationship|categorical-nominal|\n",
    "|race|categorical-nominal|\n",
    "|sex|categorical-nominal|\n",
    "|hours-per-week|numerical-discrete|\n",
    "|native-country|categorical-nominal|"
   ]
  },
  {
   "cell_type": "markdown",
   "metadata": {},
   "source": [
    "### Question 2 (Removing outliers):\n",
    "2. (a) Explore into \"age\" and \"hours-per-week\" and identify outliers (Boxplot returns whiskers). After identifying outliers, remove them (do it just once on the data set). Now you should have two data sets (cleaned and original)."
   ]
  },
  {
   "cell_type": "code",
   "execution_count": 4,
   "metadata": {
    "scrolled": false
   },
   "outputs": [
    {
     "name": "stdout",
     "output_type": "stream",
     "text": [
      "age:\n",
      "--------------------\n",
      "count    17841.000000\n",
      "mean        40.102965\n",
      "std         13.156900\n",
      "min         17.000000\n",
      "25%         30.000000\n",
      "50%         39.000000\n",
      "75%         49.000000\n",
      "max         90.000000\n",
      "Name: age, dtype: float64\n",
      "Number of missing values:  0\n",
      "Number of unique values:  70\n",
      "\n",
      "hours-per-week:\n",
      "--------------------\n",
      "count    17841.000000\n",
      "mean        41.748332\n",
      "std         12.207203\n",
      "min          1.000000\n",
      "25%         40.000000\n",
      "50%         40.000000\n",
      "75%         48.000000\n",
      "max         99.000000\n",
      "Name: hours-per-week, dtype: float64\n",
      "Number of missing values:  0\n",
      "Number of unique values:  92\n"
     ]
    }
   ],
   "source": [
    "# your code\n",
    "print('age:\\n--------------------')\n",
    "print(data['age'].describe())\n",
    "print('Number of missing values: ', data['age'].isna().sum())\n",
    "print('Number of unique values: ', data['age'].nunique())\n",
    "\n",
    "print('\\nhours-per-week:\\n--------------------')\n",
    "print(data['hours-per-week'].describe())\n",
    "print('Number of missing values: ', data['hours-per-week'].isna().sum())\n",
    "print('Number of unique values: ', data['hours-per-week'].nunique())"
   ]
  },
  {
   "cell_type": "markdown",
   "metadata": {},
   "source": [
    "#### Distribution of age"
   ]
  },
  {
   "cell_type": "code",
   "execution_count": 5,
   "metadata": {
    "scrolled": false
   },
   "outputs": [
    {
     "data": {
      "image/png": "[encoded data removed]",
      "text/plain": [
       "<Figure size 432x288 with 1 Axes>"
      ]
     },
     "metadata": {
      "needs_background": "light"
     },
     "output_type": "display_data"
    }
   ],
   "source": [
    "fig, ax = plt.subplots()\n",
    "number_of_bins = data['age'].max() - data['age'].min() + 1\n",
    "ax.hist(data['age'], number_of_bins, edgecolor='black', linewidth=0.2)\n",
    "ax.set_title('Distribution of age')\n",
    "ax.set_xlabel('age')\n",
    "ax.set_ylabel('frequency')\n",
    "ax.grid(axis='y')\n",
    "plt.show()"
   ]
  },
  {
   "cell_type": "markdown",
   "metadata": {},
   "source": [
    "#### Distribution of hours-per-week"
   ]
  },
  {
   "cell_type": "code",
   "execution_count": 6,
   "metadata": {
    "scrolled": false
   },
   "outputs": [
    {
     "data": {
      "image/png": "[encoded data removed]",
      "text/plain": [
       "<Figure size 432x288 with 1 Axes>"
      ]
     },
     "metadata": {
      "needs_background": "light"
     },
     "output_type": "display_data"
    }
   ],
   "source": [
    "fig, ax = plt.subplots()\n",
    "number_of_bins = 11\n",
    "ax.hist(data['hours-per-week'], number_of_bins, edgecolor='black', linewidth=0.2)\n",
    "ax.set_title('Distribution of hours-per-week')\n",
    "ax.set_xlabel('hours-per-week')\n",
    "ax.set_ylabel('frequency')\n",
    "ax.grid(axis='y')\n",
    "plt.show()"
   ]
  },
  {
   "cell_type": "code",
   "execution_count": 7,
   "metadata": {},
   "outputs": [],
   "source": [
    "IQR_age = data['age'].quantile(0.75) - data['age'].quantile(0.25)\n",
    "upper_fence_age = data['age'].quantile(0.75) + 1.5 * IQR_age\n",
    "lower_fence_age = data['age'].quantile(0.25) - 1.5 * IQR_age\n",
    "\n",
    "IQR_hours_per_week = data['hours-per-week'].quantile(0.75) - data['hours-per-week'].quantile(0.25)\n",
    "upper_fence_hours_per_week = data['hours-per-week'].quantile(0.75) + 1.5 * IQR_hours_per_week\n",
    "lower_fence_hours_per_week = data['hours-per-week'].quantile(0.25) - 1.5 * IQR_hours_per_week"
   ]
  },
  {
   "cell_type": "code",
   "execution_count": 8,
   "metadata": {
    "scrolled": false
   },
   "outputs": [
    {
     "data": {
      "image/png": "[encoded data removed]",
      "text/plain": [
       "<Figure size 432x288 with 1 Axes>"
      ]
     },
     "metadata": {
      "needs_background": "light"
     },
     "output_type": "display_data"
    }
   ],
   "source": [
    "medianprops = dict(linestyle='-', linewidth=1.5, color='firebrick') # properties for median line in boxplot\n",
    "\n",
    "fig, ax = plt.subplots()\n",
    "ax.boxplot(data['age'], medianprops=medianprops, labels=['data[\\'age\\']'])\n",
    "ax.axhline(y=upper_fence_age, alpha=0.5, label='upper fence', linestyle='--', color='salmon')\n",
    "ax.axhline(y=lower_fence_age, alpha=0.5, label='lower fence', linestyle='--', color='mediumslateblue')\n",
    "ax.legend()\n",
    "plt.show()"
   ]
  },
  {
   "cell_type": "code",
   "execution_count": 9,
   "metadata": {
    "scrolled": false
   },
   "outputs": [
    {
     "data": {
      "image/png": "[encoded data removed]",
      "text/plain": [
       "<Figure size 432x288 with 1 Axes>"
      ]
     },
     "metadata": {
      "needs_background": "light"
     },
     "output_type": "display_data"
    }
   ],
   "source": [
    "fig, ax = plt.subplots()\n",
    "ax.boxplot(data['hours-per-week'], medianprops=medianprops, labels=['data[\\'hours-per-week\\']'])\n",
    "ax.axhline(y=upper_fence_hours_per_week, alpha=0.5, label='upper fence', linestyle='--', color='salmon')\n",
    "ax.axhline(y=lower_fence_hours_per_week, alpha=0.5, label='lower fence', linestyle='--', color='mediumslateblue')\n",
    "ax.legend()\n",
    "plt.show()"
   ]
  },
  {
   "cell_type": "code",
   "execution_count": 10,
   "metadata": {
    "scrolled": true
   },
   "outputs": [],
   "source": [
    "data_clean = data[(data['age'] <= upper_fence_age) &\n",
    "                  (data['age'] >= lower_fence_age) &\n",
    "                  (data['hours-per-week'] <= upper_fence_hours_per_week) &\n",
    "                  (data['hours-per-week'] >= lower_fence_hours_per_week)]"
   ]
  },
  {
   "cell_type": "markdown",
   "metadata": {},
   "source": [
    "2. (b) Draw Boxplot of the cleaned data set for \"hours-per-week\". Is there still any outlier? If so, explain why?"
   ]
  },
  {
   "cell_type": "code",
   "execution_count": 11,
   "metadata": {
    "scrolled": false
   },
   "outputs": [
    {
     "data": {
      "image/png": "[encoded data removed]",
      "text/plain": [
       "<Figure size 432x288 with 1 Axes>"
      ]
     },
     "metadata": {
      "needs_background": "light"
     },
     "output_type": "display_data"
    }
   ],
   "source": [
    "# your code\n",
    "fig, ax = plt.subplots()\n",
    "ax.boxplot([data['hours-per-week'], data_clean['hours-per-week']], labels=['data', 'data_clean'], medianprops=medianprops)\n",
    "ax.grid(axis='y')\n",
    "ax.set_xlabel('hours-per-week')\n",
    "plt.show()"
   ]
  },
  {
   "cell_type": "code",
   "execution_count": 12,
   "metadata": {},
   "outputs": [
    {
     "data": {
      "text/plain": [
       "count    17841.000000\n",
       "mean        41.748332\n",
       "std         12.207203\n",
       "min          1.000000\n",
       "25%         40.000000\n",
       "50%         40.000000\n",
       "75%         48.000000\n",
       "max         99.000000\n",
       "Name: hours-per-week, dtype: float64"
      ]
     },
     "execution_count": 12,
     "metadata": {},
     "output_type": "execute_result"
    }
   ],
   "source": [
    "data['hours-per-week'].describe()"
   ]
  },
  {
   "cell_type": "code",
   "execution_count": 13,
   "metadata": {},
   "outputs": [
    {
     "data": {
      "text/plain": [
       "count    15311.000000\n",
       "mean        43.060153\n",
       "std          6.872676\n",
       "min         28.000000\n",
       "25%         40.000000\n",
       "50%         40.000000\n",
       "75%         48.000000\n",
       "max         60.000000\n",
       "Name: hours-per-week, dtype: float64"
      ]
     },
     "execution_count": 13,
     "metadata": {},
     "output_type": "execute_result"
    }
   ],
   "source": [
    "data_clean['hours-per-week'].describe()"
   ]
  },
  {
   "cell_type": "markdown",
   "metadata": {},
   "source": [
    "Explanation: Sometimes after removing outliers with the boxplot method there are still outliers if you visualize the data again as a box plot. Because after removing the outliers it could be very well the case that the new data set has different quartiles and therefore different upper and lower fences.\n",
    "\n",
    "**Here** it is not the case: after removing the outliers of the original data set there aren't any outliers for \"hours-per-week\" in the cleaned data set."
   ]
  },
  {
   "cell_type": "markdown",
   "metadata": {},
   "source": [
    "### Question 3 (Basic visualization):\n",
    "3. (a) Visualize mean and median of \"age\", and \"hours-per-week\" per \"sex\" by separate plots for the cleaned and the original data sets (there should be 8 plots, 4 plots for the original data set and 4 plots for the cleaned data set). "
   ]
  },
  {
   "cell_type": "code",
   "execution_count": 14,
   "metadata": {
    "scrolled": false
   },
   "outputs": [
    {
     "data": {
      "image/png": "[encoded data removed]",
      "text/plain": [
       "<Figure size 432x288 with 1 Axes>"
      ]
     },
     "metadata": {
      "needs_background": "light"
     },
     "output_type": "display_data"
    },
    {
     "data": {
      "image/png": "[encoded data removed]",
      "text/plain": [
       "<Figure size 432x288 with 1 Axes>"
      ]
     },
     "metadata": {
      "needs_background": "light"
     },
     "output_type": "display_data"
    },
    {
     "data": {
      "image/png": "[encoded data removed]",
      "text/plain": [
       "<Figure size 432x288 with 1 Axes>"
      ]
     },
     "metadata": {
      "needs_background": "light"
     },
     "output_type": "display_data"
    },
    {
     "data": {
      "image/png": "[encoded data removed]",
      "text/plain": [
       "<Figure size 432x288 with 1 Axes>"
      ]
     },
     "metadata": {
      "needs_background": "light"
     },
     "output_type": "display_data"
    },
    {
     "data": {
      "image/png": "[encoded data removed]",
      "text/plain": [
       "<Figure size 432x288 with 1 Axes>"
      ]
     },
     "metadata": {
      "needs_background": "light"
     },
     "output_type": "display_data"
    },
    {
     "data": {
      "image/png": "[encoded data removed]",
      "text/plain": [
       "<Figure size 432x288 with 1 Axes>"
      ]
     },
     "metadata": {
      "needs_background": "light"
     },
     "output_type": "display_data"
    },
    {
     "data": {
      "image/png": "[encoded data removed]",
      "text/plain": [
       "<Figure size 432x288 with 1 Axes>"
      ]
     },
     "metadata": {
      "needs_background": "light"
     },
     "output_type": "display_data"
    },
    {
     "data": {
      "image/png": "[encoded data removed]",
      "text/plain": [
       "<Figure size 432x288 with 1 Axes>"
      ]
     },
     "metadata": {
      "needs_background": "light"
     },
     "output_type": "display_data"
    }
   ],
   "source": [
    "functions = ['mean', 'median']\n",
    "#data.name = 'Original data set'\n",
    "#data_clean.name = 'Clean data set'\n",
    "\n",
    "for df in [data, data_clean]:\n",
    "    for attribute in ['age', 'hours-per-week']:\n",
    "        for sex in ['Male', 'Female']:\n",
    "            mean_median = df.loc[df['sex'] == sex, attribute].agg(functions).values\n",
    "            fig, ax = plt.subplots()\n",
    "            ax.bar(x=functions, height=mean_median)\n",
    "            #ax.set_title('df')\n",
    "            ax.set_xlabel(sex)\n",
    "            ax.set_ylabel(attribute)\n",
    "            ax.grid(axis='y')\n",
    "            plt.show()   "
   ]
  },
  {
   "cell_type": "code",
   "execution_count": 15,
   "metadata": {
    "scrolled": true
   },
   "outputs": [
    {
     "data": {
      "text/plain": [
       "mean      41.121176\n",
       "median    40.000000\n",
       "Name: age, dtype: float64"
      ]
     },
     "execution_count": 15,
     "metadata": {},
     "output_type": "execute_result"
    }
   ],
   "source": [
    "data.loc[data['sex'] == 'Male', 'age'].agg(functions)"
   ]
  },
  {
   "cell_type": "code",
   "execution_count": 16,
   "metadata": {
    "scrolled": true
   },
   "outputs": [
    {
     "data": {
      "text/plain": [
       "mean      37.575917\n",
       "median    36.000000\n",
       "Name: age, dtype: float64"
      ]
     },
     "execution_count": 16,
     "metadata": {},
     "output_type": "execute_result"
    }
   ],
   "source": [
    "data.loc[data['sex'] == 'Female', 'age'].agg(functions)"
   ]
  },
  {
   "cell_type": "code",
   "execution_count": 17,
   "metadata": {},
   "outputs": [
    {
     "data": {
      "text/plain": [
       "mean      40.998311\n",
       "median    40.000000\n",
       "Name: age, dtype: float64"
      ]
     },
     "execution_count": 17,
     "metadata": {},
     "output_type": "execute_result"
    }
   ],
   "source": [
    "data_clean.loc[data_clean['sex'] == 'Male', 'age'].agg(functions)"
   ]
  },
  {
   "cell_type": "code",
   "execution_count": 18,
   "metadata": {},
   "outputs": [
    {
     "data": {
      "text/plain": [
       "mean      37.772694\n",
       "median    37.000000\n",
       "Name: age, dtype: float64"
      ]
     },
     "execution_count": 18,
     "metadata": {},
     "output_type": "execute_result"
    }
   ],
   "source": [
    "data_clean.loc[data_clean['sex'] == 'Female', 'age'].agg(functions)"
   ]
  },
  {
   "cell_type": "markdown",
   "metadata": {},
   "source": [
    "3. (b) Explain how mean and median of \"age\" per \"sex\" change when you remove the outliers."
   ]
  },
  {
   "cell_type": "markdown",
   "metadata": {},
   "source": [
    "Explanation: Looking at the plots we can see that by removing the outliers the median of the age for males doesn't change at all, while the median of the age for females goes up by 1 (from 36 to 37). The mean of the age for both males and females changes only marginally."
   ]
  },
  {
   "cell_type": "markdown",
   "metadata": {},
   "source": [
    "### Question 4 (Distribution):\n",
    "4. (a) Explore into distribution of \"age\" in the original data set. Does it have any well-known distribution (normal, uniform, skewed, ...)? If so, what are the main statistical features (mean, median, and mode) of this specific type of distribution."
   ]
  },
  {
   "cell_type": "code",
   "execution_count": 19,
   "metadata": {
    "scrolled": false
   },
   "outputs": [
    {
     "data": {
      "image/png": "[encoded data removed]",
      "text/plain": [
       "<Figure size 432x288 with 1 Axes>"
      ]
     },
     "metadata": {
      "needs_background": "light"
     },
     "output_type": "display_data"
    }
   ],
   "source": [
    "# your code\n",
    "fig, ax = plt.subplots()\n",
    "number_of_bins = data['age'].max() - data['age'].min() + 1\n",
    "ax.hist(data['age'], number_of_bins, edgecolor='black', linewidth=0.2)\n",
    "ax.set_title('Distribution of age')\n",
    "ax.set_xlabel('age')\n",
    "ax.set_ylabel('frequency')\n",
    "ax.grid(axis='y')\n",
    "plt.show()"
   ]
  },
  {
   "cell_type": "code",
   "execution_count": 20,
   "metadata": {},
   "outputs": [
    {
     "name": "stdout",
     "output_type": "stream",
     "text": [
      "40.10296508043271\n",
      "39.0\n",
      "[37]\n"
     ]
    }
   ],
   "source": [
    "print(data['age'].mean())\n",
    "print(data['age'].median())\n",
    "print(data['age'].mode().values)"
   ]
  },
  {
   "cell_type": "markdown",
   "metadata": {},
   "source": [
    "Explanation: The distribution of the attribute \"age\" is unimodal (skewed right). The mean is 40.1, the median is 39 and the most frequent value (mode) is 37."
   ]
  },
  {
   "cell_type": "markdown",
   "metadata": {},
   "source": [
    "4. (b) Explore into distribution of \"age\" and \"hours-per-week\" together. Explain how the data is distributed with respect to these two attributes in the original data sets (using Jointplot)?\n"
   ]
  },
  {
   "cell_type": "code",
   "execution_count": 21,
   "metadata": {
    "scrolled": false
   },
   "outputs": [
    {
     "name": "stderr",
     "output_type": "stream",
     "text": [
      "/home/philipp/anaconda3/lib/python3.6/site-packages/scipy/stats/stats.py:1713: FutureWarning: Using a non-tuple sequence for multidimensional indexing is deprecated; use `arr[tuple(seq)]` instead of `arr[seq]`. In the future this will be interpreted as an array index, `arr[np.array(seq)]`, which will result either in an error or a different result.\n",
      "  return np.add.reduce(sorted[indexer] * weights, axis=axis) / sumval\n"
     ]
    },
    {
     "data": {
      "image/png": "[encoded data removed]",
      "text/plain": [
       "<Figure size 432x432 with 3 Axes>"
      ]
     },
     "metadata": {
      "needs_background": "light"
     },
     "output_type": "display_data"
    }
   ],
   "source": [
    "# your code\n",
    "#sns.jointplot(x='age', y='hours-per-week', data=data, kind=\"kde\")  #kind = scatter, hex, reg,kde \n",
    "#plt.show()\n",
    "\n",
    "sns.jointplot(x='age', y='hours-per-week', data=data, kind=\"hex\")  #kind = scatter, hex, reg,kde \n",
    "plt.show()"
   ]
  },
  {
   "cell_type": "markdown",
   "metadata": {},
   "source": [
    "Explanation: Because most people have a 40-hour-job the data is distributed around the 40 hours. You can also see the 20 hours mark (half-time jobs).\n",
    "\n",
    "But you can see no correlation between these two attributes. The Pearson correlation coefficient is also around 0. Maybe you can see that rather younger people have half-time jobs (20 hours), but other than that you can not say much about the relationship between age and hours per week."
   ]
  },
  {
   "cell_type": "markdown",
   "metadata": {},
   "source": [
    "## Building models to perform predictions"
   ]
  },
  {
   "cell_type": "markdown",
   "metadata": {},
   "source": [
    "### Question 5 (Decision Tree):\n",
    "5. (a) Consider all the categorical attributes except label as descriptive features and label (income) as target feature. Make two decision trees (one based on Entropy and another based on Gini)."
   ]
  },
  {
   "cell_type": "code",
   "execution_count": 22,
   "metadata": {
    "scrolled": true
   },
   "outputs": [
    {
     "name": "stderr",
     "output_type": "stream",
     "text": [
      "/home/philipp/anaconda3/lib/python3.6/site-packages/ipykernel_launcher.py:15: SettingWithCopyWarning: \n",
      "A value is trying to be set on a copy of a slice from a DataFrame.\n",
      "Try using .loc[row_indexer,col_indexer] = value instead\n",
      "\n",
      "See the caveats in the documentation: http://pandas.pydata.org/pandas-docs/stable/indexing.html#indexing-view-versus-copy\n",
      "  from ipykernel import kernelapp as app\n"
     ]
    }
   ],
   "source": [
    "# your code\n",
    "from DecisionTree import DecisionTree\n",
    "\n",
    "attributes = ['workclass', 'education', 'marital-status', 'occupation',\n",
    "                        'relationship', 'race', 'sex', 'native-country', 'label']\n",
    "\n",
    "df = data[attributes]\n",
    "columns = df.columns\n",
    "\n",
    "descriptive_features = columns[:-1]\n",
    "label = columns[-1]\n",
    "\n",
    "#Converting all the columns to string \n",
    "for column in columns:\n",
    "    df[column] = df[column].astype(str)\n",
    "    \n",
    "data_descriptive = data[descriptive_features].values\n",
    "data_label = df[label].values"
   ]
  },
  {
   "cell_type": "markdown",
   "metadata": {},
   "source": [
    "#### Entropy Decision Tree"
   ]
  },
  {
   "cell_type": "code",
   "execution_count": 23,
   "metadata": {
    "scrolled": true
   },
   "outputs": [
    {
     "name": "stdout",
     "output_type": "stream",
     "text": [
      "System entropy:  0.9894104774720454\n"
     ]
    }
   ],
   "source": [
    "decisionTree_entropy = DecisionTree(data_descriptive.tolist(), descriptive_features.tolist(), data_label.tolist(), \"entropy\")\n",
    "decisionTree_entropy.id3(0,0)\n",
    "decisionTree_entropy.print_visualTree()\n",
    "print(\"System entropy: \", format(decisionTree_entropy.entropy))"
   ]
  },
  {
   "cell_type": "markdown",
   "metadata": {},
   "source": [
    "#### Gini Decision Tree"
   ]
  },
  {
   "cell_type": "code",
   "execution_count": 24,
   "metadata": {},
   "outputs": [
    {
     "name": "stdout",
     "output_type": "stream",
     "text": [
      "System gini:  0.49267787898095206\n"
     ]
    }
   ],
   "source": [
    "decisionTree_gini = DecisionTree(data_descriptive.tolist(), descriptive_features.tolist(), data_label.tolist(), \"gini\")\n",
    "decisionTree_gini.id3(0,0)\n",
    "decisionTree_gini.print_visualTree()\n",
    "print(\"System gini: \", format(decisionTree_gini.gini))"
   ]
  },
  {
   "cell_type": "markdown",
   "metadata": {},
   "source": [
    "5. (b) What are the best attributes (based on Gini and Entropy) for splitting the trees in the third round of ID3?   "
   ]
  },
  {
   "cell_type": "markdown",
   "metadata": {},
   "source": [
    "Explanation: The best attribute for splitting the trees in the third round for both the Gini and the Entropy model is \"occupation\". First split is on \"relationship\", second split is on \"education\" and then \"occupation\"."
   ]
  },
  {
   "cell_type": "markdown",
   "metadata": {},
   "source": [
    "5. (c) Prune the tree which is made based on Entropy by 7000 as minimum number of samples. Identify which value of the first node/attribute is chosen to be split in the second round of ID3 and explain why?"
   ]
  },
  {
   "cell_type": "code",
   "execution_count": 25,
   "metadata": {},
   "outputs": [
    {
     "name": "stdout",
     "output_type": "stream",
     "text": [
      "System entropy:  0.9894104774720454\n"
     ]
    }
   ],
   "source": [
    "# your code\n",
    "decisionTree_entropy = DecisionTree(data_descriptive.tolist(), descriptive_features.tolist(), data_label.tolist(), \"entropy\")\n",
    "decisionTree_entropy.id3(0,7000)\n",
    "decisionTree_entropy.print_visualTree()\n",
    "print(\"System entropy: \", format(decisionTree_entropy.entropy))"
   ]
  },
  {
   "cell_type": "markdown",
   "metadata": {},
   "source": [
    "Explanation: The value \"Husband\" is chosen because for all the other values (\"Unmarried\", \"Wife\" etc.) there is no need for a split, because these values have already a label (we know in what class they belong). But for \"Husband\" we need more \"information\"."
   ]
  },
  {
   "cell_type": "markdown",
   "metadata": {},
   "source": [
    "### Question 6 (Regression):\n",
    "\n",
    "6. (a) Create two sets of independent variables (1) and (2)"
   ]
  },
  {
   "cell_type": "code",
   "execution_count": 26,
   "metadata": {},
   "outputs": [],
   "source": [
    "df1 = data[['age', 'workclass', 'sex']]\n",
    "df2 = data[['education', 'marital-status', 'hours-per-week']]\n",
    "df3 = data[['age','workclass','education','education-num','marital-status',\n",
    "            'occupation','relationship','race','sex','hours-per-week','native-country']]"
   ]
  },
  {
   "cell_type": "markdown",
   "metadata": {},
   "source": [
    "6. (b) Which attributes are suitable as an input for the logistic regression and which need to be modified first? Why? "
   ]
  },
  {
   "cell_type": "markdown",
   "metadata": {},
   "source": [
    "Explanation:\n",
    "\n",
    "Suitable are \"age\", \"education-num\" and \"hours-per-week\", because these attributes are numerical and do not need to be modified.\n",
    "\n",
    "All the other attributes need to be modified because they are categorical, so they need to get a numerical value to be processed. We will modify them by doing the one-hot-encoding."
   ]
  },
  {
   "cell_type": "code",
   "execution_count": 27,
   "metadata": {},
   "outputs": [],
   "source": [
    "# your modification\n",
    "df1_encoded = pd.get_dummies(df1)\n",
    "df2_encoded = pd.get_dummies(df2)\n",
    "df3_encoded = pd.get_dummies(df3)"
   ]
  },
  {
   "cell_type": "markdown",
   "metadata": {},
   "source": [
    "6. (c) Train three logistic regression classifiers based on the two created data sets as well as the initial data set:"
   ]
  },
  {
   "cell_type": "code",
   "execution_count": 28,
   "metadata": {},
   "outputs": [
    {
     "name": "stdout",
     "output_type": "stream",
     "text": [
      "######################## 1 #########################\n",
      "\n",
      "First 50 Predictions:\n",
      " ['>50K' '>50K' '<=50K' '>50K' '<=50K' '>50K' '<=50K' '<=50K' '<=50K'\n",
      " '<=50K' '<=50K' '<=50K' '>50K' '<=50K' '<=50K' '>50K' '>50K' '>50K'\n",
      " '<=50K' '<=50K' '<=50K' '>50K' '<=50K' '>50K' '<=50K' '<=50K' '>50K'\n",
      " '>50K' '<=50K' '>50K' '<=50K' '<=50K' '>50K' '<=50K' '<=50K' '>50K'\n",
      " '<=50K' '<=50K' '<=50K' '<=50K' '<=50K' '<=50K' '>50K' '>50K' '<=50K'\n",
      " '>50K' '<=50K' '<=50K' '>50K']\n",
      "\n",
      "Coefficients: \n",
      " [[ 0.04379066  0.4280905   0.21051971 -1.34711796 -0.14885849 -0.18095347\n",
      "   0.80458931 -0.21425915  0.05403406 -1.06223474 -1.33672141 -0.11946883]]\n",
      "\n",
      "Intercept: \n",
      " [-1.45619024]\n",
      "\n",
      "Mean squared Error: \n",
      " 0.3234123647777591\n",
      "\n",
      "Mean absolute Error: \n",
      " 41.39678269155316\n",
      "######################## 2 #########################\n",
      "\n",
      "First 50 Predictions:\n",
      " ['>50K' '<=50K' '<=50K' '>50K' '<=50K' '>50K' '>50K' '>50K' '>50K' '>50K'\n",
      " '>50K' '<=50K' '>50K' '>50K' '<=50K' '<=50K' '>50K' '<=50K' '<=50K'\n",
      " '<=50K' '>50K' '>50K' '>50K' '>50K' '<=50K' '>50K' '<=50K' '>50K' '>50K'\n",
      " '>50K' '<=50K' '>50K' '>50K' '<=50K' '<=50K' '>50K' '<=50K' '<=50K'\n",
      " '>50K' '<=50K' '<=50K' '<=50K' '>50K' '>50K' '<=50K' '<=50K' '<=50K'\n",
      " '>50K' '>50K']\n",
      "\n",
      "Coefficients: \n",
      " [[ 0.03320063 -1.1890154  -1.10742679 -0.65377022 -1.9937137  -1.66039876\n",
      "  -1.70900042 -1.54631309  0.42178706  0.42153053  1.19638236  2.50374969\n",
      "  -0.34880173  1.86581451 -1.38886497  2.6826883   0.1418494  -0.71234175\n",
      "   0.87004587  1.35442853 -0.75929361 -1.610554   -1.04422283 -0.46156545]]\n",
      "\n",
      "Intercept: \n",
      " [-2.36350323]\n",
      "\n",
      "Mean squared Error: \n",
      " 0.2187657642508828\n",
      "\n",
      "Mean absolute Error: \n",
      " 28.002017824112997\n",
      "######################## 3 #########################\n",
      "\n",
      "First 50 Predictions:\n",
      " ['>50K' '<=50K' '<=50K' '>50K' '<=50K' '>50K' '>50K' '>50K' '>50K' '<=50K'\n",
      " '>50K' '<=50K' '>50K' '<=50K' '>50K' '<=50K' '<=50K' '<=50K' '<=50K'\n",
      " '<=50K' '<=50K' '>50K' '>50K' '>50K' '<=50K' '>50K' '>50K' '>50K' '<=50K'\n",
      " '>50K' '<=50K' '>50K' '>50K' '<=50K' '>50K' '>50K' '<=50K' '<=50K' '>50K'\n",
      " '<=50K' '<=50K' '<=50K' '>50K' '>50K' '<=50K' '>50K' '<=50K' '>50K'\n",
      " '>50K']\n",
      "\n",
      "Coefficients: \n",
      " [[ 3.06503141e-02  1.98900071e-01  3.23967830e-02  1.98855591e-01\n",
      "  -4.07471913e-01 -4.75904377e-01 -1.63149797e-02 -2.55262999e-01\n",
      "  -5.31622158e-02 -5.64632851e-01 -6.23091650e-01 -8.00158183e-01\n",
      "  -5.45628284e-01 -4.18437653e-01 -2.98087584e-01 -4.57947547e-01\n",
      "  -1.82271135e-01 -7.25996797e-01 -6.34146387e-01 -3.81075453e-01\n",
      "  -7.06315072e-02  3.38746164e-02  5.35404022e-01 -3.38330689e-01\n",
      "   3.04099449e-01 -5.66055208e-01  9.07930523e-01 -1.59843943e-01\n",
      "  -9.63558195e-01  8.99549464e-01  1.28499576e+00 -8.41681233e-01\n",
      "  -1.39901549e+00 -1.09982668e+00 -8.77607194e-01 -1.13490852e-01\n",
      "  -8.78332867e-02  2.43321034e-02  6.90075134e-01 -1.05842972e+00\n",
      "  -7.06033303e-01 -3.64999846e-01 -4.92219356e-01 -9.99904582e-01\n",
      "  -1.45110095e+00  4.57533758e-01  5.38363177e-01  2.63795284e-01\n",
      "   4.94460176e-01 -1.91691309e-01 -8.40176434e-01 -1.23493782e-01\n",
      "  -9.61399521e-01 -1.29098360e+00 -3.49149149e-01  5.68058906e-01\n",
      "  -9.73846306e-01 -3.21152589e-01 -5.67888426e-01 -7.07773586e-01\n",
      "  -4.26482671e-01 -1.91906583e+00 -1.07807774e+00  6.92937568e-01\n",
      "   1.26482830e-01 -4.00278333e-01 -1.30641036e+00  2.09151893e-01\n",
      "  -1.13560698e+00  2.27667409e-01 -5.95775222e-01  3.65645900e-01\n",
      "   6.87291793e-01  4.28929763e-01 -2.89155925e-01 -1.41760521e-01\n",
      "  -5.05453742e-02 -2.76524177e-01  8.38002293e-02 -1.70118412e-02\n",
      "  -1.98204434e-01  7.77564238e-01  3.09167726e-01  4.36529446e-01\n",
      "   1.69842034e-01  1.82791145e-01 -6.30466165e-01 -4.03685299e-01\n",
      "  -1.10247682e-01 -1.64996190e-04 -7.56042435e-01 -5.91390182e-01\n",
      "   4.61231058e-01 -2.26509643e-02 -1.92602224e-01 -1.99621439e-01\n",
      "  -1.31959045e-01 -9.32797280e-01  8.55940364e-02 -4.18522387e-01\n",
      "  -1.04578571e-02  3.02632041e-01 -6.45699558e-01  9.13177999e-01]]\n",
      "\n",
      "Intercept: \n",
      " [-2.99714358]\n",
      "\n",
      "Mean squared Error: \n",
      " 0.1919174934140463\n",
      "\n",
      "Mean absolute Error: \n",
      " 24.565439156997925\n"
     ]
    }
   ],
   "source": [
    "from sklearn.linear_model import LogisticRegression\n",
    "from sklearn.metrics import mean_squared_error, mean_absolute_error\n",
    "\n",
    "y = data['label']\n",
    "encoded_y = pd.get_dummies(y)\n",
    "\n",
    "# df1\n",
    "classifier1 = LogisticRegression(solver='liblinear', multi_class='ovr')\n",
    "classifier1.fit(df1_encoded, y.ravel())\n",
    "\n",
    "y_pred1 = classifier1.predict(df1_encoded)\n",
    "encoded_y_pred1 = pd.get_dummies(y_pred1)\n",
    "\n",
    "# df2\n",
    "classifier2 = LogisticRegression(solver='liblinear', multi_class='ovr')\n",
    "classifier2.fit(df2_encoded, y.ravel())\n",
    "\n",
    "y_pred2 = classifier2.predict(df2_encoded)\n",
    "encoded_y_pred2 = pd.get_dummies(y_pred2)\n",
    "\n",
    "# df3\n",
    "classifier3 = LogisticRegression(solver = 'liblinear', multi_class='ovr')\n",
    "classifier3.fit(df3_encoded, y.ravel())\n",
    "\n",
    "y_pred3 = classifier3.predict(df3_encoded)\n",
    "encoded_y_pred3 = pd.get_dummies(y_pred3)\n",
    "\n",
    "print('######################## 1 #########################\\n')\n",
    "print('First 50 Predictions:\\n', y_pred1[0:49])\n",
    "print('\\nCoefficients: \\n', classifier1.coef_)\n",
    "print('\\nIntercept: \\n', classifier1.intercept_)\n",
    "print('\\nMean squared Error: \\n', mean_squared_error(encoded_y, encoded_y_pred1))\n",
    "print('\\nMean absolute Error: \\n', mean_absolute_error(encoded_y, encoded_y_pred1))\n",
    "\n",
    "print('######################## 2 #########################\\n')\n",
    "print('First 50 Predictions:\\n', y_pred2[0:49])\n",
    "print('\\nCoefficients: \\n', classifier2.coef_)\n",
    "print('\\nIntercept: \\n', classifier2.intercept_)\n",
    "print('\\nMean squared Error: \\n', mean_squared_error(encoded_y, encoded_y_pred2))\n",
    "print('\\nMean absolute Error: \\n', mean_absolute_error(encoded_y, encoded_y_pred2))\n",
    "\n",
    "print('######################## 3 #########################\\n')\n",
    "print('First 50 Predictions:\\n', y_pred3[0:49])\n",
    "print('\\nCoefficients: \\n', classifier3.coef_)\n",
    "print('\\nIntercept: \\n', classifier3.intercept_)\n",
    "print('\\nMean squared Error: \\n', mean_squared_error(encoded_y, encoded_y_pred3))\n",
    "print('\\nMean absolute Error: \\n', mean_absolute_error(encoded_y, encoded_y_pred3))"
   ]
  },
  {
   "cell_type": "markdown",
   "metadata": {},
   "source": [
    "6. (d) Interpret the three resulting models and compare them. Which model do you recommend and why?"
   ]
  },
  {
   "cell_type": "markdown",
   "metadata": {},
   "source": [
    "Explanation:\n",
    "\n",
    "The first 2 models only have 3 attributes each, so they have fewer coefficients than the third model, which considers all attributes.\n",
    "\n",
    "The best model is the last one (smallest mean squared/absolute error), but it is only slightly better than the second model although it has much more attributes. Also there is the possibility of overfitting when considering all the attributes.\n",
    "\n",
    "So I would recommend the second model, because it uses only 3 independent variables and gets comparable results as the third model and better results than the first model."
   ]
  },
  {
   "cell_type": "markdown",
   "metadata": {},
   "source": [
    "### Question 7 (Neural Networks)"
   ]
  },
  {
   "cell_type": "markdown",
   "metadata": {},
   "source": [
    "7. (a) What are the inputs of your network?"
   ]
  },
  {
   "cell_type": "markdown",
   "metadata": {},
   "source": [
    "Explanation:\n",
    "\n",
    "The inputs are all attributes (in form of one-hot encoding if categorical) of the original data set."
   ]
  },
  {
   "cell_type": "markdown",
   "metadata": {},
   "source": [
    "7. (b) What are the possible number of input pattern for your network (just including categorical attributes)?"
   ]
  },
  {
   "cell_type": "markdown",
   "metadata": {},
   "source": [
    "Explanation:\n",
    "\n",
    "2^n where n is the number of inputs\n",
    "\n",
    "Because we one-hote-encode categorical values, we see each unique value of a categorical attribute as a different input, so:\n",
    "\n",
    "- workclass: 9 unique values\n",
    "- education: 16 unique values\n",
    "- marital-status: 7 unique values\n",
    "- occupation: 15 unique values\n",
    "- relationship: 6 unique values\n",
    "- race: 5 unique values\n",
    "- sex: 2 unique values\n",
    "- native-country: 41 unique values\n",
    "\n",
    "Summing the unique values up we get 9+16+7+15+6+5+2+41 = 101 unique values. So there are **2^101** possible number of input pattern for the network."
   ]
  },
  {
   "cell_type": "markdown",
   "metadata": {},
   "source": [
    "7. (c.i) First, with default parameters and return the parameters."
   ]
  },
  {
   "cell_type": "code",
   "execution_count": 29,
   "metadata": {
    "scrolled": false
   },
   "outputs": [
    {
     "name": "stdout",
     "output_type": "stream",
     "text": [
      "Parameters:\n",
      " MLPClassifier(activation='relu', alpha=0.0001, batch_size='auto', beta_1=0.9,\n",
      "       beta_2=0.999, early_stopping=False, epsilon=1e-08,\n",
      "       hidden_layer_sizes=(100,), learning_rate='constant',\n",
      "       learning_rate_init=0.001, max_iter=200, momentum=0.9,\n",
      "       n_iter_no_change=10, nesterovs_momentum=True, power_t=0.5,\n",
      "       random_state=None, shuffle=True, solver='adam', tol=0.0001,\n",
      "       validation_fraction=0.1, verbose=False, warm_start=False)\n",
      "\n",
      "Prediction:\n",
      " [[1 0]\n",
      " [1 0]\n",
      " [1 0]\n",
      " ...\n",
      " [1 0]\n",
      " [1 0]\n",
      " [0 1]]\n",
      "\n",
      "Size of synapsis weights:\n",
      " [(104, 100), (100, 2)]\n",
      "\n",
      "Synapsis weights:\n",
      " [array([[-7.43737607e-015,  3.49569824e-002,  4.18264796e-002, ...,\n",
      "        -6.37817046e-003, -3.21769510e-002,  9.24803058e-002],\n",
      "       [-5.10900678e-048,  2.53999236e-001, -3.72960225e-002, ...,\n",
      "         5.10784534e-002,  1.36184926e-001, -1.83534957e-001],\n",
      "       [-5.58741670e-007, -1.01205407e-001, -2.48967137e-003, ...,\n",
      "        -4.25254482e-002,  5.64853371e-003,  7.92148546e-002],\n",
      "       ...,\n",
      "       [ 1.55966460e-143, -3.11000695e-002, -1.27150576e-001, ...,\n",
      "         7.42002027e-002, -1.89289948e-001, -1.50875825e-001],\n",
      "       [ 1.64309653e-316,  1.06799468e+000, -5.03198495e-001, ...,\n",
      "        -2.73850535e-001, -3.61953892e-001, -5.62633512e-001],\n",
      "       [ 1.98701568e-315,  1.44643146e+000,  1.71118653e-001, ...,\n",
      "        -2.77892361e-001,  6.01640212e-002,  4.62469626e-001]]), array([[-7.19556001e-029, -3.51879356e-075],\n",
      "       [ 6.80093080e-001, -6.42418207e-001],\n",
      "       [-1.05593229e-001, -1.20357320e-001],\n",
      "       [ 4.22798815e-002,  1.04830800e-001],\n",
      "       [-9.38965254e-001,  9.42154088e-001],\n",
      "       [ 5.98900200e-002,  1.18435602e-002],\n",
      "       [-1.57866681e-001,  2.87005564e-001],\n",
      "       [-4.88394750e-001,  4.64827987e-001],\n",
      "       [ 8.62533682e-001, -8.54740377e-001],\n",
      "       [ 7.67733213e-001, -7.41345656e-001],\n",
      "       [ 5.33257490e-001, -5.06769043e-001],\n",
      "       [-2.16333604e-001,  1.14077638e-001],\n",
      "       [ 2.11218075e-003, -6.13145108e-004],\n",
      "       [-1.96293332e-001, -2.22787911e-001],\n",
      "       [-9.22574824e-002, -1.23557352e-001],\n",
      "       [ 3.39761420e-315, -1.43510078e-315],\n",
      "       [-1.27479871e-001,  1.61632015e-001],\n",
      "       [ 8.15977840e-002,  5.91102110e-002],\n",
      "       [ 4.78362594e-001, -5.48191670e-001],\n",
      "       [-2.34883960e-002,  2.31641792e-002],\n",
      "       [ 2.08699389e+000, -2.04967260e+000],\n",
      "       [ 3.58382448e-316, -1.62085854e-315],\n",
      "       [-3.16055032e-315, -1.20496985e-315],\n",
      "       [-3.50440380e-001,  2.48121011e-001],\n",
      "       [-5.06554356e-316, -1.43920600e-315],\n",
      "       [ 5.11240021e-001, -5.45684486e-001],\n",
      "       [ 5.43226277e-002, -7.51228386e-003],\n",
      "       [-8.24744975e-002,  8.24120726e-002],\n",
      "       [-3.74928222e-001,  3.74597358e-001],\n",
      "       [-1.13817889e-001, -1.60729368e-001],\n",
      "       [ 1.05712384e-001, -6.78470926e-002],\n",
      "       [-2.25117900e-002,  6.21396584e-002],\n",
      "       [-2.63811381e-002,  2.81469604e-002],\n",
      "       [ 2.28105805e-001, -2.50450176e-001],\n",
      "       [-2.03860599e-002,  2.06757795e-004],\n",
      "       [ 1.56949735e-001,  1.83900060e-001],\n",
      "       [ 1.70684126e-001, -1.48053812e-001],\n",
      "       [ 1.07848758e-001,  1.48299533e-001],\n",
      "       [ 1.72930643e+000, -1.76136168e+000],\n",
      "       [-2.05683300e-001,  8.02823798e-002],\n",
      "       [ 6.05799385e-002, -1.84484391e-001],\n",
      "       [ 2.65702199e+000, -2.66691288e+000],\n",
      "       [ 1.89719165e-315, -1.60160368e-315],\n",
      "       [ 3.06018123e-002, -1.52343820e-001],\n",
      "       [ 8.28213105e-002,  1.28715974e-001],\n",
      "       [ 1.88240501e-315,  2.01037149e-316],\n",
      "       [-3.12017271e-003, -1.16511973e-003],\n",
      "       [-7.28121688e-001,  7.36451471e-001],\n",
      "       [ 1.04615134e-001,  1.23897872e-001],\n",
      "       [ 1.98100058e-002,  1.77484027e-002],\n",
      "       [ 2.81396914e-002,  2.15484855e-003],\n",
      "       [ 4.29521948e-001, -4.65460576e-001],\n",
      "       [ 3.99910896e-001, -4.06631781e-001],\n",
      "       [-2.42087819e-317,  1.84024501e-315],\n",
      "       [-4.97744073e-001,  3.95766115e-001],\n",
      "       [-3.02724385e-002,  3.03119764e-002],\n",
      "       [-1.59692264e-001, -3.04197251e-002],\n",
      "       [ 3.63818915e-001, -5.01022874e-001],\n",
      "       [-1.43893219e-001,  4.15023874e-002],\n",
      "       [ 1.33113802e-002, -1.25298093e-002],\n",
      "       [-1.64467119e-001,  3.61036950e-002],\n",
      "       [ 1.36487364e-001, -1.33964059e-001],\n",
      "       [ 1.54959345e-001,  1.26488434e-001],\n",
      "       [-1.72242915e-001, -2.16142450e-001],\n",
      "       [ 7.29131411e-003,  2.43846468e-003],\n",
      "       [ 1.03921521e+000, -1.03987774e+000],\n",
      "       [-6.14196136e-005,  6.66714777e-011],\n",
      "       [ 1.25539688e-001,  1.17632338e-001],\n",
      "       [-3.22842515e-001,  6.52941819e-002],\n",
      "       [-7.15739518e-002, -7.53589012e-002],\n",
      "       [-1.03423791e+000,  1.00714929e+000],\n",
      "       [ 1.94123115e-001, -1.42395282e-001],\n",
      "       [ 7.40792521e-002,  9.07118463e-002],\n",
      "       [ 1.05766423e-001,  1.66410954e-001],\n",
      "       [-9.69343187e-002,  2.21704412e-001],\n",
      "       [ 3.66311346e-001, -3.66270794e-001],\n",
      "       [-2.15263756e-315,  1.51358536e-315],\n",
      "       [-3.47093747e-001,  5.05593639e-001],\n",
      "       [ 6.46133730e-002,  8.76161773e-002],\n",
      "       [-1.14200693e-002,  1.23078674e-001],\n",
      "       [ 8.88548356e-002,  1.20234423e-001],\n",
      "       [-3.26221823e-316,  2.75569600e-315],\n",
      "       [ 3.41007665e-001, -1.69346147e-001],\n",
      "       [ 2.18482384e-002, -1.28055699e-001],\n",
      "       [-1.25106776e-001, -1.65298823e-001],\n",
      "       [ 8.49926945e-001, -8.43888458e-001],\n",
      "       [ 4.91041819e-001, -4.63272416e-001],\n",
      "       [ 1.56691208e-002,  2.31826759e-002],\n",
      "       [-6.13961884e-001,  5.79890806e-001],\n",
      "       [-8.60821864e-002,  6.50331903e-002],\n",
      "       [ 1.40308094e-001,  1.80121915e-001],\n",
      "       [-4.25278756e-003, -1.32493044e-002],\n",
      "       [-2.33370924e-003,  2.16510801e-003],\n",
      "       [-4.24380975e-001,  5.14174399e-001],\n",
      "       [ 7.21453275e-002,  1.42534547e-001],\n",
      "       [-5.88697306e-002,  6.83883276e-002],\n",
      "       [ 7.99850706e-001, -8.19765107e-001],\n",
      "       [ 9.79106462e-001, -9.96746446e-001],\n",
      "       [ 9.13238498e-002,  1.33414507e-001],\n",
      "       [-1.72818737e-002,  1.36892865e-001]])]\n",
      "\n",
      "Accuracy= 0.8231321114287315\n"
     ]
    },
    {
     "name": "stderr",
     "output_type": "stream",
     "text": [
      "/home/philipp/anaconda3/lib/python3.6/site-packages/sklearn/neural_network/multilayer_perceptron.py:562: ConvergenceWarning: Stochastic Optimizer: Maximum iterations (200) reached and the optimization hasn't converged yet.\n",
      "  % self.max_iter, ConvergenceWarning)\n"
     ]
    }
   ],
   "source": [
    "# your code\n",
    "from sklearn.neural_network import MLPClassifier\n",
    "import sklearn.metrics as metric\n",
    "\n",
    "X_training = pd.get_dummies(data[[\"age\",\"workclass\",\"education\",\"education-num\",\"marital-status\",\n",
    "              \"occupation\",\"relationship\",\"race\",\"sex\",\"hours-per-week\",\"native-country\"]])\n",
    "Y_training = pd.get_dummies(data[\"label\"])\n",
    "\n",
    "y_true = Y_training\n",
    "mlp = MLPClassifier()\n",
    "mlp.fit(X_training, Y_training)\n",
    "y_pred=mlp.predict(X_training)\n",
    "\n",
    "print('Parameters:\\n', mlp)\n",
    "print('\\nPrediction:\\n', y_pred)\n",
    "print('\\nSize of synapsis weights:\\n',\n",
    "      [coef.shape for coef in mlp.coefs_])  # size of synapsis weights\n",
    "print('\\nSynapsis weights:\\n', mlp.coefs_)  # synapsis weights\n",
    "\n",
    "accuracy=metric.accuracy_score(np.array(y_true).flatten(), np.array(y_pred).flatten(), normalize=True)\n",
    "print('\\nAccuracy=',accuracy)                         # show accracy score"
   ]
  },
  {
   "cell_type": "markdown",
   "metadata": {},
   "source": [
    "7. (c.ii) Second, try to find the optimized number of hidden layers and nodes. (Start with default number and then at least go with one number above and one number below the default) \n"
   ]
  },
  {
   "cell_type": "code",
   "execution_count": 30,
   "metadata": {
    "scrolled": false
   },
   "outputs": [
    {
     "name": "stdout",
     "output_type": "stream",
     "text": [
      "-------- Lower number of hidden layers ---------\n",
      "\n"
     ]
    },
    {
     "name": "stderr",
     "output_type": "stream",
     "text": [
      "/home/philipp/anaconda3/lib/python3.6/site-packages/sklearn/neural_network/multilayer_perceptron.py:562: ConvergenceWarning: Stochastic Optimizer: Maximum iterations (200) reached and the optimization hasn't converged yet.\n",
      "  % self.max_iter, ConvergenceWarning)\n"
     ]
    },
    {
     "name": "stdout",
     "output_type": "stream",
     "text": [
      "Parameters:\n",
      " MLPClassifier(activation='relu', alpha=0.0001, batch_size='auto', beta_1=0.9,\n",
      "       beta_2=0.999, early_stopping=False, epsilon=1e-08,\n",
      "       hidden_layer_sizes=(70, 70), learning_rate='constant',\n",
      "       learning_rate_init=0.001, max_iter=200, momentum=0.9,\n",
      "       n_iter_no_change=10, nesterovs_momentum=True, power_t=0.5,\n",
      "       random_state=None, shuffle=True, solver='adam', tol=0.0001,\n",
      "       validation_fraction=0.1, verbose=False, warm_start=False)\n",
      "\n",
      "Prediction:\n",
      " [[1 0]\n",
      " [1 0]\n",
      " [1 0]\n",
      " ...\n",
      " [1 0]\n",
      " [1 0]\n",
      " [0 1]]\n",
      "\n",
      "Size of synapsis weights:\n",
      " [(104, 70), (70, 70), (70, 2)]\n",
      "\n",
      "Synapsis weights:\n",
      " [array([[-0.00216057, -0.07243511, -0.02556531, ...,  0.10113921,\n",
      "        -0.13744072,  0.0771265 ],\n",
      "       [ 0.02506105,  0.2174988 , -0.15696725, ...,  0.12131742,\n",
      "        -0.0233343 ,  0.19544067],\n",
      "       [ 0.03770619, -0.01679209,  0.06466772, ..., -0.1607666 ,\n",
      "         0.14447591, -0.08637138],\n",
      "       ...,\n",
      "       [-0.29415744,  0.1788675 ,  0.17992604, ...,  0.16864899,\n",
      "        -0.20299337, -0.00175394],\n",
      "       [-0.80030744, -0.81248614,  0.65665061, ..., -0.02379294,\n",
      "         1.14391419, -1.12217   ],\n",
      "       [-0.72484665,  0.7097965 , -1.0022822 , ...,  0.31464226,\n",
      "        -1.22923892,  0.48050756]]), array([[ 6.83122227e-316, -8.99847379e-003, -5.98271536e-316, ...,\n",
      "         2.42922649e-001,  2.59431461e-001,  1.21836158e-002],\n",
      "       [-5.10330381e-316, -6.61672810e-020,  1.63208059e-315, ...,\n",
      "         2.10527181e-001, -7.30019654e-001,  1.02121996e-001],\n",
      "       [-2.06832915e-315, -4.18126264e-006,  1.37028172e-315, ...,\n",
      "        -1.44454992e-002,  3.84154342e-003,  1.61973540e-001],\n",
      "       ...,\n",
      "       [-1.21246419e-315, -2.78993913e-002,  6.06054478e-316, ...,\n",
      "        -6.24690657e-001,  2.56303830e-001, -2.13473259e-002],\n",
      "       [-1.58909111e-315,  6.68028861e-004,  2.30538558e-315, ...,\n",
      "         1.33325278e-001, -1.34877480e-002,  2.80370313e-001],\n",
      "       [ 1.95950253e-315, -2.41371035e-002,  1.68387182e-316, ...,\n",
      "        -1.76836466e-001, -1.09121745e-001,  8.16905607e-003]]), array([[-7.56534280e-316, -2.58137867e-316],\n",
      "       [-1.05377875e-002,  4.68074241e-003],\n",
      "       [ 6.38846430e-316, -2.66021737e-316],\n",
      "       [ 4.52537566e-003, -3.63293072e-003],\n",
      "       [ 2.14142229e-315,  7.73930391e-316],\n",
      "       [ 1.05370760e+000, -1.05283045e+000],\n",
      "       [-6.79503731e-001,  6.80620833e-001],\n",
      "       [-2.33913547e-316,  1.72131199e-315],\n",
      "       [-2.01480929e-001, -1.51766204e-001],\n",
      "       [ 9.62353395e-001, -9.48381281e-001],\n",
      "       [-6.82472540e-001,  7.21297414e-001],\n",
      "       [ 1.72461080e-252, -1.73439202e-234],\n",
      "       [ 4.29596669e-001, -4.30171306e-001],\n",
      "       [-1.88828356e-001,  1.36499311e-001],\n",
      "       [-3.38078651e-001,  4.22599881e-001],\n",
      "       [ 4.69759693e-002,  1.93380482e-002],\n",
      "       [ 1.90474471e-001, -1.13098724e-001],\n",
      "       [ 2.98477391e-315,  1.13799423e-315],\n",
      "       [-7.90418961e-001,  7.63628815e-001],\n",
      "       [-1.82617516e-002, -3.02119685e-003],\n",
      "       [ 5.13211846e-001, -5.51626915e-001],\n",
      "       [-2.54091854e-315,  7.81560266e-316],\n",
      "       [-6.99446529e-003,  1.69595983e-001],\n",
      "       [-1.93601740e-001,  2.57505780e-001],\n",
      "       [-6.55982875e-001,  8.63555280e-001],\n",
      "       [ 2.17388860e-315,  2.85428581e-315],\n",
      "       [ 9.56896881e-001, -9.47214310e-001],\n",
      "       [-6.77114270e-001,  6.87869129e-001],\n",
      "       [ 4.47085427e-001, -4.61471001e-001],\n",
      "       [ 4.88967656e-001, -5.26925940e-001],\n",
      "       [-6.35387219e-003,  5.54446068e-003],\n",
      "       [ 1.53793617e-001,  1.59015670e-001],\n",
      "       [-6.75457422e-001,  5.08196736e-001],\n",
      "       [-1.47425152e-001,  1.53306888e-001],\n",
      "       [ 6.52279305e-001, -5.96292882e-001],\n",
      "       [ 3.30462909e-315, -5.84600468e-316],\n",
      "       [ 9.05462807e-001, -9.41871138e-001],\n",
      "       [-4.10447709e-002, -1.17809449e-001],\n",
      "       [-1.15857910e-001, -4.58240053e-002],\n",
      "       [ 4.27512507e-002,  2.00689518e-002],\n",
      "       [ 8.44350143e-001, -7.80850197e-001],\n",
      "       [ 1.35422085e+000, -1.33908046e+000],\n",
      "       [-3.14250501e-001,  2.10175083e-001],\n",
      "       [-6.16090310e-316,  1.65357823e-315],\n",
      "       [-4.19292432e-001,  4.16170057e-001],\n",
      "       [-7.51955003e-003, -6.71445899e-002],\n",
      "       [ 1.60941734e-315,  6.20785455e-316],\n",
      "       [ 1.17643978e-002, -7.22194337e-003],\n",
      "       [ 1.86336531e-001, -7.98667828e-002],\n",
      "       [ 1.46203336e-001,  1.48002933e-001],\n",
      "       [ 4.00177889e-001, -3.96843572e-001],\n",
      "       [ 4.06995212e-001, -4.52468688e-001],\n",
      "       [ 4.43650957e-002, -2.34288829e-001],\n",
      "       [-1.84841653e-315, -2.35988262e-315],\n",
      "       [-2.94994886e-001,  2.69394057e-001],\n",
      "       [ 3.59880881e-002,  3.38354167e-002],\n",
      "       [-2.01377591e-001,  9.05787674e-002],\n",
      "       [ 7.52262057e-001, -7.53182208e-001],\n",
      "       [-3.66093945e-001,  3.71634361e-001],\n",
      "       [-2.94813746e-001,  2.67529491e-001],\n",
      "       [ 1.04469171e-001, -4.74676075e-002],\n",
      "       [-8.89219197e-001,  8.26720648e-001],\n",
      "       [ 1.87385603e-001, -1.60391189e-001],\n",
      "       [-3.20591843e-002,  2.96018563e-002],\n",
      "       [ 9.54917607e-003, -1.07021066e-002],\n",
      "       [-1.04938984e-001,  1.87356556e-001],\n",
      "       [-3.33378845e-002,  1.04539459e-002],\n",
      "       [ 2.89469029e-001, -2.99916162e-001],\n",
      "       [-4.65241800e-001,  4.69122423e-001],\n",
      "       [-1.85671005e-001,  1.76778015e-001]])]\n",
      "\n",
      "-------- Higher number of hidden layers ---------\n",
      "\n"
     ]
    },
    {
     "name": "stderr",
     "output_type": "stream",
     "text": [
      "/home/philipp/anaconda3/lib/python3.6/site-packages/sklearn/neural_network/multilayer_perceptron.py:562: ConvergenceWarning: Stochastic Optimizer: Maximum iterations (200) reached and the optimization hasn't converged yet.\n",
      "  % self.max_iter, ConvergenceWarning)\n"
     ]
    },
    {
     "name": "stdout",
     "output_type": "stream",
     "text": [
      "Parameters:\n",
      " MLPClassifier(activation='relu', alpha=0.0001, batch_size='auto', beta_1=0.9,\n",
      "       beta_2=0.999, early_stopping=False, epsilon=1e-08,\n",
      "       hidden_layer_sizes=(150, 150), learning_rate='constant',\n",
      "       learning_rate_init=0.001, max_iter=200, momentum=0.9,\n",
      "       n_iter_no_change=10, nesterovs_momentum=True, power_t=0.5,\n",
      "       random_state=None, shuffle=True, solver='adam', tol=0.0001,\n",
      "       validation_fraction=0.1, verbose=False, warm_start=False)\n",
      "\n",
      "Prediction:\n",
      " [[1 0]\n",
      " [1 0]\n",
      " [1 0]\n",
      " ...\n",
      " [1 0]\n",
      " [1 0]\n",
      " [0 1]]\n",
      "\n",
      "Size of synapsis weights:\n",
      " [(104, 150), (150, 150), (150, 2)]\n",
      "\n",
      "Synapsis weights:\n",
      " [array([[ 3.80699722e-002, -1.98272308e-002, -3.24762142e-002, ...,\n",
      "         8.48885155e-002, -8.19084383e-003, -3.58175668e-002],\n",
      "       [ 8.73986000e-002,  8.79083103e-003, -1.74123654e-001, ...,\n",
      "        -1.86834877e-001, -4.43391279e-004, -6.27196354e-002],\n",
      "       [-3.88208298e-002, -1.10477541e-002,  9.85447490e-002, ...,\n",
      "        -1.20646518e-001, -3.24139369e-004,  5.15331927e-002],\n",
      "       ...,\n",
      "       [ 2.54021404e-002, -7.97853151e-012, -2.92205871e-002, ...,\n",
      "         9.77435957e-002,  2.53654605e-061,  2.58954747e-002],\n",
      "       [-7.60744176e-002, -4.48083511e-269,  6.95734398e-001, ...,\n",
      "         1.07408495e-001, -1.27166990e-089, -1.19526647e-002],\n",
      "       [ 5.65828922e-001,  7.46239483e-292, -8.76267281e-001, ...,\n",
      "        -1.78163860e-002,  9.56903383e-316, -1.19328717e+000]]), array([[ 4.13915568e-005,  1.41187505e-001,  1.18295567e-001, ...,\n",
      "        -6.01350787e-002,  1.88512412e-002,  1.75106804e-003],\n",
      "       [ 7.09831712e-316,  3.59057973e-066, -1.15626816e-036, ...,\n",
      "         2.32234778e-023,  5.95186096e-032,  1.86256997e-315],\n",
      "       [-7.23446020e-022, -6.33625451e-002,  2.12062402e-001, ...,\n",
      "        -6.34436234e-002,  1.67543305e-001, -3.33996970e-003],\n",
      "       ...,\n",
      "       [-1.47327221e-018, -2.73463281e-001,  4.06540991e-002, ...,\n",
      "        -8.06140204e-001, -1.16393700e+000, -3.38349755e-004],\n",
      "       [ 1.03733781e-315, -3.02518711e-079, -1.92743582e-010, ...,\n",
      "         2.58939582e-070,  6.73205049e-078, -1.62548525e-315],\n",
      "       [-6.00775839e-011,  1.03489208e-001,  1.28698245e-002, ...,\n",
      "        -1.23514168e-001, -5.78247378e-002, -5.13701001e-003]]), array([[ 1.14176315e-003,  9.14113397e-004],\n",
      "       [-9.52202434e-002, -1.20811608e-001],\n",
      "       [ 3.95057861e-001, -3.60929946e-001],\n",
      "       [ 1.29599809e-001, -5.48090088e-002],\n",
      "       [ 2.23414500e-002, -1.67305121e-001],\n",
      "       [-1.42012517e-001, -1.34881521e-001],\n",
      "       [-1.64363585e-001,  1.21939136e-001],\n",
      "       [-7.54488888e-316,  2.03377338e-315],\n",
      "       [ 3.16652504e-004,  6.62558450e-004],\n",
      "       [ 1.18848507e-001,  1.19697372e-001],\n",
      "       [-2.99498427e-001,  2.14183880e-001],\n",
      "       [ 3.11676566e-001, -3.17894497e-001],\n",
      "       [ 5.15010459e-002,  2.42831019e-002],\n",
      "       [-2.99302280e-002,  1.95171545e-003],\n",
      "       [ 1.70587980e-001, -6.66484720e-002],\n",
      "       [-5.38493494e-001,  4.51125613e-001],\n",
      "       [-1.48593181e-001,  2.45098834e-001],\n",
      "       [ 3.68784842e-316,  3.02701712e-315],\n",
      "       [-2.52938139e-315, -1.21952720e-315],\n",
      "       [-2.50456174e-001,  1.88292602e-001],\n",
      "       [ 1.22744513e-001, -1.10619925e-001],\n",
      "       [-1.46619383e-315, -9.90858178e-316],\n",
      "       [-2.48708802e-008, -3.31150404e-008],\n",
      "       [ 9.33364458e-002,  1.49610060e-001],\n",
      "       [ 4.36070459e-001, -4.75256793e-001],\n",
      "       [-1.11989401e+000,  1.11319051e+000],\n",
      "       [ 2.74517419e-001, -3.13379823e-001],\n",
      "       [-1.77415874e-315,  1.67937503e-315],\n",
      "       [-1.16512956e-001, -1.14487777e-001],\n",
      "       [-3.04985876e-315, -2.96816331e-314],\n",
      "       [ 9.32878808e-002, -1.24898488e-001],\n",
      "       [ 2.23906185e-001, -2.23910064e-001],\n",
      "       [-3.32290903e-001,  3.31052920e-001],\n",
      "       [ 2.61610724e-317,  1.20713964e-315],\n",
      "       [-5.77290804e-001,  5.70227419e-001],\n",
      "       [ 1.75936527e-003, -1.71755968e-003],\n",
      "       [-9.06062484e-001,  8.93570890e-001],\n",
      "       [-3.13311120e-001,  3.71861554e-001],\n",
      "       [-1.48157100e-001,  1.64962968e-001],\n",
      "       [ 2.72040175e-001, -3.04135023e-001],\n",
      "       [ 2.01974512e-001, -2.80832135e-001],\n",
      "       [-9.74380626e-001,  1.01170958e+000],\n",
      "       [ 9.29402028e-001, -9.60992663e-001],\n",
      "       [ 1.28811751e+000, -1.28342905e+000],\n",
      "       [-9.64091038e-001,  9.56726816e-001],\n",
      "       [-9.92477288e-001,  9.71803470e-001],\n",
      "       [ 2.08127872e-001, -1.50754965e-001],\n",
      "       [ 8.51202639e-006,  1.92613207e-005],\n",
      "       [-7.24560022e-001,  7.74025296e-001],\n",
      "       [ 1.18907748e-001, -1.93568568e-001],\n",
      "       [ 1.24783464e+000, -1.27460186e+000],\n",
      "       [-2.47260769e-001,  3.13237189e-001],\n",
      "       [-9.03067624e-001,  8.98672101e-001],\n",
      "       [ 3.86218561e-316, -2.61971965e-315],\n",
      "       [ 5.42186352e-001, -5.67939566e-001],\n",
      "       [ 2.72677962e-007, -8.63662466e-007],\n",
      "       [ 1.63614158e-003, -4.96196995e-002],\n",
      "       [-3.05043713e-003,  3.77203177e-003],\n",
      "       [ 3.02695991e-001, -1.05538394e-001],\n",
      "       [ 8.67642535e-001, -8.80287666e-001],\n",
      "       [ 8.37663786e-002, -8.58597595e-002],\n",
      "       [ 1.74569757e-315,  2.31864615e-315],\n",
      "       [-4.39594504e-001,  4.27442436e-001],\n",
      "       [ 1.63281891e-022,  1.95377298e-013],\n",
      "       [-5.47491805e-316,  4.27437040e-317],\n",
      "       [ 1.64359339e-004,  7.51137214e-009],\n",
      "       [ 1.35966526e-001, -1.80737759e-001],\n",
      "       [-8.48710879e-001,  8.13872389e-001],\n",
      "       [ 9.89805403e-001, -1.00769482e+000],\n",
      "       [ 1.45542070e-001, -1.01651934e-001],\n",
      "       [-1.38287087e-001,  6.88459898e-002],\n",
      "       [ 7.92868041e-002, -1.44556030e-002],\n",
      "       [-1.24946582e-315, -2.96695818e-315],\n",
      "       [ 1.33978866e+000, -1.31774200e+000],\n",
      "       [-1.53038437e-001,  1.69025440e-001],\n",
      "       [ 7.39665580e-001, -7.52982212e-001],\n",
      "       [ 1.12205718e-001,  1.13184662e-001],\n",
      "       [ 1.48364331e-316, -6.10293527e-316],\n",
      "       [-2.03747398e-001, -1.29733820e-002],\n",
      "       [-4.06154896e-002,  1.40512564e-002],\n",
      "       [ 5.35938245e-001, -6.01582463e-001],\n",
      "       [-1.17660041e-022,  1.41598312e-021],\n",
      "       [-6.79234221e-008,  2.14647276e-007],\n",
      "       [-2.85278314e-002,  2.74250252e-002],\n",
      "       [-2.62274461e-002,  2.73280483e-002],\n",
      "       [ 4.79417927e-001, -3.79504833e-001],\n",
      "       [ 7.53206353e-316,  2.41891050e-315],\n",
      "       [-1.44147939e-003, -1.23814516e-004],\n",
      "       [ 6.56489440e-002, -1.78499807e-001],\n",
      "       [ 1.12267868e-005,  2.70355337e-005],\n",
      "       [ 1.11269724e+000, -1.10606033e+000],\n",
      "       [ 1.63953886e+000, -1.64625311e+000],\n",
      "       [ 1.56215491e-003,  2.14628265e-003],\n",
      "       [-8.72881174e-001,  9.36136971e-001],\n",
      "       [ 2.56905378e-003,  4.91093139e-002],\n",
      "       [ 1.35490236e-001,  1.35512239e-001],\n",
      "       [-5.69795119e-316, -8.17079273e-316],\n",
      "       [-1.83687476e-316, -7.97458716e-316],\n",
      "       [ 7.87810411e-001, -7.73015067e-001],\n",
      "       [ 1.74243627e-001, -9.08793020e-002],\n",
      "       [-5.97826318e-001,  5.47494303e-001],\n",
      "       [-5.77761166e-002,  8.87703826e-002],\n",
      "       [-3.71502078e-001,  3.64284231e-001],\n",
      "       [-9.74828141e-001,  9.74934919e-001],\n",
      "       [-2.21931189e-001,  1.93005878e-001],\n",
      "       [-1.19309578e+000,  1.16833593e+000],\n",
      "       [-1.44347577e+000,  1.46924750e+000],\n",
      "       [-2.47966607e-002,  2.33174688e-002],\n",
      "       [ 1.89259738e+000, -1.86761528e+000],\n",
      "       [-7.56890549e-003,  3.87794541e-003],\n",
      "       [ 8.52936174e-001, -7.56024512e-001],\n",
      "       [-2.64082565e-001,  2.12113368e-001],\n",
      "       [ 6.76430547e-316, -3.15299025e-315],\n",
      "       [ 1.27262591e-001, -1.82170893e-001],\n",
      "       [ 6.99523262e-003, -4.84052121e-004],\n",
      "       [ 4.90338176e-001, -4.75835066e-001],\n",
      "       [-1.79151851e-315,  9.07303412e-316],\n",
      "       [-3.79521790e-003,  9.33755818e-003],\n",
      "       [-1.19686621e-002,  1.01853280e-002],\n",
      "       [ 2.42606376e-001, -1.24307966e-001],\n",
      "       [ 1.19539007e+000, -1.21927704e+000],\n",
      "       [ 2.01363183e+000, -2.04522518e+000],\n",
      "       [ 6.10211835e-001, -6.08442084e-001],\n",
      "       [ 1.93326331e-003,  4.05870117e-003],\n",
      "       [-1.31510031e-001,  1.98150351e-001],\n",
      "       [-3.17425757e-001,  3.13828052e-001],\n",
      "       [ 5.66387717e-002,  7.13370186e-002],\n",
      "       [ 1.55393814e-001, -2.43782413e-001],\n",
      "       [-1.51940077e-217, -6.35893440e-224],\n",
      "       [-1.11492645e+000,  1.09414408e+000],\n",
      "       [-2.89138283e-003,  7.02508276e-003],\n",
      "       [ 1.53276802e-315,  1.92109464e-315],\n",
      "       [ 1.34248382e-001, -1.95228871e-001],\n",
      "       [-9.10826665e-003,  7.61464700e-004],\n",
      "       [-7.68079759e-003,  8.02375181e-003],\n",
      "       [-2.30935368e-001,  2.56429720e-001],\n",
      "       [ 1.13071733e-001, -1.35445307e-001],\n",
      "       [-5.30771575e-003,  4.14035273e-002],\n",
      "       [ 9.56634793e-001, -9.37406257e-001],\n",
      "       [ 9.07736567e-001, -8.91121774e-001],\n",
      "       [-1.00034369e+000,  1.00060522e+000],\n",
      "       [ 1.06313347e+000, -1.06566651e+000],\n",
      "       [-8.42307369e-002,  1.24873592e-001],\n",
      "       [-1.70550386e-001,  2.03976080e-001],\n",
      "       [-1.00135870e+000,  1.02378574e+000],\n",
      "       [-1.29911633e-001,  1.70131170e-001],\n",
      "       [ 1.25773840e+000, -1.27700213e+000],\n",
      "       [-1.28612084e-001,  1.07026041e-001],\n",
      "       [-5.57827830e-002,  1.27998416e-001],\n",
      "       [ 5.29737392e-002, -4.45178618e-002]])]\n",
      "\n",
      "-------- Testing with metrics---------\n",
      "\n",
      "\n",
      "Lower number of hidden layers:\n",
      "\n",
      "Accuracy= 0.851914130373858\n",
      "Precision Score= [0.8663011  0.82980879]\n",
      "Recall Score= [0.8689     0.83573524]\n",
      "F1-Score= [0.8675986  0.83276147]\n",
      "\n",
      "Higher number of hidden layers:\n",
      "\n",
      "Accuracy= 0.8832464547951347\n",
      "Precision Score= [0.88719303 0.87815126]\n",
      "Recall Score= [0.9068     0.85295243]\n",
      "F1-Score= [0.89688937 0.86536844]\n"
     ]
    }
   ],
   "source": [
    "from sklearn.neural_network import MLPClassifier\n",
    "from sklearn.metrics import precision_score, recall_score, accuracy_score, f1_score\n",
    "\n",
    "X_training = pd.get_dummies(data[[\"age\",\"workclass\",\"education\",\"education-num\",\"marital-status\",\n",
    "              \"occupation\",\"relationship\",\"race\",\"sex\",\"hours-per-week\",\"native-country\"]])\n",
    "Y_training = pd.get_dummies(data[\"label\"])\n",
    "\n",
    "y_true = Y_training\n",
    "\n",
    "\n",
    "print('-------- Lower number of hidden layers ---------\\n')\n",
    "\n",
    "mlp = MLPClassifier(hidden_layer_sizes=(70,70))\n",
    "mlp.fit(X_training, Y_training)\n",
    "y_pred=mlp.predict(X_training)\n",
    "\n",
    "print('Parameters:\\n',mlp)\n",
    "print('\\nPrediction:\\n',y_pred)\n",
    "print('\\nSize of synapsis weights:\\n',\n",
    "      [coef.shape for coef in mlp.coefs_])          # size of synapsis weights\n",
    "print('\\nSynapsis weights:\\n', mlp.coefs_)          # synapsis weights\n",
    "\n",
    "\n",
    "print('\\n-------- Higher number of hidden layers ---------\\n')\n",
    "\n",
    "mlp2 = MLPClassifier(hidden_layer_sizes=(150,150))\n",
    "mlp2.fit(X_training, Y_training)\n",
    "y_pred2 = mlp2.predict(X_training)\n",
    "\n",
    "print('Parameters:\\n',mlp2)\n",
    "print('\\nPrediction:\\n',y_pred)\n",
    "print('\\nSize of synapsis weights:\\n',\n",
    "      [coef.shape for coef in mlp2.coefs_])         # size of synapsis weights\n",
    "print('\\nSynapsis weights:\\n', mlp2.coefs_)         # synapsis weights\n",
    "\n",
    "\n",
    "print('\\n-------- Testing with metrics---------\\n')\n",
    "\n",
    "print('\\nLower number of hidden layers:\\n')\n",
    "\n",
    "print('Accuracy=',accuracy_score(np.array(y_true).flatten(), np.array(y_pred).flatten(), normalize=True))\n",
    "print('Precision Score=',precision_score(y_true, y_pred,average=None))\n",
    "print('Recall Score=',recall_score(y_true, y_pred,average=None))\n",
    "print('F1-Score=',f1_score(y_true, y_pred,average=None))\n",
    "\n",
    "print('\\nHigher number of hidden layers:\\n')\n",
    "\n",
    "print('Accuracy=',accuracy_score(np.array(y_true).flatten(), np.array(y_pred2).flatten(), normalize=True))\n",
    "print('Precision Score=',precision_score(y_true, y_pred2,average=None))\n",
    "print('Recall Score=',recall_score(y_true, y_pred2,average=None))\n",
    "print('F1-Score=',f1_score(y_true, y_pred2,average=None))\n"
   ]
  },
  {
   "cell_type": "markdown",
   "metadata": {},
   "source": [
    "7. (c.iii) Third, try to train your model with one linear activation function and one non linear activation function, name the functions and explain if there is any difference in your networks and why? (you can use evaluation metrics to show which activation function works better for this data set)\n"
   ]
  },
  {
   "cell_type": "code",
   "execution_count": 31,
   "metadata": {},
   "outputs": [
    {
     "name": "stdout",
     "output_type": "stream",
     "text": [
      "\n",
      "--------  Comparing networks with metrics ---------\n",
      "\n",
      "\n",
      "Linear activation function:\n",
      "\n",
      "Accuracy= 0.8045232890533042\n",
      "Precision Score= [0.82047244 0.78331598]\n",
      "Recall Score= [0.8336     0.76763168]\n",
      "F1-Score= [0.82698413 0.77539452]\n",
      "\n",
      "Non linear activation function:\n",
      "\n",
      "Accuracy= 0.8271957849896306\n",
      "Precision Score= [0.84501698 0.80361922]\n",
      "Recall Score= [0.8462     0.80423415]\n",
      "F1-Score= [0.84560807 0.80392657]\n"
     ]
    },
    {
     "name": "stderr",
     "output_type": "stream",
     "text": [
      "/home/philipp/anaconda3/lib/python3.6/site-packages/sklearn/neural_network/multilayer_perceptron.py:562: ConvergenceWarning: Stochastic Optimizer: Maximum iterations (200) reached and the optimization hasn't converged yet.\n",
      "  % self.max_iter, ConvergenceWarning)\n"
     ]
    }
   ],
   "source": [
    "from sklearn.neural_network import MLPClassifier\n",
    "from sklearn.metrics import precision_score, recall_score, accuracy_score, f1_score, confusion_matrix\n",
    "\n",
    "X_training = pd.get_dummies(data[[\"age\",\"workclass\",\"education\",\"education-num\",\"marital-status\",\n",
    "              \"occupation\",\"relationship\",\"race\",\"sex\",\"hours-per-week\",\"native-country\"]])\n",
    "Y_training = pd.get_dummies(data[\"label\"])\n",
    "\n",
    "y_true = Y_training\n",
    "\n",
    "# linear activation function\n",
    "\n",
    "mlp = MLPClassifier(activation='identity')\n",
    "mlp.fit(X_training, Y_training)\n",
    "y_pred=mlp.predict(X_training)\n",
    "\n",
    "# non linear activation function\n",
    "\n",
    "mlp2 = MLPClassifier(activation='logistic')\n",
    "mlp2.fit(X_training, Y_training)\n",
    "y_pred2 = mlp2.predict(X_training)\n",
    "\n",
    "# yor code for comparing two networks\n",
    "\n",
    "print('\\n--------  Comparing networks with metrics ---------\\n')\n",
    "\n",
    "print('\\nLinear activation function:\\n')\n",
    "\n",
    "print('Accuracy=',accuracy_score(np.array(y_true).flatten(), np.array(y_pred).flatten(), normalize=True))\n",
    "print('Precision Score=',precision_score(y_true, y_pred,average=None))\n",
    "print('Recall Score=',recall_score(y_true, y_pred,average=None))\n",
    "print('F1-Score=',f1_score(y_true, y_pred,average=None))\n",
    "\n",
    "print('\\nNon linear activation function:\\n')\n",
    "\n",
    "print('Accuracy=',accuracy_score(np.array(y_true).flatten(), np.array(y_pred2).flatten(), normalize=True))\n",
    "print('Precision Score=',precision_score(y_true, y_pred2,average=None))\n",
    "print('Recall Score=',recall_score(y_true, y_pred2,average=None))\n",
    "print('F1-Score=',f1_score(y_true, y_pred2,average=None))\n",
    "\n"
   ]
  },
  {
   "cell_type": "markdown",
   "metadata": {},
   "source": [
    "Parameters:\n",
    "\n",
    "- 'identity' for linear activation function\n",
    "- 'logistic' for non linear activation function"
   ]
  },
  {
   "cell_type": "markdown",
   "metadata": {},
   "source": [
    "Explanation:\n",
    "\n",
    "The non-linear function is better, because it has overall better metrics scores. This can be seen the best on the accuracy score and the F1-Score.\n",
    "\n",
    "If the non-linear function lies between -1 and 1, then it has a higher weight the closer it gets to the boundaries -1 and 1. In the middle the function is smoothed out. This is not the case for the linear function."
   ]
  },
  {
   "cell_type": "markdown",
   "metadata": {},
   "source": [
    "7. (c.iv) Which model do you recommend to be used as your classifier and why? (with respect to the number of hidden layer and activation function (linear or nonlinear))"
   ]
  },
  {
   "cell_type": "markdown",
   "metadata": {},
   "source": [
    "Explanation:\n",
    "\n",
    "I would recommend a higher number of hidden layers and a non-linear activation function, because the overall performance is better which can be seen by the metrics used in the above tests."
   ]
  },
  {
   "cell_type": "markdown",
   "metadata": {},
   "source": [
    "## Analysing the quality of the prediction models"
   ]
  },
  {
   "cell_type": "markdown",
   "metadata": {},
   "source": [
    "### Question 8 (Evaluation metrics)"
   ]
  },
  {
   "cell_type": "markdown",
   "metadata": {},
   "source": [
    "8. (a) Calculate the following metrics for the model 7. (c, i) and the logistic regression with all the initial attributes in question 6 (c):"
   ]
  },
  {
   "cell_type": "markdown",
   "metadata": {},
   "source": [
    "- Confusion matrices on the training data"
   ]
  },
  {
   "cell_type": "code",
   "execution_count": 32,
   "metadata": {},
   "outputs": [
    {
     "name": "stderr",
     "output_type": "stream",
     "text": [
      "/home/philipp/anaconda3/lib/python3.6/site-packages/sklearn/neural_network/multilayer_perceptron.py:564: UserWarning: Training interrupted by user.\n",
      "  warnings.warn(\"Training interrupted by user.\")\n"
     ]
    },
    {
     "name": "stdout",
     "output_type": "stream",
     "text": [
      "Neural Network:\n",
      "\n",
      "Confusion Matrix:\n",
      " [[8238 1762]\n",
      " [1091 6750]]\n",
      "\n",
      "Regression:\n",
      "\n",
      "Confusion Matrix:\n",
      " [[8132 1868]\n",
      " [1556 6285]]\n"
     ]
    }
   ],
   "source": [
    "import pandas as pd\n",
    "from sklearn.neural_network import MLPClassifier\n",
    "from sklearn.metrics import precision_score, recall_score, accuracy_score, f1_score, confusion_matrix\n",
    "\n",
    "test_data = pd.read_csv(\"adult.data-3.csv\")\n",
    "\n",
    "X_training = pd.get_dummies(test_data[[\"age\",\"workclass\",\"education\",\"education-num\",\"marital-status\",\n",
    "              \"occupation\",\"relationship\",\"race\",\"sex\",\"hours-per-week\",\"native-country\"]])\n",
    "Y_training = pd.get_dummies(test_data[\"label\"])\n",
    "\n",
    "y_true_training = Y_training\n",
    "\n",
    "# neural network\n",
    "\n",
    "mlpTraining = MLPClassifier()\n",
    "mlpTraining.fit(X_training, Y_training)\n",
    "y_pred_training_network = mlpTraining.predict(X_training)\n",
    "\n",
    "print('Neural Network:\\n')\n",
    "print('Confusion Matrix:\\n',confusion_matrix(y_true_training.values.argmax(axis=1), y_pred_training_network.argmax(axis=1)))\n",
    "\n",
    "# regression\n",
    "\n",
    "from sklearn.linear_model import LogisticRegression\n",
    "\n",
    "y = test_data[\"label\"]\n",
    "\n",
    "classifierRegression = LogisticRegression( solver = 'liblinear', multi_class = 'ovr')\n",
    "classifierRegression.fit(X_training, y.ravel())\n",
    "\n",
    "y_pred_training_regression = classifierRegression.predict(X_training)\n",
    "encoded_y_pred_training_regression = pd.get_dummies(y_pred_training_regression)\n",
    "\n",
    "print('\\nRegression:\\n')\n",
    "print('Confusion Matrix:\\n',confusion_matrix(y_true_training.values.argmax(axis=1), encoded_y_pred_training_regression.values.argmax(axis=1)))\n"
   ]
  },
  {
   "cell_type": "markdown",
   "metadata": {},
   "source": [
    "- Confusion matrices on the test data"
   ]
  },
  {
   "cell_type": "code",
   "execution_count": 33,
   "metadata": {},
   "outputs": [
    {
     "name": "stdout",
     "output_type": "stream",
     "text": [
      "Neural Network:\n",
      "\n",
      "Confusion Matrix:\n",
      " [[9874 2561]\n",
      " [ 738 3108]]\n",
      "\n",
      "Regression:\n",
      "\n",
      "Confusion Matrix:\n",
      " [[10080  2355]\n",
      " [  794  3052]]\n"
     ]
    }
   ],
   "source": [
    "import pandas as pd\n",
    "from sklearn.neural_network import MLPClassifier\n",
    "from sklearn.metrics import precision_score, recall_score, accuracy_score, f1_score, confusion_matrix\n",
    "\n",
    "test_data = pd.read_csv(\"adult.test-3.csv\")\n",
    "\n",
    "X_test = pd.get_dummies(test_data[[\"age\",\"workclass\",\"education\",\"education-num\",\"marital-status\",\n",
    "              \"occupation\",\"relationship\",\"race\",\"sex\",\"hours-per-week\",\"native-country\"]])\n",
    "Y_test = pd.get_dummies(test_data[\"label\"])\n",
    "\n",
    "y_true_test = Y_test\n",
    "\n",
    "# neural network\n",
    "\n",
    "y_pred_test_network = mlpTraining.predict(X_test)\n",
    "\n",
    "print('Neural Network:\\n')\n",
    "print('Confusion Matrix:\\n',confusion_matrix(y_true_test.values.argmax(axis=1), y_pred_test_network.argmax(axis=1)))\n",
    "\n",
    "# regression\n",
    "\n",
    "y_pred_test_regression = classifierRegression.predict(X_test)\n",
    "encoded_y_pred_test_regression = pd.get_dummies(y_pred_test_regression)\n",
    "\n",
    "print('\\nRegression:\\n')\n",
    "print('Confusion Matrix:\\n',confusion_matrix(y_true_test.values.argmax(axis=1), encoded_y_pred_test_regression.values.argmax(axis=1)))\n"
   ]
  },
  {
   "cell_type": "markdown",
   "metadata": {},
   "source": [
    "- Precision, recall and F1-scores on the test data"
   ]
  },
  {
   "cell_type": "code",
   "execution_count": 34,
   "metadata": {},
   "outputs": [
    {
     "name": "stdout",
     "output_type": "stream",
     "text": [
      "Neural Network on test data:\n",
      "\n",
      "Precision Score= [0.93132884 0.54698753]\n",
      "Recall Score= [0.78962606 0.80967239]\n",
      "F1-Score= [0.85464357 0.65289863]\n",
      "\n",
      "Regression on test data:\n",
      "\n",
      "Precision Score= [0.92698179 0.56445349]\n",
      "Recall Score= [0.8106152  0.79355174]\n",
      "F1-Score= [0.86490197 0.65967794]\n"
     ]
    }
   ],
   "source": [
    "print('Neural Network on test data:\\n')\n",
    "\n",
    "print('Precision Score=',precision_score(y_true_test, y_pred_test_network,average=None))\n",
    "print('Recall Score=',recall_score(y_true_test, y_pred_test_network,average=None))\n",
    "print('F1-Score=',f1_score(y_true_test, y_pred_test_network,average=None))\n",
    "\n",
    "print('\\nRegression on test data:\\n')\n",
    "\n",
    "print('Precision Score=',precision_score(y_true_test, encoded_y_pred_test_regression,average=None))\n",
    "print('Recall Score=',recall_score(y_true_test, encoded_y_pred_test_regression,average=None))\n",
    "print('F1-Score=',f1_score(y_true_test, encoded_y_pred_test_regression,average=None))\n"
   ]
  },
  {
   "cell_type": "markdown",
   "metadata": {},
   "source": [
    "- Accuracy scores on training and test data"
   ]
  },
  {
   "cell_type": "code",
   "execution_count": 35,
   "metadata": {},
   "outputs": [
    {
     "name": "stdout",
     "output_type": "stream",
     "text": [
      "Neural Network Accuracy:\n",
      "\n",
      "Training= 0.8397511350260636\n",
      "Test= 0.7957435046987286\n",
      "\n",
      "Regression Accuracy:\n",
      "\n",
      "Training= 0.8080825065859537\n",
      "Test= 0.8065843621399177\n"
     ]
    }
   ],
   "source": [
    "print('Neural Network Accuracy:\\n')\n",
    "\n",
    "print('Training=',accuracy_score(np.array(y_true_training).flatten(), np.array(y_pred_training_network).flatten(), normalize=True))\n",
    "print('Test=',accuracy_score(np.array(y_true_test).flatten(), np.array(y_pred_test_network).flatten(), normalize=True))\n",
    "\n",
    "print('\\nRegression Accuracy:\\n')\n",
    "\n",
    "print('Training=',accuracy_score(np.array(y_true_training).flatten(), np.array(encoded_y_pred_training_regression).flatten(), normalize=True))\n",
    "print('Test=',accuracy_score(np.array(y_true_test).flatten(), np.array(encoded_y_pred_test_regression).flatten(), normalize=True))\n"
   ]
  },
  {
   "cell_type": "markdown",
   "metadata": {},
   "source": [
    "In order to turn numbers into insights, please comment on your findings. Motivate the answers to the following questions using the metrics and the findings in the questions 1 through 7."
   ]
  },
  {
   "cell_type": "markdown",
   "metadata": {},
   "source": [
    "8. (b) What is, in your opinion, the best model? Motivate your answer with the correct performance metrics."
   ]
  },
  {
   "cell_type": "markdown",
   "metadata": {},
   "source": [
    "Explanation:\n",
    "\n",
    "In my opinion the regression model is better, it has a higher accuracy compared to the neural network. The neural network loses about 3% of accuracy when switching to the test data, whereas the regression model has a 1% lower accuracy but almost loses no accuracy when switching to the test data. Also the F1-Score for the regression model is about 2% higher than the F1-Score of the neural network. Additionally, the confusion matrix of the regression model shows that it misclassifies less items."
   ]
  },
  {
   "cell_type": "markdown",
   "metadata": {},
   "source": [
    "8. (c) Does any model suffer from underfitting or overfitting? Motivate your answer with the correct performance metrics."
   ]
  },
  {
   "cell_type": "markdown",
   "metadata": {},
   "source": [
    "Explanation:\n",
    "\n",
    "I think both model suffer from overfitting. This can be seen by the confusion-matrix and the F1-Score which is a weighted average of Precision Score and Recall Score."
   ]
  },
  {
   "cell_type": "markdown",
   "metadata": {},
   "source": [
    "8. (d) In the hypothesis that a separate validation set is not available, how would you proceed in evaluating a model? Refer to the evaluation techniques seen in the lectures."
   ]
  },
  {
   "cell_type": "markdown",
   "metadata": {},
   "source": [
    "Explanation:\n",
    "\n",
    "Some of the evaluation techniques are k-fold cross validation, leave-one-out cross validation, bootstrapping or out-of-time-sampling.\n",
    "\n",
    "K-fold cross validation seperates the data in k sections and uses only one of the k sections for testing. In the next fold (round) another section is used for testing. This continues until all sections were tested.\n",
    "\n",
    "Leave-one-out cross validation is used when the data is really small. It is like k-fold cross validation, but with increasing the k to a maximum, which leads to test data being single instances instead of sections.\n",
    "\n",
    "Boostrapping randomly selects a number of m instances for a test set. This selection is repeated k times. It is also best used on small data sets.\n",
    "\n",
    "Out-of-time sampling works best when there is a concept drift and the data becomes dependant of each other. Then its best to take the oldest data for training and the newest data for testing."
   ]
  }
 ],
 "metadata": {
  "kernelspec": {
   "display_name": "Python 3",
   "language": "python",
   "name": "python3"
  },
  "language_info": {
   "codemirror_mode": {
    "name": "ipython",
    "version": 3
   },
   "file_extension": ".py",
   "mimetype": "text/x-python",
   "name": "python",
   "nbconvert_exporter": "python",
   "pygments_lexer": "ipython3",
   "version": "3.6.8"
  }
 },
 "nbformat": 4,
 "nbformat_minor": 2
}
