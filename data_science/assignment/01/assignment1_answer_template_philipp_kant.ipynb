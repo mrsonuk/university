{
 "cells": [
  {
   "cell_type": "markdown",
   "metadata": {},
   "source": [
    "# IDS Assignment 1\n",
    "Document your results as well as the way you obtained them in this jupyter notebook. A seperate report (pdf, word etc.) is _not_ required. However, it is necessary that you provide the python code leading to your results as well as textual answers to the assignment questions in this notebook. \n",
    "\n",
    "Do not change the general structure of this notebook, but you can add further markdown or code cells to explain your solutions if necessary. In the end, submit this file in moodle."
   ]
  },
  {
   "cell_type": "markdown",
   "metadata": {},
   "source": [
    "## Get to know the data"
   ]
  },
  {
   "cell_type": "markdown",
   "metadata": {},
   "source": [
    "### Question 1 (Indicating type): \n",
    "1. Identify precise type of each attribute. Note that the right answers are like: “numerical-continuous-ratio”, just Numerical or Categorical is not enough."
   ]
  },
  {
   "cell_type": "code",
   "execution_count": 1,
   "metadata": {},
   "outputs": [],
   "source": [
    "import numpy as np\n",
    "import pandas as pd\n",
    "import matplotlib.pyplot as plt\n",
    "import matplotlib as mpl\n",
    "import seaborn as sns\n",
    "\n",
    "sns.set_palette(\"deep\")\n",
    "mpl.rcParams['axes.axisbelow'] = True\n",
    "mpl.rcParams['grid.color'] = '0.7'\n",
    "mpl.rcParams['figure.figsize'] = '14, 7'"
   ]
  },
  {
   "cell_type": "code",
   "execution_count": 2,
   "metadata": {
    "scrolled": false
   },
   "outputs": [
    {
     "data": {
      "text/html": [
       "<div>\n",
       "<style scoped>\n",
       "    .dataframe tbody tr th:only-of-type {\n",
       "        vertical-align: middle;\n",
       "    }\n",
       "\n",
       "    .dataframe tbody tr th {\n",
       "        vertical-align: top;\n",
       "    }\n",
       "\n",
       "    .dataframe thead th {\n",
       "        text-align: right;\n",
       "    }\n",
       "</style>\n",
       "<table border=\"1\" class=\"dataframe\">\n",
       "  <thead>\n",
       "    <tr style=\"text-align: right;\">\n",
       "      <th></th>\n",
       "      <th>age</th>\n",
       "      <th>workclass</th>\n",
       "      <th>education</th>\n",
       "      <th>education-num</th>\n",
       "      <th>marital-status</th>\n",
       "      <th>occupation</th>\n",
       "      <th>relationship</th>\n",
       "      <th>race</th>\n",
       "      <th>sex</th>\n",
       "      <th>hours-per-week</th>\n",
       "      <th>native-country</th>\n",
       "      <th>label</th>\n",
       "    </tr>\n",
       "  </thead>\n",
       "  <tbody>\n",
       "    <tr>\n",
       "      <th>0</th>\n",
       "      <td>50</td>\n",
       "      <td>Self-emp-not-inc</td>\n",
       "      <td>Bachelors</td>\n",
       "      <td>13</td>\n",
       "      <td>Married-civ-spouse</td>\n",
       "      <td>Exec-managerial</td>\n",
       "      <td>Husband</td>\n",
       "      <td>White</td>\n",
       "      <td>Male</td>\n",
       "      <td>13</td>\n",
       "      <td>United-States</td>\n",
       "      <td>&lt;=50K</td>\n",
       "    </tr>\n",
       "    <tr>\n",
       "      <th>1</th>\n",
       "      <td>53</td>\n",
       "      <td>Private</td>\n",
       "      <td>11th</td>\n",
       "      <td>7</td>\n",
       "      <td>Married-civ-spouse</td>\n",
       "      <td>Handlers-cleaners</td>\n",
       "      <td>Husband</td>\n",
       "      <td>Black</td>\n",
       "      <td>Male</td>\n",
       "      <td>40</td>\n",
       "      <td>United-States</td>\n",
       "      <td>&lt;=50K</td>\n",
       "    </tr>\n",
       "    <tr>\n",
       "      <th>2</th>\n",
       "      <td>49</td>\n",
       "      <td>Private</td>\n",
       "      <td>9th</td>\n",
       "      <td>5</td>\n",
       "      <td>Married-spouse-absent</td>\n",
       "      <td>Other-service</td>\n",
       "      <td>Not-in-family</td>\n",
       "      <td>Black</td>\n",
       "      <td>Female</td>\n",
       "      <td>16</td>\n",
       "      <td>Jamaica</td>\n",
       "      <td>&lt;=50K</td>\n",
       "    </tr>\n",
       "    <tr>\n",
       "      <th>3</th>\n",
       "      <td>52</td>\n",
       "      <td>Self-emp-not-inc</td>\n",
       "      <td>HS-grad</td>\n",
       "      <td>9</td>\n",
       "      <td>Married-civ-spouse</td>\n",
       "      <td>Exec-managerial</td>\n",
       "      <td>Husband</td>\n",
       "      <td>White</td>\n",
       "      <td>Male</td>\n",
       "      <td>45</td>\n",
       "      <td>United-States</td>\n",
       "      <td>&gt;50K</td>\n",
       "    </tr>\n",
       "    <tr>\n",
       "      <th>4</th>\n",
       "      <td>31</td>\n",
       "      <td>Private</td>\n",
       "      <td>Masters</td>\n",
       "      <td>14</td>\n",
       "      <td>Never-married</td>\n",
       "      <td>Prof-specialty</td>\n",
       "      <td>Not-in-family</td>\n",
       "      <td>White</td>\n",
       "      <td>Female</td>\n",
       "      <td>50</td>\n",
       "      <td>United-States</td>\n",
       "      <td>&gt;50K</td>\n",
       "    </tr>\n",
       "  </tbody>\n",
       "</table>\n",
       "</div>"
      ],
      "text/plain": [
       "   age         workclass  education  education-num         marital-status  \\\n",
       "0   50  Self-emp-not-inc  Bachelors             13     Married-civ-spouse   \n",
       "1   53           Private       11th              7     Married-civ-spouse   \n",
       "2   49           Private        9th              5  Married-spouse-absent   \n",
       "3   52  Self-emp-not-inc    HS-grad              9     Married-civ-spouse   \n",
       "4   31           Private    Masters             14          Never-married   \n",
       "\n",
       "          occupation   relationship   race     sex  hours-per-week  \\\n",
       "0    Exec-managerial        Husband  White    Male              13   \n",
       "1  Handlers-cleaners        Husband  Black    Male              40   \n",
       "2      Other-service  Not-in-family  Black  Female              16   \n",
       "3    Exec-managerial        Husband  White    Male              45   \n",
       "4     Prof-specialty  Not-in-family  White  Female              50   \n",
       "\n",
       "  native-country  label  \n",
       "0  United-States  <=50K  \n",
       "1  United-States  <=50K  \n",
       "2        Jamaica  <=50K  \n",
       "3  United-States   >50K  \n",
       "4  United-States   >50K  "
      ]
     },
     "execution_count": 2,
     "metadata": {},
     "output_type": "execute_result"
    }
   ],
   "source": [
    "data = pd.read_csv('adult.data-3.csv')\n",
    "data.head()"
   ]
  },
  {
   "cell_type": "code",
   "execution_count": 3,
   "metadata": {
    "scrolled": true
   },
   "outputs": [
    {
     "data": {
      "text/plain": [
       "age                int64\n",
       "workclass         object\n",
       "education         object\n",
       "education-num      int64\n",
       "marital-status    object\n",
       "occupation        object\n",
       "relationship      object\n",
       "race              object\n",
       "sex               object\n",
       "hours-per-week     int64\n",
       "native-country    object\n",
       "label             object\n",
       "dtype: object"
      ]
     },
     "execution_count": 3,
     "metadata": {},
     "output_type": "execute_result"
    }
   ],
   "source": [
    "data.dtypes"
   ]
  },
  {
   "cell_type": "markdown",
   "metadata": {},
   "source": [
    "Explanation:\n",
    "\n",
    "|attribute|type|\n",
    "|---|----|\n",
    "|age|numerical-discrete|\n",
    "|workclass|categorical-nominal|\n",
    "|education|categorical-ordinal|\n",
    "|education-num|numerical-discrete|\n",
    "|marital-status|categorical-nominal|\n",
    "|occupation|categorical-nominal|\n",
    "|relationship|categorical-nominal|\n",
    "|race|categorical-nominal|\n",
    "|sex|categorical-nominal|\n",
    "|hours-per-week|numerical-discrete|\n",
    "|native-country|categorical-nominal|"
   ]
  },
  {
   "cell_type": "markdown",
   "metadata": {},
   "source": [
    "### Question 2 (Removing outliers):\n",
    "2. (a) Explore into \"age\" and \"hours-per-week\" and identify outliers (Boxplot returns whiskers). After identifying outliers, remove them (do it just once on the data set). Now you should have two data sets (cleaned and original)."
   ]
  },
  {
   "cell_type": "code",
   "execution_count": 4,
   "metadata": {
    "scrolled": false
   },
   "outputs": [
    {
     "name": "stdout",
     "output_type": "stream",
     "text": [
      "age:\n",
      "--------------------\n",
      "count    17841.000000\n",
      "mean        40.102965\n",
      "std         13.156900\n",
      "min         17.000000\n",
      "25%         30.000000\n",
      "50%         39.000000\n",
      "75%         49.000000\n",
      "max         90.000000\n",
      "Name: age, dtype: float64\n",
      "Number of missing values:  0\n",
      "Number of unique values:  70\n",
      "\n",
      "hours-per-week:\n",
      "--------------------\n",
      "count    17841.000000\n",
      "mean        41.748332\n",
      "std         12.207203\n",
      "min          1.000000\n",
      "25%         40.000000\n",
      "50%         40.000000\n",
      "75%         48.000000\n",
      "max         99.000000\n",
      "Name: hours-per-week, dtype: float64\n",
      "Number of missing values:  0\n",
      "Number of unique values:  92\n"
     ]
    }
   ],
   "source": [
    "# your code\n",
    "print('age:\\n--------------------')\n",
    "print(data['age'].describe())\n",
    "print('Number of missing values: ', data['age'].isna().sum())\n",
    "print('Number of unique values: ', data['age'].nunique())\n",
    "\n",
    "print('\\nhours-per-week:\\n--------------------')\n",
    "print(data['hours-per-week'].describe())\n",
    "print('Number of missing values: ', data['hours-per-week'].isna().sum())\n",
    "print('Number of unique values: ', data['hours-per-week'].nunique())"
   ]
  },
  {
   "cell_type": "markdown",
   "metadata": {},
   "source": [
    "#### Distribution of age"
   ]
  },
  {
   "cell_type": "code",
   "execution_count": 5,
   "metadata": {
    "scrolled": false
   },
   "outputs": [
    {
     "data": {
      "image/png": "[encoded data removed]",
      "text/plain": [
       "<Figure size 432x288 with 1 Axes>"
      ]
     },
     "metadata": {
      "needs_background": "light"
     },
     "output_type": "display_data"
    }
   ],
   "source": [
    "fig, ax = plt.subplots()\n",
    "number_of_bins = data['age'].max() - data['age'].min() + 1\n",
    "ax.hist(data['age'], number_of_bins, edgecolor='black', linewidth=0.2)\n",
    "ax.set_title('Distribution of age')\n",
    "ax.set_xlabel('age')\n",
    "ax.set_ylabel('frequency')\n",
    "ax.grid(axis='y')\n",
    "plt.show()"
   ]
  },
  {
   "cell_type": "markdown",
   "metadata": {},
   "source": [
    "#### Distribution of hours-per-week"
   ]
  },
  {
   "cell_type": "code",
   "execution_count": 6,
   "metadata": {
    "scrolled": false
   },
   "outputs": [
    {
     "data": {
      "image/png": "[encoded data removed]",
      "text/plain": [
       "<Figure size 432x288 with 1 Axes>"
      ]
     },
     "metadata": {
      "needs_background": "light"
     },
     "output_type": "display_data"
    }
   ],
   "source": [
    "fig, ax = plt.subplots()\n",
    "number_of_bins = 11\n",
    "ax.hist(data['hours-per-week'], number_of_bins, edgecolor='black', linewidth=0.2)\n",
    "ax.set_title('Distribution of hours-per-week')\n",
    "ax.set_xlabel('hours-per-week')\n",
    "ax.set_ylabel('frequency')\n",
    "ax.grid(axis='y')\n",
    "plt.show()"
   ]
  },
  {
   "cell_type": "code",
   "execution_count": 7,
   "metadata": {},
   "outputs": [],
   "source": [
    "IQR_age = data['age'].quantile(0.75) - data['age'].quantile(0.25)\n",
    "upper_fence_age = data['age'].quantile(0.75) + 1.5 * IQR_age\n",
    "lower_fence_age = data['age'].quantile(0.25) - 1.5 * IQR_age\n",
    "\n",
    "IQR_hours_per_week = data['hours-per-week'].quantile(0.75) - data['hours-per-week'].quantile(0.25)\n",
    "upper_fence_hours_per_week = data['hours-per-week'].quantile(0.75) + 1.5 * IQR_hours_per_week\n",
    "lower_fence_hours_per_week = data['hours-per-week'].quantile(0.25) - 1.5 * IQR_hours_per_week"
   ]
  },
  {
   "cell_type": "code",
   "execution_count": 8,
   "metadata": {
    "scrolled": false
   },
   "outputs": [
    {
     "data": {
      "image/png": "[encoded data removed]",
      "text/plain": [
       "<Figure size 432x288 with 1 Axes>"
      ]
     },
     "metadata": {
      "needs_background": "light"
     },
     "output_type": "display_data"
    }
   ],
   "source": [
    "medianprops = dict(linestyle='-', linewidth=1.5, color='firebrick') # properties for median line in boxplot\n",
    "\n",
    "fig, ax = plt.subplots()\n",
    "ax.boxplot(data['age'], medianprops=medianprops, labels=['data[\\'age\\']'])\n",
    "ax.axhline(y=upper_fence_age, alpha=0.5, label='upper fence', linestyle='--', color='salmon')\n",
    "ax.axhline(y=lower_fence_age, alpha=0.5, label='lower fence', linestyle='--', color='mediumslateblue')\n",
    "ax.legend()\n",
    "plt.show()"
   ]
  },
  {
   "cell_type": "code",
   "execution_count": 9,
   "metadata": {
    "scrolled": false
   },
   "outputs": [
    {
     "data": {
      "image/png": "[encoded data removed]",
      "text/plain": [
       "<Figure size 432x288 with 1 Axes>"
      ]
     },
     "metadata": {
      "needs_background": "light"
     },
     "output_type": "display_data"
    }
   ],
   "source": [
    "fig, ax = plt.subplots()\n",
    "ax.boxplot(data['hours-per-week'], medianprops=medianprops, labels=['data[\\'hours-per-week\\']'])\n",
    "ax.axhline(y=upper_fence_hours_per_week, alpha=0.5, label='upper fence', linestyle='--', color='salmon')\n",
    "ax.axhline(y=lower_fence_hours_per_week, alpha=0.5, label='lower fence', linestyle='--', color='mediumslateblue')\n",
    "ax.legend()\n",
    "plt.show()"
   ]
  },
  {
   "cell_type": "code",
   "execution_count": 10,
   "metadata": {
    "scrolled": true
   },
   "outputs": [],
   "source": [
    "data_clean = data[(data['age'] <= upper_fence_age) &\n",
    "                  (data['age'] >= lower_fence_age) &\n",
    "                  (data['hours-per-week'] <= upper_fence_hours_per_week) &\n",
    "                  (data['hours-per-week'] >= lower_fence_hours_per_week)]"
   ]
  },
  {
   "cell_type": "markdown",
   "metadata": {},
   "source": [
    "2. (b) Draw Boxplot of the cleaned data set for \"hours-per-week\". Is there still any outlier? If so, explain why?"
   ]
  },
  {
   "cell_type": "code",
   "execution_count": 11,
   "metadata": {
    "scrolled": false
   },
   "outputs": [
    {
     "data": {
      "image/png": "[encoded data removed]",
      "text/plain": [
       "<Figure size 432x288 with 1 Axes>"
      ]
     },
     "metadata": {
      "needs_background": "light"
     },
     "output_type": "display_data"
    }
   ],
   "source": [
    "# your code\n",
    "fig, ax = plt.subplots()\n",
    "ax.boxplot([data['hours-per-week'], data_clean['hours-per-week']], labels=['data', 'data_clean'], medianprops=medianprops)\n",
    "ax.grid(axis='y')\n",
    "ax.set_xlabel('hours-per-week')\n",
    "plt.show()"
   ]
  },
  {
   "cell_type": "code",
   "execution_count": 12,
   "metadata": {},
   "outputs": [
    {
     "data": {
      "text/plain": [
       "count    17841.000000\n",
       "mean        41.748332\n",
       "std         12.207203\n",
       "min          1.000000\n",
       "25%         40.000000\n",
       "50%         40.000000\n",
       "75%         48.000000\n",
       "max         99.000000\n",
       "Name: hours-per-week, dtype: float64"
      ]
     },
     "execution_count": 12,
     "metadata": {},
     "output_type": "execute_result"
    }
   ],
   "source": [
    "data['hours-per-week'].describe()"
   ]
  },
  {
   "cell_type": "code",
   "execution_count": 13,
   "metadata": {},
   "outputs": [
    {
     "data": {
      "text/plain": [
       "count    15311.000000\n",
       "mean        43.060153\n",
       "std          6.872676\n",
       "min         28.000000\n",
       "25%         40.000000\n",
       "50%         40.000000\n",
       "75%         48.000000\n",
       "max         60.000000\n",
       "Name: hours-per-week, dtype: float64"
      ]
     },
     "execution_count": 13,
     "metadata": {},
     "output_type": "execute_result"
    }
   ],
   "source": [
    "data_clean['hours-per-week'].describe()"
   ]
  },
  {
   "cell_type": "markdown",
   "metadata": {},
   "source": [
    "Explanation: Sometimes after removing outliers with the boxplot method there are still outliers if you visualize the data again as a box plot. Because after removing the outliers it could be very well the case that the new data set has different quartiles and therefore different upper and lower fences.\n",
    "\n",
    "**Here** it is not the case: after removing the outliers of the original data set there aren't any outliers for \"hours-per-week\" in the cleaned data set."
   ]
  },
  {
   "cell_type": "markdown",
   "metadata": {},
   "source": [
    "### Question 3 (Basic visualization):\n",
    "3. (a) Visualize mean and median of \"age\", and \"hours-per-week\" per \"sex\" by separate plots for the cleaned and the original data sets (there should be 8 plots, 4 plots for the original data set and 4 plots for the cleaned data set). "
   ]
  },
  {
   "cell_type": "code",
   "execution_count": 14,
   "metadata": {
    "scrolled": false
   },
   "outputs": [
    {
     "data": {
      "image/png": "[encoded data removed]",
      "text/plain": [
       "<Figure size 432x288 with 1 Axes>"
      ]
     },
     "metadata": {
      "needs_background": "light"
     },
     "output_type": "display_data"
    },
    {
     "data": {
      "image/png": "[encoded data removed]",
      "text/plain": [
       "<Figure size 432x288 with 1 Axes>"
      ]
     },
     "metadata": {
      "needs_background": "light"
     },
     "output_type": "display_data"
    },
    {
     "data": {
      "image/png": "[encoded data removed]",
      "text/plain": [
       "<Figure size 432x288 with 1 Axes>"
      ]
     },
     "metadata": {
      "needs_background": "light"
     },
     "output_type": "display_data"
    },
    {
     "data": {
      "image/png": "[encoded data removed]",
      "text/plain": [
       "<Figure size 432x288 with 1 Axes>"
      ]
     },
     "metadata": {
      "needs_background": "light"
     },
     "output_type": "display_data"
    },
    {
     "data": {
      "image/png": "[encoded data removed]",
      "text/plain": [
       "<Figure size 432x288 with 1 Axes>"
      ]
     },
     "metadata": {
      "needs_background": "light"
     },
     "output_type": "display_data"
    },
    {
     "data": {
      "image/png": "[encoded data removed]",
      "text/plain": [
       "<Figure size 432x288 with 1 Axes>"
      ]
     },
     "metadata": {
      "needs_background": "light"
     },
     "output_type": "display_data"
    },
    {
     "data": {
      "image/png": "[encoded data removed]",
      "text/plain": [
       "<Figure size 432x288 with 1 Axes>"
      ]
     },
     "metadata": {
      "needs_background": "light"
     },
     "output_type": "display_data"
    },
    {
     "data": {
      "image/png": "[encoded data removed]",
      "text/plain": [
       "<Figure size 432x288 with 1 Axes>"
      ]
     },
     "metadata": {
      "needs_background": "light"
     },
     "output_type": "display_data"
    }
   ],
   "source": [
    "functions = ['mean', 'median']\n",
    "#data.name = 'Original data set'\n",
    "#data_clean.name = 'Clean data set'\n",
    "\n",
    "for df in [data, data_clean]:\n",
    "    for attribute in ['age', 'hours-per-week']:\n",
    "        for sex in ['Male', 'Female']:\n",
    "            mean_median = df.loc[df['sex'] == sex, attribute].agg(functions).values\n",
    "            fig, ax = plt.subplots()\n",
    "            ax.bar(x=functions, height=mean_median)\n",
    "            #ax.set_title('df')\n",
    "            ax.set_xlabel(sex)\n",
    "            ax.set_ylabel(attribute)\n",
    "            ax.grid(axis='y')\n",
    "            plt.show()   "
   ]
  },
  {
   "cell_type": "code",
   "execution_count": 15,
   "metadata": {
    "scrolled": true
   },
   "outputs": [
    {
     "data": {
      "text/plain": [
       "mean      41.121176\n",
       "median    40.000000\n",
       "Name: age, dtype: float64"
      ]
     },
     "execution_count": 15,
     "metadata": {},
     "output_type": "execute_result"
    }
   ],
   "source": [
    "data.loc[data['sex'] == 'Male', 'age'].agg(functions)"
   ]
  },
  {
   "cell_type": "code",
   "execution_count": 16,
   "metadata": {
    "scrolled": true
   },
   "outputs": [
    {
     "data": {
      "text/plain": [
       "mean      37.575917\n",
       "median    36.000000\n",
       "Name: age, dtype: float64"
      ]
     },
     "execution_count": 16,
     "metadata": {},
     "output_type": "execute_result"
    }
   ],
   "source": [
    "data.loc[data['sex'] == 'Female', 'age'].agg(functions)"
   ]
  },
  {
   "cell_type": "code",
   "execution_count": 17,
   "metadata": {},
   "outputs": [
    {
     "data": {
      "text/plain": [
       "mean      40.998311\n",
       "median    40.000000\n",
       "Name: age, dtype: float64"
      ]
     },
     "execution_count": 17,
     "metadata": {},
     "output_type": "execute_result"
    }
   ],
   "source": [
    "data_clean.loc[data_clean['sex'] == 'Male', 'age'].agg(functions)"
   ]
  },
  {
   "cell_type": "code",
   "execution_count": 18,
   "metadata": {},
   "outputs": [
    {
     "data": {
      "text/plain": [
       "mean      37.772694\n",
       "median    37.000000\n",
       "Name: age, dtype: float64"
      ]
     },
     "execution_count": 18,
     "metadata": {},
     "output_type": "execute_result"
    }
   ],
   "source": [
    "data_clean.loc[data_clean['sex'] == 'Female', 'age'].agg(functions)"
   ]
  },
  {
   "cell_type": "markdown",
   "metadata": {},
   "source": [
    "3. (b) Explain how mean and median of \"age\" per \"sex\" change when you remove the outliers."
   ]
  },
  {
   "cell_type": "markdown",
   "metadata": {},
   "source": [
    "Explanation: Looking at the plots we can see that by removing the outliers the median of the age for males doesn't change at all, while the median of the age for females goes up by 1 (from 36 to 37). The mean of the age for both males and females changes only marginally."
   ]
  },
  {
   "cell_type": "markdown",
   "metadata": {},
   "source": [
    "### Question 4 (Distribution):\n",
    "4. (a) Explore into distribution of \"age\" in the original data set. Does it have any well-known distribution (normal, uniform, skewed, ...)? If so, what are the main statistical features (mean, median, and mode) of this specific type of distribution."
   ]
  },
  {
   "cell_type": "code",
   "execution_count": 19,
   "metadata": {
    "scrolled": false
   },
   "outputs": [
    {
     "data": {
      "image/png": "[encoded data removed]",
      "text/plain": [
       "<Figure size 432x288 with 1 Axes>"
      ]
     },
     "metadata": {
      "needs_background": "light"
     },
     "output_type": "display_data"
    }
   ],
   "source": [
    "# your code\n",
    "fig, ax = plt.subplots()\n",
    "number_of_bins = data['age'].max() - data['age'].min() + 1\n",
    "ax.hist(data['age'], number_of_bins, edgecolor='black', linewidth=0.2)\n",
    "ax.set_title('Distribution of age')\n",
    "ax.set_xlabel('age')\n",
    "ax.set_ylabel('frequency')\n",
    "ax.grid(axis='y')\n",
    "plt.show()"
   ]
  },
  {
   "cell_type": "code",
   "execution_count": 20,
   "metadata": {},
   "outputs": [
    {
     "name": "stdout",
     "output_type": "stream",
     "text": [
      "40.10296508043271\n",
      "39.0\n",
      "[37]\n"
     ]
    }
   ],
   "source": [
    "print(data['age'].mean())\n",
    "print(data['age'].median())\n",
    "print(data['age'].mode().values)"
   ]
  },
  {
   "cell_type": "markdown",
   "metadata": {},
   "source": [
    "Explanation: The distribution of the attribute \"age\" is unimodal (skewed right). The mean is 40.1, the median is 39 and the most frequent value (mode) is 37."
   ]
  },
  {
   "cell_type": "markdown",
   "metadata": {},
   "source": [
    "4. (b) Explore into distribution of \"age\" and \"hours-per-week\" together. Explain how the data is distributed with respect to these two attributes in the original data sets (using Jointplot)?\n"
   ]
  },
  {
   "cell_type": "code",
   "execution_count": 21,
   "metadata": {
    "scrolled": false
   },
   "outputs": [
    {
     "data": {
      "image/png": "[encoded data removed]",
      "text/plain": [
       "<Figure size 432x432 with 3 Axes>"
      ]
     },
     "metadata": {
      "needs_background": "light"
     },
     "output_type": "display_data"
    }
   ],
   "source": [
    "# your code\n",
    "#sns.jointplot(x='age', y='hours-per-week', data=data, kind=\"kde\")  #kind = scatter, hex, reg,kde \n",
    "#plt.show()\n",
    "\n",
    "sns.jointplot(x='age', y='hours-per-week', data=data, kind=\"hex\")  #kind = scatter, hex, reg,kde \n",
    "plt.show()"
   ]
  },
  {
   "cell_type": "markdown",
   "metadata": {},
   "source": [
    "Explanation: Because most people have a 40-hour-job the data is distributed around the 40 hours. You can also see the 20 hours mark (half-time jobs).\n",
    "\n",
    "But you can see no correlation between these two attributes. The Pearson correlation coefficient is also around 0. Maybe you can see that rather younger people have half-time jobs (20 hours), but other than that you can not say much about the relationship between age and hours per week."
   ]
  },
  {
   "cell_type": "markdown",
   "metadata": {},
   "source": [
    "## Building models to perform predictions"
   ]
  },
  {
   "cell_type": "markdown",
   "metadata": {},
   "source": [
    "### Question 5 (Decision Tree):\n",
    "5. (a) Consider all the categorical attributes except label as descriptive features and label (income) as target feature. Make two decision trees (one based on Entropy and another based on Gini)."
   ]
  },
  {
   "cell_type": "code",
   "execution_count": 22,
   "metadata": {
    "scrolled": true
   },
   "outputs": [
    {
     "name": "stderr",
     "output_type": "stream",
     "text": [
      "/home/philipp/anaconda3/lib/python3.6/site-packages/ipykernel_launcher.py:15: SettingWithCopyWarning: \n",
      "A value is trying to be set on a copy of a slice from a DataFrame.\n",
      "Try using .loc[row_indexer,col_indexer] = value instead\n",
      "\n",
      "See the caveats in the documentation: http://pandas.pydata.org/pandas-docs/stable/indexing.html#indexing-view-versus-copy\n",
      "  from ipykernel import kernelapp as app\n"
     ]
    }
   ],
   "source": [
    "# your code\n",
    "from DecisionTree import DecisionTree\n",
    "\n",
    "attributes = ['workclass', 'education', 'marital-status', 'occupation',\n",
    "                        'relationship', 'race', 'sex', 'native-country', 'label']\n",
    "\n",
    "df = data[attributes]\n",
    "columns = df.columns\n",
    "\n",
    "descriptive_features = columns[:-1]\n",
    "label = columns[-1]\n",
    "\n",
    "#Converting all the columns to string \n",
    "for column in columns:\n",
    "    df[column] = df[column].astype(str)\n",
    "    \n",
    "data_descriptive = data[descriptive_features].values\n",
    "data_label = df[label].values"
   ]
  },
  {
   "cell_type": "markdown",
   "metadata": {},
   "source": [
    "#### Entropy Decision Tree"
   ]
  },
  {
   "cell_type": "code",
   "execution_count": 23,
   "metadata": {
    "scrolled": true
   },
   "outputs": [
    {
     "name": "stdout",
     "output_type": "stream",
     "text": [
      "System entropy:  0.9894104774720454\n"
     ]
    }
   ],
   "source": [
    "decisionTree_entropy = DecisionTree(data_descriptive.tolist(), descriptive_features.tolist(), data_label.tolist(), \"entropy\")\n",
    "decisionTree_entropy.id3(0,0)\n",
    "decisionTree_entropy.print_visualTree()\n",
    "print(\"System entropy: \", format(decisionTree_entropy.entropy))"
   ]
  },
  {
   "cell_type": "markdown",
   "metadata": {},
   "source": [
    "#### Gini Decision Tree"
   ]
  },
  {
   "cell_type": "code",
   "execution_count": 24,
   "metadata": {},
   "outputs": [
    {
     "name": "stdout",
     "output_type": "stream",
     "text": [
      "System gini:  0.49267787898095206\n"
     ]
    }
   ],
   "source": [
    "decisionTree_gini = DecisionTree(data_descriptive.tolist(), descriptive_features.tolist(), data_label.tolist(), \"gini\")\n",
    "decisionTree_gini.id3(0,0)\n",
    "decisionTree_gini.print_visualTree()\n",
    "print(\"System gini: \", format(decisionTree_gini.gini))"
   ]
  },
  {
   "cell_type": "markdown",
   "metadata": {},
   "source": [
    "5. (b) What are the best attributes (based on Gini and Entropy) for splitting the trees in the third round of ID3?   "
   ]
  },
  {
   "cell_type": "markdown",
   "metadata": {},
   "source": [
    "Explanation: The best attribute for splitting the trees in the third round for both the Gini and the Entropy model is \"occupation\". First split is on \"relationship\", second split is on \"education\" and then \"occupation\"."
   ]
  },
  {
   "cell_type": "markdown",
   "metadata": {},
   "source": [
    "5. (c) Prune the tree which is made based on Entropy by 7000 as minimum number of samples. Identify which value of the first node/attribute is chosen to be split in the second round of ID3 and explain why?"
   ]
  },
  {
   "cell_type": "code",
   "execution_count": 25,
   "metadata": {},
   "outputs": [
    {
     "name": "stdout",
     "output_type": "stream",
     "text": [
      "System entropy:  0.9894104774720454\n"
     ]
    }
   ],
   "source": [
    "# your code\n",
    "decisionTree_entropy = DecisionTree(data_descriptive.tolist(), descriptive_features.tolist(), data_label.tolist(), \"entropy\")\n",
    "decisionTree_entropy.id3(0,7000)\n",
    "decisionTree_entropy.print_visualTree()\n",
    "print(\"System entropy: \", format(decisionTree_entropy.entropy))"
   ]
  },
  {
   "cell_type": "markdown",
   "metadata": {},
   "source": [
    "Explanation: The value \"Husband\" is chosen because for all the other values (\"Unmarried\", \"Wife\" etc.) there is no need for a split, because these values have already a label (we know in what class they belong). But for \"Husband\" we need more \"information\"."
   ]
  },
  {
   "cell_type": "markdown",
   "metadata": {},
   "source": [
    "### Question 6 (Regression):\n",
    "\n",
    "6. (a) Create two sets of independent variables (1) and (2)"
   ]
  },
  {
   "cell_type": "code",
   "execution_count": 26,
   "metadata": {},
   "outputs": [],
   "source": [
    "df1 = data[['age', 'workclass', 'sex']]\n",
    "df2 = data[['education', 'marital-status', 'hours-per-week']]\n",
    "df3 = data[['age','workclass','education','education-num','marital-status',\n",
    "            'occupation','relationship','race','sex','hours-per-week','native-country']]"
   ]
  },
  {
   "cell_type": "markdown",
   "metadata": {},
   "source": [
    "6. (b) Which attributes are suitable as an input for the logistic regression and which need to be modified first? Why? "
   ]
  },
  {
   "cell_type": "markdown",
   "metadata": {},
   "source": [
    "Explanation:\n",
    "\n",
    "Suitable are \"age\", \"education-num\" and \"hours-per-week\", because these attributes are numerical and do not need to be modified.\n",
    "\n",
    "All the other attributes need to be modified because they are categorical, so they need to get a numerical value to be processed. We will modify them by doing the one-hot-encoding."
   ]
  },
  {
   "cell_type": "code",
   "execution_count": 27,
   "metadata": {},
   "outputs": [],
   "source": [
    "# your modification\n",
    "df1_encoded = pd.get_dummies(df1)\n",
    "df2_encoded = pd.get_dummies(df2)\n",
    "df3_encoded = pd.get_dummies(df3)"
   ]
  },
  {
   "cell_type": "markdown",
   "metadata": {},
   "source": [
    "6. (c) Train three logistic regression classifiers based on the two created data sets as well as the initial data set:"
   ]
  },
  {
   "cell_type": "code",
   "execution_count": 28,
   "metadata": {},
   "outputs": [
    {
     "name": "stdout",
     "output_type": "stream",
     "text": [
      "######################## 1 #########################\n",
      "\n",
      "First 50 Predictions:\n",
      " ['>50K' '>50K' '<=50K' '>50K' '<=50K' '>50K' '<=50K' '<=50K' '<=50K'\n",
      " '<=50K' '<=50K' '<=50K' '>50K' '<=50K' '<=50K' '>50K' '>50K' '>50K'\n",
      " '<=50K' '<=50K' '<=50K' '>50K' '<=50K' '>50K' '<=50K' '<=50K' '>50K'\n",
      " '>50K' '<=50K' '>50K' '<=50K' '<=50K' '>50K' '<=50K' '<=50K' '>50K'\n",
      " '<=50K' '<=50K' '<=50K' '<=50K' '<=50K' '<=50K' '>50K' '>50K' '<=50K'\n",
      " '>50K' '<=50K' '<=50K' '>50K']\n",
      "\n",
      "Coefficients: \n",
      " [[ 0.04379066  0.4280905   0.21051972 -1.34711796 -0.14885852 -0.18095347\n",
      "   0.80458931 -0.21425915  0.05403407 -1.06223475 -1.33672141 -0.11946883]]\n",
      "\n",
      "Intercept: \n",
      " [-1.45619024]\n",
      "\n",
      "Mean squared Error: \n",
      " 0.3234123647777591\n",
      "\n",
      "Mean absolute Error: \n",
      " 41.39678269155316\n",
      "######################## 2 #########################\n",
      "\n",
      "First 50 Predictions:\n",
      " ['>50K' '<=50K' '<=50K' '>50K' '<=50K' '>50K' '>50K' '>50K' '>50K' '>50K'\n",
      " '>50K' '<=50K' '>50K' '>50K' '<=50K' '<=50K' '>50K' '<=50K' '<=50K'\n",
      " '<=50K' '>50K' '>50K' '>50K' '>50K' '<=50K' '>50K' '<=50K' '>50K' '>50K'\n",
      " '>50K' '<=50K' '>50K' '>50K' '<=50K' '<=50K' '>50K' '<=50K' '<=50K'\n",
      " '>50K' '<=50K' '<=50K' '<=50K' '>50K' '>50K' '<=50K' '<=50K' '<=50K'\n",
      " '>50K' '>50K']\n",
      "\n",
      "Coefficients: \n",
      " [[ 0.03320062 -1.18901539 -1.10742679 -0.65377022 -1.9937137  -1.66039876\n",
      "  -1.70900042 -1.54631309  0.42178705  0.42153053  1.19638214  2.50374968\n",
      "  -0.34880124  1.86581445 -1.38886497  2.68268828  0.14184933 -0.71234194\n",
      "   0.87004587  1.3544292  -0.75929362 -1.61055432 -1.04422285 -0.46156547]]\n",
      "\n",
      "Intercept: \n",
      " [-2.36350313]\n",
      "\n",
      "Mean squared Error: \n",
      " 0.2187657642508828\n",
      "\n",
      "Mean absolute Error: \n",
      " 28.002017824112997\n",
      "######################## 3 #########################\n",
      "\n",
      "First 50 Predictions:\n",
      " ['>50K' '<=50K' '<=50K' '>50K' '<=50K' '>50K' '>50K' '>50K' '>50K' '<=50K'\n",
      " '>50K' '<=50K' '>50K' '<=50K' '>50K' '<=50K' '<=50K' '<=50K' '<=50K'\n",
      " '<=50K' '<=50K' '>50K' '>50K' '>50K' '<=50K' '>50K' '>50K' '>50K' '<=50K'\n",
      " '>50K' '<=50K' '>50K' '>50K' '<=50K' '>50K' '>50K' '<=50K' '<=50K' '>50K'\n",
      " '<=50K' '<=50K' '<=50K' '>50K' '>50K' '<=50K' '>50K' '<=50K' '>50K'\n",
      " '>50K']\n",
      "\n",
      "Coefficients: \n",
      " [[ 3.06345885e-02  1.99070072e-01  3.23857613e-02  2.02408314e-01\n",
      "  -4.05142313e-01 -4.74526750e-01 -1.69749618e-02 -2.53210659e-01\n",
      "  -5.16639426e-02 -5.62633018e-01 -6.20614544e-01 -8.15017909e-01\n",
      "  -5.44223107e-01 -4.15367374e-01 -2.95991672e-01 -4.58498865e-01\n",
      "  -1.79918452e-01 -7.24890881e-01 -6.31964874e-01 -3.81748211e-01\n",
      "  -7.03388381e-02  3.33976220e-02  5.33463395e-01 -3.37261839e-01\n",
      "   3.04437071e-01 -5.74669215e-01  9.05417847e-01 -1.59218391e-01\n",
      "  -9.60485700e-01  8.94489313e-01  1.27376207e+00 -8.37683124e-01\n",
      "  -1.39624293e+00 -1.09621012e+00 -8.75005297e-01 -1.13049366e-01\n",
      "  -9.04949410e-02  2.37315510e-02  6.90513014e-01 -1.05846007e+00\n",
      "  -7.07091236e-01 -3.65107373e-01 -4.91501712e-01 -1.00013668e+00\n",
      "  -1.45089808e+00  4.57654940e-01  5.38037834e-01  2.64156362e-01\n",
      "   4.97209439e-01 -1.91939464e-01 -8.31730070e-01 -1.28908665e-01\n",
      "  -9.61770015e-01 -1.29597140e+00 -3.55751600e-01  5.76755967e-01\n",
      "  -9.71753996e-01 -3.21501642e-01 -5.67136856e-01 -7.11747037e-01\n",
      "  -4.25236253e-01 -1.91937680e+00 -1.07799899e+00  6.86409083e-01\n",
      "   1.25711660e-01 -4.00605288e-01 -1.29678046e+00  2.11599056e-01\n",
      "  -1.12749235e+00  2.28086682e-01 -5.98044989e-01  3.68091314e-01\n",
      "   6.80052863e-01  4.26137268e-01 -2.85887898e-01 -1.40460959e-01\n",
      "  -5.04405945e-02 -2.83726945e-01  8.41948095e-02 -1.58839944e-02\n",
      "  -1.97719390e-01  7.72154875e-01  3.04986613e-01  4.37936544e-01\n",
      "   1.69227706e-01  1.84835982e-01 -6.27518119e-01 -4.03704822e-01\n",
      "  -1.09426108e-01  1.02655842e-03 -7.70000520e-01 -5.86788783e-01\n",
      "   4.60684027e-01 -2.20438028e-02 -1.91434665e-01 -1.96599528e-01\n",
      "  -1.30437165e-01 -9.34981256e-01  8.58766936e-02 -4.24810263e-01\n",
      "  -9.36602588e-03  3.01023583e-01 -6.39616908e-01  9.18359742e-01]]\n",
      "\n",
      "Intercept: \n",
      " [-2.99737578]\n",
      "\n",
      "Mean squared Error: \n",
      " 0.1920295947536573\n",
      "\n",
      "Mean absolute Error: \n",
      " 24.579788128468135\n"
     ]
    }
   ],
   "source": [
    "from sklearn.linear_model import LogisticRegression\n",
    "from sklearn.metrics import mean_squared_error, mean_absolute_error\n",
    "\n",
    "y = data['label']\n",
    "encoded_y = pd.get_dummies(y)\n",
    "\n",
    "# df1\n",
    "classifier1 = LogisticRegression(solver='liblinear', multi_class='ovr')\n",
    "classifier1.fit(df1_encoded, y.ravel())\n",
    "\n",
    "y_pred1 = classifier1.predict(df1_encoded)\n",
    "encoded_y_pred1 = pd.get_dummies(y_pred1)\n",
    "\n",
    "# df2\n",
    "classifier2 = LogisticRegression(solver='liblinear', multi_class='ovr')\n",
    "classifier2.fit(df2_encoded, y.ravel())\n",
    "\n",
    "y_pred2 = classifier2.predict(df2_encoded)\n",
    "encoded_y_pred2 = pd.get_dummies(y_pred2)\n",
    "\n",
    "# df3\n",
    "classifier3 = LogisticRegression(solver = 'liblinear', multi_class='ovr')\n",
    "classifier3.fit(df3_encoded, y.ravel())\n",
    "\n",
    "y_pred3 = classifier3.predict(df3_encoded)\n",
    "encoded_y_pred3 = pd.get_dummies(y_pred3)\n",
    "\n",
    "print('######################## 1 #########################\\n')\n",
    "print('First 50 Predictions:\\n', y_pred1[0:49])\n",
    "print('\\nCoefficients: \\n', classifier1.coef_)\n",
    "print('\\nIntercept: \\n', classifier1.intercept_)\n",
    "print('\\nMean squared Error: \\n', mean_squared_error(encoded_y, encoded_y_pred1))\n",
    "print('\\nMean absolute Error: \\n', mean_absolute_error(encoded_y, encoded_y_pred1))\n",
    "\n",
    "print('######################## 2 #########################\\n')\n",
    "print('First 50 Predictions:\\n', y_pred2[0:49])\n",
    "print('\\nCoefficients: \\n', classifier2.coef_)\n",
    "print('\\nIntercept: \\n', classifier2.intercept_)\n",
    "print('\\nMean squared Error: \\n', mean_squared_error(encoded_y, encoded_y_pred2))\n",
    "print('\\nMean absolute Error: \\n', mean_absolute_error(encoded_y, encoded_y_pred2))\n",
    "\n",
    "print('######################## 3 #########################\\n')\n",
    "print('First 50 Predictions:\\n', y_pred3[0:49])\n",
    "print('\\nCoefficients: \\n', classifier3.coef_)\n",
    "print('\\nIntercept: \\n', classifier3.intercept_)\n",
    "print('\\nMean squared Error: \\n', mean_squared_error(encoded_y, encoded_y_pred3))\n",
    "print('\\nMean absolute Error: \\n', mean_absolute_error(encoded_y, encoded_y_pred3))"
   ]
  },
  {
   "cell_type": "markdown",
   "metadata": {},
   "source": [
    "6. (d) Interpret the three resulting models and compare them. Which model do you recommend and why?"
   ]
  },
  {
   "cell_type": "markdown",
   "metadata": {},
   "source": [
    "Explanation:\n",
    "\n",
    "The first 2 models only have 3 attributes each, so they have fewer coefficients than the third model, which considers all attributes.\n",
    "\n",
    "The best model is the last one (smallest mean squared/absolute error), but it is only slightly better than the second model although it has much more attributes. Also there is the possibility of overfitting when considering all the attributes.\n",
    "\n",
    "So I would recommend the second model, because it uses only 3 independent variables and gets comparable results as the third model and better results than the first model."
   ]
  },
  {
   "cell_type": "markdown",
   "metadata": {},
   "source": [
    "### Question 7 (Neural Networks)"
   ]
  },
  {
   "cell_type": "markdown",
   "metadata": {},
   "source": [
    "7. (a) What are the inputs of your network?"
   ]
  },
  {
   "cell_type": "markdown",
   "metadata": {},
   "source": [
    "Explanation:\n",
    "\n",
    "The inputs are all attributes (in form of one-hot encoding if categorical) of the original data set."
   ]
  },
  {
   "cell_type": "markdown",
   "metadata": {},
   "source": [
    "7. (b) What are the possible number of input pattern for your network (just including categorical attributes)?"
   ]
  },
  {
   "cell_type": "markdown",
   "metadata": {},
   "source": [
    "Explanation:\n",
    "\n",
    "2^n where n is the number of inputs\n",
    "\n",
    "Because we one-hote-encode categorical values, we see each unique value of a categorical attribute as a different input, so:\n",
    "\n",
    "- workclass: 9 unique values\n",
    "- education: 16 unique values\n",
    "- marital-status: 7 unique values\n",
    "- occupation: 15 unique values\n",
    "- relationship: 6 unique values\n",
    "- race: 5 unique values\n",
    "- sex: 2 unique values\n",
    "- native-country: 41 unique values\n",
    "\n",
    "Summing the unique values up we get 9+16+7+15+6+5+2+41 = 101 unique values. So there are **2^101** possible number of input pattern for the network."
   ]
  },
  {
   "cell_type": "markdown",
   "metadata": {},
   "source": [
    "7. (c.i) First, with default parameters and return the parameters."
   ]
  },
  {
   "cell_type": "code",
   "execution_count": 29,
   "metadata": {
    "scrolled": false
   },
   "outputs": [
    {
     "name": "stdout",
     "output_type": "stream",
     "text": [
      "Parameters:\n",
      " MLPClassifier(activation='relu', alpha=0.0001, batch_size='auto', beta_1=0.9,\n",
      "       beta_2=0.999, early_stopping=False, epsilon=1e-08,\n",
      "       hidden_layer_sizes=(100,), learning_rate='constant',\n",
      "       learning_rate_init=0.001, max_iter=200, momentum=0.9,\n",
      "       n_iter_no_change=10, nesterovs_momentum=True, power_t=0.5,\n",
      "       random_state=None, shuffle=True, solver='adam', tol=0.0001,\n",
      "       validation_fraction=0.1, verbose=False, warm_start=False)\n",
      "\n",
      "Prediction:\n",
      " [[0 1]\n",
      " [1 0]\n",
      " [1 0]\n",
      " ...\n",
      " [0 1]\n",
      " [1 0]\n",
      " [0 1]]\n",
      "\n",
      "Size of synapsis weights:\n",
      " [(104, 100), (100, 2)]\n",
      "\n",
      "Synapsis weights:\n",
      " [array([[ 4.43673279e-002, -3.95976369e-002,  1.09052546e-001, ...,\n",
      "         1.24202351e-002, -1.24637270e-002, -5.66821668e-003],\n",
      "       [-2.18922687e-001,  9.11306954e-002, -4.93948503e-002, ...,\n",
      "         2.18721999e-001, -1.69840831e-002,  1.32941867e-001],\n",
      "       [ 5.62885453e-002,  1.71456103e-002, -4.70377111e-002, ...,\n",
      "        -1.91049386e-001, -3.72405797e-002, -1.13271584e-001],\n",
      "       ...,\n",
      "       [-9.14439439e-002,  4.27792682e-002,  4.69644491e-002, ...,\n",
      "         1.19366274e-003,  6.30937560e-002,  1.20833634e-001],\n",
      "       [-1.51461351e-001, -5.54236513e-002, -5.31906050e-001, ...,\n",
      "         1.42652321e-001, -2.31003300e-010, -1.09868648e+000],\n",
      "       [-9.34269666e-002,  8.19090326e-002, -1.16560874e-001, ...,\n",
      "         2.56593343e-009,  3.03260883e-026, -5.62937596e-316]]), array([[-1.41569922e-001, -1.10502742e-001],\n",
      "       [-1.20014528e-001, -1.20474685e-001],\n",
      "       [-2.01330769e-001,  1.66925293e-001],\n",
      "       [ 2.27509508e-316,  1.37047016e-315],\n",
      "       [-1.28916192e-001,  4.89845343e-002],\n",
      "       [-2.49500613e-001,  4.60745045e-002],\n",
      "       [-1.09226146e+000,  1.10005874e+000],\n",
      "       [ 1.18562460e-001,  1.73700289e-001],\n",
      "       [ 1.39225094e-001, -2.44904177e-001],\n",
      "       [ 7.09961085e-002, -2.34304350e-001],\n",
      "       [-3.59360457e-002,  3.37637112e-003],\n",
      "       [-2.95407260e-316, -9.97697524e-316],\n",
      "       [-6.67181416e-001,  7.54462540e-001],\n",
      "       [-1.83793022e-315,  7.62485276e-316],\n",
      "       [-7.78797158e-002, -4.79473514e-002],\n",
      "       [-2.94896252e-002,  2.85993868e-002],\n",
      "       [-3.89683014e-004,  3.99824120e-005],\n",
      "       [ 1.30747722e-001, -8.05629014e-002],\n",
      "       [ 1.50067939e-001,  1.17731569e-001],\n",
      "       [ 2.56455896e-001, -2.66646391e-001],\n",
      "       [ 2.24762194e+000, -2.23002974e+000],\n",
      "       [-6.30166210e-001,  5.28012069e-001],\n",
      "       [ 3.59141768e-001, -2.26853654e-001],\n",
      "       [-2.90451947e-001,  3.04768568e-001],\n",
      "       [-1.19510526e-002,  1.07855560e-002],\n",
      "       [-9.73712984e-002, -3.88138164e-002],\n",
      "       [ 2.93488568e-001, -3.13655652e-001],\n",
      "       [ 8.63212703e-001, -8.55883396e-001],\n",
      "       [ 9.54853931e-001, -9.84049709e-001],\n",
      "       [ 1.07136823e-001,  8.82886944e-002],\n",
      "       [-1.11509573e-001,  1.53890565e-001],\n",
      "       [ 1.56163598e-001, -1.01264820e-001],\n",
      "       [ 1.09078753e+000, -1.11190403e+000],\n",
      "       [-1.07906255e-001,  2.36575003e-001],\n",
      "       [-2.22440788e-004, -9.74739686e-004],\n",
      "       [-1.62233186e-001, -1.37110128e-001],\n",
      "       [-1.85140220e-001, -1.51815040e-001],\n",
      "       [ 4.64608051e-002, -3.98689327e-002],\n",
      "       [ 4.80508100e-003, -4.74926377e-002],\n",
      "       [-9.45731257e-002, -1.11636612e-001],\n",
      "       [ 1.73677305e-002, -1.39016312e-001],\n",
      "       [-1.86547343e-001,  1.65133063e-001],\n",
      "       [-1.52072182e+000,  1.51169598e+000],\n",
      "       [-2.96587003e-004,  1.71583110e-003],\n",
      "       [ 3.56266124e-002,  1.20488796e-002],\n",
      "       [-2.34423867e+000,  2.41365780e+000],\n",
      "       [ 7.27577888e-093, -3.69761492e-115],\n",
      "       [-6.83815355e-001,  6.39683173e-001],\n",
      "       [-5.41055308e-002, -4.66810230e-002],\n",
      "       [ 1.20981413e-001, -6.02349377e-002],\n",
      "       [ 1.14606583e-001,  5.50801863e-002],\n",
      "       [ 7.94705871e-316, -2.46769113e-315],\n",
      "       [-9.80092748e-003,  1.41224746e-002],\n",
      "       [ 9.41225281e-002, -1.06951769e-001],\n",
      "       [ 6.54030674e-001, -6.56405665e-001],\n",
      "       [ 1.21625809e-001, -1.57662210e-001],\n",
      "       [ 7.05855779e-002,  3.35581822e-002],\n",
      "       [ 2.20779930e-001, -1.45912322e-001],\n",
      "       [-1.87845293e-001,  1.35225673e-001],\n",
      "       [-4.29520972e-001,  4.30675756e-001],\n",
      "       [ 2.30220620e-001, -8.89855716e-003],\n",
      "       [ 1.01624306e-001,  1.59200713e-001],\n",
      "       [ 7.54773830e-316, -4.65868746e-316],\n",
      "       [ 1.04810298e+000, -1.15062696e+000],\n",
      "       [ 4.55259529e-201, -4.57500113e-207],\n",
      "       [-3.15941197e-315, -2.51220733e-315],\n",
      "       [-1.09990657e+000,  1.04979649e+000],\n",
      "       [ 5.14636101e-003, -4.31728590e-003],\n",
      "       [ 2.96648467e-151, -4.39698605e-147],\n",
      "       [-4.42888604e-001,  3.35894091e-001],\n",
      "       [ 3.25823847e-002,  2.12808935e-002],\n",
      "       [-7.45484551e-002, -9.54858911e-003],\n",
      "       [-1.07098709e+000,  1.08531876e+000],\n",
      "       [-2.66654888e-002, -1.11176554e-001],\n",
      "       [-1.00691024e-004,  2.80728224e-003],\n",
      "       [-3.25093418e-001,  1.22968249e-001],\n",
      "       [-2.55164503e-002,  2.21114235e-002],\n",
      "       [-4.08814473e-001,  4.65810166e-001],\n",
      "       [ 1.02166522e-001, -1.80732403e-001],\n",
      "       [-8.06345189e-001,  7.50563930e-001],\n",
      "       [ 1.40422453e+000, -1.40260104e+000],\n",
      "       [ 6.55795876e-003,  7.48303262e-003],\n",
      "       [-1.69970774e-002,  4.12934956e-002],\n",
      "       [ 1.92634280e-001, -1.07384312e-001],\n",
      "       [-2.78219403e-001,  3.19740191e-001],\n",
      "       [-8.83092444e-002,  2.11232517e-001],\n",
      "       [-6.46296341e-003,  9.96752409e-004],\n",
      "       [-6.14352407e-002,  1.69371903e-001],\n",
      "       [ 2.01080121e-002,  1.47936474e-002],\n",
      "       [-1.84976088e-001, -4.18623711e-004],\n",
      "       [ 2.80284836e-002,  3.96870046e-002],\n",
      "       [ 9.18365039e-002,  6.42424983e-002],\n",
      "       [ 7.41892911e-001, -7.27799151e-001],\n",
      "       [-6.75294335e-004, -9.38375810e-005],\n",
      "       [ 3.51838751e-316, -2.25026547e-315],\n",
      "       [ 3.48869406e-001, -2.96906913e-001],\n",
      "       [-4.99804776e-001,  4.89348067e-001],\n",
      "       [ 4.54595131e-001, -4.06794490e-001],\n",
      "       [-2.23281113e-002, -3.68466263e-002],\n",
      "       [-1.20253888e+000,  1.19226274e+000]])]\n",
      "\n",
      "Accuracy= 0.8348747267529847\n"
     ]
    },
    {
     "name": "stderr",
     "output_type": "stream",
     "text": [
      "/home/philipp/.local/lib/python3.6/site-packages/sklearn/neural_network/multilayer_perceptron.py:562: ConvergenceWarning: Stochastic Optimizer: Maximum iterations (200) reached and the optimization hasn't converged yet.\n",
      "  % self.max_iter, ConvergenceWarning)\n"
     ]
    }
   ],
   "source": [
    "# your code\n",
    "from sklearn.neural_network import MLPClassifier\n",
    "import sklearn.metrics as metric\n",
    "\n",
    "X_training = pd.get_dummies(data[[\"age\",\"workclass\",\"education\",\"education-num\",\"marital-status\",\n",
    "              \"occupation\",\"relationship\",\"race\",\"sex\",\"hours-per-week\",\"native-country\"]])\n",
    "Y_training = pd.get_dummies(data[\"label\"])\n",
    "\n",
    "y_true = Y_training\n",
    "mlp = MLPClassifier()\n",
    "mlp.fit(X_training, Y_training)\n",
    "y_pred=mlp.predict(X_training)\n",
    "\n",
    "print('Parameters:\\n', mlp)\n",
    "print('\\nPrediction:\\n', y_pred)\n",
    "print('\\nSize of synapsis weights:\\n',\n",
    "      [coef.shape for coef in mlp.coefs_])  # size of synapsis weights\n",
    "print('\\nSynapsis weights:\\n', mlp.coefs_)  # synapsis weights\n",
    "\n",
    "accuracy=metric.accuracy_score(np.array(y_true).flatten(), np.array(y_pred).flatten(), normalize=True)\n",
    "print('\\nAccuracy=',accuracy)                         # show accracy score"
   ]
  },
  {
   "cell_type": "markdown",
   "metadata": {},
   "source": [
    "7. (c.ii) Second, try to find the optimized number of hidden layers and nodes. (Start with default number and then at least go with one number above and one number below the default) \n"
   ]
  },
  {
   "cell_type": "code",
   "execution_count": 30,
   "metadata": {
    "scrolled": false
   },
   "outputs": [
    {
     "name": "stdout",
     "output_type": "stream",
     "text": [
      "-------- Lower number of hidden layers ---------\n",
      "\n"
     ]
    },
    {
     "name": "stderr",
     "output_type": "stream",
     "text": [
      "/home/philipp/.local/lib/python3.6/site-packages/sklearn/neural_network/multilayer_perceptron.py:562: ConvergenceWarning: Stochastic Optimizer: Maximum iterations (200) reached and the optimization hasn't converged yet.\n",
      "  % self.max_iter, ConvergenceWarning)\n"
     ]
    },
    {
     "name": "stdout",
     "output_type": "stream",
     "text": [
      "Parameters:\n",
      " MLPClassifier(activation='relu', alpha=0.0001, batch_size='auto', beta_1=0.9,\n",
      "       beta_2=0.999, early_stopping=False, epsilon=1e-08,\n",
      "       hidden_layer_sizes=(70, 70), learning_rate='constant',\n",
      "       learning_rate_init=0.001, max_iter=200, momentum=0.9,\n",
      "       n_iter_no_change=10, nesterovs_momentum=True, power_t=0.5,\n",
      "       random_state=None, shuffle=True, solver='adam', tol=0.0001,\n",
      "       validation_fraction=0.1, verbose=False, warm_start=False)\n",
      "\n",
      "Prediction:\n",
      " [[1 0]\n",
      " [1 0]\n",
      " [1 0]\n",
      " ...\n",
      " [1 0]\n",
      " [1 0]\n",
      " [0 1]]\n",
      "\n",
      "Size of synapsis weights:\n",
      " [(104, 70), (70, 70), (70, 2)]\n",
      "\n",
      "Synapsis weights:\n",
      " [array([[-5.17296694e-002,  2.49639269e-315,  3.45980344e-002, ...,\n",
      "        -4.12644020e-003,  6.34032059e-002,  4.14246584e-002],\n",
      "       [ 1.44020714e-002, -3.37293434e-316,  6.68695618e-002, ...,\n",
      "        -7.41838059e-002,  1.14120712e-001, -1.50721826e-001],\n",
      "       [ 6.32040989e-002, -2.60072572e-315, -2.46476005e-002, ...,\n",
      "         2.42697974e-002, -8.46717196e-002,  3.34487968e-002],\n",
      "       ...,\n",
      "       [-3.42544059e-001,  2.12362083e-315, -5.45890859e-001, ...,\n",
      "        -1.34336833e-001,  2.13402999e-002,  6.40524568e-003],\n",
      "       [ 1.11464733e-001, -1.56476839e-315, -6.46931272e-002, ...,\n",
      "         2.47963595e-001, -1.44226140e-002,  1.71527161e-001],\n",
      "       [-6.34995975e-001, -2.48721826e-315,  1.18182892e+000, ...,\n",
      "         1.17358200e+000, -7.29542603e-001,  1.39156890e+000]]), array([[ 2.22376974e-315, -2.34510862e-002,  1.72695541e-315, ...,\n",
      "         6.80263321e-003, -4.68529006e-002,  8.27655959e-316],\n",
      "       [ 3.31425074e-315, -3.32560401e-315,  4.60864632e-316, ...,\n",
      "         6.76722076e-316, -1.78052877e-315, -2.57822253e-315],\n",
      "       [ 1.07386472e-316, -3.13890184e-002, -1.09087372e-316, ...,\n",
      "         2.54925610e-001,  6.91535890e-002, -5.05846691e-316],\n",
      "       ...,\n",
      "       [-9.98620454e-317, -2.70787894e-002, -2.24089552e-315, ...,\n",
      "         3.69015204e-001, -2.60558807e-002, -4.39062563e-316],\n",
      "       [ 9.85830359e-316, -2.85962263e-002, -3.23757128e-315, ...,\n",
      "        -3.02814039e-001, -6.04512453e-001, -1.68239923e-315],\n",
      "       [-9.63736929e-316, -3.79215403e-002, -1.87769079e-315, ...,\n",
      "        -1.55700407e-001,  1.20519492e-001, -3.33122994e-315]]), array([[ 7.09926879e-316,  1.88150742e-315],\n",
      "       [ 2.13639455e-003,  1.08745072e-002],\n",
      "       [-1.57994610e-316,  3.04972244e-315],\n",
      "       [-8.72282816e-001,  8.75555196e-001],\n",
      "       [ 7.49329167e-003, -1.34621899e-002],\n",
      "       [-1.38981888e-001,  1.01259664e-001],\n",
      "       [ 1.61071896e+000, -1.61779666e+000],\n",
      "       [-1.15116211e+000,  1.11113435e+000],\n",
      "       [-1.16974118e-316,  1.03147177e-315],\n",
      "       [-1.86621632e-001,  2.33512802e-001],\n",
      "       [ 2.19544026e-002, -2.02018010e-001],\n",
      "       [-4.80962991e-004, -3.62665335e-003],\n",
      "       [ 7.15439361e-001, -7.26620676e-001],\n",
      "       [ 2.38456427e-001, -1.96132936e-001],\n",
      "       [-7.71964917e-002, -8.03784645e-002],\n",
      "       [-2.03304694e-002,  6.75663866e-002],\n",
      "       [ 4.23820366e-001, -4.94112837e-001],\n",
      "       [ 7.45636645e-001, -7.02214998e-001],\n",
      "       [ 1.14215698e+000, -1.16241072e+000],\n",
      "       [ 7.83332139e-317, -1.73305526e-316],\n",
      "       [-2.79039507e-315,  7.66308312e-316],\n",
      "       [-3.13190740e-001,  3.18791535e-001],\n",
      "       [ 1.08394258e+000, -1.11294600e+000],\n",
      "       [-2.50032102e-002,  2.53886940e-002],\n",
      "       [-4.80330810e-002, -7.71169085e-002],\n",
      "       [ 2.32248040e+000, -2.36156334e+000],\n",
      "       [ 6.27279536e-007, -9.73315883e-007],\n",
      "       [-3.48790556e-001,  2.46537209e-001],\n",
      "       [ 5.82773028e-001, -6.49861939e-001],\n",
      "       [-2.53513743e-001,  8.53931655e-002],\n",
      "       [ 1.47881770e+000, -1.46096588e+000],\n",
      "       [-2.15038222e-001,  6.79944638e-002],\n",
      "       [-8.84776369e-002, -2.34028901e-002],\n",
      "       [-1.88544664e-001, -1.96723841e-001],\n",
      "       [ 1.90346871e-001,  1.93084677e-001],\n",
      "       [-1.22598341e-002,  1.24616638e-001],\n",
      "       [ 2.47367673e-002, -1.56562755e-001],\n",
      "       [-1.12107104e-001, -1.20718843e-001],\n",
      "       [-9.65897270e-316,  7.48634338e-316],\n",
      "       [ 2.50930333e-315, -1.89544980e-316],\n",
      "       [ 1.86616314e-002, -7.92584474e-003],\n",
      "       [-1.84842035e-002,  1.85331293e-002],\n",
      "       [ 1.07548462e-316,  2.06410345e-315],\n",
      "       [ 2.49628282e-002, -2.30345090e-002],\n",
      "       [-2.71064150e-180,  1.43309274e-172],\n",
      "       [ 1.90210218e-002, -1.98193431e-002],\n",
      "       [ 7.80528954e-002,  1.45843173e-001],\n",
      "       [ 3.71069656e-001, -3.71552983e-001],\n",
      "       [ 3.96978500e-001, -4.07140812e-001],\n",
      "       [ 8.35133751e-316, -7.92263566e-316],\n",
      "       [-2.27024041e-001,  4.35174471e-001],\n",
      "       [-3.01709285e-001,  4.71889968e-001],\n",
      "       [-7.10502975e-002, -5.39498359e-002],\n",
      "       [-2.27999640e-002,  2.34272062e-002],\n",
      "       [ 1.02515878e+000, -1.05281080e+000],\n",
      "       [-1.87459827e-001,  2.81856986e-001],\n",
      "       [ 1.01746811e-002, -2.33477882e-001],\n",
      "       [ 9.52887473e-222, -1.09612533e-239],\n",
      "       [ 7.68848102e-002,  1.60970931e-001],\n",
      "       [ 3.13990319e-001,  3.12386702e-002],\n",
      "       [-1.87858265e-001, -2.64497970e-002],\n",
      "       [ 2.05705610e-001, -1.71757865e-001],\n",
      "       [-1.15815003e-001,  1.69227706e-001],\n",
      "       [-7.84161945e-002,  1.44187793e-001],\n",
      "       [ 2.19878703e-001, -1.13793608e-001],\n",
      "       [-4.84691673e-001,  5.29622277e-001],\n",
      "       [-2.18801144e-001,  1.56537283e-001],\n",
      "       [ 2.93291636e-001, -2.45822079e-001],\n",
      "       [ 2.35925940e-001,  1.05111273e-001],\n",
      "       [-3.38645595e-315,  1.18928839e-316]])]\n",
      "\n",
      "-------- Higher number of hidden layers ---------\n",
      "\n"
     ]
    },
    {
     "name": "stderr",
     "output_type": "stream",
     "text": [
      "/home/philipp/.local/lib/python3.6/site-packages/sklearn/neural_network/multilayer_perceptron.py:562: ConvergenceWarning: Stochastic Optimizer: Maximum iterations (200) reached and the optimization hasn't converged yet.\n",
      "  % self.max_iter, ConvergenceWarning)\n"
     ]
    },
    {
     "name": "stdout",
     "output_type": "stream",
     "text": [
      "Parameters:\n",
      " MLPClassifier(activation='relu', alpha=0.0001, batch_size='auto', beta_1=0.9,\n",
      "       beta_2=0.999, early_stopping=False, epsilon=1e-08,\n",
      "       hidden_layer_sizes=(150, 150), learning_rate='constant',\n",
      "       learning_rate_init=0.001, max_iter=200, momentum=0.9,\n",
      "       n_iter_no_change=10, nesterovs_momentum=True, power_t=0.5,\n",
      "       random_state=None, shuffle=True, solver='adam', tol=0.0001,\n",
      "       validation_fraction=0.1, verbose=False, warm_start=False)\n",
      "\n",
      "Prediction:\n",
      " [[1 0]\n",
      " [1 0]\n",
      " [1 0]\n",
      " ...\n",
      " [1 0]\n",
      " [1 0]\n",
      " [0 1]]\n",
      "\n",
      "Size of synapsis weights:\n",
      " [(104, 150), (150, 150), (150, 2)]\n",
      "\n",
      "Synapsis weights:\n",
      " [array([[ 0.01318561,  0.08937869, -0.02915756, ...,  0.0450174 ,\n",
      "         0.14121193,  0.11648951],\n",
      "       [-0.0118213 , -0.13413532, -0.02544644, ..., -0.0582323 ,\n",
      "        -0.10795129,  0.12923517],\n",
      "       [ 0.02647009, -0.04240804, -0.02939658, ..., -0.01997872,\n",
      "        -0.11046178, -0.14149653],\n",
      "       ...,\n",
      "       [-0.29425903,  0.060243  , -0.0319899 , ...,  0.1678433 ,\n",
      "         0.24021398, -0.07648065],\n",
      "       [-0.64119871,  0.2699131 ,  0.01259361, ...,  0.00520201,\n",
      "         0.02106059,  0.53523884],\n",
      "       [ 0.47443564,  0.64405023,  0.00783714, ..., -0.63835912,\n",
      "        -0.20069212,  0.03865752]]), array([[-1.82538980e-001, -8.25147504e-004, -1.08170313e-316, ...,\n",
      "         1.53200380e-001, -5.04034710e-316, -3.86994596e-002],\n",
      "       [-1.18156075e-001,  1.07347968e-001, -2.47699488e-315, ...,\n",
      "         1.23580862e-001, -3.06951101e-315, -1.81875698e-002],\n",
      "       [-1.70140582e-002, -1.04721612e-002,  3.10425454e-315, ...,\n",
      "        -2.34461606e-002, -1.45413139e-316,  1.54180116e-315],\n",
      "       ...,\n",
      "       [-2.00922329e-001, -6.14706027e-002, -7.82750332e-316, ...,\n",
      "        -5.37898835e-002,  1.66694063e-315, -1.33856191e-002],\n",
      "       [ 4.66127501e-002,  2.29990644e-001,  1.82105855e-315, ...,\n",
      "         8.76932264e-002, -1.67868479e-315, -1.80863990e-002],\n",
      "       [-1.03985422e-001, -3.76825674e-001, -3.43103796e-315, ...,\n",
      "         1.30622642e-001,  2.04872329e-315, -2.40959717e-002]]), array([[ 7.86134289e-001, -8.16701419e-001],\n",
      "       [-7.03448609e-001,  7.30640235e-001],\n",
      "       [-1.59870520e-315, -5.54526129e-316],\n",
      "       [ 1.11911667e+000, -1.11087993e+000],\n",
      "       [ 1.89928537e-003,  1.61758327e-001],\n",
      "       [-1.75930724e-003,  2.68904473e-003],\n",
      "       [ 3.78805640e-002,  4.14767348e-002],\n",
      "       [-1.46697899e-001,  1.63421735e-001],\n",
      "       [-5.22568580e-001,  5.38435817e-001],\n",
      "       [ 1.29383272e-001, -8.68156128e-002],\n",
      "       [ 1.86919958e-001, -2.52394325e-001],\n",
      "       [ 1.48189821e+000, -1.48538502e+000],\n",
      "       [ 2.91062175e-002, -2.85360053e-002],\n",
      "       [ 9.32431314e-001, -9.12750691e-001],\n",
      "       [-2.61424941e-002, -2.68128507e-002],\n",
      "       [ 6.18568460e-001, -6.42371850e-001],\n",
      "       [-1.03240550e+000,  1.01574907e+000],\n",
      "       [-3.82438151e-001,  3.31331246e-001],\n",
      "       [-1.12515534e-001, -1.39369954e-001],\n",
      "       [-2.28661147e-315,  3.16012893e-315],\n",
      "       [ 1.33815566e+000, -1.25880748e+000],\n",
      "       [ 6.35560293e-001, -6.09189252e-001],\n",
      "       [ 1.06845055e-002, -1.06726346e-002],\n",
      "       [ 7.88647827e-001, -8.08854663e-001],\n",
      "       [ 1.60258476e-001, -2.02334123e-001],\n",
      "       [ 1.36149960e-001, -2.01140221e-001],\n",
      "       [ 1.64422903e-315,  2.52789620e-315],\n",
      "       [-2.02190721e-001,  2.76166399e-001],\n",
      "       [ 1.55689383e-001,  1.55910112e-001],\n",
      "       [-8.24543303e-001,  8.29048877e-001],\n",
      "       [ 1.31030236e+000, -1.34138422e+000],\n",
      "       [ 5.48394564e-002,  1.55366666e-002],\n",
      "       [-7.21126128e-003, -3.55646681e-003],\n",
      "       [-3.70917439e-001,  3.57561168e-001],\n",
      "       [ 1.88058342e-001, -1.49816038e-001],\n",
      "       [ 3.70916123e-001, -3.86643111e-001],\n",
      "       [ 7.37478676e-001, -7.32902956e-001],\n",
      "       [ 2.83083508e-002, -2.87970968e-002],\n",
      "       [-9.56544041e-049,  6.53293826e-011],\n",
      "       [ 9.28755035e-001, -9.09254269e-001],\n",
      "       [ 5.75667197e-309,  2.27395600e-297],\n",
      "       [-1.23263433e+000,  1.24392044e+000],\n",
      "       [ 9.38138274e-005,  7.78945553e-005],\n",
      "       [-3.46477972e-001,  3.08051050e-001],\n",
      "       [ 1.04967749e+000, -1.07108475e+000],\n",
      "       [ 1.42983834e-001, -5.82707062e-002],\n",
      "       [ 5.83217996e-002,  9.52126118e-002],\n",
      "       [-6.21937989e-001,  6.35379168e-001],\n",
      "       [ 4.25689599e-115, -1.22106190e-110],\n",
      "       [-1.25968830e+000,  1.25929209e+000],\n",
      "       [ 8.68012360e-001, -9.42841748e-001],\n",
      "       [-2.13469608e-315, -2.84889679e-316],\n",
      "       [-1.99963254e-001,  2.88081156e-001],\n",
      "       [ 7.94283798e-061,  3.13306372e-039],\n",
      "       [-2.42852033e-315,  1.85931270e-316],\n",
      "       [-8.88757994e-002,  1.45935966e-002],\n",
      "       [-2.04272970e-001,  1.26653519e-001],\n",
      "       [ 2.37715224e-001, -2.04626884e-001],\n",
      "       [ 9.25761856e-001, -9.07569974e-001],\n",
      "       [-2.69617663e-001,  3.57623014e-001],\n",
      "       [-4.12177037e-002,  9.19027705e-002],\n",
      "       [ 1.72384192e+000, -1.71486129e+000],\n",
      "       [-5.84150601e-316, -2.50719852e-316],\n",
      "       [-5.06659403e-002, -1.30212731e-002],\n",
      "       [ 6.02657016e-316,  1.18163971e-316],\n",
      "       [-6.16297622e-001,  5.67018772e-001],\n",
      "       [ 7.55010914e-001, -7.44099839e-001],\n",
      "       [ 8.10186500e-002,  5.54151050e-002],\n",
      "       [-9.09967428e-001,  8.92021965e-001],\n",
      "       [ 6.24381522e-316, -1.79155362e-315],\n",
      "       [-1.08844965e-001,  2.13767070e-002],\n",
      "       [-2.43624696e-005,  1.65215062e-005],\n",
      "       [ 2.33903041e-002, -2.25571815e-002],\n",
      "       [-3.44643678e-315, -5.49725985e-316],\n",
      "       [-4.68348674e-001,  4.00184177e-001],\n",
      "       [-3.73276601e-001,  3.92573110e-001],\n",
      "       [ 3.17911892e-001, -3.62427931e-001],\n",
      "       [ 1.84826648e+000, -1.84545959e+000],\n",
      "       [ 2.37539033e-001, -2.39210928e-001],\n",
      "       [-2.11833976e-002,  2.40102684e-002],\n",
      "       [ 4.28131673e-002, -8.60934051e-002],\n",
      "       [ 4.24296763e-001, -4.60454464e-001],\n",
      "       [-2.09296087e-018,  7.52369488e-012],\n",
      "       [ 3.00437281e-309, -9.72374359e-311],\n",
      "       [ 9.28544933e-002, -7.38245257e-002],\n",
      "       [-1.96165625e-315, -4.03895316e-316],\n",
      "       [-7.02258362e-003, -3.30518527e-002],\n",
      "       [-1.39464420e+000,  1.42862227e+000],\n",
      "       [-6.76921454e-002,  9.73728254e-002],\n",
      "       [-6.05612635e-003, -3.30347309e-003],\n",
      "       [ 1.27601015e+000, -1.25933108e+000],\n",
      "       [ 2.54774682e-002, -2.47405536e-002],\n",
      "       [ 1.29815646e+000, -1.29564966e+000],\n",
      "       [ 1.66997776e-001, -2.04299374e-001],\n",
      "       [-2.98831416e-001,  3.33657359e-001],\n",
      "       [ 2.81238721e-219, -1.04759696e-223],\n",
      "       [ 5.37125947e-001, -5.34824954e-001],\n",
      "       [ 1.04534316e+000, -1.06089758e+000],\n",
      "       [-1.19228076e-001, -1.16836791e-001],\n",
      "       [ 2.53809071e-002, -1.15213270e-001],\n",
      "       [-1.21665640e-001,  5.57433707e-002],\n",
      "       [ 5.68979008e-064,  7.32267289e-066],\n",
      "       [-5.63500555e-003,  6.70620925e-003],\n",
      "       [ 4.56787668e-201, -8.64734308e-215],\n",
      "       [-4.75451486e-001,  4.09721142e-001],\n",
      "       [ 8.90020997e-001, -9.00129122e-001],\n",
      "       [ 1.99410605e+000, -1.99020524e+000],\n",
      "       [-2.10234146e-002, -5.50008766e-002],\n",
      "       [ 3.47737173e-001, -2.84645299e-001],\n",
      "       [ 5.51330959e-001, -5.25701524e-001],\n",
      "       [ 3.66077857e-001, -4.12328653e-001],\n",
      "       [-2.59964401e-002,  1.36534761e-001],\n",
      "       [ 1.34095325e-003, -1.13070134e-002],\n",
      "       [ 4.76922867e-001, -4.75309176e-001],\n",
      "       [-1.23064282e-001,  1.54460366e-001],\n",
      "       [ 1.62419571e-002,  5.07045726e-002],\n",
      "       [ 5.16741801e-001, -4.47197436e-001],\n",
      "       [-7.38825853e-002,  8.23251544e-002],\n",
      "       [ 3.24585517e-315, -8.42614335e-317],\n",
      "       [ 2.20389023e-001, -1.81324543e-001],\n",
      "       [-9.82854609e-002, -9.35654150e-002],\n",
      "       [-2.33967800e-001,  2.13796063e-001],\n",
      "       [ 6.19684972e-002, -9.91113962e-002],\n",
      "       [ 4.88665390e-001, -4.33909924e-001],\n",
      "       [-1.28867271e-315,  2.67183022e-315],\n",
      "       [-6.92231519e-001,  6.89424954e-001],\n",
      "       [ 1.97045328e-068, -1.91157554e-063],\n",
      "       [ 4.78840992e-001, -3.59892215e-001],\n",
      "       [-5.48966601e-002,  1.75700538e-002],\n",
      "       [-8.35453450e-001,  8.35512476e-001],\n",
      "       [-2.53899159e-001,  3.14465848e-001],\n",
      "       [ 6.31103001e-002, -4.74621442e-003],\n",
      "       [-3.78667228e-001,  4.26437405e-001],\n",
      "       [-3.34593268e-315, -2.36601813e-315],\n",
      "       [ 6.99689922e-001, -7.25774355e-001],\n",
      "       [ 4.40921128e-002,  3.06302559e-002],\n",
      "       [-1.01606485e+000,  1.00108635e+000],\n",
      "       [-1.30228715e-001,  2.34926496e-002],\n",
      "       [ 8.37306320e-001, -8.08461435e-001],\n",
      "       [-3.50652323e-315, -1.32755909e-315],\n",
      "       [ 1.55547177e+000, -1.49950138e+000],\n",
      "       [-3.44775830e-001,  3.07546347e-001],\n",
      "       [-5.98797681e-316, -1.30151938e-315],\n",
      "       [ 2.82879952e-001, -1.99613176e-001],\n",
      "       [-4.95897543e-003,  7.32930425e-003],\n",
      "       [ 1.35682605e-315, -2.08638476e-315],\n",
      "       [ 2.11957691e-002, -2.14767002e-002],\n",
      "       [ 3.78229641e-001, -3.69422515e-001],\n",
      "       [-2.98060818e-315,  4.26578369e-316],\n",
      "       [ 6.00264514e-002,  1.65315854e-002]])]\n",
      "\n",
      "-------- Testing with metrics---------\n",
      "\n",
      "\n",
      "Lower number of hidden layers:\n",
      "\n",
      "Accuracy= 0.8565102852979093\n",
      "Precision Score= [0.89698198 0.81285579]\n",
      "Recall Score= [0.8411    0.8741232]\n",
      "F1-Score= [0.86814264 0.84237694]\n",
      "\n",
      "Higher number of hidden layers:\n",
      "\n",
      "Accuracy= 0.8925508659828485\n",
      "Precision Score= [0.90777139 0.87443038]\n",
      "Recall Score= [0.9006     0.88101008]\n",
      "F1-Score= [0.90417148 0.8777079 ]\n"
     ]
    }
   ],
   "source": [
    "from sklearn.neural_network import MLPClassifier\n",
    "from sklearn.metrics import precision_score, recall_score, accuracy_score, f1_score\n",
    "\n",
    "X_training = pd.get_dummies(data[[\"age\",\"workclass\",\"education\",\"education-num\",\"marital-status\",\n",
    "              \"occupation\",\"relationship\",\"race\",\"sex\",\"hours-per-week\",\"native-country\"]])\n",
    "Y_training = pd.get_dummies(data[\"label\"])\n",
    "\n",
    "y_true = Y_training\n",
    "\n",
    "\n",
    "print('-------- Lower number of hidden layers ---------\\n')\n",
    "\n",
    "mlp = MLPClassifier(hidden_layer_sizes=(70,70))\n",
    "mlp.fit(X_training, Y_training)\n",
    "y_pred=mlp.predict(X_training)\n",
    "\n",
    "print('Parameters:\\n',mlp)\n",
    "print('\\nPrediction:\\n',y_pred)\n",
    "print('\\nSize of synapsis weights:\\n',\n",
    "      [coef.shape for coef in mlp.coefs_])          # size of synapsis weights\n",
    "print('\\nSynapsis weights:\\n', mlp.coefs_)          # synapsis weights\n",
    "\n",
    "\n",
    "print('\\n-------- Higher number of hidden layers ---------\\n')\n",
    "\n",
    "mlp2 = MLPClassifier(hidden_layer_sizes=(150,150))\n",
    "mlp2.fit(X_training, Y_training)\n",
    "y_pred2 = mlp2.predict(X_training)\n",
    "\n",
    "print('Parameters:\\n',mlp2)\n",
    "print('\\nPrediction:\\n',y_pred)\n",
    "print('\\nSize of synapsis weights:\\n',\n",
    "      [coef.shape for coef in mlp2.coefs_])         # size of synapsis weights\n",
    "print('\\nSynapsis weights:\\n', mlp2.coefs_)         # synapsis weights\n",
    "\n",
    "\n",
    "print('\\n-------- Testing with metrics---------\\n')\n",
    "\n",
    "print('\\nLower number of hidden layers:\\n')\n",
    "\n",
    "print('Accuracy=',accuracy_score(np.array(y_true).flatten(), np.array(y_pred).flatten(), normalize=True))\n",
    "print('Precision Score=',precision_score(y_true, y_pred,average=None))\n",
    "print('Recall Score=',recall_score(y_true, y_pred,average=None))\n",
    "print('F1-Score=',f1_score(y_true, y_pred,average=None))\n",
    "\n",
    "print('\\nHigher number of hidden layers:\\n')\n",
    "\n",
    "print('Accuracy=',accuracy_score(np.array(y_true).flatten(), np.array(y_pred2).flatten(), normalize=True))\n",
    "print('Precision Score=',precision_score(y_true, y_pred2,average=None))\n",
    "print('Recall Score=',recall_score(y_true, y_pred2,average=None))\n",
    "print('F1-Score=',f1_score(y_true, y_pred2,average=None))\n"
   ]
  },
  {
   "cell_type": "markdown",
   "metadata": {},
   "source": [
    "7. (c.iii) Third, try to train your model with one linear activation function and one non linear activation function, name the functions and explain if there is any difference in your networks and why? (you can use evaluation metrics to show which activation function works better for this data set)\n"
   ]
  },
  {
   "cell_type": "code",
   "execution_count": 31,
   "metadata": {},
   "outputs": [
    {
     "name": "stdout",
     "output_type": "stream",
     "text": [
      "\n",
      "--------  Comparing networks with metrics ---------\n",
      "\n",
      "\n",
      "Linear activation function:\n",
      "\n",
      "Accuracy= 0.7996468807802253\n",
      "Precision Score= [0.79962599 0.79428336]\n",
      "Recall Score= [0.8552     0.73715087]\n",
      "F1-Score= [0.82647983 0.76465141]\n",
      "\n",
      "Non linear activation function:\n",
      "\n",
      "Accuracy= 0.8274480130037554\n",
      "Precision Score= [0.84707061 0.80378371]\n",
      "Recall Score= [0.8458     0.80193853]\n",
      "F1-Score= [0.84643483 0.80286006]\n"
     ]
    },
    {
     "name": "stderr",
     "output_type": "stream",
     "text": [
      "/home/philipp/.local/lib/python3.6/site-packages/sklearn/neural_network/multilayer_perceptron.py:562: ConvergenceWarning: Stochastic Optimizer: Maximum iterations (200) reached and the optimization hasn't converged yet.\n",
      "  % self.max_iter, ConvergenceWarning)\n"
     ]
    }
   ],
   "source": [
    "from sklearn.neural_network import MLPClassifier\n",
    "from sklearn.metrics import precision_score, recall_score, accuracy_score, f1_score, confusion_matrix\n",
    "\n",
    "X_training = pd.get_dummies(data[[\"age\",\"workclass\",\"education\",\"education-num\",\"marital-status\",\n",
    "              \"occupation\",\"relationship\",\"race\",\"sex\",\"hours-per-week\",\"native-country\"]])\n",
    "Y_training = pd.get_dummies(data[\"label\"])\n",
    "\n",
    "y_true = Y_training\n",
    "\n",
    "# linear activation function\n",
    "\n",
    "mlp = MLPClassifier(activation='identity')\n",
    "mlp.fit(X_training, Y_training)\n",
    "y_pred=mlp.predict(X_training)\n",
    "\n",
    "# non linear activation function\n",
    "\n",
    "mlp2 = MLPClassifier(activation='logistic')\n",
    "mlp2.fit(X_training, Y_training)\n",
    "y_pred2 = mlp2.predict(X_training)\n",
    "\n",
    "# yor code for comparing two networks\n",
    "\n",
    "print('\\n--------  Comparing networks with metrics ---------\\n')\n",
    "\n",
    "print('\\nLinear activation function:\\n')\n",
    "\n",
    "print('Accuracy=',accuracy_score(np.array(y_true).flatten(), np.array(y_pred).flatten(), normalize=True))\n",
    "print('Precision Score=',precision_score(y_true, y_pred,average=None))\n",
    "print('Recall Score=',recall_score(y_true, y_pred,average=None))\n",
    "print('F1-Score=',f1_score(y_true, y_pred,average=None))\n",
    "\n",
    "print('\\nNon linear activation function:\\n')\n",
    "\n",
    "print('Accuracy=',accuracy_score(np.array(y_true).flatten(), np.array(y_pred2).flatten(), normalize=True))\n",
    "print('Precision Score=',precision_score(y_true, y_pred2,average=None))\n",
    "print('Recall Score=',recall_score(y_true, y_pred2,average=None))\n",
    "print('F1-Score=',f1_score(y_true, y_pred2,average=None))\n",
    "\n"
   ]
  },
  {
   "cell_type": "markdown",
   "metadata": {},
   "source": [
    "Parameters:\n",
    "\n",
    "- 'identity' for linear activation function\n",
    "- 'logistic' for non linear activation function"
   ]
  },
  {
   "cell_type": "markdown",
   "metadata": {},
   "source": [
    "Explanation:\n",
    "\n",
    "The non-linear function is better, because it has overall better metrics scores. This can be seen the best on the accuracy score and the F1-Score.\n",
    "\n",
    "If the non-linear function lies between -1 and 1, then it has a higher weight the closer it gets to the boundaries -1 and 1. In the middle the function is smoothed out. This is not the case for the linear function."
   ]
  },
  {
   "cell_type": "markdown",
   "metadata": {},
   "source": [
    "7. (c.iv) Which model do you recommend to be used as your classifier and why? (with respect to the number of hidden layer and activation function (linear or nonlinear))"
   ]
  },
  {
   "cell_type": "markdown",
   "metadata": {},
   "source": [
    "Explanation:\n",
    "\n",
    "I would recommend a higher number of hidden layers and a non-linear activation function, because the overall performance is better which can be seen by the metrics used in the above tests."
   ]
  },
  {
   "cell_type": "markdown",
   "metadata": {},
   "source": [
    "## Analysing the quality of the prediction models"
   ]
  },
  {
   "cell_type": "markdown",
   "metadata": {},
   "source": [
    "### Question 8 (Evaluation metrics)"
   ]
  },
  {
   "cell_type": "markdown",
   "metadata": {},
   "source": [
    "8. (a) Calculate the following metrics for the model 7. (c, i) and the logistic regression with all the initial attributes in question 6 (c):"
   ]
  },
  {
   "cell_type": "markdown",
   "metadata": {},
   "source": [
    "- Confusion matrices on the training data"
   ]
  },
  {
   "cell_type": "code",
   "execution_count": 32,
   "metadata": {},
   "outputs": [
    {
     "name": "stderr",
     "output_type": "stream",
     "text": [
      "/home/philipp/.local/lib/python3.6/site-packages/sklearn/neural_network/multilayer_perceptron.py:562: ConvergenceWarning: Stochastic Optimizer: Maximum iterations (200) reached and the optimization hasn't converged yet.\n",
      "  % self.max_iter, ConvergenceWarning)\n"
     ]
    },
    {
     "name": "stdout",
     "output_type": "stream",
     "text": [
      "Neural Network:\n",
      "\n",
      "Confusion Matrix:\n",
      " [[8624 1376]\n",
      " [1536 6305]]\n",
      "\n",
      "Regression:\n",
      "\n",
      "Confusion Matrix:\n",
      " [[8129 1871]\n",
      " [1555 6286]]\n"
     ]
    }
   ],
   "source": [
    "import pandas as pd\n",
    "from sklearn.neural_network import MLPClassifier\n",
    "from sklearn.metrics import precision_score, recall_score, accuracy_score, f1_score, confusion_matrix\n",
    "\n",
    "test_data = pd.read_csv(\"adult.data-3.csv\")\n",
    "\n",
    "X_training = pd.get_dummies(test_data[[\"age\",\"workclass\",\"education\",\"education-num\",\"marital-status\",\n",
    "              \"occupation\",\"relationship\",\"race\",\"sex\",\"hours-per-week\",\"native-country\"]])\n",
    "Y_training = pd.get_dummies(test_data[\"label\"])\n",
    "\n",
    "y_true_training = Y_training\n",
    "\n",
    "# neural network\n",
    "\n",
    "mlpTraining = MLPClassifier()\n",
    "mlpTraining.fit(X_training, Y_training)\n",
    "y_pred_training_network = mlpTraining.predict(X_training)\n",
    "\n",
    "print('Neural Network:\\n')\n",
    "print('Confusion Matrix:\\n',confusion_matrix(y_true_training.values.argmax(axis=1), y_pred_training_network.argmax(axis=1)))\n",
    "\n",
    "# regression\n",
    "\n",
    "from sklearn.linear_model import LogisticRegression\n",
    "\n",
    "y = test_data[\"label\"]\n",
    "\n",
    "classifierRegression = LogisticRegression( solver = 'liblinear', multi_class = 'ovr')\n",
    "classifierRegression.fit(X_training, y.ravel())\n",
    "\n",
    "y_pred_training_regression = classifierRegression.predict(X_training)\n",
    "encoded_y_pred_training_regression = pd.get_dummies(y_pred_training_regression)\n",
    "\n",
    "print('\\nRegression:\\n')\n",
    "print('Confusion Matrix:\\n',confusion_matrix(y_true_training.values.argmax(axis=1), encoded_y_pred_training_regression.values.argmax(axis=1)))\n"
   ]
  },
  {
   "cell_type": "markdown",
   "metadata": {},
   "source": [
    "- Confusion matrices on the test data"
   ]
  },
  {
   "cell_type": "code",
   "execution_count": 33,
   "metadata": {},
   "outputs": [
    {
     "name": "stdout",
     "output_type": "stream",
     "text": [
      "Neural Network:\n",
      "\n",
      "Confusion Matrix:\n",
      " [[10374  2061]\n",
      " [  968  2878]]\n",
      "\n",
      "Regression:\n",
      "\n",
      "Confusion Matrix:\n",
      " [[10079  2356]\n",
      " [  794  3052]]\n"
     ]
    }
   ],
   "source": [
    "import pandas as pd\n",
    "from sklearn.neural_network import MLPClassifier\n",
    "from sklearn.metrics import precision_score, recall_score, accuracy_score, f1_score, confusion_matrix\n",
    "\n",
    "test_data = pd.read_csv(\"adult.test-3.csv\")\n",
    "\n",
    "X_test = pd.get_dummies(test_data[[\"age\",\"workclass\",\"education\",\"education-num\",\"marital-status\",\n",
    "              \"occupation\",\"relationship\",\"race\",\"sex\",\"hours-per-week\",\"native-country\"]])\n",
    "Y_test = pd.get_dummies(test_data[\"label\"])\n",
    "\n",
    "y_true_test = Y_test\n",
    "\n",
    "# neural network\n",
    "\n",
    "y_pred_test_network = mlpTraining.predict(X_test)\n",
    "\n",
    "print('Neural Network:\\n')\n",
    "print('Confusion Matrix:\\n',confusion_matrix(y_true_test.values.argmax(axis=1), y_pred_test_network.argmax(axis=1)))\n",
    "\n",
    "# regression\n",
    "\n",
    "y_pred_test_regression = classifierRegression.predict(X_test)\n",
    "encoded_y_pred_test_regression = pd.get_dummies(y_pred_test_regression)\n",
    "\n",
    "print('\\nRegression:\\n')\n",
    "print('Confusion Matrix:\\n',confusion_matrix(y_true_test.values.argmax(axis=1), encoded_y_pred_test_regression.values.argmax(axis=1)))\n"
   ]
  },
  {
   "cell_type": "markdown",
   "metadata": {},
   "source": [
    "- Precision, recall and F1-scores on the test data"
   ]
  },
  {
   "cell_type": "code",
   "execution_count": 34,
   "metadata": {},
   "outputs": [
    {
     "name": "stdout",
     "output_type": "stream",
     "text": [
      "Neural Network on test data:\n",
      "\n",
      "Precision Score= [0.91723709 0.58233987]\n",
      "Recall Score= [0.82975472 0.74934997]\n",
      "F1-Score= [0.87130552 0.65537237]\n",
      "\n",
      "Regression on test data:\n",
      "\n",
      "Precision Score= [0.92697508 0.56434911]\n",
      "Recall Score= [0.81053478 0.79355174]\n",
      "F1-Score= [0.86485327 0.65960666]\n"
     ]
    }
   ],
   "source": [
    "print('Neural Network on test data:\\n')\n",
    "\n",
    "print('Precision Score=',precision_score(y_true_test, y_pred_test_network,average=None))\n",
    "print('Recall Score=',recall_score(y_true_test, y_pred_test_network,average=None))\n",
    "print('F1-Score=',f1_score(y_true_test, y_pred_test_network,average=None))\n",
    "\n",
    "print('\\nRegression on test data:\\n')\n",
    "\n",
    "print('Precision Score=',precision_score(y_true_test, encoded_y_pred_test_regression,average=None))\n",
    "print('Recall Score=',recall_score(y_true_test, encoded_y_pred_test_regression,average=None))\n",
    "print('F1-Score=',f1_score(y_true_test, encoded_y_pred_test_regression,average=None))\n"
   ]
  },
  {
   "cell_type": "markdown",
   "metadata": {},
   "source": [
    "- Accuracy scores on training and test data"
   ]
  },
  {
   "cell_type": "code",
   "execution_count": 35,
   "metadata": {},
   "outputs": [
    {
     "name": "stdout",
     "output_type": "stream",
     "text": [
      "Neural Network Accuracy:\n",
      "\n",
      "Training= 0.8373409562244268\n",
      "Test= 0.8133099932436583\n",
      "\n",
      "Regression Accuracy:\n",
      "\n",
      "Training= 0.8079704052463427\n",
      "Test= 0.806522940851299\n"
     ]
    }
   ],
   "source": [
    "print('Neural Network Accuracy:\\n')\n",
    "\n",
    "print('Training=',accuracy_score(np.array(y_true_training).flatten(), np.array(y_pred_training_network).flatten(), normalize=True))\n",
    "print('Test=',accuracy_score(np.array(y_true_test).flatten(), np.array(y_pred_test_network).flatten(), normalize=True))\n",
    "\n",
    "print('\\nRegression Accuracy:\\n')\n",
    "\n",
    "print('Training=',accuracy_score(np.array(y_true_training).flatten(), np.array(encoded_y_pred_training_regression).flatten(), normalize=True))\n",
    "print('Test=',accuracy_score(np.array(y_true_test).flatten(), np.array(encoded_y_pred_test_regression).flatten(), normalize=True))\n"
   ]
  },
  {
   "cell_type": "markdown",
   "metadata": {},
   "source": [
    "In order to turn numbers into insights, please comment on your findings. Motivate the answers to the following questions using the metrics and the findings in the questions 1 through 7."
   ]
  },
  {
   "cell_type": "markdown",
   "metadata": {},
   "source": [
    "8. (b) What is, in your opinion, the best model? Motivate your answer with the correct performance metrics."
   ]
  },
  {
   "cell_type": "markdown",
   "metadata": {},
   "source": [
    "Explanation:\n",
    "\n",
    "In my opinion the regression model is better, it has a higher accuracy compared to the neural network. The neural network loses about 3% of accuracy when switching to the test data, whereas the regression model has a 1% lower accuracy but almost loses no accuracy when switching to the test data. Also the F1-Score for the regression model is about 2% higher than the F1-Score of the neural network. Additionally, the confusion matrix of the regression model shows that it misclassifies less items."
   ]
  },
  {
   "cell_type": "markdown",
   "metadata": {},
   "source": [
    "8. (c) Does any model suffer from underfitting or overfitting? Motivate your answer with the correct performance metrics."
   ]
  },
  {
   "cell_type": "markdown",
   "metadata": {},
   "source": [
    "Explanation:\n",
    "\n",
    "I think both model suffer from overfitting. This can be seen by the confusion-matrix and the F1-Score which is a weighted average of Precision Score and Recall Score."
   ]
  },
  {
   "cell_type": "markdown",
   "metadata": {},
   "source": [
    "8. (d) In the hypothesis that a separate validation set is not available, how would you proceed in evaluating a model? Refer to the evaluation techniques seen in the lectures."
   ]
  },
  {
   "cell_type": "markdown",
   "metadata": {},
   "source": [
    "Explanation:\n",
    "\n",
    "Some of the evaluation techniques are k-fold cross validation, leave-one-out cross validation, bootstrapping or out-of-time-sampling.\n",
    "\n",
    "K-fold cross validation seperates the data in k sections and uses only one of the k sections for testing. In the next fold (round) another section is used for testing. This continues until all sections were tested.\n",
    "\n",
    "Leave-one-out cross validation is used when the data is really small. It is like k-fold cross validation, but with increasing the k to a maximum, which leads to test data being single instances instead of sections.\n",
    "\n",
    "Boostrapping randomly selects a number of m instances for a test set. This selection is repeated k times. It is also best used on small data sets.\n",
    "\n",
    "Out-of-time sampling works best when there is a concept drift and the data becomes dependant of each other. Then its best to take the oldest data for training and the newest data for testing."
   ]
  }
 ],
 "metadata": {
  "kernelspec": {
   "display_name": "Python 3",
   "language": "python",
   "name": "python3"
  },
  "language_info": {
   "codemirror_mode": {
    "name": "ipython",
    "version": 3
   },
   "file_extension": ".py",
   "mimetype": "text/x-python",
   "name": "python",
   "nbconvert_exporter": "python",
   "pygments_lexer": "ipython3",
   "version": "3.6.6"
  }
 },
 "nbformat": 4,
 "nbformat_minor": 2
}
