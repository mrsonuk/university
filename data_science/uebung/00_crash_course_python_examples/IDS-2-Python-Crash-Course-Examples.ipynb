{
 "cells": [
  {
   "cell_type": "markdown",
   "metadata": {
    "colab_type": "text",
    "id": "EDWeAOstPVHl"
   },
   "source": [
    "## 0. Start with Python\n",
    "Python lets you write very concise code.\n",
    "\n",
    "Java \"Hello World!\"\n",
    "\n",
    "\n",
    "```\n",
    "Public Class HelloWorld\n",
    "{\n",
    "  public static void main(String[] args)\n",
    "  { \n",
    "   System.out.println(\"HelloWorld!\");\n",
    "  }\n",
    "\n",
    "}\n",
    "\n",
    "```\n",
    "\n"
   ]
  },
  {
   "cell_type": "code",
   "execution_count": 1,
   "metadata": {
    "colab": {
     "base_uri": "https://localhost:8080/",
     "height": 34
    },
    "colab_type": "code",
    "id": "kIAFMPljPVHn",
    "outputId": "38fc8c39-0b83-4137-abd7-2594cd879a6f"
   },
   "outputs": [
    {
     "name": "stdout",
     "output_type": "stream",
     "text": [
      "Hello World!\n"
     ]
    }
   ],
   "source": [
    "# Python Hello World !\n",
    "print (\"Hello World!\")"
   ]
  },
  {
   "cell_type": "markdown",
   "metadata": {
    "colab_type": "text",
    "id": "c6zYIKxxPVHr"
   },
   "source": [
    "## 1. Python objects, basic types, and variables\n",
    "\n",
    "Everything in Python is an object.\n",
    "Every object in Python has a type.\n",
    "Some of the basic types include:\n",
    "\n",
    "    int (integer; a whole number with no decimal place)\n",
    "        10\n",
    "        -3\n",
    "    float (float; a number that has a decimal place)\n",
    "        7.41\n",
    "        -0.006\n",
    "    str (string; a sequence of characters enclosed in quotes)\n",
    "        'this is a string using single quotes'\n",
    "        \"this is a string using double quotes\"\n",
    "    bool (boolean; a binary value that is either true or false)\n",
    "        True\n",
    "        False\n",
    "    NoneType (a special type representing the absence of a value)\n",
    "        None\n",
    "\n",
    "In Python, a variable is a name you specify in your code that maps to:\n",
    "\n",
    "a. A particular object\n",
    "\n",
    "b. Object instance\n",
    "\n",
    "C. or value\n",
    "\n",
    "\n",
    "<font color='red'>\n",
    "Attention! Names for variables can only contain:</font>\n",
    "\n",
    "a. Letters\n",
    "\n",
    "b. Underscores (_)\n",
    "\n",
    "C. or numbers (no spaces, dashes, or other characters)\n",
    "\n",
    "<font color='green'>Variable names must start with a letter or underscore.</font>\n",
    "\n",
    "Python data types are either **mutable** or **immutable**; this influences the way in which variables are declared, passed as parameters, and modified. We will explore this concept in the Instructions."
   ]
  },
  {
   "cell_type": "code",
   "execution_count": 2,
   "metadata": {
    "colab": {
     "base_uri": "https://localhost:8080/",
     "height": 34
    },
    "colab_type": "code",
    "id": "Zwdh1JybPVHs",
    "outputId": "17f25b93-7ac2-43dc-fbce-0434824949a4"
   },
   "outputs": [
    {
     "name": "stdout",
     "output_type": "stream",
     "text": [
      "Bob 54 True\n"
     ]
    }
   ],
   "source": [
    "# Variable declaration\n",
    "name = \"Bob\"\n",
    "Age = 54\n",
    "has_W2 = True\n",
    "print(name, Age, has_W2)"
   ]
  },
  {
   "cell_type": "code",
   "execution_count": 3,
   "metadata": {
    "colab": {
     "base_uri": "https://localhost:8080/",
     "height": 129
    },
    "colab_type": "code",
    "id": "tDIVtAQ-PVHw",
    "outputId": "02f1e20a-e566-4d64-8733-73accd84a13e"
   },
   "outputs": [
    {
     "ename": "SyntaxError",
     "evalue": "invalid token (<ipython-input-3-35fcaa659d96>, line 2)",
     "output_type": "error",
     "traceback": [
      "\u001b[0;36m  File \u001b[0;32m\"<ipython-input-3-35fcaa659d96>\"\u001b[0;36m, line \u001b[0;32m2\u001b[0m\n\u001b[0;31m    1099_filed = False\u001b[0m\n\u001b[0m        ^\u001b[0m\n\u001b[0;31mSyntaxError\u001b[0m\u001b[0;31m:\u001b[0m invalid token\n"
     ]
    }
   ],
   "source": [
    "# Variables start with alphas or underscore\n",
    "1099_filed = False"
   ]
  },
  {
   "cell_type": "code",
   "execution_count": 4,
   "metadata": {
    "colab": {
     "base_uri": "https://localhost:8080/",
     "height": 34
    },
    "colab_type": "code",
    "id": "K0CI3NRrPVH0",
    "outputId": "8308cdac-0e96-4e00-d384-d35418569a6f"
   },
   "outputs": [
    {
     "name": "stdout",
     "output_type": "stream",
     "text": [
      "1 2 3 4 5 6 7 8\n"
     ]
    }
   ],
   "source": [
    "# Variable (case sensitiveness)\n",
    "age = 1\n",
    "Age = 2\n",
    "aGe = 3\n",
    "AGE = 4\n",
    "a_g_e = 5\n",
    "_age = 6\n",
    "age_ = 7\n",
    "_AGE_ = 8\n",
    "print(age, Age, aGe, AGE, a_g_e, _age, age_, _AGE_)"
   ]
  },
  {
   "cell_type": "code",
   "execution_count": 5,
   "metadata": {
    "colab": {
     "base_uri": "https://localhost:8080/",
     "height": 129
    },
    "colab_type": "code",
    "id": "uAnRe1LRPVH4",
    "outputId": "5959282b-da15-43bc-e1ef-22f65ef39f54"
   },
   "outputs": [
    {
     "ename": "SyntaxError",
     "evalue": "invalid syntax (<ipython-input-5-0db78dcd7c5e>, line 2)",
     "output_type": "error",
     "traceback": [
      "\u001b[0;36m  File \u001b[0;32m\"<ipython-input-5-0db78dcd7c5e>\"\u001b[0;36m, line \u001b[0;32m2\u001b[0m\n\u001b[0;31m    if = 3\u001b[0m\n\u001b[0m       ^\u001b[0m\n\u001b[0;31mSyntaxError\u001b[0m\u001b[0;31m:\u001b[0m invalid syntax\n"
     ]
    }
   ],
   "source": [
    "# Reserved Word\n",
    "if = 3 \n",
    "print(if)"
   ]
  },
  {
   "cell_type": "code",
   "execution_count": 6,
   "metadata": {
    "colab": {},
    "colab_type": "code",
    "id": "-pYCF2TjPVH8"
   },
   "outputs": [
    {
     "name": "stdout",
     "output_type": "stream",
     "text": [
      "1 2 abcd\n"
     ]
    }
   ],
   "source": [
    "# Multiple Assignment\n",
    "x = y = z = 1 \n",
    "x,y,z = 1,2,\"abcd\"\n",
    "print (x,y,z)"
   ]
  },
  {
   "cell_type": "code",
   "execution_count": 7,
   "metadata": {
    "colab": {
     "base_uri": "https://localhost:8080/",
     "height": 34
    },
    "colab_type": "code",
    "id": "QMM074XgPVIA",
    "outputId": "24032c14-d934-492e-85a2-2dff35bb8237"
   },
   "outputs": [
    {
     "data": {
      "text/plain": [
       "True"
      ]
     },
     "execution_count": 7,
     "metadata": {},
     "output_type": "execute_result"
    }
   ],
   "source": [
    "# Operator Example : Is this expression True?\n",
    "5 > 3 < 4 == 3 + 1"
   ]
  },
  {
   "cell_type": "code",
   "execution_count": 8,
   "metadata": {
    "colab": {
     "base_uri": "https://localhost:8080/",
     "height": 34
    },
    "colab_type": "code",
    "id": "UR8noz4zPVID",
    "outputId": "b3a83571-6d5a-461a-d8ea-cc0570280a03"
   },
   "outputs": [
    {
     "data": {
      "text/plain": [
       "True"
      ]
     },
     "execution_count": 8,
     "metadata": {},
     "output_type": "execute_result"
    }
   ],
   "source": [
    "# Operator Example : Is this expression True?\n",
    "5 > 3 < 4 != 3 + 2"
   ]
  },
  {
   "cell_type": "code",
   "execution_count": 9,
   "metadata": {
    "colab": {
     "base_uri": "https://localhost:8080/",
     "height": 34
    },
    "colab_type": "code",
    "id": "ggR-Z1coPVIH",
    "outputId": "7475c45b-0f3e-47db-bb0c-45d9fec4ddec"
   },
   "outputs": [
    {
     "name": "stdout",
     "output_type": "stream",
     "text": [
      "an example of using the + operator\n",
      "an example\n"
     ]
    }
   ],
   "source": [
    "# Operator Example: \n",
    "simple_string1 = 'an example'\n",
    "simple_string2 = \"oranges \"\n",
    "print(simple_string1 + ' of using the + operator')\n",
    "print(simple_string1)"
   ]
  },
  {
   "cell_type": "markdown",
   "metadata": {
    "colab_type": "text",
    "id": "oQku7ZP4PVIL"
   },
   "source": [
    "## 2. Iteration and Condition "
   ]
  },
  {
   "cell_type": "code",
   "execution_count": 10,
   "metadata": {
    "colab": {
     "base_uri": "https://localhost:8080/",
     "height": 102
    },
    "colab_type": "code",
    "id": "ohcszlzVPVIN",
    "outputId": "5d33cbb1-9c0c-4dd4-8111-f55cf8e0c1cf"
   },
   "outputs": [
    {
     "name": "stdout",
     "output_type": "stream",
     "text": [
      "0\n",
      "1\n",
      "2\n",
      "3\n",
      "4\n"
     ]
    }
   ],
   "source": [
    "# Prints out the numbers 0,1,2,3,4\n",
    "for x in range(5):\n",
    "    print(x)"
   ]
  },
  {
   "cell_type": "code",
   "execution_count": 11,
   "metadata": {
    "colab": {
     "base_uri": "https://localhost:8080/",
     "height": 68
    },
    "colab_type": "code",
    "id": "aSjsSZD-PVIQ",
    "outputId": "6b6cde8d-bd61-41c2-bd61-63d3389a6397"
   },
   "outputs": [
    {
     "name": "stdout",
     "output_type": "stream",
     "text": [
      "3\n",
      "4\n",
      "5\n"
     ]
    }
   ],
   "source": [
    "# Prints out 3,4,5\n",
    "for x in range(3, 6):\n",
    "    print(x)"
   ]
  },
  {
   "cell_type": "code",
   "execution_count": 12,
   "metadata": {
    "colab": {
     "base_uri": "https://localhost:8080/",
     "height": 68
    },
    "colab_type": "code",
    "id": "LoXjltvTPVIT",
    "outputId": "bdec4e39-e73c-4b0a-de1d-031131add2a1"
   },
   "outputs": [
    {
     "name": "stdout",
     "output_type": "stream",
     "text": [
      "3\n",
      "5\n",
      "7\n"
     ]
    }
   ],
   "source": [
    "# Prints out 3,5,7\n",
    "for x in range(3, 8, 2):\n",
    "    print(x)"
   ]
  },
  {
   "cell_type": "code",
   "execution_count": 13,
   "metadata": {
    "colab": {
     "base_uri": "https://localhost:8080/",
     "height": 187
    },
    "colab_type": "code",
    "id": "OaPnMeYTPVIW",
    "outputId": "2a14e7c4-5d88-48fc-d9f4-669727c0f9b8"
   },
   "outputs": [
    {
     "name": "stdout",
     "output_type": "stream",
     "text": [
      "0\n",
      "1\n",
      "2\n",
      "3\n",
      "4\n",
      "1\n",
      "3\n",
      "5\n",
      "7\n",
      "9\n"
     ]
    }
   ],
   "source": [
    "# Condition and Iteration Example: \n",
    "# Prints out 0,1,2,3,4\n",
    "\n",
    "count = 0\n",
    "while True:\n",
    "    print(count)\n",
    "    count += 1\n",
    "    if count >= 5:\n",
    "        break\n",
    "\n",
    "# Prints out only odd numbers - 1,3,5,7,9\n",
    "for x in range(10):\n",
    "    # Check if x is even\n",
    "    if x % 2 == 0:\n",
    "        continue\n",
    "    print(x)"
   ]
  },
  {
   "cell_type": "code",
   "execution_count": 14,
   "metadata": {
    "colab": {
     "base_uri": "https://localhost:8080/",
     "height": 51
    },
    "colab_type": "code",
    "id": "MIg4u4XWPVIZ",
    "outputId": "5a0ff281-4c91-450d-c0c2-71368155e2c3"
   },
   "outputs": [
    {
     "name": "stdout",
     "output_type": "stream",
     "text": [
      "407 is not a prime number\n",
      "11 times 37 is 407\n"
     ]
    }
   ],
   "source": [
    "# Learn If and and For with an Example : \n",
    "\n",
    "# Python program to check if the input number is prime or not\n",
    "\n",
    "num = 407\n",
    "\n",
    "# take input from the user\n",
    "# num = int(input(\"Enter a number: \"))\n",
    "\n",
    "# prime numbers are greater than 1\n",
    "if num > 1:\n",
    "   # check for factors\n",
    "   for i in range(2,num):\n",
    "       if (num % i) == 0:\n",
    "           print(num,\"is not a prime number\")\n",
    "           print(i,\"times\",num//i,\"is\",num)\n",
    "           break\n",
    "   else:\n",
    "       print(num,\"is a prime number\")\n",
    "       \n",
    "# if input number is less than\n",
    "# or equal to 1, it is not prime\n",
    "else:\n",
    "   print(num,\"is not a prime number\")"
   ]
  },
  {
   "cell_type": "markdown",
   "metadata": {
    "colab_type": "text",
    "id": "H4ZiNOiqPVIf"
   },
   "source": [
    "## 3. Python Basic Data Structure\n",
    "    \n",
    "    Note: mutable objects can be modified after creation and immutable objects cannot.\n",
    "\n",
    "**Goal** : To group other objects together\n",
    "\n",
    "The basic container types include:\n",
    "\n",
    "    str (string: immutable; indexed by integers)\n",
    "        Items are stored in the order they were added\n",
    "        \n",
    "    list (list: mutable; indexed by integers)\n",
    "        Items are stored in the order they were added\n",
    "        [3, 5, 6, 3, 'dog', 'cat', False]\n",
    "        \n",
    "    tuple (tuple: immutable; indexed by integers)\n",
    "        Items are stored in the order they were added\n",
    "        (3, 5, 6, 3, 'dog', 'cat', False)\n",
    "        \n",
    "    set (set: mutable; not indexed at all)\n",
    "        Items are NOT stored in the order they were added, but in a item-defined ordering\n",
    "        Can only contain immutable objects\n",
    "        does NOT contain duplicate objects\n",
    "        {3, 5, 6, 3, 'dog', 'cat', False}\n",
    "    \n",
    "    dict (dictionary: mutable; key-value pairs are indexed by immutable keys)\n",
    "        Items are NOT stored in the order they were added, but in a item-defined ordering\n",
    "        {'name': 'Jane', 'age': 23, 'fav_foods': ['pizza', 'fruit', 'fish']}\n",
    "\n",
    "Defining *lists*, *tuples*, or *sets* : \n",
    "\n",
    "    seperate items with(,) \n",
    "\n",
    "Defining *dicts* : \n",
    "\n",
    "    seperate keys and values with(:)\n",
    "    \n",
    "    seperate pairs with(,)\n",
    "\n",
    "**Strings, lists, and tuples are all sequence types that can use the +, *, +=, and *= operators.**"
   ]
  },
  {
   "cell_type": "code",
   "execution_count": 18,
   "metadata": {},
   "outputs": [
    {
     "name": "stdout",
     "output_type": "stream",
     "text": [
      "93835877120576\n",
      "93835877120608\n"
     ]
    }
   ],
   "source": [
    "x = 3\n",
    "print(id(x))\n",
    "x = 3 + 1\n",
    "\n",
    "print(id(x))"
   ]
  },
  {
   "cell_type": "code",
   "execution_count": 19,
   "metadata": {
    "colab": {},
    "colab_type": "code",
    "id": "EWbn5JU0PVIf"
   },
   "outputs": [],
   "source": [
    "# Assign some containers to different variables\n",
    "list1 = [3, 5, 6, 3, 'dog', 'cat', False]\n",
    "tuple1 = (3, 5, 6, 3, 'dog', 'cat', False)\n",
    "set1 = {3, 5, 6, 3, 'dog', 'cat', False}\n",
    "dict1 = {'name': 'Jane', 'age': 23, 'fav_foods': ['pizza', 'fruit', 'fish']}"
   ]
  },
  {
   "cell_type": "code",
   "execution_count": 20,
   "metadata": {
    "colab": {
     "base_uri": "https://localhost:8080/",
     "height": 34
    },
    "colab_type": "code",
    "id": "yn-Ylqp2PVIi",
    "outputId": "36af637d-ab25-4512-ac43-3a5f87c55e0f"
   },
   "outputs": [
    {
     "data": {
      "text/plain": [
       "[3, 5, 6, 3, 'dog', 'cat', False]"
      ]
     },
     "execution_count": 20,
     "metadata": {},
     "output_type": "execute_result"
    }
   ],
   "source": [
    "# Items in the list object are stored in the order they were added\n",
    "list1"
   ]
  },
  {
   "cell_type": "code",
   "execution_count": 21,
   "metadata": {
    "colab": {
     "base_uri": "https://localhost:8080/",
     "height": 34
    },
    "colab_type": "code",
    "id": "4VeDZclNPVIm",
    "outputId": "e3e812a4-2bff-4ead-ddf8-7aeb16683228"
   },
   "outputs": [
    {
     "data": {
      "text/plain": [
       "(3, 5, 6, 3, 'dog', 'cat', False)"
      ]
     },
     "execution_count": 21,
     "metadata": {},
     "output_type": "execute_result"
    }
   ],
   "source": [
    "# Items in the tuple object are stored in the order they were added\n",
    "tuple1"
   ]
  },
  {
   "cell_type": "code",
   "execution_count": 22,
   "metadata": {
    "colab": {
     "base_uri": "https://localhost:8080/",
     "height": 34
    },
    "colab_type": "code",
    "id": "05BHVjdIPVIp",
    "outputId": "3f90d912-993c-4635-902c-0784ecfc3ae9"
   },
   "outputs": [
    {
     "data": {
      "text/plain": [
       "{3, 5, 6, False, 'cat', 'dog'}"
      ]
     },
     "execution_count": 22,
     "metadata": {},
     "output_type": "execute_result"
    }
   ],
   "source": [
    "# Items in the set object are not stored in the order they were added\n",
    "# Also, notice that the value 3 only appears once in this set object\n",
    "\n",
    "set1"
   ]
  },
  {
   "cell_type": "code",
   "execution_count": 23,
   "metadata": {
    "colab": {
     "base_uri": "https://localhost:8080/",
     "height": 34
    },
    "colab_type": "code",
    "id": "La4Z2YQsPVIs",
    "outputId": "5349a263-700b-41ba-ab80-24e8a7e2b4cd"
   },
   "outputs": [
    {
     "data": {
      "text/plain": [
       "{'age': 23, 'fav_foods': ['pizza', 'fruit', 'fish'], 'name': 'Jane'}"
      ]
     },
     "execution_count": 23,
     "metadata": {},
     "output_type": "execute_result"
    }
   ],
   "source": [
    "# Items in the dict object are not stored in the order they were added\n",
    "dict1"
   ]
  },
  {
   "cell_type": "code",
   "execution_count": 24,
   "metadata": {
    "colab": {},
    "colab_type": "code",
    "id": "NgYbbPQzPVIv"
   },
   "outputs": [
    {
     "data": {
      "text/plain": [
       "[3, 5, 6, 3, 'dog', 'cat', False, 5, 'grapes']"
      ]
     },
     "execution_count": 24,
     "metadata": {},
     "output_type": "execute_result"
    }
   ],
   "source": [
    "# Add and re-assign\n",
    "\n",
    "list1 += [5, 'grapes']\n",
    "\n",
    "list1"
   ]
  },
  {
   "cell_type": "code",
   "execution_count": 25,
   "metadata": {
    "colab": {},
    "colab_type": "code",
    "id": "7VMxjXf8PVIy"
   },
   "outputs": [
    {
     "data": {
      "text/plain": [
       "(3, 5, 6, 3, 'dog', 'cat', False, 5, 'grapes')"
      ]
     },
     "execution_count": 25,
     "metadata": {},
     "output_type": "execute_result"
    }
   ],
   "source": [
    "# Add and re-assign\n",
    "\n",
    "tuple1 += (5, 'grapes')\n",
    "\n",
    "tuple1"
   ]
  },
  {
   "cell_type": "code",
   "execution_count": 26,
   "metadata": {
    "colab": {
     "base_uri": "https://localhost:8080/",
     "height": 34
    },
    "colab_type": "code",
    "id": "mfxSuW-PPVI0",
    "outputId": "1682d715-155f-4eea-eaa1-5204e125e7e8"
   },
   "outputs": [
    {
     "data": {
      "text/plain": [
       "[1, 2, 3, 4, 1, 2, 3, 4]"
      ]
     },
     "execution_count": 26,
     "metadata": {},
     "output_type": "execute_result"
    }
   ],
   "source": [
    "# Multiply\n",
    "\n",
    "[1, 2, 3, 4] * 2"
   ]
  },
  {
   "cell_type": "code",
   "execution_count": 27,
   "metadata": {
    "colab": {
     "base_uri": "https://localhost:8080/",
     "height": 34
    },
    "colab_type": "code",
    "id": "W-KqnQ-IPVI2",
    "outputId": "808fd275-055e-4ad9-e97d-ae01124bb58f"
   },
   "outputs": [
    {
     "data": {
      "text/plain": [
       "(1, 2, 3, 4, 1, 2, 3, 4, 1, 2, 3, 4)"
      ]
     },
     "execution_count": 27,
     "metadata": {},
     "output_type": "execute_result"
    }
   ],
   "source": [
    "\n",
    "# Multiply\n",
    "\n",
    "(1, 2, 3, 4) * 3"
   ]
  },
  {
   "cell_type": "markdown",
   "metadata": {
    "colab_type": "text",
    "id": "jVS6Vjf8PVI5"
   },
   "source": [
    "### Accessing data in containers\n",
    "Subscript notation (square brackets) to access data at an index for: \n",
    "-  strings\n",
    "-  lists\n",
    "-  tuples\n",
    "-  dicts\n",
    "\n",
    "*indexed by integers, starting at 0 for first item*\n",
    "*dicts are indexed by their keys*\n",
    "\n",
    "    Note: sets are not indexed, so we cannot use subscript notation to access data elements.\n",
    "\n"
   ]
  },
  {
   "cell_type": "code",
   "execution_count": 28,
   "metadata": {
    "colab": {
     "base_uri": "https://localhost:8080/",
     "height": 34
    },
    "colab_type": "code",
    "id": "Uj1tdJI_PVI6",
    "outputId": "6a419ac1-3254-477e-96f3-ba148c25cb70"
   },
   "outputs": [
    {
     "name": "stdout",
     "output_type": "stream",
     "text": [
      "3\n",
      "(3, 5, 6, 3, 'dog', 'cat')\n",
      "(3, 5, 6, 3, 'dog', 'cat', False, 5, 'grapes')\n"
     ]
    }
   ],
   "source": [
    "# Access the first item in a sequence\n",
    "\n",
    "print (list1[0])\n",
    "\n",
    "# Access the last item in a sequence\n",
    "\n",
    "tuple1[-1]\n",
    "\n",
    "# Access a range of items in a sequence\n",
    "\n",
    "simple_string1[3:8]\n",
    "\n",
    "# Access a range of items in a sequence\n",
    "\n",
    "print(tuple1[:-3])\n",
    "\n",
    "# Access a range of items in a sequence\n",
    "\n",
    "list1[4:]\n",
    "\n",
    "# Access an item in a dictionary\n",
    "\n",
    "dict1['name']\n",
    "\n",
    "# Access an element of a sequence in a dictionary\n",
    "\n",
    "dict1['fav_foods'][2]\n",
    "print(tuple1)"
   ]
  },
  {
   "cell_type": "markdown",
   "metadata": {
    "colab_type": "text",
    "id": "wtWjTWcxTace"
   },
   "source": [
    "### List comprehension\n",
    "List comprehension is a quick way to iterate through the elements of a list.\n",
    "\n",
    "Normally, you can iterate through elements of a list with a loop. The list comprehension allows you to manipulate lists in a very concise way to obtain new lists, and it is usually more efficient than looping. The syntax is:\n",
    "\n",
    "`[func(element) for element in list]`\n",
    "\n",
    "the list comprehension can also have conditions on the selection of elements:\n",
    "\n",
    "`[func(element) for element in list if {condition on element}]`"
   ]
  },
  {
   "cell_type": "code",
   "execution_count": 29,
   "metadata": {
    "colab": {
     "base_uri": "https://localhost:8080/",
     "height": 34
    },
    "colab_type": "code",
    "id": "qyZB2ew3U6m6",
    "outputId": "fb6a85b2-60f6-4445-f2ea-f8b172752d18"
   },
   "outputs": [
    {
     "name": "stdout",
     "output_type": "stream",
     "text": [
      "[2, 4, 6, 8, 10, 12]\n"
     ]
    }
   ],
   "source": [
    "list2 = [1,2,3,4,5,6]\n",
    "\n",
    "# Basic loop\n",
    "\n",
    "listdouble = []\n",
    "for i in range(0, len(list2)):\n",
    "  listdouble.append(list2[i]*2)\n",
    "print(listdouble)"
   ]
  },
  {
   "cell_type": "code",
   "execution_count": 30,
   "metadata": {
    "colab": {
     "base_uri": "https://localhost:8080/",
     "height": 34
    },
    "colab_type": "code",
    "id": "CSinPSXZV829",
    "outputId": "78d454ce-84f9-4518-f959-c25dd05d4876"
   },
   "outputs": [
    {
     "name": "stdout",
     "output_type": "stream",
     "text": [
      "[2, 4, 6, 8, 10, 12]\n"
     ]
    }
   ],
   "source": [
    "# Slightly better way for looping\n",
    "\n",
    "listdouble = []\n",
    "for item in list2:\n",
    "  listdouble.append(item*2)\n",
    "print(listdouble)"
   ]
  },
  {
   "cell_type": "code",
   "execution_count": 31,
   "metadata": {
    "colab": {
     "base_uri": "https://localhost:8080/",
     "height": 34
    },
    "colab_type": "code",
    "id": "aZn8ZobeWI9s",
    "outputId": "ac6ce925-ffd3-4a21-b65a-f26b477de011"
   },
   "outputs": [
    {
     "name": "stdout",
     "output_type": "stream",
     "text": [
      "[2, 4, 6, 8, 10, 12]\n"
     ]
    }
   ],
   "source": [
    "# The best way: list comprehension\n",
    "listdouble = [item*2 for item in list2]\n",
    "print(listdouble)"
   ]
  },
  {
   "cell_type": "code",
   "execution_count": 32,
   "metadata": {
    "colab": {
     "base_uri": "https://localhost:8080/",
     "height": 34
    },
    "colab_type": "code",
    "id": "LCbOdT7QWice",
    "outputId": "d5893fff-06c5-4559-ef27-605f8b0ae651"
   },
   "outputs": [
    {
     "name": "stdout",
     "output_type": "stream",
     "text": [
      "[2, 6, 10]\n"
     ]
    }
   ],
   "source": [
    "# Conditions in list comprehension: let's take just the odd numbers\n",
    "doubleodds = [item*2 for item in list2 if item%2==1]\n",
    "print(doubleodds)"
   ]
  },
  {
   "cell_type": "markdown",
   "metadata": {
    "colab_type": "text",
    "id": "YRWt9JhVPVI8"
   },
   "source": [
    "## 3. Python build-in Functions\n",
    "\n",
    "-  A function is a Python object that you can \"call\" to perform an action or compute and return another object\n",
    "\n",
    "-  Call a function\n",
    "\n",
    "-  Some functions allow you to pass arguments inside the parentheses \n",
    ">-  (separating multiple arguments with a comma).\n",
    "- Inside the function, these arguments are treated like variables.\n",
    "\n",
    "A small sample of python useful built-in functions: \n",
    "\n",
    "    type(obj) to determine the type of an object\n",
    "    \n",
    "    len(container) to determine how many items are in a container\n",
    "    \n",
    "    callable(obj) to determine if an object is callable\n",
    "    \n",
    "    sorted(container) to return a new list from a container, with the items sorted\n",
    "    \n",
    "    sum(container) to compute the sum of a container of numbers\n",
    "    \n",
    "    min(container) to determine the smallest item in a container\n",
    "    \n",
    "    max(container) to determine the largest item in a container\n",
    "    \n",
    "    abs(number) to determine the absolute value of a number\n",
    "    \n",
    "    repr(obj) to return a string representation of an object\n"
   ]
  },
  {
   "cell_type": "code",
   "execution_count": 33,
   "metadata": {
    "colab": {},
    "colab_type": "code",
    "id": "ApcDowSfPVI9"
   },
   "outputs": [
    {
     "data": {
      "text/plain": [
       "str"
      ]
     },
     "execution_count": 33,
     "metadata": {},
     "output_type": "execute_result"
    }
   ],
   "source": [
    "# Use the type() function to determine the type of an object\n",
    "type(simple_string1)"
   ]
  },
  {
   "cell_type": "code",
   "execution_count": 34,
   "metadata": {
    "colab": {
     "base_uri": "https://localhost:8080/",
     "height": 34
    },
    "colab_type": "code",
    "id": "gv_eH14MPVJA",
    "outputId": "835bbc47-8b76-4ce0-ddee-f882723a3e54"
   },
   "outputs": [
    {
     "data": {
      "text/plain": [
       "3"
      ]
     },
     "execution_count": 34,
     "metadata": {},
     "output_type": "execute_result"
    }
   ],
   "source": [
    "# Use the len() function to determine how many items are in a container\n",
    "len(dict1)"
   ]
  },
  {
   "cell_type": "code",
   "execution_count": 35,
   "metadata": {
    "colab": {},
    "colab_type": "code",
    "id": "Mhl080wfPVJC"
   },
   "outputs": [
    {
     "data": {
      "text/plain": [
       "8"
      ]
     },
     "execution_count": 35,
     "metadata": {},
     "output_type": "execute_result"
    }
   ],
   "source": [
    "# Use the len() function to determine how many items are in a container\n",
    "len(simple_string2)"
   ]
  },
  {
   "cell_type": "code",
   "execution_count": 36,
   "metadata": {
    "colab": {},
    "colab_type": "code",
    "id": "qRk0glckPVJE"
   },
   "outputs": [
    {
     "data": {
      "text/plain": [
       "True"
      ]
     },
     "execution_count": 36,
     "metadata": {},
     "output_type": "execute_result"
    }
   ],
   "source": [
    "# Use the callable() function to determine if an object is callable\n",
    "callable(len)"
   ]
  },
  {
   "cell_type": "code",
   "execution_count": 37,
   "metadata": {
    "colab": {},
    "colab_type": "code",
    "id": "Zmp9c_nCPVJH"
   },
   "outputs": [
    {
     "data": {
      "text/plain": [
       "False"
      ]
     },
     "execution_count": 37,
     "metadata": {},
     "output_type": "execute_result"
    }
   ],
   "source": [
    "# Use the callable() function to determine if an object is callable\n",
    "callable(dict1)"
   ]
  },
  {
   "cell_type": "code",
   "execution_count": 38,
   "metadata": {
    "colab": {},
    "colab_type": "code",
    "id": "xxrlGgZjPVJJ"
   },
   "outputs": [
    {
     "data": {
      "text/plain": [
       "['California', 'Chicago', 'ants', 'cats', 'dogs', 'mice', 'zebras']"
      ]
     },
     "execution_count": 38,
     "metadata": {},
     "output_type": "execute_result"
    }
   ],
   "source": [
    "# Use the sorted() function to return a new list from a container, with the items sorted\n",
    "# - notice that capitalized strings come first\n",
    "sorted(['dogs', 'cats', 'zebras', 'Chicago', 'California', 'ants', 'mice'])"
   ]
  },
  {
   "cell_type": "code",
   "execution_count": 39,
   "metadata": {
    "colab": {},
    "colab_type": "code",
    "id": "ZV9CRC9XPVJM"
   },
   "outputs": [
    {
     "data": {
      "text/plain": [
       "'123'"
      ]
     },
     "execution_count": 39,
     "metadata": {},
     "output_type": "execute_result"
    }
   ],
   "source": [
    "# Use the repr() function to return a string representation of an object\n",
    "set1 = 123\n",
    "repr(set1)"
   ]
  },
  {
   "cell_type": "markdown",
   "metadata": {
    "colab_type": "text",
    "id": "vb0uqeeiPVJP"
   },
   "source": [
    "## 4. Object Oriented Programming\n",
    "### Python object attributes (methods and properties)\n",
    "\n",
    "Different types of objects in Python have different attributes\n",
    "\n",
    "To access an attribute of an object, use a dot (.)\n",
    "#### Method\n",
    "\n",
    "<font color= \"green\">\n",
    "    When an attribute of an object is a callable, that attribute is called a method</font>\n",
    "\n",
    "It is the same as a function, only this function is bound to a particular object.\n",
    "\n",
    "#### Property\n",
    "<font color = \"green\">When an attribute of an object is not a callable, that attribute is called a property</font>\n",
    "\n",
    "It is just a piece of data about the object, that is itself another object.\n",
    "\n",
    "The built-in *dir()* function can be used to return a list of an object's attributes.\n"
   ]
  },
  {
   "cell_type": "markdown",
   "metadata": {
    "colab_type": "text",
    "id": "sQkEHJ_QPVJQ"
   },
   "source": [
    "##### Sample methods for string objects\n",
    "\n",
    "    .capitalize() to return a capitalized version of the string (only first char uppercase)\n",
    "    \n",
    "    .upper() to return an uppercase version of the string (all chars uppercase)\n",
    "    \n",
    "    .lower() to return an lowercase version of the string (all chars lowercase)\n",
    "    \n",
    "    .count(substring) to return the number of occurences of the substring in the string\n",
    "    \n",
    "    .startswith(substring) to determine if the string starts with the substring\n",
    "    \n",
    "    .endswith(substring) to determine if the string ends with the substring\n",
    "    \n",
    "    .replace(old, new) to return a copy of the string with occurences of the \"old\" replaced by \"new\"\n"
   ]
  },
  {
   "cell_type": "code",
   "execution_count": 40,
   "metadata": {
    "colab": {},
    "colab_type": "code",
    "id": "B_klywIhPVJR"
   },
   "outputs": [],
   "source": [
    "# Assign a string to a variable\n",
    "\n",
    "test_string = 'tHis is a sTriNg'"
   ]
  },
  {
   "cell_type": "code",
   "execution_count": 41,
   "metadata": {
    "colab": {},
    "colab_type": "code",
    "id": "9KMcXhaCPVJV"
   },
   "outputs": [
    {
     "data": {
      "text/plain": [
       "'This is a string'"
      ]
     },
     "execution_count": 41,
     "metadata": {},
     "output_type": "execute_result"
    }
   ],
   "source": [
    "# Return a capitalized version of the string\n",
    "\n",
    "test_string.capitalize()"
   ]
  },
  {
   "cell_type": "code",
   "execution_count": 42,
   "metadata": {
    "colab": {},
    "colab_type": "code",
    "id": "6Rzh6HLkPVJW"
   },
   "outputs": [
    {
     "data": {
      "text/plain": [
       "'THIS IS A STRING'"
      ]
     },
     "execution_count": 42,
     "metadata": {},
     "output_type": "execute_result"
    }
   ],
   "source": [
    "# Return an uppercase version of the string\n",
    "\n",
    "test_string.upper()"
   ]
  },
  {
   "cell_type": "code",
   "execution_count": 43,
   "metadata": {
    "colab": {},
    "colab_type": "code",
    "id": "-5Z5m6b3PVJZ"
   },
   "outputs": [
    {
     "data": {
      "text/plain": [
       "3"
      ]
     },
     "execution_count": 43,
     "metadata": {},
     "output_type": "execute_result"
    }
   ],
   "source": [
    "# Count number of occurences of a substring in the string\n",
    "\n",
    "test_string.count('i')"
   ]
  },
  {
   "cell_type": "code",
   "execution_count": 44,
   "metadata": {
    "colab": {},
    "colab_type": "code",
    "id": "34i9DIbJPVJb"
   },
   "outputs": [
    {
     "data": {
      "text/plain": [
       "1"
      ]
     },
     "execution_count": 44,
     "metadata": {},
     "output_type": "execute_result"
    }
   ],
   "source": [
    "# Count number of occurences of a substring in the string after a certain position\n",
    "\n",
    "test_string.count('i', 7)"
   ]
  },
  {
   "cell_type": "markdown",
   "metadata": {
    "colab_type": "text",
    "id": "33Wm6JRGPVJd"
   },
   "source": [
    "##### Sample methods on list objects\n",
    "\n",
    "    .append(item) to add a single item to the list\n",
    "    \n",
    "    .extend([item1, item2, ...]) to add multiple items to the list\n",
    "    \n",
    "    .remove(item) to remove a single item from the list\n",
    "    \n",
    "    .pop() to remove and return the item at the end of the list\n",
    "    \n",
    "    .pop(index) to remove and return an item at an index\n",
    "\n"
   ]
  },
  {
   "cell_type": "code",
   "execution_count": 45,
   "metadata": {
    "colab": {},
    "colab_type": "code",
    "id": "edD0R1EcPVJe"
   },
   "outputs": [
    {
     "name": "stdout",
     "output_type": "stream",
     "text": [
      "['Red', 'Blue', 'Green', 'Black', 'Yellow']\n"
     ]
    }
   ],
   "source": [
    "# Add a single item to the list\n",
    "color_list=[\"Red\", \"Blue\", \"Green\", \"Black\"]\n",
    "color_list.append(\"Yellow\")\n",
    "print(color_list)"
   ]
  },
  {
   "cell_type": "code",
   "execution_count": 46,
   "metadata": {
    "colab": {},
    "colab_type": "code",
    "id": "yNvw9eC8PVJg"
   },
   "outputs": [
    {
     "name": "stdout",
     "output_type": "stream",
     "text": [
      "['Red', 'Blue', 'White', 'Green', 'Black', 'Yellow']\n"
     ]
    }
   ],
   "source": [
    "# Insert a single value at a specific position \n",
    "color_list.insert(2, \"White\")\n",
    "print(color_list)"
   ]
  },
  {
   "cell_type": "markdown",
   "metadata": {
    "colab_type": "text",
    "id": "AHU4-LwZPVJi"
   },
   "source": [
    "### Class\n",
    "The OOP concept follows some basic principles:\n",
    "-  Inheritance:\tA process of using details from a new class without modifying existing class.\n",
    "-  Encapsulation: Hiding the private details of a class from other objects.\n",
    "-  Polymorphism:  A concept of using common operation in different ways for different data input.\n",
    "\n",
    "A class is a blueprint for the object.\n",
    "The example for class of parrot can be :"
   ]
  },
  {
   "cell_type": "code",
   "execution_count": 47,
   "metadata": {
    "colab": {},
    "colab_type": "code",
    "id": "BBz4-70KPVJi"
   },
   "outputs": [],
   "source": [
    "class Parrot:\n",
    "    pass"
   ]
  },
  {
   "cell_type": "code",
   "execution_count": 48,
   "metadata": {
    "colab": {},
    "colab_type": "code",
    "id": "a__T7E7PPVJk"
   },
   "outputs": [
    {
     "name": "stdout",
     "output_type": "stream",
     "text": [
      "Blu is a bird\n",
      "Woo is also a bird\n",
      "Blu is 10 years old\n",
      "Woo is 15 years old\n"
     ]
    }
   ],
   "source": [
    "class Parrot:\n",
    "\n",
    "    # class attribute\n",
    "    species = \"bird\"\n",
    "\n",
    "    # instance attribute\n",
    "    def __init__(self, name, age):\n",
    "        self.name = name\n",
    "        self.age = age\n",
    "\n",
    "# instantiate the Parrot class\n",
    "blu = Parrot(\"Blu\", 10)\n",
    "woo = Parrot(\"Woo\", 15)\n",
    "\n",
    "# access the class attributes\n",
    "print(\"Blu is a {}\".format(blu.__class__.species))\n",
    "print(\"Woo is also a {}\".format(woo.__class__.species))\n",
    "\n",
    "# access the instance attributes\n",
    "print(\"{} is {} years old\".format( blu.name, blu.age))\n",
    "print(\"{} is {} years old\".format( woo.name, woo.age))"
   ]
  },
  {
   "cell_type": "markdown",
   "metadata": {
    "colab_type": "text",
    "id": "KapdeeF5PVJm"
   },
   "source": [
    "### Python Methods\n",
    "-  Instance Method\n",
    "-  Class Method\n",
    "-  Static Method"
   ]
  },
  {
   "cell_type": "code",
   "execution_count": 49,
   "metadata": {
    "colab": {},
    "colab_type": "code",
    "id": "hHXjPS2YPVJm"
   },
   "outputs": [],
   "source": [
    "class MyClass:\n",
    "    def method(self):\n",
    "        return 'instance method called', self\n",
    "\n",
    "    @classmethod\n",
    "    def classmethod(cls):\n",
    "        return 'class method called', cls\n",
    "\n",
    "    @staticmethod\n",
    "    def staticmethod():\n",
    "        return 'static method called'"
   ]
  },
  {
   "cell_type": "markdown",
   "metadata": {
    "colab_type": "text",
    "id": "GYqFqGNZPVJs"
   },
   "source": [
    "#### Instance Methods"
   ]
  },
  {
   "cell_type": "code",
   "execution_count": 50,
   "metadata": {
    "colab": {},
    "colab_type": "code",
    "id": "JX28duIuPVJu"
   },
   "outputs": [
    {
     "data": {
      "text/plain": [
       "('instance method called', <__main__.MyClass at 0x7f82517ec978>)"
      ]
     },
     "execution_count": 50,
     "metadata": {},
     "output_type": "execute_result"
    }
   ],
   "source": [
    "obj = MyClass()\n",
    "obj.method()"
   ]
  },
  {
   "cell_type": "markdown",
   "metadata": {
    "colab_type": "text",
    "id": "_L_-IZE2PVJx"
   },
   "source": [
    "##### Class Method"
   ]
  },
  {
   "cell_type": "code",
   "execution_count": 51,
   "metadata": {
    "colab": {},
    "colab_type": "code",
    "id": "v9VLyTUxPVJx"
   },
   "outputs": [
    {
     "data": {
      "text/plain": [
       "('class method called', __main__.MyClass)"
      ]
     },
     "execution_count": 51,
     "metadata": {},
     "output_type": "execute_result"
    }
   ],
   "source": [
    "obj.classmethod()"
   ]
  },
  {
   "cell_type": "markdown",
   "metadata": {
    "colab_type": "text",
    "id": "bCAOVjJ9PVJ0"
   },
   "source": [
    "#### Static Method"
   ]
  },
  {
   "cell_type": "code",
   "execution_count": 52,
   "metadata": {
    "colab": {},
    "colab_type": "code",
    "id": "wCWKW8xtPVJ0"
   },
   "outputs": [
    {
     "data": {
      "text/plain": [
       "'static method called'"
      ]
     },
     "execution_count": 52,
     "metadata": {},
     "output_type": "execute_result"
    }
   ],
   "source": [
    "obj.staticmethod()"
   ]
  },
  {
   "cell_type": "code",
   "execution_count": 53,
   "metadata": {
    "colab": {},
    "colab_type": "code",
    "id": "S4Zr-cpzPVJ4"
   },
   "outputs": [
    {
     "name": "stdout",
     "output_type": "stream",
     "text": [
      "Blu is 10 years old\n",
      "Blu says nothing :D\n"
     ]
    }
   ],
   "source": [
    "class Parrot:\n",
    "\n",
    "    # class attribute\n",
    "    species = \"bird\"\n",
    "\n",
    "    # instance attribute\n",
    "    def __init__(self, name, age):\n",
    "        self.name = name\n",
    "        self.age = age\n",
    "    \n",
    "    #  method\n",
    "    def description(self):\n",
    "        return \"{} is {} years old\".format(self.name, self.age)\n",
    "\n",
    "    #  method\n",
    "    def speak(self, sound):\n",
    "        return \"{} says {}\".format(self.name, sound)\n",
    "\n",
    "# instantiate the Parrot class\n",
    "blu = Parrot(\"Blu\", 10)\n",
    "\n",
    "# What Are the Results???\n",
    "# What is the type of Methods?\n",
    "print(blu.description())\n",
    "print(blu.speak(\"nothing :D\"))"
   ]
  },
  {
   "cell_type": "markdown",
   "metadata": {},
   "source": [
    "# Play Time!"
   ]
  },
  {
   "cell_type": "code",
   "execution_count": 54,
   "metadata": {},
   "outputs": [
    {
     "name": "stdout",
     "output_type": "stream",
     "text": [
      "  ***  \n",
      " *   * \n",
      " *   * \n",
      " ***** \n",
      " *   * \n",
      " *   * \n",
      " *   * \n",
      "\n"
     ]
    }
   ],
   "source": [
    "#What is the result?\n",
    "\n",
    "result_str=\"\";    \n",
    "for row in range(0,7):    \n",
    "    for column in range(0,7):     \n",
    "        if (((column == 1 or column == 5) and row != 0) or ((row == 0 or row == 3) and (column > 1 and column < 5))):    \n",
    "            result_str=result_str+\"*\"    \n",
    "        else:      \n",
    "            result_str=result_str+\" \"    \n",
    "    result_str=result_str+\"\\n\"    \n",
    "print(result_str);\n"
   ]
  },
  {
   "cell_type": "code",
   "execution_count": 55,
   "metadata": {},
   "outputs": [
    {
     "name": "stdout",
     "output_type": "stream",
     "text": [
      "[(10, 20, 100), (40, 50, 100), (70, 80, 100)]\n"
     ]
    }
   ],
   "source": [
    "#Result?\n",
    "l = [(10, 20, 40), (40, 50, 60), (70, 80, 90)]\n",
    "print([t[:-1] + (100,) for t in l])"
   ]
  },
  {
   "cell_type": "code",
   "execution_count": 57,
   "metadata": {},
   "outputs": [
    {
     "name": "stdout",
     "output_type": "stream",
     "text": [
      "Input comma separated sequence of wordshello,we,wtg\n",
      "hello,we,wtg\n"
     ]
    }
   ],
   "source": [
    "items = input(\"Input comma separated sequence of words\")\n",
    "words = [word for word in items.split(\",\")]\n",
    "print(\",\".join(sorted(list(set(words)))))\n"
   ]
  },
  {
   "cell_type": "code",
   "execution_count": 58,
   "metadata": {},
   "outputs": [
    {
     "name": "stdout",
     "output_type": "stream",
     "text": [
      "2018-10-11\n",
      "2018-10-12\n",
      "2018-10-13\n",
      "2018-10-14\n",
      "2018-10-15\n",
      "2018-10-16\n",
      "2018-10-17\n",
      "2018-10-18\n",
      "2018-10-19\n",
      "2018-10-20\n",
      "2018-10-21\n",
      "2018-10-22\n",
      "2018-10-23\n",
      "2018-10-24\n",
      "2018-10-25\n",
      "2018-10-26\n",
      "2018-10-27\n",
      "2018-10-28\n",
      "2018-10-29\n",
      "2018-10-30\n",
      "2018-10-31\n",
      "2018-11-01\n",
      "2018-11-02\n",
      "2018-11-03\n",
      "2018-11-04\n",
      "2018-11-05\n",
      "2018-11-06\n",
      "2018-11-07\n",
      "2018-11-08\n",
      "2018-11-09\n",
      "2018-11-10\n",
      "2018-11-11\n",
      "2018-11-12\n",
      "2018-11-13\n",
      "2018-11-14\n",
      "2018-11-15\n",
      "2018-11-16\n",
      "2018-11-17\n",
      "2018-11-18\n",
      "2018-11-19\n",
      "2018-11-20\n",
      "2018-11-21\n",
      "2018-11-22\n",
      "2018-11-23\n",
      "2018-11-24\n",
      "2018-11-25\n",
      "2018-11-26\n",
      "2018-11-27\n",
      "2018-11-28\n",
      "2018-11-29\n",
      "2018-11-30\n",
      "2018-12-01\n",
      "2018-12-02\n",
      "2018-12-03\n",
      "2018-12-04\n",
      "2018-12-05\n",
      "2018-12-06\n",
      "2018-12-07\n",
      "2018-12-08\n",
      "2018-12-09\n",
      "2018-12-10\n",
      "2018-12-11\n",
      "2018-12-12\n",
      "2018-12-13\n",
      "2018-12-14\n",
      "2018-12-15\n",
      "2018-12-16\n",
      "2018-12-17\n",
      "2018-12-18\n",
      "2018-12-19\n",
      "2018-12-20\n",
      "2018-12-21\n",
      "2018-12-22\n",
      "2018-12-23\n",
      "2018-12-24\n",
      "2018-12-25\n",
      "2018-12-26\n",
      "2018-12-27\n",
      "2018-12-28\n",
      "2018-12-29\n",
      "2018-12-30\n"
     ]
    }
   ],
   "source": [
    "from datetime import timedelta, date\n",
    "\n",
    "def daterange(date1, date2):\n",
    "    for n in range(int ((date2 - date1).days)+1):\n",
    "        yield date1 + timedelta(n)\n",
    "\n",
    "start_dt = date(2018, 10, 11)\n",
    "end_dt = date(2018, 12, 30)\n",
    "for dt in daterange(start_dt, end_dt):\n",
    "    print(dt)"
   ]
  },
  {
   "cell_type": "code",
   "execution_count": 59,
   "metadata": {},
   "outputs": [
    {
     "name": "stdout",
     "output_type": "stream",
     "text": [
      "The factors of 320 are:\n",
      "1\n",
      "2\n",
      "4\n",
      "5\n",
      "8\n",
      "10\n",
      "16\n",
      "20\n",
      "32\n",
      "40\n",
      "64\n",
      "80\n",
      "160\n",
      "320\n"
     ]
    }
   ],
   "source": [
    "# define a function\n",
    "def print_factors(x):\n",
    "   print(\"The factors of\",x,\"are:\")\n",
    "   for i in range(1, x + 1):\n",
    "       if x % i == 0:\n",
    "           print(i)\n",
    "\n",
    "# change this value for a different result.\n",
    "num = 320\n",
    "\n",
    "#num = int(input(\"Enter a number: \"))\n",
    "\n",
    "print_factors(num)"
   ]
  },
  {
   "cell_type": "code",
   "execution_count": null,
   "metadata": {},
   "outputs": [],
   "source": []
  }
 ],
 "metadata": {
  "colab": {
   "collapsed_sections": [
    "sQkEHJ_QPVJQ"
   ],
   "name": "IDS-L2.ipynb",
   "provenance": [],
   "version": "0.3.2"
  },
  "kernelspec": {
   "display_name": "Python 3",
   "language": "python",
   "name": "python3"
  },
  "language_info": {
   "codemirror_mode": {
    "name": "ipython",
    "version": 3
   },
   "file_extension": ".py",
   "mimetype": "text/x-python",
   "name": "python",
   "nbconvert_exporter": "python",
   "pygments_lexer": "ipython3",
   "version": "3.6.4"
  }
 },
 "nbformat": 4,
 "nbformat_minor": 1
}
