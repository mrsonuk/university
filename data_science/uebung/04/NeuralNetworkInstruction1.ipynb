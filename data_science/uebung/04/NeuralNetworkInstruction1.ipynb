{
 "cells": [
  {
   "cell_type": "markdown",
   "metadata": {},
   "source": [
    "## A Simple Feedforward Neural Network\n",
    "We simply try to see how the feedforward neural networks work in practice! \n",
    "-  Our Neural Network has one hidden layer and two inputs\n",
    "-  With two inputs and one hidden layer with two neurons, how many number of weights do we need? 6"
   ]
  },
  {
   "cell_type": "code",
   "execution_count": 1,
   "metadata": {},
   "outputs": [],
   "source": [
    "import numpy as np"
   ]
  },
  {
   "cell_type": "code",
   "execution_count": 64,
   "metadata": {},
   "outputs": [
    {
     "name": "stdout",
     "output_type": "stream",
     "text": [
      "### in_hidden_node1 ###\n",
      "[ 0.          0.93741031  0.01689647  0.95430678]\n",
      "### in_hidden_node2 ###\n",
      "[ 0.          0.90632003  0.03852161  0.94484164]\n",
      "### layer1n1 ###\n",
      "[ 0.5         0.71857626  0.50422402  0.72198048]\n",
      "### layer1n2 ###\n",
      "[ 0.5         0.71224654  0.50962921  0.72007661]\n",
      "############# output #################\n",
      "[ 0.5         0.76289635  0.51033716  0.7702953 ]\n",
      "### weights1 ###\n",
      "[[ 0.00903544  0.78568969]\n",
      " [ 0.60515657  0.36219116]]\n",
      "### weights2 ###\n",
      "[[ 0.14738943]\n",
      " [ 0.79132872]]\n"
     ]
    }
   ],
   "source": [
    "#activation funcion\n",
    "def sigmoid(x):\n",
    "    return 1.0 / (1 + np.exp(-x))\n",
    "\n",
    "#class of your neural network\n",
    "class NeuralNetwork:\n",
    "    \n",
    "    #set features of your neural network\n",
    "    def __init__(self, x, y):\n",
    "        self.input      = x #set of training input\n",
    "        #randomly assign the weights\n",
    "        self.weights1   = np.random.rand(self.input.shape[1],2) #create ? random weights for\n",
    "        self.weights2   = np.random.rand(2,1) #create ? random weights       \n",
    "        self.y          = y #set of output for the training input set\n",
    "        self.output     = np.zeros(self.y.shape) #add value of zero at first at the shape of y\n",
    "    \n",
    "    #feedfarward function \n",
    "    def feedforward(self):\n",
    "        #do calculation for the input value of neurons in the hidden layer\n",
    "        in_hidden_node1 = np.dot(X, weights1[0])\n",
    "        print('### in_hidden_node1 ###')\n",
    "        print(in_hidden_node1)\n",
    "        in_hidden_node2 = np.dot(X, weights1[1])\n",
    "        print('### in_hidden_node2 ###')\n",
    "        print(in_hidden_node2)\n",
    "        #activation function and calculate the value of layer one and output of your network\n",
    "        self.layer1n1 = sigmoid(in_hidden_node1)\n",
    "        print('### layer1n1 ###')\n",
    "        print(self.layer1n1)\n",
    "        self.layer1n2 = sigmoid(in_hidden_node2)\n",
    "        print('### layer1n2 ###')\n",
    "        print(self.layer1n2)\n",
    "        self.output = sigmoid(in_hidden_node1 * weights2[0] + in_hidden_node2 * weights2[1])\n",
    "        return self.output #output\n",
    "#Test what you have done :D \n",
    "\n",
    "if __name__ == \"__main__\":\n",
    "    X = np.array([[0,0],\n",
    "                  [0,1],\n",
    "                  [1,0],\n",
    "                  [1,1]])\n",
    "    y = np.array([[0],[1],[1],[0]])\n",
    "    nn = NeuralNetwork(X,y)\n",
    "    # print your output layer and your weights\n",
    "    nn.feedforward()\n",
    "    print('############# output #################')\n",
    "    print(nn.output)\n",
    "    print('### weights1 ###')\n",
    "    print(nn.weights1)\n",
    "    print('### weights2 ###')\n",
    "    print(nn.weights2)"
   ]
  },
  {
   "cell_type": "code",
   "execution_count": null,
   "metadata": {},
   "outputs": [],
   "source": []
  }
 ],
 "metadata": {
  "kernelspec": {
   "display_name": "Python 3",
   "language": "python",
   "name": "python3"
  },
  "language_info": {
   "codemirror_mode": {
    "name": "ipython",
    "version": 3
   },
   "file_extension": ".py",
   "mimetype": "text/x-python",
   "name": "python",
   "nbconvert_exporter": "python",
   "pygments_lexer": "ipython3",
   "version": "3.6.5"
  }
 },
 "nbformat": 4,
 "nbformat_minor": 2
}
