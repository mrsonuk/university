{
 "cells": [
  {
   "cell_type": "markdown",
   "metadata": {},
   "source": [
    "# Simple Neural Nework\n",
    "here we try to write a simple neural network to understand what backpropagation really do :)\n",
    "## Now we create a simple one layer newtork "
   ]
  },
  {
   "cell_type": "markdown",
   "metadata": {},
   "source": [
    "### continue our feedforward network and make it a complete neural network that can predict"
   ]
  },
  {
   "cell_type": "code",
   "execution_count": 2,
   "metadata": {},
   "outputs": [
    {
     "name": "stdout",
     "output_type": "stream",
     "text": [
      "[[-0.49871682]\n",
      " [ 0.49816503]\n",
      " [ 0.49807871]\n",
      " [-0.50393413]]\n"
     ]
    }
   ],
   "source": [
    "import numpy as np\n",
    "#activation funcion\n",
    "def sigmoid(x):\n",
    "    return 1.0/(1+ np.exp(-x))\n",
    "\n",
    "def sigmoid_derivative(x):\n",
    "    return x * (1.0 - x)\n",
    "#class of your neural network\n",
    "class NeuralNetwork:\n",
    "    \n",
    "    #set features of your neural network\n",
    "    def __init__(self, x, y):\n",
    "        self.input      = x\n",
    "        self.weights1   = np.random.rand(self.input.shape[1],2) \n",
    "        self.weights2   = np.random.rand(2,1)                 \n",
    "        self.y          = y\n",
    "        self.output     = np.zeros(self.y.shape)\n",
    "    #feedforward function \n",
    "    def feedforward(self):\n",
    "        self.layer1 = sigmoid(np.dot(self.input, self.weights1))\n",
    "        self.output = sigmoid(np.dot(self.layer1, self.weights2))\n",
    "    #backpropagate the error\n",
    "    def backprop(self):\n",
    "        # application of the chain rule to find derivative of the loss function with respect to weights2 and weights1\n",
    "        d_weights2 = np.dot(self.layer1.T, ((self.y - self.output) * sigmoid_derivative(self.output)))\n",
    "        d_weights1 = np.dot(self.input.T,  (np.dot((self.y - self.output) * sigmoid_derivative(self.output), self.weights2.T) * sigmoid_derivative(self.layer1)))\n",
    "\n",
    "        # update the weights with the derivative (slope) of the loss function\n",
    "        self.weights1 += d_weights1\n",
    "        self.weights2 += d_weights2\n",
    "\n",
    "#Test what you have done :D \n",
    "\n",
    "if __name__ == \"__main__\":\n",
    "    X = np.array([[0,0,1],\n",
    "                  [0,1,1],\n",
    "                  [1,0,1],\n",
    "                  [1,1,1]])\n",
    "    y = np.array([[0],[1],[1],[0]])\n",
    "    \n",
    "    nn = NeuralNetwork(X,y)\n",
    "\n",
    "    for i in range(100):\n",
    "        nn.feedforward()\n",
    "        nn.backprop()\n",
    "\n",
    "    print(nn.y - nn.output)\n",
    "\n"
   ]
  },
  {
   "cell_type": "markdown",
   "metadata": {},
   "source": [
    "# Python Useful Libraries\n",
    "Simple Example!"
   ]
  },
  {
   "cell_type": "code",
   "execution_count": 3,
   "metadata": {},
   "outputs": [
    {
     "name": "stderr",
     "output_type": "stream",
     "text": [
      "/home/philipp/anaconda3/lib/python3.6/site-packages/sklearn/neural_network/multilayer_perceptron.py:912: DataConversionWarning: A column-vector y was passed when a 1d array was expected. Please change the shape of y to (n_samples, ), for example using ravel().\n",
      "  y = column_or_1d(y, warn=True)\n",
      "/home/philipp/anaconda3/lib/python3.6/site-packages/sklearn/neural_network/multilayer_perceptron.py:564: ConvergenceWarning: Stochastic Optimizer: Maximum iterations (200) reached and the optimization hasn't converged yet.\n",
      "  % self.max_iter, ConvergenceWarning)\n"
     ]
    },
    {
     "data": {
      "text/plain": [
       "MLPClassifier(activation='relu', alpha=0.0001, batch_size='auto', beta_1=0.9,\n",
       "       beta_2=0.999, early_stopping=False, epsilon=1e-08,\n",
       "       hidden_layer_sizes=(100,), learning_rate='constant',\n",
       "       learning_rate_init=0.001, max_iter=200, momentum=0.9,\n",
       "       nesterovs_momentum=True, power_t=0.5, random_state=None,\n",
       "       shuffle=True, solver='adam', tol=0.0001, validation_fraction=0.1,\n",
       "       verbose=False, warm_start=False)"
      ]
     },
     "execution_count": 3,
     "metadata": {},
     "output_type": "execute_result"
    }
   ],
   "source": [
    "from sklearn.neural_network import MLPClassifier\n",
    "X = [[0, 0], [1, 1]]\n",
    "y = [[0], [1]]\n",
    "clf = MLPClassifier()\n",
    "clf.fit(X, y)                         \n",
    "\n"
   ]
  },
  {
   "cell_type": "markdown",
   "metadata": {},
   "source": [
    "## OR Function\n",
    "Let us start with a simple example of Boolean OR"
   ]
  },
  {
   "cell_type": "code",
   "execution_count": 4,
   "metadata": {
    "scrolled": true
   },
   "outputs": [],
   "source": [
    "from sklearn.neural_network import MLPClassifier\n",
    "from sklearn.linear_model import Perceptron\n",
    "import sklearn.metrics as metric\n",
    "import numpy as np\n",
    "\n",
    "X_training=[]\n",
    "y_training=[]\n",
    "\n"
   ]
  },
  {
   "cell_type": "code",
   "execution_count": 5,
   "metadata": {},
   "outputs": [
    {
     "name": "stderr",
     "output_type": "stream",
     "text": [
      "/home/philipp/anaconda3/lib/python3.6/site-packages/sklearn/neural_network/multilayer_perceptron.py:564: ConvergenceWarning: Stochastic Optimizer: Maximum iterations (200) reached and the optimization hasn't converged yet.\n",
      "  % self.max_iter, ConvergenceWarning)\n"
     ]
    },
    {
     "data": {
      "text/plain": [
       "array([1])"
      ]
     },
     "execution_count": 5,
     "metadata": {},
     "output_type": "execute_result"
    }
   ],
   "source": [
    "from sklearn.neural_network import MLPClassifier\n",
    "from sklearn.linear_model import Perceptron\n",
    "import sklearn.metrics as metric\n",
    "import numpy as np\n",
    "\n",
    "X_training=[[1, 1], \n",
    "            [1, 0],\n",
    "            [0, 1],\n",
    "            [0, 0]\n",
    "           ]\n",
    "y_training=[1, \n",
    "            1,\n",
    "            1,\n",
    "            0\n",
    "           ]\n",
    "mlp = MLPClassifier() # set the method\n",
    "mlp.fit(X_training, y_training)  \n",
    "mlp.predict([[1,1]])\n",
    "\n"
   ]
  },
  {
   "cell_type": "markdown",
   "metadata": {},
   "source": [
    "### Practice: Bipolar OR\n",
    "\n",
    "Instead of {0, 1}, we can also change the value into bipolar {-1, +1}. Try the following OR gate using Perceptron and MLP."
   ]
  },
  {
   "cell_type": "code",
   "execution_count": 6,
   "metadata": {},
   "outputs": [],
   "source": [
    "\n",
    "\n",
    "X_training=[[1, 1], \n",
    "            [1, -1],\n",
    "            [-1, 1],\n",
    "            [-1, -1]\n",
    "           ]\n",
    "y_training=[1, \n",
    "            1,\n",
    "            1,\n",
    "            -1\n",
    "           ]\n",
    "X_testing=X_training\n",
    "y_true=y_training\n"
   ]
  },
  {
   "cell_type": "markdown",
   "metadata": {},
   "source": [
    "## Multi-Layer Networks\n",
    "\n",
    "The following code is the example of how you will use Multi-Layer Perceptron (MLP) Neural Network to train, predict. You can also get the weights of the Neural Network.\n"
   ]
  },
  {
   "cell_type": "code",
   "execution_count": 7,
   "metadata": {
    "scrolled": false
   },
   "outputs": [
    {
     "name": "stdout",
     "output_type": "stream",
     "text": [
      "[ 1  1  1 -1]\n",
      "[(2, 100), (100, 1)]\n",
      "[array([[  6.14603341e-02,  -2.51583354e-01,  -1.46354990e-01,\n",
      "         -2.19938647e-01,   3.26618223e-01,   8.69601956e-02,\n",
      "         -3.76685393e-01,  -2.71250534e-07,   1.20344529e-01,\n",
      "         -2.08239510e-01,   3.52211333e-01,   1.10191954e-01,\n",
      "          3.21321486e-01,  -2.65230947e-01,  -2.52099239e-01,\n",
      "          2.91153365e-02,  -1.15878877e-01,   2.16764398e-01,\n",
      "         -2.88468863e-01,  -8.39704621e-02,   2.86131635e-01,\n",
      "          4.86089767e-04,   1.31270576e-01,   1.24665085e-01,\n",
      "          7.03918430e-03,   3.14437546e-01,   2.13004634e-01,\n",
      "          2.79956143e-02,  -2.01160844e-01,  -1.79971953e-01,\n",
      "         -1.51477684e-01,  -2.75324702e-01,  -3.96094505e-01,\n",
      "          1.08311004e-01,  -5.07592307e-03,   1.88208536e-01,\n",
      "          3.61828082e-01,  -5.35197411e-04,   2.51387775e-02,\n",
      "          1.08018688e-01,   1.85701711e-02,  -3.28611149e-01,\n",
      "          1.31148478e-01,  -1.51211201e-01,   1.29547788e-01,\n",
      "          3.86493859e-01,  -5.43505011e-02,   4.49982315e-02,\n",
      "         -4.35346536e-03,   4.94224955e-03,  -4.60904903e-02,\n",
      "          1.54565913e-06,   7.33640283e-02,   1.22040714e-01,\n",
      "          1.20342824e-01,   5.55763993e-02,   8.53732532e-02,\n",
      "         -1.38008355e-01,   4.86003905e-02,   5.17505011e-02,\n",
      "         -3.26326176e-01,   3.13205283e-01,   2.06068743e-01,\n",
      "         -1.44013857e-01,  -2.68753654e-01,  -9.02759573e-02,\n",
      "         -8.72288929e-02,   3.70101488e-01,  -2.66814503e-01,\n",
      "         -8.85010289e-02,   7.36889803e-03,  -1.54759732e-01,\n",
      "          4.55780725e-02,  -3.17341362e-01,  -1.90249016e-01,\n",
      "         -2.93928688e-01,  -3.42018593e-01,  -2.49698902e-02,\n",
      "          8.01049390e-02,   9.43321119e-02,  -9.71841716e-07,\n",
      "          9.93955715e-02,  -2.07076543e-01,   6.85502890e-02,\n",
      "         -1.87346165e-01,  -2.15422952e-01,  -1.15660875e-01,\n",
      "          1.68454984e-01,  -2.78299557e-01,  -3.21168388e-01,\n",
      "          7.11465146e-02,  -2.99220834e-02,   1.55491810e-01,\n",
      "          3.20571294e-01,   1.29536837e-01,   1.91957360e-01,\n",
      "         -3.70957473e-01,  -1.30264546e-05,  -1.12642462e-01,\n",
      "          2.82328882e-01],\n",
      "       [  1.38143558e-01,   1.21875971e-01,   1.14953125e-01,\n",
      "          4.00859853e-01,   2.84510242e-01,   1.71295758e-01,\n",
      "         -3.76976034e-01,   4.92221642e-04,   1.50093956e-01,\n",
      "         -2.86087755e-01,   2.61452625e-01,  -2.12270692e-01,\n",
      "         -2.24067530e-01,  -2.71917615e-01,   3.97007340e-02,\n",
      "          3.59062264e-01,  -8.76445861e-03,  -2.16018708e-01,\n",
      "         -1.80361163e-01,  -8.85817807e-02,  -2.37903464e-01,\n",
      "         -1.07215179e-01,   1.15152156e-01,   2.94409650e-01,\n",
      "          2.22990644e-07,  -2.46730519e-01,  -1.36619934e-01,\n",
      "         -1.61662870e-01,   2.90685233e-01,   1.05284733e-01,\n",
      "          1.70417050e-02,  -2.75054638e-01,  -1.77030168e-01,\n",
      "         -2.91259767e-01,   5.71973710e-02,   4.17329135e-01,\n",
      "         -7.01599057e-02,  -4.40751526e-07,   1.23106993e-01,\n",
      "         -8.83972195e-02,   1.96139550e-01,  -3.28694822e-01,\n",
      "         -1.26110176e-01,   3.68145430e-01,   8.79206993e-02,\n",
      "         -3.18998291e-01,  -1.45739385e-01,   1.62385039e-01,\n",
      "          9.65430734e-02,   1.17928389e-01,  -2.36557904e-01,\n",
      "          1.59923720e-02,  -1.19007694e-01,   1.03320253e-01,\n",
      "         -3.30907681e-02,   1.35973719e-01,   9.11095008e-02,\n",
      "         -2.93263455e-01,  -9.78601215e-02,   8.94877785e-02,\n",
      "         -1.06424981e-01,  -1.34886720e-01,  -2.46447116e-01,\n",
      "         -1.76867159e-01,   3.69346655e-01,   5.80384313e-02,\n",
      "          9.02951721e-03,  -2.84065345e-01,   3.75567316e-01,\n",
      "          3.54530855e-01,  -4.62375386e-07,  -5.17609762e-02,\n",
      "         -6.29577122e-02,  -2.08110212e-01,   6.65874130e-02,\n",
      "         -2.93806868e-01,  -9.71166254e-02,   2.74419459e-01,\n",
      "          2.53017067e-01,   1.59731603e-01,   2.44084219e-05,\n",
      "         -1.07379278e-01,  -1.49011235e-01,   1.46801296e-01,\n",
      "          5.26352985e-02,  -2.60181860e-01,   1.02596705e-01,\n",
      "          1.97221369e-03,  -2.76743169e-01,  -2.87230169e-01,\n",
      "          3.42982177e-01,  -1.11431405e-01,  -1.05604601e-01,\n",
      "          3.51415516e-01,  -5.26945814e-02,  -9.78551878e-03,\n",
      "         -3.58115484e-01,   2.77441042e-02,   3.38516232e-01,\n",
      "         -1.00369488e-01]]), array([[ -4.58201455e-02],\n",
      "       [ -2.15484610e-02],\n",
      "       [ -1.74457339e-01],\n",
      "       [  2.27909390e-01],\n",
      "       [  3.04976856e-01],\n",
      "       [  3.65493629e-01],\n",
      "       [ -1.76750714e-01],\n",
      "       [  9.35501335e-07],\n",
      "       [ -1.44018570e-01],\n",
      "       [ -1.09990252e-01],\n",
      "       [  1.74006797e-01],\n",
      "       [ -2.77165553e-02],\n",
      "       [  2.33928552e-01],\n",
      "       [ -3.57427041e-01],\n",
      "       [ -6.58491614e-02],\n",
      "       [  2.54803522e-01],\n",
      "       [ -1.46854689e-01],\n",
      "       [  9.01186477e-02],\n",
      "       [ -3.29578881e-01],\n",
      "       [  1.89146339e-02],\n",
      "       [  3.02172180e-01],\n",
      "       [ -2.22404404e-04],\n",
      "       [ -1.40828900e-01],\n",
      "       [  1.75909137e-01],\n",
      "       [  1.88144218e-02],\n",
      "       [  1.04600111e-01],\n",
      "       [  4.43424219e-01],\n",
      "       [ -4.12673669e-03],\n",
      "       [  2.62092787e-01],\n",
      "       [ -3.07792922e-02],\n",
      "       [ -1.31584596e-01],\n",
      "       [ -2.76626464e-01],\n",
      "       [ -2.81690992e-01],\n",
      "       [ -4.11189217e-02],\n",
      "       [ -1.72392591e-01],\n",
      "       [  2.16618486e-01],\n",
      "       [  3.12391006e-01],\n",
      "       [  3.01877409e-02],\n",
      "       [ -7.85616260e-02],\n",
      "       [  1.97696661e-01],\n",
      "       [  3.44648536e-01],\n",
      "       [ -2.75416908e-01],\n",
      "       [  3.65177471e-02],\n",
      "       [  1.61598609e-01],\n",
      "       [  2.60309557e-02],\n",
      "       [  2.72660855e-01],\n",
      "       [ -2.73445260e-01],\n",
      "       [  3.33738225e-01],\n",
      "       [ -2.65195061e-02],\n",
      "       [ -8.22150650e-02],\n",
      "       [ -1.98443359e-01],\n",
      "       [ -5.80473698e-02],\n",
      "       [ -4.89082470e-02],\n",
      "       [ -4.91162731e-03],\n",
      "       [  2.24005586e-01],\n",
      "       [  3.15371723e-01],\n",
      "       [ -5.60322787e-02],\n",
      "       [ -3.00916027e-01],\n",
      "       [ -2.03194140e-02],\n",
      "       [  3.51454169e-01],\n",
      "       [ -2.78964718e-01],\n",
      "       [  3.42891281e-01],\n",
      "       [  7.75762119e-02],\n",
      "       [ -3.97351574e-01],\n",
      "       [  2.15559536e-01],\n",
      "       [ -3.78019448e-02],\n",
      "       [ -4.34794572e-03],\n",
      "       [  3.32616293e-01],\n",
      "       [  1.67625710e-01],\n",
      "       [  2.03365660e-01],\n",
      "       [  5.49500825e-04],\n",
      "       [  3.06679607e-02],\n",
      "       [  1.79289639e-01],\n",
      "       [ -2.82818651e-01],\n",
      "       [ -1.24153755e-01],\n",
      "       [ -2.18383306e-01],\n",
      "       [ -3.89869007e-01],\n",
      "       [  2.24267827e-01],\n",
      "       [  3.35959846e-01],\n",
      "       [  3.31505392e-01],\n",
      "       [ -8.21432203e-02],\n",
      "       [ -1.36937993e-01],\n",
      "       [ -6.05843791e-02],\n",
      "       [ -1.46153725e-02],\n",
      "       [ -1.37800279e-01],\n",
      "       [ -2.99037597e-01],\n",
      "       [ -5.94148616e-02],\n",
      "       [ -1.63724803e-01],\n",
      "       [ -2.64979056e-01],\n",
      "       [ -3.42073881e-01],\n",
      "       [  2.23447864e-01],\n",
      "       [  9.80625785e-02],\n",
      "       [ -7.61781340e-02],\n",
      "       [  2.74067802e-01],\n",
      "       [ -1.15790505e-01],\n",
      "       [  2.43825948e-02],\n",
      "       [ -2.37275684e-01],\n",
      "       [ -1.63908135e-06],\n",
      "       [  2.62961079e-01],\n",
      "       [  3.46500048e-01]])]\n"
     ]
    },
    {
     "name": "stderr",
     "output_type": "stream",
     "text": [
      "/home/philipp/anaconda3/lib/python3.6/site-packages/sklearn/neural_network/multilayer_perceptron.py:564: ConvergenceWarning: Stochastic Optimizer: Maximum iterations (200) reached and the optimization hasn't converged yet.\n",
      "  % self.max_iter, ConvergenceWarning)\n"
     ]
    }
   ],
   "source": [
    "\n",
    "mlp = MLPClassifier() # set the method\n",
    "mlp.fit(X_training, y_training)                    # training\n",
    "y_pred=mlp.predict(X_training)                      # prediction\n",
    "print(y_pred)                                      # show the output\n",
    "print([coef.shape for coef in mlp.coefs_])  # size of synapsis weights\n",
    "print(mlp.coefs_)                                 # synapsis weights\n",
    "\n"
   ]
  },
  {
   "cell_type": "markdown",
   "metadata": {},
   "source": [
    "## Now your Turn!\n",
    "### Experiments\n",
    "\n",
    "-  Change the data (X_training, y_training, X_testing)\n",
    "-  Change the hidden layer of MLP: number of layers (int) or size (n,m)\n",
    "-  Change activation function of MLP: {'identity', 'logistic', 'tanh', 'relu'}, default 'relu'\n",
    "\n",
    "\n"
   ]
  },
  {
   "cell_type": "code",
   "execution_count": 8,
   "metadata": {},
   "outputs": [],
   "source": [
    "from sklearn.neural_network import MLPClassifier\n",
    "from sklearn.linear_model import Perceptron\n",
    "import sklearn.metrics as metric\n",
    "import numpy as np\n",
    "\n",
    "X_training=[[1, 1], \n",
    "            [1, 0],\n",
    "            [0, 1],\n",
    "            [0, 0]\n",
    "           ]\n",
    "y_training=[1, \n",
    "            1,\n",
    "            1,\n",
    "            0\n",
    "           ]\n",
    "X_testing = X_training\n",
    "y_true = y_training"
   ]
  },
  {
   "cell_type": "code",
   "execution_count": 9,
   "metadata": {},
   "outputs": [
    {
     "name": "stdout",
     "output_type": "stream",
     "text": [
      "[1 1 1 1]\n",
      "acuracy= 0.75\n",
      "[(2, 200), (200, 100), (100, 300), (300, 1)]\n"
     ]
    },
    {
     "data": {
      "text/plain": [
       "4"
      ]
     },
     "execution_count": 9,
     "metadata": {},
     "output_type": "execute_result"
    }
   ],
   "source": [
    "mlp = MLPClassifier(hidden_layer_sizes=(200,100,300 ), activation='logistic') # set the method\n",
    "mlp.fit(X_training, y_training)                    # training\n",
    "y_pred=mlp.predict(X_testing)                      # prediction\n",
    "print(y_pred)                                      # show the output\n",
    "accuracy=metric.accuracy_score(np.array(y_true).flatten(), np.array(y_pred).flatten(), normalize=True)\n",
    "print('acuracy=',accuracy)                         # show accracy score\n",
    "\n",
    "\n",
    "print([coef.shape for coef in mlp.coefs_])  # size of synapsis weights\n",
    "len(mlp.coefs_)                                  # synapsis weights\n",
    "\n"
   ]
  },
  {
   "cell_type": "markdown",
   "metadata": {},
   "source": [
    "### XNOR \n",
    "Try solve the following Boolean Exclusive Not Or (XNOR) problem. How to improve the accuracy? How many minimum hidden layer is needed to make it 100% accuracy"
   ]
  },
  {
   "cell_type": "code",
   "execution_count": 10,
   "metadata": {},
   "outputs": [
    {
     "name": "stdout",
     "output_type": "stream",
     "text": [
      "acuracy= 0.25\n",
      "[(2, 50), (50, 1)]\n"
     ]
    },
    {
     "name": "stderr",
     "output_type": "stream",
     "text": [
      "/home/philipp/anaconda3/lib/python3.6/site-packages/sklearn/neural_network/multilayer_perceptron.py:564: ConvergenceWarning: Stochastic Optimizer: Maximum iterations (200) reached and the optimization hasn't converged yet.\n",
      "  % self.max_iter, ConvergenceWarning)\n"
     ]
    },
    {
     "data": {
      "text/plain": [
       "2"
      ]
     },
     "execution_count": 10,
     "metadata": {},
     "output_type": "execute_result"
    }
   ],
   "source": [
    "X_training=[[1, 1], \n",
    "            [1, 0],\n",
    "            [0, 1],\n",
    "            [0, 0]\n",
    "           ]\n",
    "y_training=[1, \n",
    "            0,\n",
    "            0,\n",
    "            0\n",
    "           ]\n",
    "X_testing=X_training\n",
    "y_true=y_training\n",
    "mlp = MLPClassifier(hidden_layer_sizes=(50)) # set the method\n",
    "mlp.fit(X_training, y_training)                    # training\n",
    "                                      # show the output\n",
    "accuracy=metric.accuracy_score(np.array(y_true).flatten(), np.array(y_pred).flatten(), normalize=True)\n",
    "print('acuracy=',accuracy)                         # show accracy score\n",
    "\n",
    "\n",
    "print([coef.shape for coef in mlp.coefs_])  # size of synapsis weights\n",
    "len(mlp.coefs_)                                  # synapsis weights\n"
   ]
  },
  {
   "cell_type": "markdown",
   "metadata": {},
   "source": [
    "## Data from File"
   ]
  },
  {
   "cell_type": "code",
   "execution_count": 11,
   "metadata": {},
   "outputs": [
    {
     "name": "stderr",
     "output_type": "stream",
     "text": [
      "/home/philipp/anaconda3/lib/python3.6/site-packages/sklearn/neural_network/multilayer_perceptron.py:564: ConvergenceWarning: Stochastic Optimizer: Maximum iterations (200) reached and the optimization hasn't converged yet.\n",
      "  % self.max_iter, ConvergenceWarning)\n"
     ]
    },
    {
     "data": {
      "text/plain": [
       "0.94666666666666666"
      ]
     },
     "execution_count": 11,
     "metadata": {},
     "output_type": "execute_result"
    }
   ],
   "source": [
    "from sklearn.neural_network import MLPClassifier\n",
    "from sklearn.model_selection import train_test_split\n",
    "import pandas as pd\n",
    "train = pd.read_csv(\"iris.csv\")\n",
    "features = train.columns[:-1]\n",
    "X = train[features]\n",
    "Y =train['Species']\n",
    "X_train, X_test, y_train, y_test = train_test_split(X,Y,test_size=0.5)\n",
    "nn = MLPClassifier()\n",
    "a = nn.fit(X_train,y_train)\n",
    "nn.score(X_test,y_test)"
   ]
  },
  {
   "cell_type": "markdown",
   "metadata": {},
   "source": [
    "### Your Turn\n",
    "Creat your network based on only two features of the given dataset."
   ]
  },
  {
   "cell_type": "code",
   "execution_count": 12,
   "metadata": {},
   "outputs": [
    {
     "name": "stderr",
     "output_type": "stream",
     "text": [
      "/home/philipp/anaconda3/lib/python3.6/site-packages/sklearn/neural_network/multilayer_perceptron.py:564: ConvergenceWarning: Stochastic Optimizer: Maximum iterations (200) reached and the optimization hasn't converged yet.\n",
      "  % self.max_iter, ConvergenceWarning)\n"
     ]
    },
    {
     "data": {
      "text/plain": [
       "0.94666666666666666"
      ]
     },
     "execution_count": 12,
     "metadata": {},
     "output_type": "execute_result"
    }
   ],
   "source": [
    "#your answer\n",
    "from sklearn.neural_network import MLPClassifier\n",
    "from sklearn.model_selection import train_test_split\n",
    "import pandas as pd\n",
    "train = pd.read_csv(\"iris.csv\")\n",
    "features = train.columns[:-1]\n",
    "X = train[features]\n",
    "Y =train['Species']\n",
    "X_train, X_test, y_train, y_test = train_test_split(X,Y,test_size=0.5)\n",
    "nn = MLPClassifier()\n",
    "a = nn.fit(X_train,y_train)\n",
    "nn.score(X_test,y_test)"
   ]
  },
  {
   "cell_type": "markdown",
   "metadata": {},
   "source": [
    "Try to create and train a nerural network for a given dataset with higher accuracy!"
   ]
  },
  {
   "cell_type": "code",
   "execution_count": 13,
   "metadata": {},
   "outputs": [
    {
     "name": "stderr",
     "output_type": "stream",
     "text": [
      "/home/philipp/anaconda3/lib/python3.6/site-packages/sklearn/neural_network/multilayer_perceptron.py:564: ConvergenceWarning: Stochastic Optimizer: Maximum iterations (200) reached and the optimization hasn't converged yet.\n",
      "  % self.max_iter, ConvergenceWarning)\n"
     ]
    },
    {
     "data": {
      "text/plain": [
       "0.98666666666666669"
      ]
     },
     "execution_count": 13,
     "metadata": {},
     "output_type": "execute_result"
    }
   ],
   "source": [
    "#your answer\n",
    "from sklearn.neural_network import MLPClassifier\n",
    "from sklearn.model_selection import train_test_split\n",
    "import pandas as pd\n",
    "train = pd.read_csv(\"iris.csv\")\n",
    "features = train.columns[:-1]\n",
    "X = train[features]\n",
    "Y =train['Species']\n",
    "X_train, X_test, y_train, y_test = train_test_split(X,Y,test_size=0.5)\n",
    "nn = MLPClassifier()\n",
    "a = nn.fit(X_train,y_train)\n",
    "nn.score(X_test,y_test)"
   ]
  }
 ],
 "metadata": {
  "kernelspec": {
   "display_name": "Python 3",
   "language": "python",
   "name": "python3"
  },
  "language_info": {
   "codemirror_mode": {
    "name": "ipython",
    "version": 3
   },
   "file_extension": ".py",
   "mimetype": "text/x-python",
   "name": "python",
   "nbconvert_exporter": "python",
   "pygments_lexer": "ipython3",
   "version": "3.6.5"
  }
 },
 "nbformat": 4,
 "nbformat_minor": 2
}
