{
 "cells": [
  {
   "cell_type": "markdown",
   "metadata": {
    "colab_type": "text",
    "id": "SIv5Of0dztKk"
   },
   "source": [
    "# Mutable and immutable datatypes\n",
    "\n",
    "As you have seen in the lecture, in Python there are mutable and immutable datatypes.\n",
    "\n",
    "When you declare a variable in Python, you create a binding between a memory location, an ID, and the actual value (object). You cannot change the value of an immutable datatype: this binding is permanent throughout the execution of the script. Viceversa, you can manipulate the content and value of a mutable datatype, keeping the same ID and location in memory.\n",
    "\n",
    "![alt text](https://cdn-images-1.medium.com/max/800/1*uFlTNY4W3czywyU18zxl8w.png)\n",
    "\n",
    "(from https://goo.gl/fXNMzm)\n",
    "\n",
    "As you can see, most of the Python native types are immutable. The exceptions are lists, sets and dictionaries.\n",
    "\n",
    "Custom-defined types - like **classes** - are by default **mutable**, unless explicitly stated otherwise. Immutability requires the definition of exceptions for the operations of attribute setting and deletion. \n",
    "\n",
    "But... If integers are immutable, what is happening here?"
   ]
  },
  {
   "cell_type": "code",
   "execution_count": 1,
   "metadata": {
    "colab": {},
    "colab_type": "code",
    "id": "rdlXZisv2L-T"
   },
   "outputs": [
    {
     "name": "stdout",
     "output_type": "stream",
     "text": [
      "4\n"
     ]
    }
   ],
   "source": [
    "x = 3\n",
    "x = x + 1\n",
    "print(x)"
   ]
  },
  {
   "cell_type": "markdown",
   "metadata": {
    "colab_type": "text",
    "id": "Dh7Xsk7U8AF6"
   },
   "source": [
    "So, what do errors due to immutability look like? Compare these two:"
   ]
  },
  {
   "cell_type": "code",
   "execution_count": 2,
   "metadata": {
    "colab": {},
    "colab_type": "code",
    "id": "U1l5TzYx9l43"
   },
   "outputs": [
    {
     "name": "stdout",
     "output_type": "stream",
     "text": [
      "[0, 2, 3]\n"
     ]
    }
   ],
   "source": [
    "list1 = [1, 2, 3]\n",
    "list1[0] = 0\n",
    "print(list1)"
   ]
  },
  {
   "cell_type": "code",
   "execution_count": 3,
   "metadata": {
    "colab": {},
    "colab_type": "code",
    "id": "-tVhP3pa9y7g"
   },
   "outputs": [
    {
     "ename": "TypeError",
     "evalue": "'tuple' object does not support item assignment",
     "output_type": "error",
     "traceback": [
      "\u001b[0;31m---------------------------------------------------------------------------\u001b[0m",
      "\u001b[0;31mTypeError\u001b[0m                                 Traceback (most recent call last)",
      "\u001b[0;32m<ipython-input-3-a5ea31516766>\u001b[0m in \u001b[0;36m<module>\u001b[0;34m()\u001b[0m\n\u001b[1;32m      1\u001b[0m \u001b[0mtup1\u001b[0m \u001b[0;34m=\u001b[0m \u001b[0;34m(\u001b[0m\u001b[0;36m1\u001b[0m\u001b[0;34m,\u001b[0m \u001b[0;36m2\u001b[0m\u001b[0;34m,\u001b[0m \u001b[0;36m3\u001b[0m\u001b[0;34m)\u001b[0m\u001b[0;34m\u001b[0m\u001b[0m\n\u001b[0;32m----> 2\u001b[0;31m \u001b[0mtup1\u001b[0m\u001b[0;34m[\u001b[0m\u001b[0;36m0\u001b[0m\u001b[0;34m]\u001b[0m \u001b[0;34m=\u001b[0m \u001b[0;36m0\u001b[0m\u001b[0;34m\u001b[0m\u001b[0m\n\u001b[0m\u001b[1;32m      3\u001b[0m \u001b[0mprint\u001b[0m\u001b[0;34m(\u001b[0m\u001b[0mtup1\u001b[0m\u001b[0;34m)\u001b[0m\u001b[0;34m\u001b[0m\u001b[0m\n",
      "\u001b[0;31mTypeError\u001b[0m: 'tuple' object does not support item assignment"
     ]
    }
   ],
   "source": [
    "tup1 = (1, 2, 3)\n",
    "tup1[0] = 0\n",
    "print(tup1)"
   ]
  },
  {
   "cell_type": "markdown",
   "metadata": {
    "colab_type": "text",
    "id": "reyPDejcwXvi"
   },
   "source": [
    "# Python Data Structures\n",
    "## List\n",
    "\n",
    "*Recall from the lecture:* \n",
    "\n",
    "Replace an element in the list.\n",
    "\n",
    "Can you tell what is happening here and why?"
   ]
  },
  {
   "cell_type": "code",
   "execution_count": 9,
   "metadata": {
    "colab": {},
    "colab_type": "code",
    "id": "JdnqivgNwXvl"
   },
   "outputs": [
    {
     "data": {
      "text/plain": [
       "['a', 'z', 'q', 'z']"
      ]
     },
     "execution_count": 9,
     "metadata": {},
     "output_type": "execute_result"
    }
   ],
   "source": [
    "x = [\"a\", \"b\", \"c\", \"d\"]\n",
    "x[1] = \"z\"\n",
    "x[2:] = [\"q\", \"z\"]\n",
    "x"
   ]
  },
  {
   "cell_type": "markdown",
   "metadata": {
    "colab_type": "text",
    "id": "Uu7tFIiGwXvq"
   },
   "source": [
    "**Now your Turn! **"
   ]
  },
  {
   "cell_type": "markdown",
   "metadata": {
    "colab_type": "text",
    "id": "5pIVmwJewXvv"
   },
   "source": [
    "You did a miscalculation when determining the grade of Frank; it is 10.50 instead of 9.50. Can you change it?\n",
    "John name is also not correct, change \"Jon\" to \"John\".\n"
   ]
  },
  {
   "cell_type": "code",
   "execution_count": 10,
   "metadata": {
    "colab": {},
    "colab_type": "code",
    "id": "6AC117pIwXvr"
   },
   "outputs": [],
   "source": [
    "# Create the grade list\n",
    "grades = [\"Jon\", 11.25, \"Sam\", 18.0, \"Judy\", 20.0, \"Anja\", 10.75, \"Frank\", 9.50]\n"
   ]
  },
  {
   "cell_type": "code",
   "execution_count": 16,
   "metadata": {
    "colab": {},
    "colab_type": "code",
    "id": "4llsjhBKwXvw"
   },
   "outputs": [
    {
     "data": {
      "text/plain": [
       "['John', 11.25, 'Sam', 18.0, 'Judy', 20.0, 'Anja', 10.75, 'Frank', 10.5]"
      ]
     },
     "execution_count": 16,
     "metadata": {},
     "output_type": "execute_result"
    }
   ],
   "source": [
    "# Your Answer: \n",
    "grades[-1] = 10.5\n",
    "grades[0] = \"John\"\n",
    "grades"
   ]
  },
  {
   "cell_type": "markdown",
   "metadata": {
    "colab_type": "text",
    "id": "zcEwD3a2f_kN"
   },
   "source": [
    "# Classic Sorting Exercise\n",
    "\n",
    "A very classic exercise with lists is to implement the **Bubble Sort**. This rather dummy sorting algorithm works like this:\n",
    "\n",
    "*  for every item i in a list\n",
    "  *  for every item j that comes after i in the list\n",
    "    *  if the element in position i is greater than the item in position j\n",
    "      *  swap the elements i and j\n",
    "      \n",
    "**Now your Turn! ** Try to implement the Bubble Sort.\n"
   ]
  },
  {
   "cell_type": "code",
   "execution_count": 41,
   "metadata": {
    "colab": {},
    "colab_type": "code",
    "id": "pRNoSBESkY2h",
    "scrolled": true
   },
   "outputs": [
    {
     "data": {
      "text/plain": [
       "[0, 2, 3, 4, 7, 8, 9]"
      ]
     },
     "execution_count": 41,
     "metadata": {},
     "output_type": "execute_result"
    }
   ],
   "source": [
    "list1 = [7, 4, 9, 2, 0, 8, 3]\n",
    "\n",
    "for k in range(len(list1)-1, 0, -1):\n",
    "    sorted_list = True\n",
    "    for i in range(0, k):\n",
    "        if list1[i] > list1[i+1]:\n",
    "            tmp = list1[i]\n",
    "            list1[i], list1[i+1] = list1[i+1], list1[i]\n",
    "            sorted_list = False\n",
    "    if sorted_list:\n",
    "        break\n",
    "                 \n",
    "list1"
   ]
  },
  {
   "cell_type": "markdown",
   "metadata": {},
   "source": [
    "# Is this number perfect?\n",
    "\n",
    "Next task, try to write a simple program that determines whether if a number is perfect or not. Recall that perfect number are equal to the sum of their divisors (excluded itself) or equal to the half of the sum of their divisors (included itself).\n",
    "\n",
    "Test it on 6, 28 and 496, as well as some non perfect numbers."
   ]
  },
  {
   "cell_type": "code",
   "execution_count": 56,
   "metadata": {},
   "outputs": [
    {
     "name": "stdout",
     "output_type": "stream",
     "text": [
      "496 is a prefect number\n"
     ]
    }
   ],
   "source": [
    "# Your Answer:\n",
    "number = 496\n",
    "\n",
    "#divisors_list = []\n",
    "#for item in range(1, number//2+1):\n",
    "#    if number % item == 0:\n",
    "#        divisors_list.append(item)\n",
    "    \n",
    "#if sum(divisors_list) == number:\n",
    "#    print(str(number) + \" is a prefect number\")\n",
    "    \n",
    "if sum([item for item in range(1, number//2+1) if number % item == 0]) == number:\n",
    "    print(str(number) + \" is a prefect number\")\n",
    "else:\n",
    "    print(str(number) + \" is NOT a prefect number\")"
   ]
  },
  {
   "cell_type": "markdown",
   "metadata": {
    "colab_type": "text",
    "id": "oaIjxb7pb2Ae"
   },
   "source": [
    "## List Comprehension\n",
    "\n",
    "So we saw a very basic example of list comprehension in the lecture. Let's have some fun with more advanced examples.\n",
    "\n",
    "*Recall from the lecture:*  the list comprehension follows this syntax:\n",
    "\n",
    "`[item for item in collection if {condition on item}]`\n",
    "\n",
    "Can you tell what is happening here and why?"
   ]
  },
  {
   "cell_type": "code",
   "execution_count": 84,
   "metadata": {
    "colab": {},
    "colab_type": "code",
    "id": "Y8qO4rcM2aTx"
   },
   "outputs": [
    {
     "data": {
      "text/plain": [
       "[1, 3, 5]"
      ]
     },
     "execution_count": 84,
     "metadata": {},
     "output_type": "execute_result"
    }
   ],
   "source": [
    "list1 = [1, 2, 3, 4, 5, 6]\n",
    "list2 = [1, 3, 5, 7]\n",
    "result1 = [item for item in list1 if item in list2]\n",
    "result1"
   ]
  },
  {
   "cell_type": "markdown",
   "metadata": {
    "colab_type": "text",
    "id": "R_01kkVm2O7j"
   },
   "source": [
    "Now, let's see **nested** list comprehension!  For example, let's say we have a list of lists - a matrix. How can i **flatten** it?\n",
    "\n",
    "The goal is going from `[[1,2,3],[4,5,6],[7,8,9]]` to `[1,2,3,4,5,6,7,8,9]`"
   ]
  },
  {
   "cell_type": "code",
   "execution_count": 85,
   "metadata": {
    "colab": {},
    "colab_type": "code",
    "id": "dMsHWQzh4Vfo"
   },
   "outputs": [
    {
     "data": {
      "text/plain": [
       "[1, 2, 3, 4, 5, 6, 7, 8, 9]"
      ]
     },
     "execution_count": 85,
     "metadata": {},
     "output_type": "execute_result"
    }
   ],
   "source": [
    "matrix = [[1,2,3],[4,5,6],[7,8,9]]\n",
    "flatlist = [item for row in matrix for item in row]\n",
    "flatlist"
   ]
  },
  {
   "cell_type": "markdown",
   "metadata": {
    "colab_type": "text",
    "id": "1_y2g07d5Su-"
   },
   "source": [
    "**Now your turn!**\n",
    "\n",
    "Given a list of 2-tuples, cities and monuments, turn it into:\n",
    "- two separate lists of cities and monuments\n",
    "- a list of lists\n",
    "- a list of dictionaries (two keys, 'city' and 'monument', for each dictionary)\n",
    "- a flattened list"
   ]
  },
  {
   "cell_type": "code",
   "execution_count": 86,
   "metadata": {
    "colab": {},
    "colab_type": "code",
    "id": "iITO5gdP5p8A"
   },
   "outputs": [
    {
     "name": "stdout",
     "output_type": "stream",
     "text": [
      "['London', 'Cologne', 'Rome', 'Chartres']\n",
      "['Big Ben', 'Cathedral', 'Colosseum', 'Cathedral']\n",
      "['London', 'Cologne', 'Rome', 'Chartres']\n",
      "['Big Ben', 'Cathedral', 'Colosseum', 'Cathedral']\n",
      "[['London', 'Big Ben'], ['Cologne', 'Cathedral'], ['Rome', 'Colosseum'], ['Chartres', 'Cathedral']]\n",
      "[['London', 'Big Ben'], ['Cologne', 'Cathedral'], ['Rome', 'Colosseum'], ['Chartres', 'Cathedral']]\n",
      "[{'city': 'London', 'monument': 'Big Ben'}, {'city': 'Cologne', 'monument': 'Cathedral'}, {'city': 'Rome', 'monument': 'Colosseum'}, {'city': 'Chartres', 'monument': 'Cathedral'}]\n",
      "['London', 'Big Ben', 'Cologne', 'Cathedral', 'Rome', 'Colosseum', 'Chartres', 'Cathedral']\n"
     ]
    }
   ],
   "source": [
    "tuplist = [(\"London\", \"Big Ben\"), (\"Cologne\", \"Cathedral\"), (\"Rome\", \"Colosseum\"), (\"Chartres\", \"Cathedral\")]\n",
    "\n",
    "# Your answer:\n",
    "cities, monuments = [item[0] for item in tuplist], [item[1] for item in tuplist]\n",
    "print(cities)\n",
    "print(monuments)\n",
    "# Alternative for two separate lists of cities and monuments\n",
    "cities, monuments = [city for city,_ in tuplist], [monument for _,monument in tuplist]\n",
    "print(cities)\n",
    "print(monuments)\n",
    "\n",
    "list_of_lists = [list(elem) for elem in tuplist]\n",
    "print(list_of_lists)\n",
    "# Alternative for list of lists\n",
    "list_of_lists = [[city, monument] for city, monument in tuplist]\n",
    "print(list_of_lists)\n",
    "\n",
    "list_of_dicts = [{\"city\": city, \"monument\": monument} for city, monument in tuplist]\n",
    "print(list_of_dicts)\n",
    "\n",
    "flat_list = [item for row in tuplist for item in row]\n",
    "print(flat_list)"
   ]
  },
  {
   "cell_type": "markdown",
   "metadata": {
    "colab_type": "text",
    "id": "y1NoaJ4ROPTx"
   },
   "source": [
    "Remember list1 and list2 from above? The task is to obtain a list of all the elements that are in one of the two lists, but not both. In other terms, we are looking for\n",
    "\n",
    "`(list1 \\ list2) + (list2 \\ list1)`"
   ]
  },
  {
   "cell_type": "code",
   "execution_count": 109,
   "metadata": {
    "scrolled": true
   },
   "outputs": [
    {
     "name": "stdout",
     "output_type": "stream",
     "text": [
      "[2, 4, 6, 7]\n",
      "[2, 4, 6, 7]\n"
     ]
    },
    {
     "data": {
      "text/plain": [
       "{2, 4, 6, 7}"
      ]
     },
     "execution_count": 109,
     "metadata": {},
     "output_type": "execute_result"
    }
   ],
   "source": [
    "# Your answer:\n",
    "xor = [item for item in list1 if item not in list2] + [item for item in list2 if item not in list1]\n",
    "print(xor)\n",
    "\n",
    "# Note: this is just an exercise on list comprehension. Don't do this in real life. Do this instead:\n",
    "set1, set2 = set(list1), set(list2)\n",
    "union = list((set1 - set2) | (set2 - set1))\n",
    "print(union)\n",
    "set1 ^ set2 # xor"
   ]
  },
  {
   "cell_type": "markdown",
   "metadata": {
    "colab_type": "text",
    "id": "ScGzp6AzUun1"
   },
   "source": [
    "List comprehension lets you write extremely compact and expressive code. Let's manipulate the `matrix` list of lists from above.\n",
    "\n",
    "Can you tell what is happening here and why?"
   ]
  },
  {
   "cell_type": "code",
   "execution_count": 110,
   "metadata": {},
   "outputs": [
    {
     "data": {
      "text/plain": [
       "[[1, 2, 3], [4, 5, 6], [7, 8, 9]]"
      ]
     },
     "execution_count": 110,
     "metadata": {},
     "output_type": "execute_result"
    }
   ],
   "source": [
    "matrix"
   ]
  },
  {
   "cell_type": "code",
   "execution_count": 112,
   "metadata": {
    "colab": {},
    "colab_type": "code",
    "id": "NwA-LxJeVovm"
   },
   "outputs": [
    {
     "data": {
      "text/plain": [
       "[[1, 4, 7], [2, 5, 8], [3, 6, 9]]"
      ]
     },
     "execution_count": 112,
     "metadata": {},
     "output_type": "execute_result"
    }
   ],
   "source": [
    "whatisthis = [[row[i] for row in matrix] for i in range(len(matrix[0]))]\n",
    "whatisthis"
   ]
  },
  {
   "cell_type": "markdown",
   "metadata": {
    "colab_type": "text",
    "id": "rW7lG1egwXvz"
   },
   "source": [
    "# Python Package\n",
    "\n",
    "As a data scientist, some notions of geometry never hurt. Let's refresh some of the basics.\n",
    "\n",
    "For a fancy clustering algorithm, you want to find the circumference C\n",
    "and area A of a circle. When the radius of the circle is r, you can calculate C and A\n",
    "\n",
    "as:\n",
    "\n",
    "C = 2πr\n",
    "\n",
    "A = πr²\n",
    "\n",
    "To use the constant pi, you will need the math package. A variable r is already coded in the script. Fill in the code to calculate C and A and see how the print() functions create some nice printouts."
   ]
  },
  {
   "cell_type": "markdown",
   "metadata": {
    "colab_type": "text",
    "id": "MZCav-n-wXv4"
   },
   "source": [
    "**Now Your Turn!**\n",
    "\n",
    "**Instruction**\n",
    "-  import the math package. Now you can access the constant pi with math.pi.\n",
    "-  Calculate the circumference of the circle and store it in C.\n",
    "-  Calculate the area of the circle and store it in A. math.pow(base, exp) could be useful."
   ]
  },
  {
   "cell_type": "code",
   "execution_count": 113,
   "metadata": {
    "colab": {},
    "colab_type": "code",
    "id": "I98d65XmwXv1"
   },
   "outputs": [
    {
     "name": "stdout",
     "output_type": "stream",
     "text": [
      "Circumference: 2.701769682087222\n",
      "Area: 0.5808804816487527\n"
     ]
    }
   ],
   "source": [
    "# your answer\n",
    "\n",
    "# Definition of radius\n",
    "r = 0.43\n",
    "\n",
    "# Import the math package\n",
    "import math\n",
    "\n",
    "# Calculate C\n",
    "C = 2 * math.pi * r\n",
    "\n",
    "# Calculate A\n",
    "A = math.pi * math.pow(r, 2)\n",
    "\n",
    "# Build printout\n",
    "print(\"Circumference: \" + str(C))\n",
    "print(\"Area: \" + str(A))"
   ]
  },
  {
   "cell_type": "markdown",
   "metadata": {
    "colab_type": "text",
    "id": "muwyEsi_wXv5"
   },
   "source": [
    "## Numpy Package\n",
    "\n",
    "Imagine the list of grade was the sport grades.\n",
    "\n",
    "**Along the way, you will get comfortable with the basics of Numpy, a powerful package to do data science.**\n",
    "\n",
    "A list sportclass has already been defined in the Python script, representing the height of some students in centimeters.\n",
    "\n",
    "Can you add some code here and there to create a Numpy array from it?"
   ]
  },
  {
   "cell_type": "markdown",
   "metadata": {
    "colab_type": "text",
    "id": "f3JNxirZwXv9"
   },
   "source": [
    "**Now Your Turn!**\n",
    "\n",
    "**Instruction**\n",
    "-  Import the numpy package as np, so that you can refer to numpy with np.\n",
    "-  Use np.array() to create a Numpy array from sportclass. Name this array np_sportclass.\n",
    "-  Print out the type of np_sportclass to check that you got it right.\n"
   ]
  },
  {
   "cell_type": "code",
   "execution_count": 117,
   "metadata": {
    "colab": {},
    "colab_type": "code",
    "id": "a8qowoSrwXv9"
   },
   "outputs": [
    {
     "name": "stdout",
     "output_type": "stream",
     "text": [
      "<class 'numpy.ndarray'>\n"
     ]
    }
   ],
   "source": [
    "# Your answer:\n",
    "\n",
    "# Create list sportclass\n",
    "sportclass = [180, 215, 210, 210, 188, 176, 209, 200]\n",
    "\n",
    "# Import the numpy package as np\n",
    "import numpy as np\n",
    "\n",
    "# Create a Numpy array from sportclass: np_sportclass\n",
    "np_sportclass = np.array(sportclass)\n",
    "\n",
    "# Print out type of np_sportclass\n",
    "print(type(np_sportclass))"
   ]
  },
  {
   "cell_type": "markdown",
   "metadata": {
    "colab_type": "text",
    "id": "6XZsTK0Ng-IB"
   },
   "source": [
    "Let's try to create a 2D Numpy array from a small list of lists.\n",
    "\n",
    "In this exercise, sportclass  is a list of lists. \n",
    "\n",
    "The main list contains 4 elements. Each of these elements is a list containing the height and the weight of 4 students, in this order. sportcalass is already coded for you in the script."
   ]
  },
  {
   "cell_type": "markdown",
   "metadata": {
    "colab_type": "text",
    "id": "uxtNVVUbwXwF"
   },
   "source": [
    "**Now Your Turn!**\n",
    "\n",
    "**Instruction**\n",
    "\n",
    "-  Use np.array() to create a 2D Numpy array from sportclass. Name it np_sportclass.\n",
    "-  Print out the type of np_sportclass.\n",
    "-  Print out the shape attribute of np_sportclass. Use np_sportclass.shape.\n"
   ]
  },
  {
   "cell_type": "code",
   "execution_count": 130,
   "metadata": {
    "colab": {},
    "colab_type": "code",
    "id": "6AAzrc_1g92G"
   },
   "outputs": [
    {
     "name": "stdout",
     "output_type": "stream",
     "text": [
      "<class 'numpy.ndarray'>\n",
      "(4, 2)\n"
     ]
    }
   ],
   "source": [
    "# Your answer:\n",
    "\n",
    "# Create sportclass, a list of lists\n",
    "sportclass = [[180, 78.4],\n",
    "            [215, 102.7],\n",
    "            [210, 98.5],\n",
    "            [188, 75.2]]\n",
    "\n",
    "# Import numpy\n",
    "import numpy as np\n",
    "\n",
    "# Create a 2D Numpy array from sportclass: np_sportclass\n",
    "np_sportclass = np.array(sportclass)\n",
    "\n",
    "# Print out the type of np_sportclass\n",
    "print(type(np_sportclass))\n",
    "\n",
    "# Print out the shape of np_sportclass\n",
    "print(np_sportclass.shape)"
   ]
  },
  {
   "cell_type": "markdown",
   "metadata": {
    "colab_type": "text",
    "id": "z1OtzSgfwXwJ"
   },
   "source": [
    "## Statistics with Numpy \n",
    "\n",
    "**Average versus median**\n",
    "\n",
    "You now know how to use Numpy functions to a get a better feeling for your data.\n",
    "It basically comes down to importing Numpy and then calling several simple functions on the Numpy arrays:\n"
   ]
  },
  {
   "cell_type": "code",
   "execution_count": 121,
   "metadata": {
    "colab": {},
    "colab_type": "code",
    "id": "hh6cCzLUdSG4"
   },
   "outputs": [
    {
     "name": "stdout",
     "output_type": "stream",
     "text": [
      "7.0\n",
      "8.0\n"
     ]
    }
   ],
   "source": [
    "import numpy as np\n",
    "x = [1, 4, 8, 10, 12]\n",
    "print(np.mean(x))\n",
    "print(np.median(x))\n"
   ]
  },
  {
   "cell_type": "markdown",
   "metadata": {
    "colab_type": "text",
    "id": "o4rCuCkuwXwM"
   },
   "source": [
    "**Now Your Turn!**\n",
    "\n",
    "**Instruction**\n",
    "\n",
    "-  Create Numpy array np_height, that is equal to first column of np_sportclass\n",
    "-  Print out the mean of np_height.\n",
    "-  Print out the median of np_height"
   ]
  },
  {
   "cell_type": "code",
   "execution_count": 134,
   "metadata": {
    "cellView": "both",
    "colab": {},
    "colab_type": "code",
    "id": "S-hoF_aIwXwK"
   },
   "outputs": [
    {
     "name": "stdout",
     "output_type": "stream",
     "text": [
      "198.25\n",
      "199.0\n",
      "[180. 215. 210. 188.]\n"
     ]
    }
   ],
   "source": [
    "# Your answer:\n",
    "\n",
    "# Create sportclass, a list of lists\n",
    "sportclass = [[180, 78.4],\n",
    "            [215, 102.7],\n",
    "            [210, 98.5],\n",
    "            [188, 75.2]]\n",
    "\n",
    "# Import numpy\n",
    "import numpy as np\n",
    "\n",
    "# Create np_height from np_sportclass\n",
    "np_height = np_sportclass[:, 0]\n",
    "\n",
    "# Print out the mean of np_height\n",
    "print(np.mean(np_height))\n",
    "\n",
    "# Print out the median of np_height\n",
    "print(np.median(np_height))\n",
    "\n",
    "print(np_height)"
   ]
  },
  {
   "cell_type": "markdown",
   "metadata": {
    "colab_type": "text",
    "id": "JozHUAstwXwW"
   },
   "source": [
    "# Maximum stock price gain\n",
    "\n",
    "Given a stock’s price history as a sequence, and assuming that you are only allowed to make one purchase and one sale, what is the maximum profit that can be obtained? For example, given prices = (20, 18, 14, 17, 20, 21, 15), the max profit would be 7, from buying at 14 and selling at 21."
   ]
  },
  {
   "cell_type": "markdown",
   "metadata": {
    "colab_type": "text",
    "id": "zeeOaIcywXwX"
   },
   "source": [
    "## Possible Solution\n",
    "There is a solution with n-squared time complexity that consists of taking every combination of two prices where the second price “comes after” the first and determining the maximum difference.\n",
    "\n",
    "However, there is also an O(n) solution that consists of iterating through the sequence just once and finding the difference between each price and a running minimum. It goes something like this:"
   ]
  },
  {
   "cell_type": "code",
   "execution_count": 153,
   "metadata": {
    "colab": {},
    "colab_type": "code",
    "id": "0-QqGHR9wXwY"
   },
   "outputs": [
    {
     "name": "stdout",
     "output_type": "stream",
     "text": [
      "The max profit is 6\n"
     ]
    }
   ],
   "source": [
    "# Your answer : \n",
    "\n",
    "prices = [17, 16, 17, 14, 20, 11, 17]\n",
    "max_profit = 0\n",
    "min_price = prices[0]\n",
    "\n",
    "for price in prices[1:]:\n",
    "    min_price = min(min_price, price)\n",
    "    max_profit = max(price - min_price, max_profit)\n",
    "    \n",
    "print('The max profit is ' + str(max_profit))"
   ]
  },
  {
   "cell_type": "markdown",
   "metadata": {},
   "source": [
    "# Pandas: acquiring and exploring a CSV file\n",
    "Pandas is a Python package that offers many functionalities to explore and edit tabular data. Panda's structure dataframe can support large dataset, and so it is the standard library for fine data preprocessing.\n",
    "\n",
    "Let's acquire data from a CSV file using the read_csv function. By default, it assumes that the fields are comma-separated.\n",
    "\n",
    "This CSV contains some cyclist data from Montréal. It's a list of how many people were on 7 different bike paths in Montreal each day."
   ]
  },
  {
   "cell_type": "code",
   "execution_count": 154,
   "metadata": {},
   "outputs": [
    {
     "name": "stdout",
     "output_type": "stream",
     "text": [
      "  Date;Berri 1;Brébeuf (données non disponibles);Côte-Sainte-Catherine;Maisonneuve 1;Maisonneuve 2;du Parc;Pierre-Dupuy;Rachel1;St-Urbain (données non disponibles)\n",
      "0                   01/01/2012;35;;0;38;51;26;10;16;                                                                                                               \n",
      "1                   02/01/2012;83;;1;68;153;53;6;43;                                                                                                               \n",
      "2                 03/01/2012;135;;2;104;248;89;3;58;                                                                                                               \n",
      "3                04/01/2012;144;;1;116;318;111;8;61;                                                                                                               \n",
      "4                05/01/2012;197;;2;124;330;97;13;95;                                                                                                               \n"
     ]
    }
   ],
   "source": [
    "import pandas as pd\n",
    "dataf = pd.read_csv('bikes.csv')\n",
    "print(dataf[:5])\n"
   ]
  },
  {
   "cell_type": "markdown",
   "metadata": {},
   "source": [
    "The data is a mess. This is due to the fact that this dataset is non-standard: we are going to acquire it again specifying the separator ';' and the date format."
   ]
  },
  {
   "cell_type": "code",
   "execution_count": 160,
   "metadata": {
    "scrolled": false
   },
   "outputs": [
    {
     "name": "stdout",
     "output_type": "stream",
     "text": [
      "            Berri 1  Brébeuf (données non disponibles)  Côte-Sainte-Catherine  \\\n",
      "Date                                                                            \n",
      "2012-01-01       35                                NaN                      0   \n",
      "2012-01-02       83                                NaN                      1   \n",
      "2012-01-03      135                                NaN                      2   \n",
      "2012-01-04      144                                NaN                      1   \n",
      "2012-01-05      197                                NaN                      2   \n",
      "\n",
      "            Maisonneuve 1  Maisonneuve 2  du Parc  Pierre-Dupuy  Rachel1  \\\n",
      "Date                                                                       \n",
      "2012-01-01             38             51       26            10       16   \n",
      "2012-01-02             68            153       53             6       43   \n",
      "2012-01-03            104            248       89             3       58   \n",
      "2012-01-04            116            318      111             8       61   \n",
      "2012-01-05            124            330       97            13       95   \n",
      "\n",
      "            St-Urbain (données non disponibles)  \n",
      "Date                                             \n",
      "2012-01-01                                  NaN  \n",
      "2012-01-02                                  NaN  \n",
      "2012-01-03                                  NaN  \n",
      "2012-01-04                                  NaN  \n",
      "2012-01-05                                  NaN  \n"
     ]
    }
   ],
   "source": [
    "dataf = pd.read_csv('bikes.csv', sep=';', parse_dates=['Date'], dayfirst=True, index_col='Date')\n",
    "print(dataf[:5])"
   ]
  },
  {
   "cell_type": "markdown",
   "metadata": {},
   "source": [
    "From a dataframe you can select columns:"
   ]
  },
  {
   "cell_type": "code",
   "execution_count": 161,
   "metadata": {},
   "outputs": [
    {
     "name": "stdout",
     "output_type": "stream",
     "text": [
      "Date\n",
      "2012-01-01      16\n",
      "2012-01-02      43\n",
      "2012-01-03      58\n",
      "2012-01-04      61\n",
      "2012-01-05      95\n",
      "2012-01-06      75\n",
      "2012-01-07      54\n",
      "2012-01-08      63\n",
      "2012-01-09     173\n",
      "2012-01-10     241\n",
      "2012-01-11     194\n",
      "2012-01-12      63\n",
      "2012-01-13       0\n",
      "2012-01-14       1\n",
      "2012-01-15       0\n",
      "2012-01-16       0\n",
      "2012-01-17       0\n",
      "2012-01-18       0\n",
      "2012-01-19       0\n",
      "2012-01-20       1\n",
      "2012-01-21       0\n",
      "2012-01-22       0\n",
      "2012-01-23       0\n",
      "2012-01-24       0\n",
      "2012-01-25       0\n",
      "2012-01-26       1\n",
      "2012-01-27       0\n",
      "2012-01-28       1\n",
      "2012-01-29       0\n",
      "2012-01-30       0\n",
      "              ... \n",
      "2012-10-07    2052\n",
      "2012-10-08    2502\n",
      "2012-10-09    4078\n",
      "2012-10-10    2703\n",
      "2012-10-11    3457\n",
      "2012-10-12    3224\n",
      "2012-10-13    2309\n",
      "2012-10-14     952\n",
      "2012-10-15    3183\n",
      "2012-10-16    3593\n",
      "2012-10-17    3834\n",
      "2012-10-18    4245\n",
      "2012-10-19    1486\n",
      "2012-10-20    2243\n",
      "2012-10-21    1648\n",
      "2012-10-22    3721\n",
      "2012-10-23    3554\n",
      "2012-10-24    3622\n",
      "2012-10-25    3767\n",
      "2012-10-26    4578\n",
      "2012-10-27    2471\n",
      "2012-10-28    1876\n",
      "2012-10-29    2795\n",
      "2012-10-30    2790\n",
      "2012-10-31    2570\n",
      "2012-11-01    2461\n",
      "2012-11-02    1888\n",
      "2012-11-03    1302\n",
      "2012-11-04    1374\n",
      "2012-11-05    2430\n",
      "Name: Rachel1, Length: 310, dtype: int64\n"
     ]
    }
   ],
   "source": [
    "print(dataf['Rachel1'])"
   ]
  },
  {
   "cell_type": "markdown",
   "metadata": {},
   "source": [
    "How can we plot the data? If we include pyplot from the matplotlib package, it is extremely easy. Just add .plot() at the end."
   ]
  },
  {
   "cell_type": "code",
   "execution_count": 165,
   "metadata": {},
   "outputs": [
    {
     "data": {
      "image/png": "[encoded data removed]",
      "text/plain": [
       "<matplotlib.figure.Figure at 0x7fe82f12f828>"
      ]
     },
     "metadata": {},
     "output_type": "display_data"
    }
   ],
   "source": [
    "import matplotlib.pyplot as plt\n",
    "dataf['Rachel1'].plot()\n",
    "plt.show()"
   ]
  },
  {
   "cell_type": "markdown",
   "metadata": {},
   "source": [
    "The plot command has a host of options. For example, I can specify the dimensions of the resulting plot."
   ]
  },
  {
   "cell_type": "code",
   "execution_count": 163,
   "metadata": {},
   "outputs": [
    {
     "data": {
      "text/plain": [
       "<matplotlib.axes._subplots.AxesSubplot at 0x7fe82f7afe10>"
      ]
     },
     "execution_count": 163,
     "metadata": {},
     "output_type": "execute_result"
    },
    {
     "data": {
      "image/png": "[encoded data removed]",
      "text/plain": [
       "<matplotlib.figure.Figure at 0x7fe82f7c2208>"
      ]
     },
     "metadata": {},
     "output_type": "display_data"
    }
   ],
   "source": [
    "dataf['Rachel1'].plot(figsize=(15, 15))"
   ]
  },
  {
   "cell_type": "markdown",
   "metadata": {},
   "source": [
    "It also supports many different kinds of plots. Here is an example of a histogram, calculated on the first ten days of the year."
   ]
  },
  {
   "cell_type": "code",
   "execution_count": 164,
   "metadata": {},
   "outputs": [
    {
     "data": {
      "text/plain": [
       "<matplotlib.axes._subplots.AxesSubplot at 0x7fe82f667be0>"
      ]
     },
     "execution_count": 164,
     "metadata": {},
     "output_type": "execute_result"
    },
    {
     "data": {
      "image/png": "[encoded data removed]",
      "text/plain": [
       "<matplotlib.figure.Figure at 0x7fe82f66c550>"
      ]
     },
     "metadata": {},
     "output_type": "display_data"
    }
   ],
   "source": [
    "dataf['Rachel1'][:10].plot(kind='bar', figsize=(15, 15))"
   ]
  },
  {
   "cell_type": "code",
   "execution_count": null,
   "metadata": {},
   "outputs": [],
   "source": []
  }
 ],
 "metadata": {
  "colab": {
   "collapsed_sections": [],
   "name": "Copy of Instruction1_Python.ipynb",
   "provenance": [],
   "version": "0.3.2"
  },
  "kernelspec": {
   "display_name": "Python 3",
   "language": "python",
   "name": "python3"
  },
  "language_info": {
   "codemirror_mode": {
    "name": "ipython",
    "version": 3
   },
   "file_extension": ".py",
   "mimetype": "text/x-python",
   "name": "python",
   "nbconvert_exporter": "python",
   "pygments_lexer": "ipython3",
   "version": "3.6.4"
  }
 },
 "nbformat": 4,
 "nbformat_minor": 1
}
